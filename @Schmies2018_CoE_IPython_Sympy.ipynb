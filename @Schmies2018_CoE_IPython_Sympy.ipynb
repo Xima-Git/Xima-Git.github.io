{
 "cells": [
  {
   "cell_type": "code",
   "execution_count": 1,
   "metadata": {},
   "outputs": [],
   "source": [
    "import docx2txt"
   ]
  },
  {
   "cell_type": "code",
   "execution_count": 10,
   "metadata": {
    "scrolled": true
   },
   "outputs": [
    {
     "data": {
      "text/plain": [
       "'Aufsatz\\twww.der-betrieb.de\\twww.der-betrieb.de\\tAufsatz\\n\\n\\n\\n\\n\\n\\n\\n\\t\\t\\tAufsatz\\twww.der-betrieb.de\\twww.der-betrieb.de\\tAufsatz\\n\\n\\n\\n\\t\\t\\tAufsatz\\twww.der-betrieb.de\\twww.der-betrieb.de\\tAufsatz\\n\\n\\n\\n\\n\\nIn der Praxis der Kaufpreisallokation zeigt sich, dass derartige\\n\\nWP/StB Prof. Dr. Ulrich Moser, CVA, München / Dr. Thomas Tesche, CVA / WP/StB Prof. Christoph Hell, CVA, beide Saarbrücken Einschränkungen der Bewertungsergebnisse — bei begrenztem zusätzlich anfallendem Modellierungsaufwand — aufgedeckt Erklärung des EBITA ausgehend von Verzinsung und werden können durch die\\n\\nAbstimmung des EBITA mit der Verzinsung und der Ver Veränderung des in ein Unternehmen bzw. in des- änderung des in das Unternehmen investierten Kapitals\\n\\nabzgl. der Veränderungen des in die materiellen Vermösen Vermögenswerte investierten Kapitals I genswerte investierten Kapitals — das in das Unternehmen\\n\\ninvestierte Kapital ist dabei als Entity Value zu verstehen;\\n\\nsowie durch die\\n\\n\\t\\t\\tBetrachtungen unter besonderer Berücksichtigung von Kaufpreisallokaticnen\\tAbstimmung des EBITA mit den Verzinsungen des in die\\n\\n\\n\\n\\n\\nzzgl. der Veränderungen des in die immateriellen Vermö-\\n\\nDer Erklärung des EBITA eines Unternehmens kommt insb.\\n\\nAbstimmungen im praktischen Fall anhand eines aus der Pra-\\n\\ngenswerte investierten Kapitals.\\n\\nfür die Bewertung immaterieller Vermögenswerte, die Be-\\n\\nxis der Kaufpreisallokation stammenden, für die Zwecke die-\\n\\n\\n\\nstimmung von Verrechnungspreisen, die Untersuchung von\\n\\nses Beitrags vereinfachten Fallbeispiels erläutert (Abschn. IV.).\\n\\nIII, Ableitung der Erklärungszusammenhänge\\n\\nSteuerungsgrößen der wertorientierten Unternehmensfüh-\\n\\nVorab wird die Bedeutung aufgezeigt, die der Analyse des\\n\\n1. Vorgehen\\n\\nrung sowie die Beurteilung von Wachstumsannahmen bei\\n\\nEBITA bei der Beurteilung der im Rahmen von Kaufpreisal-\\n\\nIm Folgenden wird zunächst aufgezeigt, dass das EBITA\\n\\nUnternehmensbewertungen Bedeutung zu. Im vorliegen-\\n\\nlokationen erzielten Ergebnisse zukommt (Abschn. 11.). Die\\n\\nnach Abzug von Steuern (tax-effecting EBITA5) erklärt wer-\\n\\nden Beitrag werden die Zusammenhänge, die zwischen\\n\\nBetrachtungen gehen — The Appraisal Foundation (TAF)2\\n\\nden kann durch die Verzinsung und die Veränderung des in\\n\\ndem EBITA eines betrachteten Unternehmens und der Ver-\\n\\nfolgend — von der Annahme aus, dass die Rückflüsse des in die\\n\\ndas Unternehmen investierten Kapitals (Entity Value) abzgl\\n\\nVermögenswerte des Unternehmens investierten Kapitals\\n\\nzinsung des in das Unternehmen investierten Kapitals so-\\n\\nSachanlagen investierten Kapitals gleich den Abschreibungen\\n\\nder Veränderung des in die materiellen Vermögenswerte\\n\\nwie zwischen dem EBITA und den Verzinsungen des in die\\n\\nsind.\\n\\ninvestierten Kapitals sowie durch die Verzinsung des in das\\n\\nVermögenswerte des Unternehmens investierten Kapitals\\n\\n\\n\\nUnternehmen investierten Kapitals zzgl. der Veränderung\\n\\nbestehen, dargelegt.\\n\\nIl. Bedeutung der Analyse des EBITA für die Beurteilung\\n\\ndes in dic immateriellen Vermögenswerte investierten Kapi-\\n\\n\\n\\nder im Rahmen von Kaufpreisallokationen\\n\\ntals (Abschn. 111.2.), Sodann wird die Überleitung des EBITA\\n\\nl. Einführung\\n\\nabgeleiteten Ergebnisse\\n\\nnach Steuern in die Verzinsungen des in die Vermögenswerte\\n\\nDer Erklärung des EBITA (Earnings before Interest, Taxes and\\n\\nDie bei der Bewertung immaterieller Vermögenswerte im\\n\\ndes Unternehmens investierten Kapitals zzgl. der Verände-\\n\\nAmortisation) eines Unternehmens kommt bei der Untersu-\\n\\nRahmen von Kaufpreisallokationen abgeleiteten Ergebnisse\\n\\nrungen des in die immateriellen Vermögenswerte investierten\\n\\nChung verschiedener Fragestellungen Bedeutung zu. Dies gilt\\n\\nwerden vielfach auf Plausibilität untersucht. Zumeist wird\\n\\nKapitals (Abschn. 111.3.) dargelegt.\\n\\nbei der Bewertung immaterieller Vermögenswerte bspw. für  die\\n\\neine WARA-Analyse3 durchgeführt, bei der die den Vermö-\\n\\n\\n\\nAnalyse von Profit-Split-Faktoren1 , die Analyse von Verträgen,\\n\\ngenswerten des betrachteten Unternehmens zugeordneten\\n\\n2. Erklärung des EBITA ausgehend von der Verzinsung des\\n\\netwa Exklusivverträgen, sowie die Beurteilung der Konsistenz\\n\\nvermögenswertspezifischen Zinssätze mit den gewichteten\\n\\nin das Unternehmen investierten Kapitals\\n\\nder für immaterielle Vermögenswerte - bspw. im Rahmen von\\n\\nKapitalkosten abgestimmt werden. Darüber hinaus werden\\n\\nDas — als Free Cashflow6 verstandene — Einkommen cines\\n\\nKaufpreisallokationen — abgeleiteten Werte. Wciter erlaubt\\n\\nteilweise auch die Einkommensbeiträge der Vermögenswerte\\n\\nbetrachteten Unternehmensl in der in t+l mit t = 0 bis 00\\n\\ndie Erklärung des EBII\\'A die Aufteilung der EBITA-Marge\\n\\nmit dem als Free Cashflow verstandenen Einkommen des\\n\\nendenden Periode CF1+1 ergibt sich ausgehend vom EBITA\\n\\neines Unternehmens in Produktions- und Vertriebs-Marge,\\n\\nUnternehmens und die Werte der am Bewertungsstichtag\\n\\ndieser Periode (EBJTA ) — bei Saldierung der Abschrei-\\n\\ndie u.a. bei der Bestimmung von Verrechnungspreisen oder der\\n\\nbestehenden sowie der zukünftig geplanten Vermögenswerte\\n\\nbungcn der Sachanlagen mit den Investitionen — aus der\\n\\nErmittlung des beizulegenden Zeitwerts von Vorräten erfor-\\n\\nmit dem als Entity Value verstandenen Unternehmenswert\\n\\nBeziehung\\n\\nderlich werden kann. Darüber hinaus kann die EBITA-Analyse\\n\\nabgestimmt. Diese Analysen können einperiodisch oder mehr-\\n\\n\\n\\nder Untersuchung von Steuerungsgrößen der wertorientierten\\n\\nperiodisch zur A nwendung kommen.4\\n\\n\\t\\t\\t\\t\\t\\t= \\tx (1-9 + s x\\t\\t\\t\\t\\n\\nUnternehmensführung sowie der Analyse der Plausibilität\\n\\nMit den genannten Abstimmungen ist jedoch verbunden,\\n\\n\\t\\t\\t—f VI,t+1 — VI,t) — ( \\t— Va,t)\\n\\nvon Wachstumsannahmen bei Unternehmensbewertungen\\n\\ndass Inkonsistenzen sowie Modellierungsfehler, die bei den\\n\\n\\n\\nzugrunde gelegt werden.\\n\\nBewertungen der einbezogenen Vermögenswerte auftreten,\\n\\nwobei VI t bzw. V das im Zeitpunkt t bzw. t+l in das Working\\n\\nIm Folgenden werden — unter Berücksichtigung der Verän-\\n\\nnicht zwingend erkannt werden. Inkonsistenzen und Model-\\n\\nCapital und V bzw. V2 das in diesen Zeitpunkten in die\\n\\nderungen des in das betrachtete Unternehmen und in die\\n\\nlierungsfehler können dazu führen, dass den in die Analyse\\n\\nSachanlagen investierte Kapital bezeichnen; A bringt die\\n\\nmateriellen Vermögenswcrl.c investierten Kapitals bzw. unter\\n\\neinbezogenen Verm ögenswerten unzutreffende Einkommens-\\n\\nSumme der Abschreibungen der immateriellen Vermögens-\\n\\nEinbeziehung der Veränderungen des in die immateriellen\\n\\nbeiträge und/oder unzutreffende vermögenswertspezifischc\\n\\nwerte der in t+l endenden Periode zum Ausdruck.\\n\\nVermögenswerte investierten Kapitals — der\\n\\nZinssätze und damit unzutreffcndc Wcrtc zugeordnet werden.\\n\\nDas Einkommen des Unternehmens kann auch aus der\\n\\n— Zusammenhang zwischen dem EBITA und der Verzinsung Da die Abstimmungen von Residualgrößen ausgehen, können Bestimmungsgleichung für dessen — als Entity Value verstan- des in das betrachtete Unternehmen investierten Kapitals sich die Folgen der Inkonsistenzen und Modellicrungsfehlerdenen — Wert V im Zeitpunkt t sowie der\\tunerkannt — ausgleichen.\\n\\n Zusammenhang zwischen dem EBITA und den Verzinsungen des in die Vermögenswerte des Unternehmens\\n\\ninvestierten Kapitals dargelegt.\\n\\nDie Zusammenhänge werden zunächst formal abgeleitet\\n\\n2\\n\\nVgl. The Appraisal Foundation (TAF), Best Practices for Valuations in Financial Reporting: Intangible Asset Working Group - Contributory Assets, The Identification of Contributory Assets and Calculation of Economic Rents, 2010, 3.4.09; IVSC GN 4, 532-34. Siehe zu dieser Annahme auch\\n\\n\\n\\n\\n\\n(Abschn. 111.). Sodann wird die Anwendung dieser EBITA-\\n\\n3\\n\\nMoser, Bewertung immaterieller vermögenswerte, 2011, S. 54.\\n\\nZ T. wird auch von WACC-2-WARA-Analyse (Moser, Bewertung immaterieller Vermögenswerte,\\n\\n5\\n\\n\\n\\nTAF, a.a.O. {hl. 2), 3.4.03.\\n\\n\\n\\n\\n\\n2011, S. 232 ff.) oderWARA-Reconciliation (BeyéflMackenstedt, \\n\\n6\\n\\nSharehoIderValue, 1995, 5, 53 ff; Cope-\\n\\n\\t\\t\\tImmaterielle Vermögenswerte,\\tZur Definition des Free Cashflow statt vieler Rappaport, \\n\\nI Zur Beurteilung von Profit Split-Faktoren unter Zugrundelegung von EBITA-Analysen grundle-\\n\\n\\n\\n2008, S. 348 f.; Schmalenbach -Gesellschaft, Purchase Price Alldation, 2009, S. 43) gesprochen.\\n\\n\\n\\nland/Koller/Murrin, Unternehmenswert, 3. Aufl.2002, S. 21 Off.\\n\\ngend Moser, Bewertung immateriellerVermögenswertey 2. Aufl. (erscheint 2017).\\n\\n52\\n\\n4\\n\\nAusführlich zu diesen Betrachtungen Moser, (FB 2013 S. 285 ff, 355 ff.\\n\\n02 \\n\\n7\\n\\nvgl. \\n\\n2),\\n\\n2),\\n\\nabgeleitet werden8 als\\n\\n\\n\\nwobei r, die gewichteten Kapitalkosten des Unternehmens der in t+l endenden Periode zum Ausdruck bringt. Durch Gleichsetzung der beiden Ausdrücke für CF und Umformung ist das EBITA nach Steuern zzgl. der mit. den Abschreibungen der immateriellen Vermögenswerte verbundenen Steuerminderung durch die Beziehung\\n\\n\\t — \\t— (14/ — 168+1)\\n\\nbestimmt, Damit ist aufgezeigt, dass das EBITA nach Steuern zzgl. der mit den Abschreibungen der immateriellen Vermögenswerte verbundenen Steuerminderung (s x Ar+1) — dargestellt werden kann als Verzinsung (V x r1+1) und Veränderung (Vt — Vt+l) des in das Unternehmen investierten Kapitals abzgl. der Veränderung des in das Working Capital (V 1,}— VI 1+1) und in die Sachanlagen (1/2 r — V ) d.h. in die materiellen VermögenswerLc des Unternehmens investierten Kapitals. Die Korrektur der mit den Abschreibungen der immateriellen Vermögenswerte verbundenen Steuerminderung ist dann geboten, wenn diese Steuervorteile bei der Ableitung des Entity Value berücksichtigt wurden.\\n\\nDiese Betrachtungen können dadurch erweitert werden, dass angenommen wird, dass ein Vermögenswert des betrachteten Unternehmens mittels der Residual Value-Methode bewertet wird. Bei Bewertung des Vermögenswertes i mit i = n nach dieser Methode gilt9\\n\\n\\n\\nDicscr Ausdruck kann in dic oben abgeleitete Beziehung für das EBITA nach Steuern eingesetzt werden. Nach Umformungen führt dies zu der Beziehung\\n\\n\\n\\nNach dieser Beziehung bestimmt sich das EBITA nach Steuern als Verzinsung des in das Unternehmen investierten Kapitals (V x r,+1) zzgl. der Veränderung des in die immateriellen Vcr-\\n\\n\\n\\nmögenswerte investierten Kapitals\\n\\n\\n\\nabzgl. der mit der Abschreibung der immateriellen Vermögenswerte bedingten Steuerminderung (s x A1+7). Durch Aup lösung der Beziehung nach V x rt ergibt sich die Erklärung der Verzinsung des in das Unternehmen investierten Kapitals ausgehend vom EBITA. Es gilt\\n\\n\\n\\n8 vgl. Moser, \\tS. 288 f. 9\\tvgl. Moser, CFB2013 S. 789 f.\\n\\n53\\n\\n\\n\\nBei Anwendung der Multi-Period-Excess-Earnings-Methode (MPEEM)IO anstelle der Residual-Value-Methode zur Bewer-\\n\\ntung des Vermögenswerts i mit i = n und modellexogener Vorgabe von vermögenswertspezifischen Zinssätzen für alle dem Unternehmen zugeordneten Vermögenswerte i mit i = I bis n ist die Beziehung\\n\\n\\n\\nnur dann erfüllt, wenn der dem Vermögenswert i = n modellexogen zugeordnete vermögenswertspezifische Zinssatz gleich dem vermögenswertspezifischen Zinssatz ist, der für diesen Vermögenswert bei Anwendung der Residual-ValueMethode modellendogen abgeleitet werden kann  Ist diese Bedingung nicht gegeben — und hiervon ist regelmäßig bei periodenunabhängigen vermögenswertspezifischen Zinssätzen auszugehen — , kann der Entity Value nicht vollstándig durch die Summe der Werte der Vermögenswerte erklärt werden. Es gilt\\n\\nMPBEM\\n\\nmit En,tMPËEM 0 , wobei En,tMFEEM den nicht erklärten Betrag des Entity Value im Zeitpunkt t erfasst. Dieser Differenzbetrag stellt eine bewertungsbedingte Differenz dar, wie an anderer Stellen nachgewiesen wurde.\\n\\nDurch Einsetzen dieses Ausdrucks in die oben abgeleitete Beziehung für das EBITA ergibt sich\\n\\n\\n\\nDiese Beziehung legt dar, dass das EBITA nach Steuern bei Bereinigung der aus der Abschreibung der immate-\\n\\nriellen Vermögenswerte resultierenden Steuerwirkungen sich zusammensetzt aus der Verzinsung des in das Unternehmen investierten Kapitals (V x r ) der Veränderung des in die immateriellen Vermögenswerte investierten Kapitals\\n\\n\\n\\nund der Veränderung der bei Anwendung der MPEEM auftretenden Bewertungsdifferenz\\n\\nDurch Auflösung der Beziehung nach V x r,+f ergibt sich die Erklärung der Verzinsung des in das Unternehmen investierten Kapitals ausgehend vom EBITA. Es gilt\\n\\n\\n\\nDie Abstimmung der zuvor bestimmten Beziehung für das um Steuern verminderte EBITA mit der oben abgeleiteten Ausgangsbeziehung für diese Größe zeigt, dass die Verän-\\n\\n54\\n\\nderung des in das Unternehmen investierten Kapitals sich zusammensetzt aus\\n\\n der Veränderung des in die immateriellen Vermögenswerte investierten Kapitals,  der Veränderung der bei der Erklärung des Entity Value aufgetretenen Bewertungsdifferenz sowie  der Veränderung des in die materiellen Vermögenswerte investierten Kapitals.\\n\\nDas Gleichsetzen der Beziehungen führt nach Vereinfachungen zu Ausdruck\\n\\nvt-vt\\n\\n3. Erklärung des EBITA nach Steuern ausgehend von der Verzinsung des in die Vermögenswerte des Unternehmens investierten Kapitals\\n\\nDas Einkommen des betrachteten Unternehmens in der in\\n\\nt+l endenden Periode ist bei Zuordnung der Excess Earnings zu mindestens einem diesem zugehörigen Vermögenswertbestimmt durch die Beziehung\\n\\ni,t+l\\n\\nwobei CF i,1+1 den Einkommensbeitrag des Vermögenswerts i mit i = I bis n bezeichnet; zur Vereinfachung der Darstellungen werden in diesen Einkommensbeitrag, soweit erforderlich, die abschreibungsbedingte Steuerminderungs x A einbezogen, Der Einkommensbeitrag des VermÖgenswerts i kann — in gleicher Weise wie das Einkommen eines Unternehmens — aus der Bestimmungsgleichung für dessen Wert\\n\\n1 + n,t+l\\n\\nabgeleitet werden als\\n\\nwobei r den vermögenswertspezifischen Zinssatz des Vermögenswerts i in der in t+l endenden Periode zum Ausdruck bringt. Durch Einsetzen dieser Beziehung in den Ausdruck CF\\'t+1 und Gleichsetzung mit dem Ausdruck CF\\n\\n\\t= V xr + vi— \\tergibt sich mit V = MPBEM bzw. V = \\n\\n\\t+ EI \\tVi,t+l\\n\\nMit diesem Ausdruck kann die in Abschn. 1112. abgeleitete Ausgangsbeziehung für das EBITA nach Abzug von Steuer überführt werden in die Beziehung\\n\\n\\n\\ni,t+l\\n\\ni,t+l\\n\\nDiese Beziehung legt dar, dass sich das EBITA nach Steu-\\n\\nern — bei Bereinigung der Steuerminderungen aufgrund der Abschreibung der immateriellen Vermögenswerte (s x hi) zusammensetzt aus den Verzinsungen des in die Vermögenswerte des Unternehmens investierten Kapitals x sowie  den Veränderungen des in die immateriellen ermögenswerte investierten Kapitals\\n\\n\\tDurch Einsetzen von CF\\tx r + V _ V in die\\n\\ni, 1+1\\n\\nBeziehung wird deutlich, dass in das EBITA nach Steuern die Einkommensbeiträge der immateriellen Vermögenswerte und die Verzinsungen des in die materiellen Vermögenswerte investierten Kapitals eingehen. Es gilt\\n\\n\\n\\nIV. Fallbeispiel\\n\\nÜberblick\\n\\nIm Folgenden wird zunächst in das Fallbeispiel eingeführt (Abschn. IV.2.). Sodann werden der Entity Value des betrachteten Unternehmens und die Werte der diesem zugeordneten Vermögenswerte bestimmt (Abschn. IV.3.). Anschließend wird das EBITA nach Steuern analysiert und in die Verzinsungen des in die VermÖgenswerte des Unternehmens investierten Kapitals bzw. in die Verzinsung des in das Unternehmen investierten Kapitals sowie die Veränderungen des in die immateriellen Vermögenswerte investierten Kapitals übergeleitet (Abschn. IV.4.).\\n\\n\\n\\nAusgangsdaten\\n\\nDie SW GmbH (kurz SMI) ist ein Software-Unternehmen, das eine Software-Lösung für spezielle Anwendungen entwickelt hat. Ihre Geschäftstätigkeit ist neben der Weiterentwicklung dieser Software sowie der Entwicklung der Nachfolgegeneration der bestehenden Software insb. durch die Pflege der Software im Rahmen der bestehenden Wartungsverträge geprägt. Diese Verträge haben zumeist eine Laufzeit von einem Jahr, werden jedoch ganz überwiegend stillschweigend prolongiert. Daneben verfügt die Gesellschaft über eine in der betreffenden Branche sehr bekannte Marke, einen Mitarbeiterstamm, Sachanlagen und Net Working Capital. Verzinsliche Verbindlichkeiten weist die Gesellschaft nicht auf.\\n\\nDie SW wurde zum 01.01.2016 von der Erwerber AG im Wege eines Asset Deal übernommen. Analysen der vom Erwerber erbrachten Gegenleistung zeigten, dass deren beizulegender Zeitwert dem Entity Value der Gesellschaft entspricht. Die bilanzielle Abbildung des Unternehmenszusamrnenschlusses folgt IFRS 3, von der die steuerliche Behandlung der Übel% nahme der Gesellschaft nicht abwcicht.\\n\\n\\n\\nTab. I auf S. 56 stellt für den Betrachtungszeitraum im oberen und im mittleren Teil die wesentlichen Planungsdaten der SW, die — IFRS 13 folgend — die Annahmen der Market Participants zum Ausdruck bringen, sowie das in Working Capital, Sachanlagen und Mitarbeiterstamm investierte Kapital zusammen. Aus dem unteren Teil der Tabelle ergibt sich — ausgehend von der Umsatzplanung der Gesellschaft — für jedes Jahr des Planungszeitraums die Zuordnung der geplanten Umsatzerlöse zu der am Bewertungsstichtag bestehenden SoftwareLösung, zu zukünftig zu entwickelnder Software — diese fasst die Weiterentwicklungen der bestehenden Software und die Nachfolgegenerationen dieser Software zusammen — sowie zu den bestehenden und den zukünftig abzuschließenden Wartungsverträgen.\\n\\nAus Tab. 2 auf S. 57 ergeben sich für den gesamten Planungszeitraum die Beiträge der genannten Vermögenswerte sowie der Marke zum als Free Cashflow verstandenen Einkommen der Gesellschaft. Die Tabelle zeigt, dass das Einkommen der Gesellschaft vollständig durch die Einkommensbeiträge der\\n\\nVermögenswerte der Gesellschaft erklärt werden kann.Il Dic Einkommensbeiträge der Marke, die unter Zugrundelegung einer unbestimmten Nutzungsdauer mittels der Relief-from-Royalty-Methode bewertet wird, ergeben sich durch Anwendung eines als angemessen zu betrachtenden\\n\\nLizenzsatzes i.H,v. auf die Umsatzerlöse der Gesellschaft, Mitarbeiterstamm, Sachanlagen und Net Working Capital wurden mittels des Cost Approach bewertet, woraus resultiert, dass deren Einkommensbeiträge grds. als Verzinsung und Veränderung des investierten Kapitals zu ermitteln sind. Beim Mitarbeiterstamm erübrigt sich die Einbeziehung der Veränderungskomponente, da nach den Planungen der Gesellschaft der Mitarbeiterstamm während des Planungszeitraurns weder auf- noch abgebaut werden soll und sich deswegen Rückflüsse des investierten Kapitals und Investitionen in diesen Vermögenswertinjedem betrachtetcnJahr in\\n\\ngleicher Höhe gegenüber stehen, Bei den Sachanlagen werden die Rückflüsse des investierten Kapitals i.H.d. Abschreibungen bemessen und sodann mit den Investitionen verrechnet. Der Ermittlung der Verzinsung des in diese Vermögenswerte investierten Kapitals werden die in der Tabelle genannten, vorläufig festgelegten vermögenswertspezifischen Zinssätze zugrunde gelegt.\\n\\nDer Bewertung der bestehenden Software-Lösung, der zukünftig zu entwickelnden Software sowie der bestehenden und der zukünftig abzusch ließenden Wartungsverträge wird die MPEEM zugrunde gelegt. Die Einkommensbeiträge dieser Vermögenswerte sind dementsprechend als Excess Earnings zu bestimmen. Diese ergeben sich durch Anwendung der um die Software-Entwicklungskosten i.H.v. 7,25% der Umsatzerlöse bereinigten EBITA-Marge aufdie den Vermögenswerten in Tab. 1 aufS. 56 zugeordnetenUrnsatzerIöse und Abzug der Einkommensbeiträge der unterstützenden Vermögenswerte Marke, Mitarbeiterstamm, Sachanlagen und Net Working Capital. Die Software-Entwicklungskosten i.H.v. 7,25% der Planumsatzerlöse der Gesellschaft werden in vollem Umfang der zukünftig zu entwickelnden Software zugeordnet.\\n\\n55\\n\\n\\n\\nYear\\n\\n2016\\n\\n2017\\n\\n2018\\n\\n2019\\n\\n2020\\n\\n2021\\n\\n2022\\n\\n2023\\n\\n2024\\n\\n2025\\n\\n2026\\n\\n2027\\n\\nperpetual\\n\\nIncome Analysis\\n\\n\\n\\n\\n\\n\\n\\n\\n\\n\\n\\n\\n\\n\\n\\n\\n\\n\\n\\n\\n\\n\\n\\n\\n\\nSoftware\\n\\n\\n\\n\\n\\n\\n\\n\\n\\n\\n\\n\\n\\n\\n\\n\\n\\n\\n\\n\\n\\n\\n\\n\\n\\nAcquirecP)\\n\\n\\n\\n3710,1\\n\\n3.013,3\\n\\n2.459,2\\n\\n2.007,2\\n\\n\\n\\n\\n\\n\\n\\n\\n\\n\\n\\n\\n\\n\\n\\n\\n\\nNEWh)\\n\\n\\n\\n-2.722, 1\\n\\n-2.036,9\\n\\n-1.469,7\\n\\n-996,9\\n\\n967,2\\n\\n937,9\\n\\n908,8\\n\\n893,9\\n\\n879,1\\n\\n879,0\\n\\n879Ñ\\n\\n879,0\\n\\nAcquirecP)\\n\\n\\n\\n7.147,3\\n\\n6.595,0\\n\\n6.069,8\\n\\n5.573,5\\n\\n5.092,2\\n\\n\\n\\n4.208,5\\n\\n3.806,8\\n\\n3.443,6\\n\\n3.099,1\\n\\n\\n\\n0,0\\n\\nNE-wa)\\n\\n\\n\\n579,5\\n\\n1.364,0\\n\\n2.078,7\\n\\n2.740,1\\n\\n3.406,3\\n\\n3.994,1\\n\\n4.54115\\n\\n5.007,1\\n\\n5.434,8\\n\\n5.778,9\\n\\n8.878,0\\n\\n8.878,0\\n\\nTrademarkO\\n\\n\\n\\n375,5\\n\\n384,9\\n\\n393,5\\n\\n401\\n\\n407,4\\n\\n411,5\\n\\n415,6\\n\\n417,7\\n\\n419,8\\n\\n419,8\\n\\n419,8\\n\\n419,8\\n\\nReturn on Invested\\n\\nCapital pre Taxd) 9,2%\\n\\n\\n\\n1 18,0\\n\\n118,0\\n\\n118,0\\n\\n118,0\\n\\n118,0\\n\\n118,0\\n\\n118,0\\n\\n118,0\\n\\n118,0\\n\\n118,0\\n\\n118,0\\n\\n118,0\\n\\nWorking Capital\\n\\n\\n\\n\\n\\n\\n\\n\\n\\n\\n\\n\\n\\n\\n\\n\\n\\n\\n\\n\\n\\n\\n\\n\\n\\n\\n\\nReturn on Invested\\n\\n\\t\\t\\tCapital pre \\t6,4%\\n\\n\\n\\n82,7\\n\\n85,2\\n\\n87,3\\n\\n89,3\\n\\n91,1\\n\\n92,5\\n\\n93,4\\n\\n94,3\\n\\n94,8\\n\\n95,3\\n\\n95,3\\n\\n95,3\\n\\nReturn on Invested\\n\\nCapital pre Taxd)\\n\\n\\n\\n\\n\\n97,7\\n\\n100,8\\n\\n101,9\\n\\n10219\\n\\n103,9\\n\\n103,9\\n\\n103,9\\n\\n103,9\\n\\n103,9\\n\\n103,9\\n\\n103,9\\n\\nEBITA\\n\\n\\n\\n9.386,7\\n\\n9.621,3\\n\\n9837,8\\n\\n10.034,6\\n\\n10.185,1\\n\\n10.286,9\\n\\n10389,8\\n\\n10.441,7\\n\\n10.494,0\\n\\n10.494,0\\n\\n10.494,0\\n\\n10.494,0\\n\\nTax-effecting EBITA\\n\\n\\n\\n6.570,7\\n\\n6734,9\\n\\n6.886,5\\n\\n7.024,2\\n\\n7.129,6\\n\\n7.200,8\\n\\n7.272,9\\n\\n7.309,2\\n\\n7.345,8\\n\\n7.345,8\\n\\n7.345,8\\n\\n7345,8\\n\\nIncremental Working Capital\\n\\n\\n\\n-27,3\\n\\n-23,5\\n\\n-21/6\\n\\n-19,7\\n\\n-15,1\\n\\n-10,2\\n\\n-10,3\\n\\n-5,2\\n\\n-5,2\\n\\n\\n\\n\\n\\n\\n\\nIncremental Tangible Fixed\\n\\nAssets\\n\\n\\n\\n-20,0\\n\\n-30,0\\n\\n-10,0\\n\\n-10,0\\n\\n-10,0\\n\\n\\n\\n\\n\\n0,0\\n\\n0,0\\n\\n0,0\\n\\n\\n\\n\\n\\nFree Cashflow\\n\\n\\n\\n6.523,3\\n\\n6.681 ,5\\n\\n6£54,8\\n\\n6.994,5\\n\\n7.104r5\\n\\n7.190,7\\n\\n7262,6\\n\\n7304,0\\n\\n7.340,5\\n\\n7.345,8\\n\\n7.345,8\\n\\n7345,8\\n\\n\\'EntityVaIue 1012%\\n\\n69.820,0 \\n\\n70.418,3\\n\\n70.919,6 \\n\\n71.298,6 \\n\\n71.516,6\\n\\n7177219\\n\\n71.903,2 \\n\\n71.974,7 \\n\\n72.012,2 \\n\\n72.016,9\\n\\n72.016,9\\n\\n72-016,9\\n\\nSales rel. to Asset x (EBITA-Margin adjusted — CAC as Percentage of Sales)\\n\\nSales rel. to Asset x (EBITA-Margin adjusted - CAC as Percentage of Sales) -Total Sales x SW-Development Expenses\\n\\nc) Total Sales x Royalty Rate\\n\\nInvested Capital (t-1) x Rate of Return Assigned to Asset / ( I — tax rate)\\n\\nEBITA-Margin adjusted = EBITA-Margin + SW-Development Expenses CAC = Contributory Asset Charges\\n\\n\\n\\n\\n\\nO O\\t00\\tTab. 2: Zusammenstellung der Einkommensbeiträge der Vermögenswerte uns\\n\\nService Contracts\\n\\nAssembled Workforce ex TAB\\n\\nTangible Fixed Assets\\n\\nValuation Analysis\\n\\nAlle weiteren, für die Ableitung des Entity Value und die Betrachtungszeitraums bestimmt. Die dabei angewendeten Bestimmung der Werte der Vermögenswerte erforderlichen gewichteten Kapitalkosten von 10,2% — aufdie Darstellung von Daten, insb. Nutzungsdauern sowie der anzuwendende deren Ermittlung wird im Rahmen dieses Beitrags verzichtet Ertragsteuersatz, sind Tab. I auf S. 56 zu entnehmen. Da die— folgen IFRS 13 entsprechend den Annahmen der Market Untersuchungen mehrperiodischlï durchgeführt werden, Participants.\\n\\nfolgen alle Wertermittlungen dem Roll-Back-Verfahren. 19 Die Tab. 3 auf S. 58 fasst die Ableitungen der Werte der immateriAnwendung dieses Verfahrens führt dazu, dass die Werte der ellen Vermögenswerte der SW zusammen. Im oberen Teil der Bewertungsobjekte für jeden Zeitpunkt des Betrachtungszeit- Tabelle werden die Barwerte der diesen Vermögenswerten in raums unmittelbar zur Verfügung stehen. Tab. 2 zugeordneten Einkommensbeiträge unter Zugrundelegung der angegebenen, vorläufig festgelegten vermögens-\\n\\n3. Ableitung des Entity Value und der Werte der Vermö-\\twertspezifischen Zinssätze ermittelt. Sodann werden die genswerte\\tabschreibungsbedingten Steuervorteilell der immateriellen Der Entity Value der SW vor Einbeziehung derVermögenswerten sowie — durch deren Einbeziehung — die men Abschreibungen der erworbenen immatcricllcn Vermö-\\tbeizulegenden Zeitwerte der immateriellen Vermögenswerte genswerte23 wird im unteren Teil von Tab. 2 für jedes Jahr des\\tbestimmt.\\n\\nDie Notwendigkeit einer mehrperiodischen Analyse wird dargelegt bel Moser, in: Mohnkopf/ Moser (Hrsg.), Wissensmanagementfür Schutzrechte und deren Bewertung, 2014, S. 202 ff.\\n\\nSiehe hierzu Henselmann/Kniest, Unternehmensbewertung: Praxisfã\\'le mit Lösungen, 5. Auff\\tZu deren Ermittlung Moser, Beweltung immaterieller Vermögenswerte, 2011, S. 38 ff., 47 ff\\n\\n2015,5.86 ff.; Enzinger/Koner, BwP 4/2011 S. 2-10. 22 Zur Verkürzung der Darstellungen wurden den Ermittlungen der abschreibungsbedingten Steu20 Der Bemessung der Abschreibungen der Sachanlagen liegen die Werte nach Neubewertung ervorteile der Marke und des Mitarbeiterstamms steuerliche Nutzungsdauern von 10 Jahren zugrunde,\\tzugrunde gelegt.\\n\\n\\t\\t56\\t02\\t57\\n\\n\\n\\n912」*PIX当=rlJaのつ、「「\\n\\n\\n\\n\\t\\t\\t(\\tX21←0当一2>← ⅵ巴dー【)、:~\\n\\n\\n\\n9、寸LC\\'9\\n\\n9、品\\n\\n96t\\n\\n、7ト\\n\\n、、99\\n\\nま 、0一\\n\\n設 円、\\n\\n\\n\\n02の〔\\n\\n5、80・9\\n\\n\\n\\nま的09\\n\\n99\\n\\nま020〔\\n\\nLい ・\\n\\n\\n\\n09の\\n\\no、〔08\\n\\no、88\\n\\n丈99\\n\\n96R-日 9式一ⅵ、\\n\\nへ、9一9・、\\n\\n二9認\\n\\n6-E89・い\\n\\n鱇06\\n\\nL\\'OZE\\n\\n\\n\\n299\\n\\nま0へ、DI\\n\\n国、989、\\n\\n97ニ・L\\n\\n99E・5\\n\\n冩6\\n\\n匚Z\\n\\n\\n\\n寸 9\\n\\n9きへ、ミ\\n\\n6、9寸9・、\\n\\n、、まE\\'L\\n\\nE\\'þlL\\'S\\n\\n町#6\\n\\nZギ9\\n\\n960へ、0一叫一69・、\\n\\nE、E69・、\\n\\nL、E、9・一\\n\\n内、9 ・寸\\n\\n県96\\n\\n9、SEE\\n\\no、\\n\\n9-£9\\n\\nまOZざ一\\n\\n9、9国、・\\n\\n\\n\\n、、096、L\\n\\n寸、8ト9寸\\n\\n6、ト5\\n\\n一、EÞE\\n\\n\\n\\nの29\\n\\nま6一、0一 2寸08、\\n\\nU808・、\\n\\n6、896べ\\n\\nO\\'E ・寸\\n\\n\\n\\n寸、66\\n\\n9寸E\\n\\n9、01\\n\\nL 9\\n\\n9ま一、OL\\n\\n鱇一畠、\\n\\n寸、98・、\\n\\n〔 99べ\\n\\n県896・£\\n\\n8-00一 9-6寸E\\n\\n寸-89 、-6の\\n\\nま6L\\'O一 9、68・、\\n\\nへⅵ06・、\\n\\n9298\\n\\n\\n\\nL20〔\\n\\n叮羸E\\n\\no、、9\\n\\n625\\n\\n\\n\\n丈SL6、\\n\\n5、寸へ6・、\\n\\n\\n\\n\\n\\n\\n\\n\\n\\n\\n\\n\\n\\n\\t\\t\\t\\tとコb〕\\n\\nMBN\\n\\n\\n\\n」0」 0Mpalqwassv\\n\\n2E2名」1\\n\\n一2ち1\\n\\n5も をx」型q一g21\\n\\n一2仁d凸\\n\\n岔お96\\n\\n当一> ←を\\n\\nE一コ9\\n\\n20\\n\\nE、9一9\\n\\nE、919\\n\\no、0\\n\\n〔、919\\n\\n0-0\\n\\n〔一8一9\\n\\n9、 9\\n\\no、0\\n\\n9、99\\n\\n0-0\\n\\n【、909\\n\\no、寸鬯\\n\\n99E 6-6、E\\n\\nt7\\'E0t Z、£6の\\n\\n寸、LEB\\n\\n\\n\\n三田N\\n\\n6、95べ、\\n\\n国、629叩\\n\\n寸、99\\n\\n丈0E6・99\\n\\no、 \\'99ー\\n\\n\\n\\n6、910\\'\\n\\n2、620・叩\\n\\n丈、の0・\\n\\nマ、0E5・\\n\\no の ・99ー\\n\\n寸、に£\\n\\nの-お・に\\n\\n円〔寸8ⅵー\\n\\n寸、SO\\'\\n\\nE-9ま・ぐ9\\n\\n7-63寸9\\n\\n一、トE\\n\\n\\n\\n\\n\\n\\n\\n\\n\\n\\n\\n\\n\\n一 9・\\n\\n当巴9・叩\\n\\n、2の07ー\\n\\n、CO\\'昭\\n\\n9-0の0N9\\n\\n9ⅶトE\\n\\n二寸 ・\\n\\n9一斗円L7\\n\\noヾYO\\n\\nの786d9\\n\\n、63・091\\n\\n、É\\n\\n0\\'66・\\n\\n8一9、0・寸7\\n\\n、9E9ワ\\n\\n9、 8・8の\\n\\n8、0、 叩\\n\\n\\n\\n、、ミE\\n\\n9、ミ寸・SL\\n\\n9あ・97\\n\\n9、07ー\\n\\n6、品の・99\\n\\n8、曽 ・9っ\\n\\n、ELE\\n\\nのお9、・い、\\n\\nq6896Lー\\n\\nL00べー\\n\\n、8ニ・\\n\\no、、08Tっ\\n\\nÉ、LLE\\n\\n9試い・9、\\n\\n6一6寸冂 ー\\n\\n8一「5・7\\n\\noお い\\n\\n36・6\\n\\nおE\\n\\n立L ・に\\n\\n29お・6\\n\\nL-0寸6・7\\n\\n一.、コ二9寸\\n\\no、寸ぐⅵ\\n\\nL、〔9E\\n\\n0209、、\\n\\n9、SE一t7E-\\n\\n、99円7\\n\\n、、6LV薈\\n\\n、9ニ・LY-\\n\\n寸、ÉのE\\n\\n9」寸69、L\\n\\n丈寸 ・6叩\\n\\n鱇6E円7\\n\\n〔-薈E・92\\n\\nE、、65・9叩\\n\\n6、E寸E\\n\\nanlPAむを」\\n\\n\\t\\t\\tpaZ!u6CDë8\\t型qらupを一\\n\\nの の 型C116u\\n\\n= POO)\\n\\nⅵも55V型9后ueを一」aモ0\\n\\n\\t\\t\\t巴\\t0\\n\\n\\t\\t\\t\\t\\t9\\t9 ー\\t9\\t9し 朝」辷0\\n\\n一き = P009\\n\\n\\n\\n6 ・E\\n\\n6、ZO\\n\\n、よ8\\n\\n2800・〔寸、6寸0一\\n\\n9、6E94、\\n\\n丈に\\n\\n6、9L0\\'t、\\n\\n\\n\\nへ、62・E\\n\\n6、目試の\\n\\n〔、ト68\\n\\n9800・【\\n\\nま6寸 一\\n\\n9、6E9・に\\n\\n寸、、E\\n\\n6、910\\'ミ\\n\\n9、 Ct\\n\\nL、 、9\\n\\n9、トへ6\\n\\n2800\\'L\\n\\n寸、6さL\\n\\n9、8一5ベト\\n\\nL\\'£LE\\n\\nS68Z、\\n\\n一、06E・9\\n\\n9、9 ・E\\n\\n9ⅵ96\\n\\no、曽9一内、薯9一\\n\\n9、 E・E、\\n\\n9-9、E\\n\\n一、889・E、\\n\\no、9き\\n\\n9-664E\\n\\n\\n\\n二〔86\\n\\no、8呂・〔 0、62、〔\\n\\n\\n\\nE、866E4\\n\\n\\n\\n8 、E\\n\\n当寸0、•o〔\\n\\n〔2ト円E\\n\\n鱠06\\n\\n丈さ9一\\n\\nq800・〔\\n\\nL、 9L\\n\\nE一寸85・寸、\\n\\n\\n\\nL\\'#LE\\n\\no、696・ミ\\n\\n9、08E・EL\\n\\n9-9尊・E\\n\\nÉ\\'tL6 寸\\n\\n\\n\\n2800・一\\n\\nれ 0、L\\n\\n寸、 0・灯\\n\\n\\n\\nZ\\'ELE\\n\\n9、ミマ・灯\\n\\nへ、8699一\\n\\n6、06 £\\n\\n9、0099寸\\n\\n9、9O\\'〔\\n\\noお56\\n\\n9、ÉOD*〔\\n\\n9、よ 灯\\n\\nE、LLE\\n\\n8、894灯\\n\\n998・8〔\\n\\n寸、 ・E\\n\\no寸\\n\\nE99L\\n\\nq885\\n\\n9、 5\\n\\n\\n\\n寸28一・9、\\n\\n\\n\\n、9E\\n\\n立989・Lt\\n\\n鰉寸、9・E\\n\\n6-5 一\\n\\n0-8、6 L296\\n\\nE、0に・9、\\n\\n\\n\\nL\\'〔9E\\n\\n立〔コ・に\\n\\no、9、 寸\\n\\n寸、 9・E\\n\\n9め66一LÉ\\n\\n6、寸60〔\\n\\no、8マ6 、、8E6\\n\\n9、8ミ、ト\\n\\n寸、ESE\\n\\n0209Z、\\n\\n8、 9、\\n\\nまE国9・E\\n\\n三に 寸9\\n\\nト、80二【\\n\\n282\\n\\nE、一ま\\n\\n三一 ・に\\n\\n6\\'EÞE\\n\\n9、ヾ69・に\\n\\np 三\\n\\nそ 朝で2」1\\n\\n\\n\\n巴お 」0Mpalqwassy\\n\\n当assyp叟工alq!6ueI 一2=d凸6に 0M\\n\\n一 01\\n\\n巴型一一0\\n\\nLIOにezをOLLIV・てu n一 な 田\\n\\n\\t\\t\\t\\t\\t\\n\\nAufsatz\\n\\nAufsatz\\n\\nwww.der-betfieb.de\\n\\nwww.der-betfieb.de\\n\\nwww.der-bet「ieb.de\\n\\nwww.der-bet「ieb.de\\n\\nAufsatz\\n\\nAufsatz\\tE、9\\tSIO・\\t8、9\\t9、6ー\\t一2← 」し亡-\\n\\n\\n\\n\\n\\n\\n\\n\\n\\n\\n\\n\\n\\n896\\n\\n\\n\\n\\n\\n\\n\\n896\\n\\n9、8ト8\\n\\n\\n\\n\\n\\n内、896\\n\\n5、SL9・一\\n\\nEへ0代\\n\\n\\n\\n、896\\n\\n寸、668t\\n\\n\\n\\n\\n\\n896\\n\\n6一SSO\\'E\\n\\n\\n\\n\\n\\n-896\\n\\n9、 9・E\\n\\n\\n\\n\\n\\n丈寸69〔\\n\\n〔26L\\'Þ\\n\\n\\n\\n\\n\\n丈寸6円L\\n\\n0\\'羸〔・9\\n\\n\\n\\n\\n\\n丈寸69・【\\n\\n8-〔Lt・9\\n\\n\\n\\n\\n\\n丈寸5円L\\n\\nト、E89、\\n\\n9一0へ\\n\\n\\n\\n\\n\\n6、寸ト8・ト\\n\\n\\n\\n一2さト1-10にezモOIL-IVお←IJëUa8)ŒI\\n\\n一出01こau品X?ト\\n\\n山コ一2>〕uas巴d\\n\\n\\t\\t\\t\\t\\t\\t\\t\\t\\t\\t\\t\\t\\n\\ntungsPraktiker \\n\\n「\\n\\nBewe\\n\\ntungsPraktiker \\n\\n「\\n\\nBewe62寸L・9\\t62寸一・9\\t62ミ-9\\to、尊L・9\\t県 9\\t9、SLL・9\\t9、0高・9\\tL、L9Z\\'9\\tLizい0ⅵ\\t6、L99\\'E\\t、2E0べ\\t9、コ一\\t三IN\\n\\n\\n\\n\\n\\n\\n\\n\\n\\n\\n\\n\\n\\n\\n\\n06\\n\\n\\n\\n\\n\\ndo\\n\\n20\\n\\n\\n\\n\\n\\n\\n\\n鱇9、9\\n\\n\\n\\n\\n\\n\\n\\n\\n\\n\\n\\nE\\'EE\\n\\n\\n\\n\\n\\n\\n\\n\\n\\n9、9\\n\\n9 寸、\\n\\n\\n\\n\\n\\n\\n\\n\\n\\nE」EE\\n\\n9、08\\n\\n\\n\\n\\n\\n\\n\\n県9へg\\n\\nの、9、寸・〔\\n\\n\\n\\n\\n\\n丈58L\\n\\n\\n\\nE、鬻\\n\\n、89\\n\\n\\n\\n\\n\\n\\n\\nE、9へ8\\n\\n9、卑0べ\\n\\n\\n\\n\\n\\n\\n\\n\\n\\nÉ、\\n\\n6一£8\\n\\n\\n\\n\\n\\n\\n\\n9\\n\\noヾ65べ\\n\\n\\n\\n\\n\\n9茎\\n\\n\\n\\nE\\'£É\\n\\nE、0〔\\n\\n\\n\\no、0\\n\\n\\n\\n\\n\\n6、001・E\\n\\n\\n\\n、、801\\n\\n\\n\\n\\n\\n\\n\\n\\n\\n9\\n\\n\\n\\n\\n\\nE、9tÛ\\n\\n5299E\\n\\n\\n\\n\\n\\n9、\\n\\n\\n\\nE\\'E£\\n\\nE 寸一\\n\\n90\\n\\n9-699\\n\\n\\n\\n鱇9\\n\\n0-一よ・E\\n\\n\\n\\n\\n\\n9-寸\\n\\n\\n\\nE\\'EE\\n\\nへ-99〔\\n\\n\\n\\n寸ヾ 一\\n\\nへ、93\\n\\n\\n\\n9、8\\n\\n9、寺円寸\\n\\n\\n\\n、 OL\\n\\n999\\n\\n\\n\\nE、EE\\n\\nL\\'E\\n\\n\\n\\n8 ・一\\n\\n、63\\n\\n\\n\\nE、9Z8\\n\\n6、寸89・寸\\n\\n\\n\\n\\n\\n9、ËE9\\n\\n\\n\\nE\\'EE\\n\\n\\n\\n\\n\\n\\n\\n\\n\\n\\n\\n87ま・マ\\n\\n\\n\\n\\n\\n9-9、9\\n\\n\\n\\n\\n\\n5-L\\n\\na」2 にOS\\n\\n山三2>←ua都」d-\\n\\n5も20u0D巴写 の\\n\\n1!JauagXë1\\n\\n山三2>←u25巴d ′\\n\\nモ 名2」1\\n\\n三2u98XPト\\n\\n山三2>←u 巴d\\n\\n」0 」0三P型 SY\\n\\nと u99xeI\\n\\n山n一2>←u 巴d\\n\\n\\n\\n\\n\\nN\\n\\n「\\n\\n. \\n\\n02 \\n\\nN\\n\\n「\\n\\n. \\n\\n02 \\n\\n!\\n\\n\\n\\n・u28LIO一帑2一\\n\\n960、0\\n\\nま0、0\\n\\n\\n\\nま0、0\\n\\no、E\\n\\n20\\n\\n\\n\\n\\n\\nま0、E\\n\\n0\\n\\n9K2\\n\\n\\n\\n9き\\n\\n962E\\n\\n9 -9\\n\\n\\n\\nま0、E\\n\\n960一E\\n\\n96\\n\\n\\n\\n\\n\\nま0→E\\n\\nま0一E\\n\\nま9一6\\n\\n\\n\\n960」\\n\\n98、\\n\\n9 、L【\\n\\n\\n\\n\\n\\n98\\n\\n98\\n\\n960」\\n\\n%ÜEL\\n\\n\\n\\n960一\\n\\nま0\\n\\n8ぜ〔\\n\\n\\n\\nま0\\n\\n9き\\n\\n9 、9\\n\\n\\n\\n\\n\\n9\\n\\n9\\n\\nよ0\\n\\nよ9、L\\n\\n\\n\\n960\\n\\n\\n\\nま、8一\\n\\n\\n\\n\\n\\n日は9年 コ-コ」 コ【も2」ち\\n\\n\\t\\t\\tへ-一=(Qdn\\t三2>← 」d\\n\\nと」0を0ョ\\n\\no一Ⅱ9 3」コ一nも5ョもa」ち\\n\\n\\t\\t\\t\\t\\t\\t\\t\\t\\t\\t\\t9を0\\t960a\\t94ト2 ま -の\\tま92\\t9ミ-6\\t9、LL\\tよ L\\t960」\\t969、9一\\t968、L\\tよ〔-6L\\tdndのあ心n一2>←uのお」d\\n\\nま0、0\\n\\n960、0\\n\\n9き、0\\n\\no、E\\n\\n9、2\\n\\n96 9\\n\\n960、E\\n\\n9寺、\\n\\n98\\n\\n丈6\\n\\n\\n\\nま L【\\n\\n960、E\\n\\nよ62L\\n\\n962E\\n\\n9等-ュ\\n\\n9き、E\\n\\n968、\\n\\n9き、E\\n\\n9602L\\n\\nま0、E\\n\\n96L、8一\\n\\n\\n\\n〔=tedコd出5む三E>←u 巴d\\n\\n\\to一\\t一コIt-I,Lasn、一も2」ち巳\\n\\nP-wap巴ト\\n\\n*0\\n\\n\\n\\n一98、0\\n\\n。きビ\\n\\n\\n\\n9き、0\\n\\n*0、0\\n\\n960-0 \\n\\n\\n\\n960、0\\n\\nま0、0\\n\\n98、0\\n\\no、0\\n\\n98-0\\n\\n9 \\'0\\n\\n\\n\\nよ20\\n\\nま 、\\n\\n8、9\\n\\n\\n\\n\\n\\n9き、\\n\\nま 、\\n\\n\\n\\nま、一巴\\n\\nまの、\\n\\n\\n\\n\\n\\n\\n\\nednd 22n而A←5お」d\\n\\nマ日 ト ョn sn一もa」ち巳\\n\\noけ\\n\\n6ヾ09・69\\n\\n、、58\\n\\nへ、6へO\\'E\\n\\nt\\'、6寸0・L\\n\\noお00・〔\\n\\n丈、、E\\n\\n9、5E9・に\\n\\n\\n\\n6、、0の・69\\n\\nへ、69\\n\\nへ、5へ0・É\\n\\n寸-6寸0・一\\n\\n0 8・一\\n\\n寸、、E\\n\\n9-6E9・\\n\\n一、い96L\\n\\nL、î寸9Z9\\n\\n、、68\\n\\n6寸0・L\\n\\n280q【\\n\\n9\\n\\nSTO寸9・に\\n\\nE96・\\n\\nL\\'、寸9・\\n\\n興よ8\\n\\n2670・E\\n\\n寸0・L\\n\\n800・L\\n\\n6-寸、\\n\\n寸 00・9\\n\\n\\n\\nへ768\\n\\n設、き崗\\n\\no、6E0・一\\n\\no、8U0・一\\n\\n0209・一、\\n\\n、70【め\\n\\n06、・\\n\\n、、68\\n\\nE-90・E\\n\\n\\n\\n0-80D・【\\n\\n\\n\\n6、69E\\n\\n9、6 ・0L\\n\\n「2、6・8寸\\n\\n、68\\n\\n鱇0、0・E\\n\\n8一0・L\\n\\no、809L\\n\\n99E\\n\\n9、9卑・〔、\\n\\n、\\'C寸9・\\n\\n9、00円9寸\\n\\n国ヾ68\\n\\n国、ELO\\'E\\n\\n5、鬯0\\n\\no、866\\n\\nマ29E\\n\\n寸Lt\\'に\\n\\nま8・寸一\\n\\no寸8・\\n\\n〔-よ9\\n\\n620q的\\n\\n8 86\\n\\n0-8g6\\n\\n寸、のE\\n\\n内-〔ま・OL\\n\\n8-0寸£、L\\n\\nニ0・L寸\\n\\nへヾ68\\n\\n9まべ\\n\\n冖296\\n\\no 、6\\n\\n寸、89の・0、\\n\\no、068・6L\\n\\n8お66、E\\n\\n、68\\n\\n8、696べ\\n\\nL\\'9E6\\n\\no、 6\\n\\n斗E\\n\\n2寸、TO、\\n\\n町5せ9べ国\\n\\no、EL勢寸\\n\\n〔、68\\n\\n8、9寸6Z\\n\\n璽一〔6\\n\\n8\\n\\n928\\n\\n8-£8寸・59\\n\\nまマ、0〔℃山」三b)く\\n\\n9 ざLPVËN\\n\\n9 、6巴」0」戔0M配Iq\\n\\n\\t\\t\\tま、、5\\t」ト\\n\\n96丈9一嬰dじ61.1名0M\\n\\n\\t\\t\\tま国-t\\tpax!」型q一5u21\\n\\na三e>む一← 02巴u巴a. ロ一2もト\\n\\n\\n\\n巴\\n\\n2\\n\\n戔\\n\\nに\\n\\nOS\\n\\n巴\\n\\n2\\n\\n戔\\n\\nに\\n\\nOS5も2」1110)\\n\\n\\n\\n\\n\\n\\n\\n\\n\\n6、、寸一・9\\n\\n9ZOZ\\n\\n\\n\\n\\n\\n\\n\\n6、 匸9\\n\\n\\n\\n\\n\\n\\n\\n\\n\\n6、、寸〔・9\\n\\n\\n\\n\\n\\n\\n\\n\\n\\nL、9\\n\\n\\n\\n\\n\\n\\n\\n00\\n\\n9、SLⅵ\\n\\n\\n\\n\\n\\n\\n\\no、0\\n\\n9、St二9\\n\\n\\n\\n\\n\\n\\n\\no、0\\n\\n9-0Lt・9\\n\\n\\n\\n\\n\\n\\n\\n\\n\\n二【9 9\\n\\n\\n\\n\\n\\n\\n\\n\\n\\n一2g0ⅵ\\n\\n\\n\\n\\n\\n\\n\\n9、 べ\\n\\n6-39・E\\n\\n\\n\\n\\n\\n\\n\\n6、86円寸\\n\\n\\n\\n\\n\\n1 LlöS1-10\\n\\n\\n\\n寸29E・9\\n\\n9、9ニ\\n\\n\\n\\n\\n\\n\\n\\n\\n\\n\\n\\n\\n\\nモOLLI弌 21巴0もqa 2》Il-I 巴d\\n\\n巴2M1ちの\\n\\nま0-0〔pa」三b\\n\\n*三OLM」N\\n\\nSue」1110)山り5」のS\\n\\n\\n\\n5\\n\\n5sua60u-1 》おp あM鬱p 、一 pun60 一型CIV ・qeト 5一\\n\\n\\n\\nAufsatz\\n\\nIm mittleren Teil von Tab. 3 auf S. 58 wird für jedes Jahr des Betrachtungszeitraums der Entity Value unter Berücksichtigung der stcucrwirksamen Abschreibungen der immateriellen Vermögenswerte und auf dessen Grundlage der Goodwill abgeleitet. Letzterer wird sodann durch dessen Komponenten Wert der zukünftig zu entwickelnden Software, Wert der zukünftig abzuschließenden Wartungsverträge sowie Wert des nach IFRS 3.B37 nicht bilanzierungsfähigen Mitarbeiterstamms — erklärt.l)\\n\\nDer bei dieser Überleitung verbleibende Differenzbetrag, der gleich dem nicht durch die Werte der Vermögenswerte erklärten Betrag des Entity Value ist, stellt — wic unter Abschn. 111.2, ausgeführt — eine Bewertungsdifferenz dar. Bei Anwendung der Rcsidual-Va[ue-Methode anstelle der IMPEEM zur Bewertung der zukünftig zu entwickelnden Software bzw. zur Bewertung der zukünftig abzuschließenden Wartungsverträge wird diese Differenz dem nach diesem Ansatz bewerteten Vermögenswert zugewiesen.24\\n\\nZur Beurteilung der Plausibilität der Bewertungscrgebnisse werden im unteren Teil von Tab. 3 auf S. 58 sowie in Tab 4 die den Vermögenswerten zugeordneten vermögenswertspezifischen Zinssätze mit den gewichteten Kapitalkosten der SW im Rahmen einer mehrperiodischen Betrachtung (WARAAnalyse) abgestimmt\" Diese Analyse legt dar, dass die vorläufig festgelegten vermögenswertspezifischen Zinssätze keiner Anpassung bedürfen.\\n\\nTab. 4: Ableitung der vermögenswertspezifischen Zinssätze\\n\\n\\n\\nWACC\\n\\nRisk Adj.\\n\\nWACC Adj.\\n\\nSoftware\\n\\n\\n\\n\\n\\n\\n\\nAcquired\\n\\n8,0%\\n\\n\\n\\n10,0%\\n\\nNEW\\n\\n9,2%\\n\\n\\n\\n10,0%\\n\\nService Contracts\\n\\nAcquired\\n\\n\\n\\n\\n\\n\\n\\nNEW\\n\\n9,9%\\n\\n\\n\\n\\n\\nTrademark\\n\\n\\n\\n\\n\\n9,7%\\n\\nAssembled Workforce\\n\\n\\n\\n\\n\\n9,2%\\n\\nWorking Capital\\n\\n\\n\\n-1,5%\\n\\n6,4%\\n\\nTangible Fixed Assets\\n\\n8,2%\\n\\n\\n\\n7,2%\\n\\nEntity Value\\n\\n\\n\\n\\n\\n10,2%\\n\\nDiese WARA-Betrachtung zeigt weiter, dass die Summe der Verzinsungen des in die Vermögenswerte der SW investierten Kapitals von der Verzinsung des in das Unternehmen investierten Kapitals abweicht. Der dabei auftretende Differenzbetrag ist gleich der Veränderung der bei der Erklärung dcs Entity Value durch die Vermögenswerte aufgetrete nen Bewertungsdifferenz.26 Bei Anwendung der Residual Value•Methode anstelle der MPEEM zur Bewertung der zukünftig zu entwickelnden Software bzw. der zukünftig abzuschließenden Wartungsverträge und modellendogener Bestimmung des diesem Vermögenswert zugeordneten vermögenswertspezifischen Zinssatzes wird dieser Diffèrenz-\\n\\nzur Erklärung des Goodwill ausführlich Mosert CFB 2013 S. 285 ff., 355 ff.\\n\\nSiehe hierzu bereits unter Abschn. III .Ž. 25 vgl. hierzu Moser, 2013 S. 366 ff.\\n\\nvgl. Moser, 2013 S, 291 f., 294ff„ 371\\n\\n60\\n\\nwww.der-betrieb.de\\n\\nbetrag der Verzinsung des nach diesem Ansatz bewerteten Vermögenswerts zugewiesen.\\n\\n4. Analyse und Überleitung des EBITA\\n\\nDie Abstimmung der Einkommensbeiträge der Vermögenswerte der SW mit dem Einkommen der Gesellschaft in Tab. 2 auf S. 57 zeigt, dass sich das EBITA aus den Einkommensbeiträgen der immateriellen Vermögenswerte vor Steuern sowie der Verzinsung des in die Sachanlagen und des in das Net Working Capital investierten Kapitals vor Steuern zusammensetzt. Da die Einkommensbciträgc der immateriellen Vermögenswerte neben der Verzinsung des in diese Vermögenswerte investierten Kapitals auch die Veränderung des investierten Kapitals beinhalten, ist das EBITA sowohl durch die Verzinsung des in die immateriellen und materiellen Vermögenswerte investierten Kapitals als auch durch die Veränderung des in die immateriellen Vermögenswerte investierten Kapitals bestimmt.\\n\\nIn Tab. 5 auf S. 61 wird das EBITA nach Stcucrn in die Verzinsung des in das Unternehmen investierten Kapitals übergeleitet.\\n\\n— Hierzu wird das EBITA nach Steuern zunächst um die Steuermmderung erhöht, d ie aus den Abschreibungen der immateriellen Vermögenswerte resultiert. Das so bestimmte adjustierte EBITA nach Steuern wird anschließend um die Veränderungen des in die immateri ellen Vermögenswerte investierten Kapitals bereinigt und dadurch in die Verzinsung des in alle Vermögenswerte investierten Kapitals übergeleitet; dies bestätigt ein Vergleich mit Tab. 4.\\n\\nDamit ist der unter III. 3. erläuterte Zusammenhang dargelegt. Die Verzinsung des in das Unternehmen investierten Kapitals ergibt sich in Tab. 5 auf S. 61 schließlich durch Hinzurechnung der Veränderung des bei der Erklärung des Entity Value und des Goodwill durch die Vermögenswerte des Unternehmens aufgetretenen Differenzbetrags (der oben erläuterten Bewertungsdifferenz). Diese Überleitung folgt dem unter 111.2. auß gezeigten Zusammenhang.\\n\\nTab. 5 auf S. 61 zeigt weiter, dass der Zusammenhang zwischen dem adjustierten EBITA nach Steuern und der Verzinsung des in das Unternehmen investierten Kapitals auch durch die Veränderung des in das Unternehmen investierten Kapitals abzgl. der Veränderung des in die materiellen Vermögengwerte investierten Kapitals erklärt werden kann. Dieser Zusam menhang wurde ebenso unter 111.2. abgeleitet.\\n\\nEin Vergleich der beiden Überleitungen zwischen dem adjustierten EBITA nach Steuern und der Verzinsung des in das Unternehmen investierten Kapitals bestätigt:\\n\\n— Dic Veränderung des in die immateriellen Vermögenswerte investierten Kapitals zzgl. der Veränderung der bei der Erklärung des EntityValue aufgetretenen Bewertu ngsdifferenz ist identisch mit\\n\\n— der Veränderung des in das Unternehmen investierten Kapitals abzgl. der Veränderung des in dic materiellen Vermögenswert,e investierten Kapitals. \\'1 Dieser Zusammenhang bringt zum Ausdrtfck, dass dic Veränderung des in das Untcrnchmcn investierten Kapitals sich zusammensetzt:\\n\\naus der Veränderung des in die immateriellen Vermögenswerte investierten Kapitals,\\n\\n02 \\n\\n\\twww.der-betrieb.de\\tAufsatz\\n\\nTab. 5: Überleitung des EBITA nach Steuern in die Verzinsung des in die SW investierten Kapitals\\n\\nYear\\n\\nRef. \\n\\n2017 \\n\\n2018 \\n\\n2019 \\n\\n2020 \\n\\n2021 \\n\\n2022\\n\\n2023\\n\\n2024\\n\\n2025\\n\\n2026\\n\\n2027\\n\\nTax-effecting EBITA\\n\\nTab. 1 \\n\\n6.570,7 \\n\\n6.734,9 \\n\\n6.886,5 \\n\\n7.024,2 \\n\\n7.129/6 \\n\\n7.200,8\\n\\n7212,9\\n\\n7.309,2\\n\\n7.345,8\\n\\n7.345/8\\n\\n7345,8\\n\\nTax Benefit of Amortization\\n\\nTab.3 \\n\\n1.594,4 \\n\\n1.594,4 \\n\\n1.594,4 \\n\\n1.594,4 \\n\\n968,2 \\n\\n968,2\\n\\n968,2\\n\\n968,2\\n\\n968,2\\n\\n96812\\n\\n\\n\\nTax-effecting EBITA adjusted forTax Benefit of Amortization\\n\\n\\n\\n8.165,1 \\n\\n8.329,3 \\n\\n8.480,9 \\n\\n8.618,6 \\n\\n8.097,8 \\n\\n8.169,1\\n\\n8.241,1\\n\\n8.277,4 \\n\\n8.314,0\\n\\n8.314,0\\n\\n7.345,8\\n\\nless Incremental Invested Capital in Intangible Assetsa\\'\\n\\nTab.3 \\n\\n-249,7 \\n\\n-431,8 \\n\\n-619,6 \\n\\n-814,6 \\n\\n-371,2 \\n\\n-477,3\\n\\n-596,3\\n\\n-692,0\\n\\n-798,2\\n\\n-878,9\\n\\n\\n\\nReturn on Intangible and Tangible Assets\\n\\nTab.3 \\n\\n7.915,4 \\n\\n7.897,6 \\n\\n7.861,3 \\n\\n7.804,0 \\n\\n7.726ó \\n\\n7.691,8\\n\\n7ó44,8\\n\\n7.585,4 \\n\\n7.515r8\\n\\n7.435,1\\n\\n7.345,8\\n\\nIncremental Valuation Difference\\n\\n\\n\\n\\n\\n\\n\\n\\n\\n\\n\\n\\n\\n\\n\\n\\n\\n\\n\\n\\n\\n\\n\\n\\n\\nReturn on EnitityValue incl. Amortization\\n\\nTab. 3 \\n\\n7.924,9 \\n\\n7.905,) \\n\\n7.867,4 \\n\\n7.808,1 \\n\\n7.728,5 \\n\\n7.693,3 \\n\\n7.645,9 \\n\\n7.586,2 \\n\\n7.516J2 \\n\\n7.435A\\n\\n7.345,8\\n\\nIncrernental Entity Value\\n\\nTab. 3 \\n\\n192,8 \\n\\n3/0,6 \\n\\n581,8 \\n\\n780,8 \\n\\n344,3 \\n\\n465,5 \\n\\n584,9 \\n\\n686,0 \\n\\n792,5 \\n\\n878,6\\n\\n\\n\\n[ess Incremental Workind Capital and Tangible Fixed Assets \\n\\nTab. 3\\n\\n47,3\\n\\n53,5\\n\\n31,6\\n\\n29,1\\n\\n25,1\\n\\n10,2\\n\\n10,3\\n\\n5,2\\n\\n\\n\\n\\n\\n\\n\\nTax-effecting EBITA adjusted forTax Benefit of Amortization\\n\\n\\n\\n8.165,1 \\n\\n8,32913 \\n\\n8.480,9 \\n\\n8.618,6 \\n\\n8.097,8 \\n\\n8.169,1 \\n\\n8.241,1 \\n\\n8.277,4 \\n\\n8.314,0 \\n\\n8.314,0\\n\\n7.345/\\n\\nInvested Capital Total Intangible Assets (Software, Service Contrarts, Trademark, Assembled Workforce) t less Invested Capital Total Intangible Assets t+l\\n\\nder Veränderung der bei der Erklärung des Entity Value\\n\\nmeÁsführung sowie der Beurteilung der Plausibilität von\\n\\naufgetretenen Bewertungsdifferenz sowie\\n\\nWachstumsannahmen bei Unternehmensbewertungen in\\n\\nder Veränderung des in die materiellen Vermögenswerte investierten Kapitals.\\n\\nV. Zusammenfassung\\n\\nIm vorliegenden Beitrag wurde aufgezeigt, dass sich das EBITA nach Abzug von Steuern aus der Summe der Verzinsungen des in die VermÖgenswerte des Unternehmens investicrtcn Kapitals zzgl. der Summe der Veränderungen des in die immateriellen Vermögenswerte investierten Kapitals abzgl. der durch die Abschreibungen der immateriellen Vermögenswertc bedingten Steuerminderung zusammensetzt. Damit kann das EBITA nach Steuern — bei Bereinigung der aus der Abschreibung der immateriellen Vermögenswcrte resultierenden Steuerwirkungcn — auf die Einkommensbeiträge der immateriellen Vermögenswerte zzgl. der Verzin-\\n\\nBetracht,\\n\\nsungcn des in die materiellen Vermögenswerte investierten\\n\\nWP/StB Prof. Dr. Ulrich Moser, CVA, lehrt\\n\\nKapitals zurückgeführt werden. Weiter wurde dargelegt,\\n\\nRechnungswesen und Steuern an der Fachhochschule\\n\\ndass das EBITA nach Steuern und nach Bereinigung der aus\\n\\nErfurt Den Schwerpunkt seiner Forschungstätigkeit\\n\\nder Abschreibung der immateriellen Vermögenswerte resul-\\n\\nbilden die Bewertung von immateriellen\\n\\ntiercnden Steuerwirkungen auch durch die Verzinsung des\\n\\nVermögenswerten, Unternehmenstransaktionen sowie Unternehrnensbewertung- Er ist Mitglied des\\n\\nin das Unternehmen investierten Kapitals zzgl. der Verände-\\n\\nWissenschaftlichen Beirats der Dornbach Valuation\\n\\nrung des in die immateriellen Vermögenswerte investierten\\n\\nKapitals sowie der Veränderung der bei Anwendung der\\n\\nGmbH/ Saarbrücken.\\n\\nMPEEM auftretenden Bewertungsdifferenz zusammen\\n\\nDr. Thomas Tesche, CMA ist Prokurist der\\n\\nsetzt. Die Zusammenhänge wurden formal abgeleitet und\\n\\nDornbach Valuation GmbH, Saarbrücken. Ein\\n\\nanhand eines aus der Praxis der Kaufpreisallokation stam-\\n\\nSchwerpunkt seinerTätigkeit liegt in der Bewertung von\\n\\nmenden Fallbeispiels verdeutlicht.\\n\\nDie dargelegten Erklärungen des EBITA sind insb. für die Bewertung immatcricllcr Vermögenswerte — bspw. bei Kaufpreisallokationen = von erheblicher Bedeutung. Dies ist darin begründet, dass diese Analysen Inkonsistenzen\\n\\nUnternehmen und immateriellen Vermögenswerten.\\n\\nder abgeleiteten Bewertungsergebnisse sowie Modellie-\\n\\nWP/StB Prof. Christoph Hell, CVA ist Partner\\n\\nrungsfehler aufdecken können, die bei den in der Praxis\\n\\nin der Dornbach Gruppe und Geschäftsführer\\n\\nzumeist durchgeführten Plausibilitätsbeurteilungen durch\\n\\nder Dornbach Valuation GmbH, Saarbrücken, Ein\\n\\nAbstimmung der vermögenswertspezifischen Zinssätze\\n\\nSchwerpunkt seiner Tätigkeit liegt in der Bewertung von\\n\\nmittels WARA-AnaIyse nicht zu crkennen sind.\\n\\nDie erläuterten Zusammenhänge kommen darüber hinaus u.a. als Grundlage der Analyse von Profil Split-Faktoren, der Bestimmung von Verrechnungspreisen, der Untersuchung von Steuerungsgrößen der wertorientierten Unterneh-\\n\\nUnternehmen und immateriel len Verrntgenswerten. Kontakt: autor@der-betrieb.de\\n\\nBewertungsPraktiker \\n\\n61\\n\\n\\n\\n\\t\\t\\t\\tBewertungsPraktiker \\t25.05.2017\\tNr. 02 26.05.2017\\n\\n\\t\\t\\t\\tBewertungsPraktiker \\t25.05.2017\\tNr. 02 26.05.2017\\n\\n\\t\\t\\t\\tBewertungsPraktiker Nr. \\t26.05.2017\\tBewertungsPraktiker Nr. 02 26.05.2017\\n\\n\\t\\t\\t\\tBewertungsPraktiker Nr. \\t26.05.2017\\tBewertungsPraktiker Nr. 02 26.05.2017\\n\\n\\t\\t\\t\\tBewertungsPraktiker \\t26.05.2017\\tBewertungsPraktiker Nr. 02 26.05.2017\\n\\n\\t\\t\\t\\tBewertungsPraktiker \\t25.05.2017\\tNr. 02 26.05.2017\\n\\n\\t\\t\\t\\tBewertungsPraktiker Nr. \\t26.05.2017\\tNr. 02 26.05.2017\\n\\n\\t\\t\\t\\tBewertungsPraktiker Nr. \\t26.05.2017\\tNr. 02 26.05.2017\\n\\n\\t\\t\\t\\tBewertungsPraktiker Nr. \\t26.05.2017\\tNr. 02 26.05.2017'"
      ]
     },
     "execution_count": 10,
     "metadata": {},
     "output_type": "execute_result"
    }
   ],
   "source": [
    "text = docx2txt.process('Moser2017.docx')\n",
    "text"
   ]
  },
  {
   "cell_type": "code",
   "execution_count": null,
   "metadata": {},
   "outputs": [],
   "source": [
    "In der Praxis der Kaufpreisallokation zeigt sich, dass derartige"
   ]
  },
  {
   "cell_type": "code",
   "execution_count": null,
   "metadata": {},
   "outputs": [],
   "source": [
    "Einschränkungen der Bewertungsergebnisse — bei begrenztem zusätzlich anfallendem Modellierungsaufwand — aufgedeckt "
   ]
  },
  {
   "cell_type": "code",
   "execution_count": null,
   "metadata": {},
   "outputs": [],
   "source": [
    "# Erklärung des EBITA ausgehend von Verzinsung und Veränderung des in ein Unternehmen bzw. in des"
   ]
  },
  {
   "cell_type": "markdown",
   "metadata": {},
   "source": [
    "werden können durch die Abstimmung des EBITA mit der Verzinsung und der Ver  änderung des in das Unternehmen investierten Kapitals\\n\\nabzgl. der Veränderungen des in die materiellen Vermösen Vermögenswerte investierten Kapitals I genswerte investierten Kapitals — das in das Unternehmen\\n\\ninvestierte Kapital ist dabei als Entity Value zu verstehen;\\n\\nsowie durch die"
   ]
  },
  {
   "cell_type": "markdown",
   "metadata": {},
   "source": [
    "Betrachtungen unter besonderer Berücksichtigung von Kaufpreisallokaticnen"
   ]
  },
  {
   "cell_type": "markdown",
   "metadata": {},
   "source": [
    "Abstimmung des EBITA mit den Verzinsungen des in die"
   ]
  },
  {
   "cell_type": "markdown",
   "metadata": {},
   "source": [
    "zzgl. der Veränderungen des in die immateriellen Vermö-\\n\\nDer Erklärung des EBITA eines Unternehmens kommt insb.\\n\\nAbstimmungen im praktischen Fall anhand eines aus der Pra-\\n\\ngenswerte investierten Kapitals.\\n\\nfür die Bewertung immaterieller Vermögenswerte, die Be-\\n\\nxis der Kaufpreisallokation stammenden, für die Zwecke die-\\n\\n\\n\\nstimmung von Verrechnungspreisen, die Untersuchung von\\n\\n"
   ]
  },
  {
   "cell_type": "markdown",
   "metadata": {},
   "source": [
    "ses Beitrags vereinfachten Fallbeispiels erläutert (Abschn. IV.)."
   ]
  },
  {
   "cell_type": "markdown",
   "metadata": {},
   "source": [
    "## III Ableitung der Erklärungszusammenhänge\n",
    "\\n\\nSteuerungsgrößen der wertorientierten Unternehmensfüh-\\n\\nVorab wird die Bedeutung aufgezeigt, die der Analyse des\\n\\n\n",
    "#### 1. Vorgehen\n",
    "\n",
    "\\nrung sowie die Beurteilung von Wachstumsannahmen bei\\n\\nEBITA bei der Beurteilung der im Rahmen von Kaufpreisal-\\n\\nIm Folgenden wird zunächst aufgezeigt, dass das EBITA\\n\\nUnternehmensbewertungen Bedeutung zu. Im vorliegen-\\n\\nlokationen erzielten Ergebnisse zukommt (Abschn. 11.). Die\\n\\nnach Abzug von Steuern (tax-effecting EBITA5) erklärt wer-\\n\\nden Beitrag werden die Zusammenhänge, die zwischen\\n\\nBetrachtungen gehen — The Appraisal Foundation (TAF)2\\n\\nden kann durch die Verzinsung und die Veränderung des in\\n\\ndem EBITA eines betrachteten Unternehmens und der Ver-\\n\\nfolgend — von der Annahme aus, dass die Rückflüsse des in die\\n\\ndas Unternehmen investierten Kapitals (Entity Value) abzgl\\n\\nVermögenswerte des Unternehmens investierten Kapitals\\n\\nzinsung des in das Unternehmen investierten Kapitals so-\\n\\nSachanlagen investierten Kapitals gleich den Abschreibungen\\n\\nder Veränderung des in die materiellen Vermögenswerte\\n\\nwie zwischen dem EBITA und den Verzinsungen des in die\\n\\nsind.\\n\\ninvestierten Kapitals sowie durch die Verzinsung des in das\\n\\nVermögenswerte des Unternehmens investierten Kapitals\\n\\n\\n\\nUnternehmen investierten Kapitals zzgl. der Veränderung\\n\\nbestehen, dargelegt.\\n\\nIl. Bedeutung der Analyse des EBITA für die Beurteilung\\n\\ndes in dic immateriellen Vermögenswerte investierten Kapi-\\n\\n\\n\\nder im Rahmen von Kaufpreisallokationen\\n\\ntals (Abschn. 111.2.), Sodann wird die Überleitung des EBITA\\n\\nl. Einführung\\n\\nabgeleiteten Ergebnisse\\n\\nnach Steuern in die Verzinsungen des in die Vermögenswerte\\n\\nDer Erklärung des EBITA (Earnings before Interest, Taxes and\\n\\nDie bei der Bewertung immaterieller Vermögenswerte im\\n\\ndes Unternehmens investierten Kapitals zzgl. der Verände-\\n\\nAmortisation) eines Unternehmens kommt bei der Untersu-\\n\\nRahmen von Kaufpreisallokationen abgeleiteten Ergebnisse\\n\\nrungen des in die immateriellen Vermögenswerte investierten\\n\\nChung verschiedener Fragestellungen Bedeutung zu. Dies gilt\\n\\nwerden vielfach auf Plausibilität untersucht. Zumeist wird\\n\\nKapitals (Abschn. 111.3.) dargelegt.\\n\\nbei der Bewertung immaterieller Vermögenswerte bspw. für  die\\n\\neine WARA-Analyse3 durchgeführt, bei der die den Vermö-\\n\\n\\n\\nAnalyse von Profit-Split-Faktoren1 , die Analyse von Verträgen,\\n\\ngenswerten des betrachteten Unternehmens zugeordneten\\n\\n2. Erklärung des EBITA ausgehend von der Verzinsung des\\n\\netwa Exklusivverträgen, sowie die Beurteilung der Konsistenz\\n\\nvermögenswertspezifischen Zinssätze mit den gewichteten\\n\\nin das Unternehmen investierten Kapitals\\n\\nder für immaterielle Vermögenswerte - bspw. im Rahmen von\\n\\nKapitalkosten abgestimmt werden. Darüber hinaus werden\\n\\nDas — als Free Cashflow6 verstandene — Einkommen cines\\n\\nKaufpreisallokationen — abgeleiteten Werte. Wciter erlaubt\\n\\nteilweise auch die Einkommensbeiträge der Vermögenswerte\\n\\nbetrachteten Unternehmensl in der in t+l mit t = 0 bis 00\\n\\ndie Erklärung des EBII\\'A die Aufteilung der EBITA-Marge\\n\\nmit dem als Free Cashflow verstandenen Einkommen des\\n\\nendenden Periode CF1+1 ergibt sich ausgehend vom EBITA\\n\\neines Unternehmens in Produktions- und Vertriebs-Marge,\\n\\nUnternehmens und die Werte der am Bewertungsstichtag\\n\\ndieser Periode (EBJTA ) — bei Saldierung der Abschrei-\\n\\ndie u.a. bei der Bestimmung von Verrechnungspreisen oder der\\n\\nbestehenden sowie der zukünftig geplanten Vermögenswerte\\n\\nbungcn der Sachanlagen mit den Investitionen — aus der\\n\\nErmittlung des beizulegenden Zeitwerts von Vorräten erfor-\\n\\nmit dem als Entity Value verstandenen Unternehmenswert\\n\\nBeziehung\\n\\nderlich werden kann. Darüber hinaus kann die EBITA-Analyse\\n\\nabgestimmt. Diese Analysen können einperiodisch oder mehr-\\n\\n\\n\\nder Untersuchung von Steuerungsgrößen der wertorientierten\\n\\nperiodisch zur A nwendung kommen.4\\n\\n\\t\\t\\t\\t\\t\\t= \\tx (1-9 + s x\\t\\t\\t\\t\\n\\nUnternehmensführung sowie der Analyse der Plausibilität\\n\\nMit den genannten Abstimmungen ist jedoch verbunden,\\n\\n\\t\\t\\t—f VI,t+1 — VI,t) — ( \\t— Va,t)\\n\\nvon Wachstumsannahmen bei Unternehmensbewertungen\\n\\ndass Inkonsistenzen sowie Modellierungsfehler, die bei den\\n\\n\\n\\nzugrunde gelegt werden.\\n\\nBewertungen der einbezogenen Vermögenswerte auftreten,\\n\\nwobei VI t bzw. V das im Zeitpunkt t bzw. t+l in das Working\\n\\nIm Folgenden werden — unter Berücksichtigung der Verän-\\n\\nnicht zwingend erkannt werden. Inkonsistenzen und Model-\\n\\nCapital und V bzw. V2 das in diesen Zeitpunkten in die\\n\\nderungen des in das betrachtete Unternehmen und in die\\n\\nlierungsfehler können dazu führen, dass den in die Analyse\\n\\nSachanlagen investierte Kapital bezeichnen; A bringt die\\n\\nmateriellen Vermögenswcrl.c investierten Kapitals bzw. unter\\n\\neinbezogenen Verm ögenswerten unzutreffende Einkommens-\\n\\nSumme der Abschreibungen der immateriellen Vermögens-\\n\\nEinbeziehung der Veränderungen des in die immateriellen\\n\\nbeiträge und/oder unzutreffende vermögenswertspezifischc\\n\\nwerte der in t+l endenden Periode zum Ausdruck.\\n\\nVermögenswerte investierten Kapitals — der\\n\\nZinssätze und damit unzutreffcndc Wcrtc zugeordnet werden.\\n\\nDas Einkommen des Unternehmens kann auch aus der\\n\\n— Zusammenhang zwischen dem EBITA und der Verzinsung Da die Abstimmungen von Residualgrößen ausgehen, können Bestimmungsgleichung für dessen — als Entity Value verstan- des in das betrachtete Unternehmen investierten Kapitals sich die Folgen der Inkonsistenzen und Modellicrungsfehlerdenen — Wert V im Zeitpunkt t sowie der\\tunerkannt — ausgleichen.\\n\\n Zusammenhang zwischen dem EBITA und den Verzinsungen des in die Vermögenswerte des Unternehmens\\n\\ninvestierten Kapitals dargelegt.\\n\\nDie Zusammenhänge werden zunächst formal abgeleitet\\n\\n2\\n\\nVgl. The Appraisal Foundation (TAF), Best Practices for Valuations in Financial Reporting: Intangible Asset Working Group - Contributory Assets, The Identification of Contributory Assets and Calculation of Economic Rents, 2010, 3.4.09; IVSC GN 4, 532-34. Siehe zu dieser Annahme auch\\n\\n\\n\\n\\n\\n(Abschn. 111.). Sodann wird die Anwendung dieser EBITA-\\n\\n3\\n\\nMoser, Bewertung immaterieller vermögenswerte, 2011, S. 54.\\n\\nZ T. wird auch von WACC-2-WARA-Analyse (Moser, Bewertung immaterieller Vermögenswerte,\\n\\n5\\n\\n\\n\\nTAF, a.a.O. {hl. 2), 3.4.03.\\n\\n\\n\\n\\n\\n2011, S. 232 ff.) oderWARA-Reconciliation (BeyéflMackenstedt, \\n\\n6\\n\\nSharehoIderValue, 1995, 5, 53 ff; Cope-\\n\\n\\t\\t\\tImmaterielle Vermögenswerte,\\tZur Definition des Free Cashflow statt vieler Rappaport, \\n\\nI Zur Beurteilung von Profit Split-Faktoren unter Zugrundelegung von EBITA-Analysen grundle-\\n\\n\\n\\n2008, S. 348 f.; Schmalenbach -Gesellschaft, Purchase Price Alldation, 2009, S. 43) gesprochen.\\n\\n\\n\\nland/Koller/Murrin, Unternehmenswert, 3. Aufl.2002, S. 21 Off.\\n\\ngend Moser, Bewertung immateriellerVermögenswertey 2. Aufl. (erscheint 2017).\\n\\n52\\n\\n4\\n\\nAusführlich zu diesen Betrachtungen Moser, (FB 2013 S. 285 ff, 355 ff.\\n\\n02 \\n\\n7\\n\\nvgl. \\n\\n2),\\n\\n2),\\n\\nabgeleitet werden8 als\\n\\n\\n\\nwobei r, die gewichteten Kapitalkosten des Unternehmens der in t+l endenden Periode zum Ausdruck bringt. Durch Gleichsetzung der beiden Ausdrücke für CF und Umformung ist das EBITA nach Steuern zzgl. der mit. den Abschreibungen der immateriellen Vermögenswerte verbundenen Steuerminderung durch die Beziehung\\n\\n\\t — \\t— (14/ — 168+1)\\n\\nbestimmt, Damit ist aufgezeigt, dass das EBITA nach Steuern zzgl. der mit den Abschreibungen der immateriellen Vermögenswerte verbundenen Steuerminderung (s x Ar+1) — dargestellt werden kann als Verzinsung (V x r1+1) und Veränderung (Vt — Vt+l) des in das Unternehmen investierten Kapitals abzgl. der Veränderung des in das Working Capital (V 1,}— VI 1+1) und in die Sachanlagen (1/2 r — V ) d.h. in die materiellen VermögenswerLc des Unternehmens investierten Kapitals. Die Korrektur der mit den Abschreibungen der immateriellen Vermögenswerte verbundenen Steuerminderung ist dann geboten, wenn diese Steuervorteile bei der Ableitung des Entity Value berücksichtigt wurden.\\n\\nDiese Betrachtungen können dadurch erweitert werden, dass angenommen wird, dass ein Vermögenswert des betrachteten Unternehmens mittels der Residual Value-Methode bewertet wird. Bei Bewertung des Vermögenswertes i mit i = n nach dieser Methode gilt9\\n\\n\\n\\nDicscr Ausdruck kann in dic oben abgeleitete Beziehung für das EBITA nach Steuern eingesetzt werden. Nach Umformungen führt dies zu der Beziehung\\n\\n\\n\\nNach dieser Beziehung bestimmt sich das EBITA nach Steuern als Verzinsung des in das Unternehmen investierten Kapitals (V x r,+1) zzgl. der Veränderung des in die immateriellen Vcr-\\n\\n\\n\\nmögenswerte investierten Kapitals\\n\\n\\n\\nabzgl. der mit der Abschreibung der immateriellen Vermögenswerte bedingten Steuerminderung (s x A1+7). Durch Aup lösung der Beziehung nach V x rt ergibt sich die Erklärung der Verzinsung des in das Unternehmen investierten Kapitals ausgehend vom EBITA. Es gilt\\n\\n\\n\\n8 vgl. Moser, \\tS. 288 f. 9\\tvgl. Moser, CFB2013 S. 789 f.\\n\\n53\\n\\n\\n\\nBei Anwendung der Multi-Period-Excess-Earnings-Methode (MPEEM)IO anstelle der Residual-Value-Methode zur Bewer-\\n\\ntung des Vermögenswerts i mit i = n und modellexogener Vorgabe von vermögenswertspezifischen Zinssätzen für alle dem Unternehmen zugeordneten Vermögenswerte i mit i = I bis n ist die Beziehung\\n\\n\\n\\nnur dann erfüllt, wenn der dem Vermögenswert i = n modellexogen zugeordnete vermögenswertspezifische Zinssatz gleich dem vermögenswertspezifischen Zinssatz ist, der für diesen Vermögenswert bei Anwendung der Residual-ValueMethode modellendogen abgeleitet werden kann  Ist diese Bedingung nicht gegeben — und hiervon ist regelmäßig bei periodenunabhängigen vermögenswertspezifischen Zinssätzen auszugehen — , kann der Entity Value nicht vollstándig durch die Summe der Werte der Vermögenswerte erklärt werden. Es gilt\\n\\nMPBEM\\n\\nmit En,tMPËEM 0 , wobei En,tMFEEM den nicht erklärten Betrag des Entity Value im Zeitpunkt t erfasst. Dieser Differenzbetrag stellt eine bewertungsbedingte Differenz dar, wie an anderer Stellen nachgewiesen wurde.\\n\\nDurch Einsetzen dieses Ausdrucks in die oben abgeleitete Beziehung für das EBITA ergibt sich\\n\\n\\n\\nDiese Beziehung legt dar, dass das EBITA nach Steuern bei Bereinigung der aus der Abschreibung der immate-\\n\\nriellen Vermögenswerte resultierenden Steuerwirkungen sich zusammensetzt aus der Verzinsung des in das Unternehmen investierten Kapitals (V x r ) der Veränderung des in die immateriellen Vermögenswerte investierten Kapitals\\n\\n\\n\\nund der Veränderung der bei Anwendung der MPEEM auftretenden Bewertungsdifferenz\\n\\nDurch Auflösung der Beziehung nach V x r,+f ergibt sich die Erklärung der Verzinsung des in das Unternehmen investierten Kapitals ausgehend vom EBITA. Es gilt\\n\\n\\n\\nDie Abstimmung der zuvor bestimmten Beziehung für das um Steuern verminderte EBITA mit der oben abgeleiteten Ausgangsbeziehung für diese Größe zeigt, dass die Verän-\\n\\n54\\n\\nderung des in das Unternehmen investierten Kapitals sich zusammensetzt aus\\n\\n der Veränderung des in die immateriellen Vermögenswerte investierten Kapitals,  der Veränderung der bei der Erklärung des Entity Value aufgetretenen Bewertungsdifferenz sowie  der Veränderung des in die materiellen Vermögenswerte investierten Kapitals.\\n\\nDas Gleichsetzen der Beziehungen führt nach Vereinfachungen zu Ausdruck\\n\\nvt-vt\\n\\n3. Erklärung des EBITA nach Steuern ausgehend von der Verzinsung des in die Vermögenswerte des Unternehmens investierten Kapitals\\n\\nDas Einkommen des betrachteten Unternehmens in der in\\n\\nt+l endenden Periode ist bei Zuordnung der Excess Earnings zu mindestens einem diesem zugehörigen Vermögenswertbestimmt durch die Beziehung\\n\\ni,t+l\\n\\nwobei CF i,1+1 den Einkommensbeitrag des Vermögenswerts i mit i = I bis n bezeichnet; zur Vereinfachung der Darstellungen werden in diesen Einkommensbeitrag, soweit erforderlich, die abschreibungsbedingte Steuerminderungs x A einbezogen, Der Einkommensbeitrag des VermÖgenswerts i kann — in gleicher Weise wie das Einkommen eines Unternehmens — aus der Bestimmungsgleichung für dessen Wert\\n\\n1 + n,t+l\\n\\nabgeleitet werden als\\n\\nwobei r den vermögenswertspezifischen Zinssatz des Vermögenswerts i in der in t+l endenden Periode zum Ausdruck bringt. Durch Einsetzen dieser Beziehung in den Ausdruck CF\\'t+1 und Gleichsetzung mit dem Ausdruck CF\\n\\n\\t= V xr + vi— \\tergibt sich mit V = MPBEM bzw. V = \\n\\n\\t+ EI \\tVi,t+l\\n\\nMit diesem Ausdruck kann die in Abschn. 1112. abgeleitete Ausgangsbeziehung für das EBITA nach Abzug von Steuer überführt werden in die Beziehung\\n\\n\\n\\ni,t+l\\n\\ni,t+l\\n\\nDiese Beziehung legt dar, dass sich das EBITA nach Steu-\\n\\nern — bei Bereinigung der Steuerminderungen aufgrund der Abschreibung der immateriellen Vermögenswerte (s x hi) zusammensetzt aus den Verzinsungen des in die Vermögenswerte des Unternehmens investierten Kapitals x sowie  den Veränderungen des in die immateriellen ermögenswerte investierten Kapitals\\n\\n\\tDurch Einsetzen von CF\\tx r + V _ V in die\\n\\ni, 1+1\\n\\nBeziehung wird deutlich, dass in das EBITA nach Steuern die Einkommensbeiträge der immateriellen Vermögenswerte und die Verzinsungen des in die materiellen Vermögenswerte investierten Kapitals eingehen. Es gilt\\n\\n\\n\\nIV. Fallbeispiel\\n\\nÜberblick\\n\\nIm Folgenden wird zunächst in das Fallbeispiel eingeführt (Abschn. IV.2.). Sodann werden der Entity Value des betrachteten Unternehmens und die Werte der diesem zugeordneten Vermögenswerte bestimmt (Abschn. IV.3.). Anschließend wird das EBITA nach Steuern analysiert und in die Verzinsungen des in die VermÖgenswerte des Unternehmens investierten Kapitals bzw. in die Verzinsung des in das Unternehmen investierten Kapitals sowie die Veränderungen des in die immateriellen Vermögenswerte investierten Kapitals übergeleitet (Abschn. IV.4.).\\n\\n\\n\\nAusgangsdaten\\n\\nDie SW GmbH (kurz SMI) ist ein Software-Unternehmen, das eine Software-Lösung für spezielle Anwendungen entwickelt hat. Ihre Geschäftstätigkeit ist neben der Weiterentwicklung dieser Software sowie der Entwicklung der Nachfolgegeneration der bestehenden Software insb. durch die Pflege der Software im Rahmen der bestehenden Wartungsverträge geprägt. Diese Verträge haben zumeist eine Laufzeit von einem Jahr, werden jedoch ganz überwiegend stillschweigend prolongiert. Daneben verfügt die Gesellschaft über eine in der betreffenden Branche sehr bekannte Marke, einen Mitarbeiterstamm, Sachanlagen und Net Working Capital. Verzinsliche Verbindlichkeiten weist die Gesellschaft nicht auf.\\n\\nDie SW wurde zum 01.01.2016 von der Erwerber AG im Wege eines Asset Deal übernommen. Analysen der vom Erwerber erbrachten Gegenleistung zeigten, dass deren beizulegender Zeitwert dem Entity Value der Gesellschaft entspricht. Die bilanzielle Abbildung des Unternehmenszusamrnenschlusses folgt IFRS 3, von der die steuerliche Behandlung der Übel% nahme der Gesellschaft nicht abwcicht.\\n\\n\\n\\nTab. I auf S. 56 stellt für den Betrachtungszeitraum im oberen und im mittleren Teil die wesentlichen Planungsdaten der SW, die — IFRS 13 folgend — die Annahmen der Market Participants zum Ausdruck bringen, sowie das in Working Capital, Sachanlagen und Mitarbeiterstamm investierte Kapital zusammen. Aus dem unteren Teil der Tabelle ergibt sich — ausgehend von der Umsatzplanung der Gesellschaft — für jedes Jahr des Planungszeitraums die Zuordnung der geplanten Umsatzerlöse zu der am Bewertungsstichtag bestehenden SoftwareLösung, zu zukünftig zu entwickelnder Software — diese fasst die Weiterentwicklungen der bestehenden Software und die Nachfolgegenerationen dieser Software zusammen — sowie zu den bestehenden und den zukünftig abzuschließenden Wartungsverträgen.\\n\\nAus Tab. 2 auf S. 57 ergeben sich für den gesamten Planungszeitraum die Beiträge der genannten Vermögenswerte sowie der Marke zum als Free Cashflow verstandenen Einkommen der Gesellschaft. Die Tabelle zeigt, dass das Einkommen der Gesellschaft vollständig durch die Einkommensbeiträge der\\n\\nVermögenswerte der Gesellschaft erklärt werden kann.Il Dic Einkommensbeiträge der Marke, die unter Zugrundelegung einer unbestimmten Nutzungsdauer mittels der Relief-from-Royalty-Methode bewertet wird, ergeben sich durch Anwendung eines als angemessen zu betrachtenden\\n\\nLizenzsatzes i.H,v. auf die Umsatzerlöse der Gesellschaft, Mitarbeiterstamm, Sachanlagen und Net Working Capital wurden mittels des Cost Approach bewertet, woraus resultiert, dass deren Einkommensbeiträge grds. als Verzinsung und Veränderung des investierten Kapitals zu ermitteln sind. Beim Mitarbeiterstamm erübrigt sich die Einbeziehung der Veränderungskomponente, da nach den Planungen der Gesellschaft der Mitarbeiterstamm während des Planungszeitraurns weder auf- noch abgebaut werden soll und sich deswegen Rückflüsse des investierten Kapitals und Investitionen in diesen Vermögenswertinjedem betrachtetcnJahr in\\n\\ngleicher Höhe gegenüber stehen, Bei den Sachanlagen werden die Rückflüsse des investierten Kapitals i.H.d. Abschreibungen bemessen und sodann mit den Investitionen verrechnet. Der Ermittlung der Verzinsung des in diese Vermögenswerte investierten Kapitals werden die in der Tabelle genannten, vorläufig festgelegten vermögenswertspezifischen Zinssätze zugrunde gelegt.\\n\\nDer Bewertung der bestehenden Software-Lösung, der zukünftig zu entwickelnden Software sowie der bestehenden und der zukünftig abzusch ließenden Wartungsverträge wird die MPEEM zugrunde gelegt. Die Einkommensbeiträge dieser Vermögenswerte sind dementsprechend als Excess Earnings zu bestimmen. Diese ergeben sich durch Anwendung der um die Software-Entwicklungskosten i.H.v. 7,25% der Umsatzerlöse bereinigten EBITA-Marge aufdie den Vermögenswerten in Tab. 1 aufS. 56 zugeordnetenUrnsatzerIöse und Abzug der Einkommensbeiträge der unterstützenden Vermögenswerte Marke, Mitarbeiterstamm, Sachanlagen und Net Working Capital. Die Software-Entwicklungskosten i.H.v. 7,25% der Planumsatzerlöse der Gesellschaft werden in vollem Umfang der zukünftig zu entwickelnden Software zugeordnet."
   ]
  },
  {
   "cell_type": "markdown",
   "metadata": {},
   "source": [
    "\\n\\n55\\n\\n\\n\\nYear\\n\\n2016\\n\\n2017\\n\\n2018\\n\\n2019\\n\\n2020\\n\\n2021\\n\\n2022\\n\\n2023\\n\\n2024\\n\\n2025\\n\\n2026\\n\\n2027\\n\\nperpetual\\n\\nIncome Analysis\\n\\n\\n\\n\\n\\n\\n\\n\\n\\n\\n\\n\\n\\n\\n\\n\\n\\n\\n\\n\\n\\n\\n\\n\\n\\nSoftware\\n\\n\\n\\n\\n\\n\\n\\n\\n\\n\\n\\n\\n\\n\\n\\n\\n\\n\\n\\n\\n\\n\\n\\n\\n\\nAcquirecP)\\n\\n\\n\\n3710,1\\n\\n3.013,3\\n\\n2.459,2\\n\\n2.007,2\\n\\n\\n\\n\\n\\n\\n\\n\\n\\n\\n\\n\\n\\n\\n\\n\\n\\nNEWh)\\n\\n\\n\\n-2.722, 1\\n\\n-2.036,9\\n\\n-1.469,7\\n\\n-996,9\\n\\n967,2\\n\\n937,9\\n\\n908,8\\n\\n893,9\\n\\n879,1\\n\\n879,0\\n\\n879Ñ\\n\\n879,0\\n\\nAcquirecP)\\n\\n\\n\\n7.147,3\\n\\n6.595,0\\n\\n6.069,8\\n\\n5.573,5\\n\\n5.092,2\\n\\n\\n\\n4.208,5\\n\\n3.806,8\\n\\n3.443,6\\n\\n3.099,1\\n\\n\\n\\n0,0\\n\\nNE-wa)\\n\\n\\n\\n579,5\\n\\n1.364,0\\n\\n2.078,7\\n\\n2.740,1\\n\\n3.406,3\\n\\n3.994,1\\n\\n4.54115\\n\\n5.007,1\\n\\n5.434,8\\n\\n5.778,9\\n\\n8.878,0\\n\\n8.878,0\\n\\nTrademarkO\\n\\n\\n\\n375,5\\n\\n384,9\\n\\n393,5\\n\\n401\\n\\n407,4\\n\\n411,5\\n\\n415,6\\n\\n417,7\\n\\n419,8\\n\\n419,8\\n\\n419,8\\n\\n419,8\\n\\nReturn on Invested\\n\\nCapital pre Taxd) 9,2%\\n\\n\\n\\n1 18,0\\n\\n118,0\\n\\n118,0\\n\\n118,0\\n\\n118,0\\n\\n118,0\\n\\n118,0\\n\\n118,0\\n\\n118,0\\n\\n118,0\\n\\n118,0\\n\\n118,0\\n\\nWorking Capital\\n\\n\\n\\n\\n\\n\\n\\n\\n\\n\\n\\n\\n\\n\\n\\n\\n\\n\\n\\n\\n\\n\\n\\n\\n\\n\\n\\nReturn on Invested\\n\\n\\t\\t\\tCapital pre \\t6,4%\\n\\n\\n\\n82,7\\n\\n85,2\\n\\n87,3\\n\\n89,3\\n\\n91,1\\n\\n92,5\\n\\n93,4\\n\\n94,3\\n\\n94,8\\n\\n95,3\\n\\n95,3\\n\\n95,3\\n\\nReturn on Invested\\n\\nCapital pre Taxd)\\n\\n\\n\\n\\n\\n97,7\\n\\n100,8\\n\\n101,9\\n\\n10219\\n\\n103,9\\n\\n103,9\\n\\n103,9\\n\\n103,9\\n\\n103,9\\n\\n103,9\\n\\n103,9\\n\\nEBITA\\n\\n\\n\\n9.386,7\\n\\n9.621,3\\n\\n9837,8\\n\\n10.034,6\\n\\n10.185,1\\n\\n10.286,9\\n\\n10389,8\\n\\n10.441,7\\n\\n10.494,0\\n\\n10.494,0\\n\\n10.494,0\\n\\n10.494,0\\n\\nTax-effecting EBITA\\n\\n\\n\\n6.570,7\\n\\n6734,9\\n\\n6.886,5\\n\\n7.024,2\\n\\n7.129,6\\n\\n7.200,8\\n\\n7.272,9\\n\\n7.309,2\\n\\n7.345,8\\n\\n7.345,8\\n\\n7.345,8\\n\\n7345,8\\n\\nIncremental Working Capital\\n\\n\\n\\n-27,3\\n\\n-23,5\\n\\n-21/6\\n\\n-19,7\\n\\n-15,1\\n\\n-10,2\\n\\n-10,3\\n\\n-5,2\\n\\n-5,2\\n\\n\\n\\n\\n\\n\\n\\nIncremental Tangible Fixed\\n\\nAssets\\n\\n\\n\\n-20,0\\n\\n-30,0\\n\\n-10,0\\n\\n-10,0\\n\\n-10,0\\n\\n\\n\\n\\n\\n0,0\\n\\n0,0\\n\\n0,0\\n\\n\\n\\n\\n\\nFree Cashflow\\n\\n\\n\\n6.523,3\\n\\n6.681 ,5\\n\\n6£54,8\\n\\n6.994,5\\n\\n7.104r5\\n\\n7.190,7\\n\\n7262,6\\n\\n7304,0\\n\\n7.340,5\\n\\n7.345,8\\n\\n7.345,8\\n\\n7345,8\\n\\n\\'EntityVaIue 1012%\\n\\n69.820,0 \\n\\n70.418,3\\n\\n70.919,6 \\n\\n71.298,6 \\n\\n71.516,6\\n\\n7177219\\n\\n71.903,2 \\n\\n71.974,7 \\n\\n72.012,2 \\n\\n72.016,9\\n\\n72.016,9\\n\\n72-016,9\\n\\nSales rel. to Asset x (EBITA-Margin adjusted — CAC as Percentage of Sales)\\n\\nSales rel. to Asset x (EBITA-Margin adjusted - CAC as Percentage of Sales) -Total Sales x SW-Development Expenses\\n\\nc) Total Sales x Royalty Rate\\n\\nInvested Capital (t-1) x Rate of Return Assigned to Asset / ( I — tax rate)\\n\\nEBITA-Margin adjusted = EBITA-Margin + SW-Development Expenses CAC = Contributory Asset Charges\\n\\n\\n\\n\\n\\nO O\\t00\\tTab. 2: Zusammenstellung der Einkommensbeiträge der Vermögenswerte uns\\n\\nService Contracts\\n\\nAssembled Workforce ex TAB\\n\\nTangible Fixed Assets\\n\\nValuation Analysis\\n\\nAlle weiteren, für die Ableitung des Entity Value und die Betrachtungszeitraums bestimmt. Die dabei angewendeten Bestimmung der Werte der Vermögenswerte erforderlichen gewichteten Kapitalkosten von 10,2% — aufdie Darstellung von Daten, insb. Nutzungsdauern sowie der anzuwendende deren Ermittlung wird im Rahmen dieses Beitrags verzichtet Ertragsteuersatz, sind Tab. I auf S. 56 zu entnehmen. Da die— folgen IFRS 13 entsprechend den Annahmen der Market Untersuchungen mehrperiodischlï durchgeführt werden, Participants.\\n\\nfolgen alle Wertermittlungen dem Roll-Back-Verfahren. 19 Die Tab. 3 auf S. 58 fasst die Ableitungen der Werte der immateriAnwendung dieses Verfahrens führt dazu, dass die Werte der ellen Vermögenswerte der SW zusammen. Im oberen Teil der Bewertungsobjekte für jeden Zeitpunkt des Betrachtungszeit- Tabelle werden die Barwerte der diesen Vermögenswerten in raums unmittelbar zur Verfügung stehen. Tab. 2 zugeordneten Einkommensbeiträge unter Zugrundelegung der angegebenen, vorläufig festgelegten vermögens-\\n\\n3. Ableitung des Entity Value und der Werte der Vermö-\\twertspezifischen Zinssätze ermittelt. Sodann werden die genswerte\\tabschreibungsbedingten Steuervorteilell der immateriellen Der Entity Value der SW vor Einbeziehung derVermögenswerten sowie — durch deren Einbeziehung — die men Abschreibungen der erworbenen immatcricllcn Vermö-\\tbeizulegenden Zeitwerte der immateriellen Vermögenswerte genswerte23 wird im unteren Teil von Tab. 2 für jedes Jahr des\\tbestimmt.\\n\\nDie Notwendigkeit einer mehrperiodischen Analyse wird dargelegt bel Moser, in: Mohnkopf/ Moser (Hrsg.), Wissensmanagementfür Schutzrechte und deren Bewertung, 2014, S. 202 ff.\\n\\nSiehe hierzu Henselmann/Kniest, Unternehmensbewertung: Praxisfã\\'le mit Lösungen, 5. Auff\\tZu deren Ermittlung Moser, Beweltung immaterieller Vermögenswerte, 2011, S. 38 ff., 47 ff\\n\\n2015,5.86 ff.; Enzinger/Koner, BwP 4/2011 S. 2-10. 22 Zur Verkürzung der Darstellungen wurden den Ermittlungen der abschreibungsbedingten Steu20 Der Bemessung der Abschreibungen der Sachanlagen liegen die Werte nach Neubewertung ervorteile der Marke und des Mitarbeiterstamms steuerliche Nutzungsdauern von 10 Jahren zugrunde,\\tzugrunde gelegt."
   ]
  },
  {
   "cell_type": "markdown",
   "metadata": {},
   "source": [
    "\\n\\n\\t\\t56\\t02\\t57\\n\\n\\n\\n912」*PIX当=rlJaのつ、「「\\n\\n\\n\\n\\t\\t\\t(\\tX21←0当一2>← ⅵ巴dー【)、:~\\n\\n\\n\\n9、寸LC\\'9\\n\\n9、品\\n\\n96t\\n\\n、7ト\\n\\n、、99\\n\\nま 、0一\\n\\n設 円、\\n\\n\\n\\n02の〔\\n\\n5、80・9\\n\\n\\n\\nま的09\\n\\n99\\n\\nま020〔\\n\\nLい ・\\n\\n\\n\\n09の\\n\\no、〔08\\n\\no、88\\n\\n丈99\\n\\n96R-日 9式一ⅵ、\\n\\nへ、9一9・、\\n\\n二9認\\n\\n6-E89・い\\n\\n鱇06\\n\\nL\\'OZE\\n\\n\\n\\n299\\n\\nま0へ、DI\\n\\n国、989、\\n\\n97ニ・L\\n\\n99E・5\\n\\n冩6\\n\\n匚Z\\n\\n\\n\\n寸 9\\n\\n9きへ、ミ\\n\\n6、9寸9・、\\n\\n、、まE\\'L\\n\\nE\\'þlL\\'S\\n\\n町#6\\n\\nZギ9\\n\\n960へ、0一叫一69・、\\n\\nE、E69・、\\n\\nL、E、9・一\\n\\n内、9 ・寸\\n\\n県96\\n\\n9、SEE\\n\\no、\\n\\n9-£9\\n\\nまOZざ一\\n\\n9、9国、・\\n\\n\\n\\n、、096、L\\n\\n寸、8ト9寸\\n\\n6、ト5\\n\\n一、EÞE\\n\\n\\n\\nの29\\n\\nま6一、0一 2寸08、\\n\\nU808・、\\n\\n6、896べ\\n\\nO\\'E ・寸\\n\\n\\n\\n寸、66\\n\\n9寸E\\n\\n9、01\\n\\nL 9\\n\\n9ま一、OL\\n\\n鱇一畠、\\n\\n寸、98・、\\n\\n〔 99べ\\n\\n県896・£\\n\\n8-00一 9-6寸E\\n\\n寸-89 、-6の\\n\\nま6L\\'O一 9、68・、\\n\\nへⅵ06・、\\n\\n9298\\n\\n\\n\\nL20〔\\n\\n叮羸E\\n\\no、、9\\n\\n625\\n\\n\\n\\n丈SL6、\\n\\n5、寸へ6・、\\n\\n\\n\\n\\n\\n\\n\\n\\n\\n\\n\\n\\n\\n\\t\\t\\t\\tとコb〕\\n\\nMBN\\n\\n\\n\\n」0」 0Mpalqwassv\\n\\n2E2名」1\\n\\n一2ち1\\n\\n5も をx」型q一g21\\n\\n一2仁d凸\\n\\n岔お96\\n\\n当一> ←を\\n\\nE一コ9\\n\\n20\\n\\nE、9一9\\n\\nE、919\\n\\no、0\\n\\n〔、919\\n\\n0-0\\n\\n〔一8一9\\n\\n9、 9\\n\\no、0\\n\\n9、99\\n\\n0-0\\n\\n【、909\\n\\no、寸鬯\\n\\n99E 6-6、E\\n\\nt7\\'E0t Z、£6の\\n\\n寸、LEB\\n\\n\\n\\n三田N\\n\\n6、95べ、\\n\\n国、629叩\\n\\n寸、99\\n\\n丈0E6・99\\n\\no、 \\'99ー\\n\\n\\n\\n6、910\\'\\n\\n2、620・叩\\n\\n丈、の0・\\n\\nマ、0E5・\\n\\no の ・99ー\\n\\n寸、に£\\n\\nの-お・に\\n\\n円〔寸8ⅵー\\n\\n寸、SO\\'\\n\\nE-9ま・ぐ9\\n\\n7-63寸9\\n\\n一、トE\\n\\n\\n\\n\\n\\n\\n\\n\\n\\n\\n\\n\\n\\n一 9・\\n\\n当巴9・叩\\n\\n、2の07ー\\n\\n、CO\\'昭\\n\\n9-0の0N9\\n\\n9ⅶトE\\n\\n二寸 ・\\n\\n9一斗円L7\\n\\noヾYO\\n\\nの786d9\\n\\n、63・091\\n\\n、É\\n\\n0\\'66・\\n\\n8一9、0・寸7\\n\\n、9E9ワ\\n\\n9、 8・8の\\n\\n8、0、 叩\\n\\n\\n\\n、、ミE\\n\\n9、ミ寸・SL\\n\\n9あ・97\\n\\n9、07ー\\n\\n6、品の・99\\n\\n8、曽 ・9っ\\n\\n、ELE\\n\\nのお9、・い、\\n\\nq6896Lー\\n\\nL00べー\\n\\n、8ニ・\\n\\no、、08Tっ\\n\\nÉ、LLE\\n\\n9試い・9、\\n\\n6一6寸冂 ー\\n\\n8一「5・7\\n\\noお い\\n\\n36・6\\n\\nおE\\n\\n立L ・に\\n\\n29お・6\\n\\nL-0寸6・7\\n\\n一.、コ二9寸\\n\\no、寸ぐⅵ\\n\\nL、〔9E\\n\\n0209、、\\n\\n9、SE一t7E-\\n\\n、99円7\\n\\n、、6LV薈\\n\\n、9ニ・LY-\\n\\n寸、ÉのE\\n\\n9」寸69、L\\n\\n丈寸 ・6叩\\n\\n鱇6E円7\\n\\n〔-薈E・92\\n\\nE、、65・9叩\\n\\n6、E寸E\\n\\nanlPAむを」\\n\\n\\t\\t\\tpaZ!u6CDë8\\t型qらupを一\\n\\nの の 型C116u\\n\\n= POO)\\n\\nⅵも55V型9后ueを一」aモ0\\n\\n\\t\\t\\t巴\\t0\\n\\n\\t\\t\\t\\t\\t9\\t9 ー\\t9\\t9し 朝」辷0\\n\\n一き = P009\\n\\n\\n\\n6 ・E\\n\\n6、ZO\\n\\n、よ8\\n\\n2800・〔寸、6寸0一\\n\\n9、6E94、\\n\\n丈に\\n\\n6、9L0\\'t、\\n\\n\\n\\nへ、62・E\\n\\n6、目試の\\n\\n〔、ト68\\n\\n9800・【\\n\\nま6寸 一\\n\\n9、6E9・に\\n\\n寸、、E\\n\\n6、910\\'ミ\\n\\n9、 Ct\\n\\nL、 、9\\n\\n9、トへ6\\n\\n2800\\'L\\n\\n寸、6さL\\n\\n9、8一5ベト\\n\\nL\\'£LE\\n\\nS68Z、\\n\\n一、06E・9\\n\\n9、9 ・E\\n\\n9ⅵ96\\n\\no、曽9一内、薯9一\\n\\n9、 E・E、\\n\\n9-9、E\\n\\n一、889・E、\\n\\no、9き\\n\\n9-664E\\n\\n\\n\\n二〔86\\n\\no、8呂・〔 0、62、〔\\n\\n\\n\\nE、866E4\\n\\n\\n\\n8 、E\\n\\n当寸0、•o〔\\n\\n〔2ト円E\\n\\n鱠06\\n\\n丈さ9一\\n\\nq800・〔\\n\\nL、 9L\\n\\nE一寸85・寸、\\n\\n\\n\\nL\\'#LE\\n\\no、696・ミ\\n\\n9、08E・EL\\n\\n9-9尊・E\\n\\nÉ\\'tL6 寸\\n\\n\\n\\n2800・一\\n\\nれ 0、L\\n\\n寸、 0・灯\\n\\n\\n\\nZ\\'ELE\\n\\n9、ミマ・灯\\n\\nへ、8699一\\n\\n6、06 £\\n\\n9、0099寸\\n\\n9、9O\\'〔\\n\\noお56\\n\\n9、ÉOD*〔\\n\\n9、よ 灯\\n\\nE、LLE\\n\\n8、894灯\\n\\n998・8〔\\n\\n寸、 ・E\\n\\no寸\\n\\nE99L\\n\\nq885\\n\\n9、 5\\n\\n\\n\\n寸28一・9、\\n\\n\\n\\n、9E\\n\\n立989・Lt\\n\\n鰉寸、9・E\\n\\n6-5 一\\n\\n0-8、6 L296\\n\\nE、0に・9、\\n\\n\\n\\nL\\'〔9E\\n\\n立〔コ・に\\n\\no、9、 寸\\n\\n寸、 9・E\\n\\n9め66一LÉ\\n\\n6、寸60〔\\n\\no、8マ6 、、8E6\\n\\n9、8ミ、ト\\n\\n寸、ESE\\n\\n0209Z、\\n\\n8、 9、\\n\\nまE国9・E\\n\\n三に 寸9\\n\\nト、80二【\\n\\n282\\n\\nE、一ま\\n\\n三一 ・に\\n\\n6\\'EÞE\\n\\n9、ヾ69・に\\n\\np 三\\n\\nそ 朝で2」1\\n\\n\\n\\n巴お 」0Mpalqwassy\\n\\n当assyp叟工alq!6ueI 一2=d凸6に 0M\\n\\n一 01\\n\\n巴型一一0\\n\\nLIOにezをOLLIV・てu n一 な 田\\n\\n\\t\\t\\t\\t\\t\\n\\nAufsatz\\n\\nAufsatz\\n\\nwww.der-betfieb.de\\n\\nwww.der-betfieb.de\\n\\nwww.der-bet「ieb.de\\n\\nwww.der-bet「ieb.de\\n\\nAufsatz\\n\\nAufsatz\\tE、9\\tSIO・\\t8、9\\t9、6ー\\t一2← 」し亡-\\n\\n\\n\\n\\n\\n\\n\\n\\n\\n\\n\\n\\n\\n896\\n\\n\\n\\n\\n\\n\\n\\n896\\n\\n9、8ト8\\n\\n\\n\\n\\n\\n内、896\\n\\n5、SL9・一\\n\\nEへ0代\\n\\n\\n\\n、896\\n\\n寸、668t\\n\\n\\n\\n\\n\\n896\\n\\n6一SSO\\'E\\n\\n\\n\\n\\n\\n-896\\n\\n9、 9・E\\n\\n\\n\\n\\n\\n丈寸69〔\\n\\n〔26L\\'Þ\\n\\n\\n\\n\\n\\n丈寸6円L\\n\\n0\\'羸〔・9\\n\\n\\n\\n\\n\\n丈寸69・【\\n\\n8-〔Lt・9\\n\\n\\n\\n\\n\\n丈寸5円L\\n\\nト、E89、\\n\\n9一0へ\\n\\n\\n\\n\\n\\n6、寸ト8・ト\\n\\n\\n\\n一2さト1-10にezモOIL-IVお←IJëUa8)ŒI\\n\\n一出01こau品X?ト\\n\\n山コ一2>〕uas巴d\\n\\n\\t\\t\\t\\t\\t\\t\\t\\t\\t\\t\\t\\t\\n\\ntungsPraktiker \\n\\n「\\n\\nBewe\\n\\ntungsPraktiker \\n\\n「\\n\\nBewe62寸L・9\\t62寸一・9\\t62ミ-9\\to、尊L・9\\t県 9\\t9、SLL・9\\t9、0高・9\\tL、L9Z\\'9\\tLizい0ⅵ\\t6、L99\\'E\\t、2E0べ\\t9、コ一\\t三IN\\n\\n\\n\\n\\n\\n\\n\\n\\n\\n\\n\\n\\n\\n\\n\\n06\\n\\n\\n\\n\\n\\ndo\\n\\n20\\n\\n\\n\\n\\n\\n\\n\\n鱇9、9\\n\\n\\n\\n\\n\\n\\n\\n\\n\\n\\n\\nE\\'EE\\n\\n\\n\\n\\n\\n\\n\\n\\n\\n9、9\\n\\n9 寸、\\n\\n\\n\\n\\n\\n\\n\\n\\n\\nE」EE\\n\\n9、08\\n\\n\\n\\n\\n\\n\\n\\n県9へg\\n\\nの、9、寸・〔\\n\\n\\n\\n\\n\\n丈58L\\n\\n\\n\\nE、鬻\\n\\n、89\\n\\n\\n\\n\\n\\n\\n\\nE、9へ8\\n\\n9、卑0べ\\n\\n\\n\\n\\n\\n\\n\\n\\n\\nÉ、\\n\\n6一£8\\n\\n\\n\\n\\n\\n\\n\\n9\\n\\noヾ65べ\\n\\n\\n\\n\\n\\n9茎\\n\\n\\n\\nE\\'£É\\n\\nE、0〔\\n\\n\\n\\no、0\\n\\n\\n\\n\\n\\n6、001・E\\n\\n\\n\\n、、801\\n\\n\\n\\n\\n\\n\\n\\n\\n\\n9\\n\\n\\n\\n\\n\\nE、9tÛ\\n\\n5299E\\n\\n\\n\\n\\n\\n9、\\n\\n\\n\\nE\\'E£\\n\\nE 寸一\\n\\n90\\n\\n9-699\\n\\n\\n\\n鱇9\\n\\n0-一よ・E\\n\\n\\n\\n\\n\\n9-寸\\n\\n\\n\\nE\\'EE\\n\\nへ-99〔\\n\\n\\n\\n寸ヾ 一\\n\\nへ、93\\n\\n\\n\\n9、8\\n\\n9、寺円寸\\n\\n\\n\\n、 OL\\n\\n999\\n\\n\\n\\nE、EE\\n\\nL\\'E\\n\\n\\n\\n8 ・一\\n\\n、63\\n\\n\\n\\nE、9Z8\\n\\n6、寸89・寸\\n\\n\\n\\n\\n\\n9、ËE9\\n\\n\\n\\nE\\'EE\\n\\n\\n\\n\\n\\n\\n\\n\\n\\n\\n\\n87ま・マ\\n\\n\\n\\n\\n\\n9-9、9\\n\\n\\n\\n\\n\\n5-L\\n\\na」2 にOS\\n\\n山三2>←ua都」d-\\n\\n5も20u0D巴写 の\\n\\n1!JauagXë1\\n\\n山三2>←u25巴d ′\\n\\nモ 名2」1\\n\\n三2u98XPト\\n\\n山三2>←u 巴d\\n\\n」0 」0三P型 SY\\n\\nと u99xeI\\n\\n山n一2>←u 巴d\\n\\n\\n\\n\\n\\nN\\n\\n「\\n\\n. \\n\\n02 \\n\\nN\\n\\n「\\n\\n. \\n\\n02 \\n\\n!\\n\\n\\n\\n・u28LIO一帑2一\\n\\n960、0\\n\\nま0、0\\n\\n\\n\\nま0、0\\n\\no、E\\n\\n20\\n\\n\\n\\n\\n\\nま0、E\\n\\n0\\n\\n9K2\\n\\n\\n\\n9き\\n\\n962E\\n\\n9 -9\\n\\n\\n\\nま0、E\\n\\n960一E\\n\\n96\\n\\n\\n\\n\\n\\nま0→E\\n\\nま0一E\\n\\nま9一6\\n\\n\\n\\n960」\\n\\n98、\\n\\n9 、L【\\n\\n\\n\\n\\n\\n98\\n\\n98\\n\\n960」\\n\\n%ÜEL\\n\\n\\n\\n960一\\n\\nま0\\n\\n8ぜ〔\\n\\n\\n\\nま0\\n\\n9き\\n\\n9 、9\\n\\n\\n\\n\\n\\n9\\n\\n9\\n\\nよ0\\n\\nよ9、L\\n\\n\\n\\n960\\n\\n\\n\\nま、8一\\n\\n\\n\\n\\n\\n日は9年 コ-コ」 コ【も2」ち\\n\\n\\t\\t\\tへ-一=(Qdn\\t三2>← 」d\\n\\nと」0を0ョ\\n\\no一Ⅱ9 3」コ一nも5ョもa」ち\\n\\n\\t\\t\\t\\t\\t\\t\\t\\t\\t\\t\\t9を0\\t960a\\t94ト2 ま -の\\tま92\\t9ミ-6\\t9、LL\\tよ L\\t960」\\t969、9一\\t968、L\\tよ〔-6L\\tdndのあ心n一2>←uのお」d\\n\\nま0、0\\n\\n960、0\\n\\n9き、0\\n\\no、E\\n\\n9、2\\n\\n96 9\\n\\n960、E\\n\\n9寺、\\n\\n98\\n\\n丈6\\n\\n\\n\\nま L【\\n\\n960、E\\n\\nよ62L\\n\\n962E\\n\\n9等-ュ\\n\\n9き、E\\n\\n968、\\n\\n9き、E\\n\\n9602L\\n\\nま0、E\\n\\n96L、8一\\n\\n\\n\\n〔=tedコd出5む三E>←u 巴d\\n\\n\\to一\\t一コIt-I,Lasn、一も2」ち巳\\n\\nP-wap巴ト\\n\\n*0\\n\\n\\n\\n一98、0\\n\\n。きビ\\n\\n\\n\\n9き、0\\n\\n*0、0\\n\\n960-0 \\n\\n\\n\\n960、0\\n\\nま0、0\\n\\n98、0\\n\\no、0\\n\\n98-0\\n\\n9 \\'0\\n\\n\\n\\nよ20\\n\\nま 、\\n\\n8、9\\n\\n\\n\\n\\n\\n9き、\\n\\nま 、\\n\\n\\n\\nま、一巴\\n\\nまの、\\n\\n\\n\\n\\n\\n\\n\\nednd 22n而A←5お」d\\n\\nマ日 ト ョn sn一もa」ち巳\\n\\noけ\\n\\n6ヾ09・69\\n\\n、、58\\n\\nへ、6へO\\'E\\n\\nt\\'、6寸0・L\\n\\noお00・〔\\n\\n丈、、E\\n\\n9、5E9・に\\n\\n\\n\\n6、、0の・69\\n\\nへ、69\\n\\nへ、5へ0・É\\n\\n寸-6寸0・一\\n\\n0 8・一\\n\\n寸、、E\\n\\n9-6E9・\\n\\n一、い96L\\n\\nL、î寸9Z9\\n\\n、、68\\n\\n6寸0・L\\n\\n280q【\\n\\n9\\n\\nSTO寸9・に\\n\\nE96・\\n\\nL\\'、寸9・\\n\\n興よ8\\n\\n2670・E\\n\\n寸0・L\\n\\n800・L\\n\\n6-寸、\\n\\n寸 00・9\\n\\n\\n\\nへ768\\n\\n設、き崗\\n\\no、6E0・一\\n\\no、8U0・一\\n\\n0209・一、\\n\\n、70【め\\n\\n06、・\\n\\n、、68\\n\\nE-90・E\\n\\n\\n\\n0-80D・【\\n\\n\\n\\n6、69E\\n\\n9、6 ・0L\\n\\n「2、6・8寸\\n\\n、68\\n\\n鱇0、0・E\\n\\n8一0・L\\n\\no、809L\\n\\n99E\\n\\n9、9卑・〔、\\n\\n、\\'C寸9・\\n\\n9、00円9寸\\n\\n国ヾ68\\n\\n国、ELO\\'E\\n\\n5、鬯0\\n\\no、866\\n\\nマ29E\\n\\n寸Lt\\'に\\n\\nま8・寸一\\n\\no寸8・\\n\\n〔-よ9\\n\\n620q的\\n\\n8 86\\n\\n0-8g6\\n\\n寸、のE\\n\\n内-〔ま・OL\\n\\n8-0寸£、L\\n\\nニ0・L寸\\n\\nへヾ68\\n\\n9まべ\\n\\n冖296\\n\\no 、6\\n\\n寸、89の・0、\\n\\no、068・6L\\n\\n8お66、E\\n\\n、68\\n\\n8、696べ\\n\\nL\\'9E6\\n\\no、 6\\n\\n斗E\\n\\n2寸、TO、\\n\\n町5せ9べ国\\n\\no、EL勢寸\\n\\n〔、68\\n\\n8、9寸6Z\\n\\n璽一〔6\\n\\n8\\n\\n928\\n\\n8-£8寸・59\\n\\nまマ、0〔℃山」三b)く\\n\\n9 ざLPVËN\\n\\n9 、6巴」0」戔0M配Iq\\n\\n\\t\\t\\tま、、5\\t」ト\\n\\n96丈9一嬰dじ61.1名0M\\n\\n\\t\\t\\tま国-t\\tpax!」型q一5u21\\n\\na三e>む一← 02巴u巴a. ロ一2もト\\n\\n\\n\\n巴\\n\\n2\\n\\n戔\\n\\nに\\n\\nOS\\n\\n巴\\n\\n2\\n\\n戔\\n\\nに\\n\\nOS5も2」1110)\\n\\n\\n\\n\\n\\n\\n\\n\\n\\n6、、寸一・9\\n\\n9ZOZ\\n\\n\\n\\n\\n\\n\\n\\n6、 匸9\\n\\n\\n\\n\\n\\n\\n\\n\\n\\n6、、寸〔・9\\n\\n\\n\\n\\n\\n\\n\\n\\n\\nL、9\\n\\n\\n\\n\\n\\n\\n\\n00\\n\\n9、SLⅵ\\n\\n\\n\\n\\n\\n\\n\\no、0\\n\\n9、St二9\\n\\n\\n\\n\\n\\n\\n\\no、0\\n\\n9-0Lt・9\\n\\n\\n\\n\\n\\n\\n\\n\\n\\n二【9 9\\n\\n\\n\\n\\n\\n\\n\\n\\n\\n一2g0ⅵ\\n\\n\\n\\n\\n\\n\\n\\n9、 べ\\n\\n6-39・E\\n\\n\\n\\n\\n\\n\\n\\n6、86円寸\\n\\n\\n\\n\\n\\n1 LlöS1-10\\n\\n\\n\\n寸29E・9\\n\\n9、9ニ\\n\\n\\n\\n\\n\\n\\n\\n\\n\\n\\n\\n\\n\\nモOLLI弌 21巴0もqa 2》Il-I 巴d\\n\\n巴2M1ちの\\n\\nま0-0〔pa」三b\\n\\n*三OLM」N\\n\\nSue」1110)山り5」のS\\n\\n\\n\\n5\\n\\n5sua60u-1 》おp あM鬱p 、一 pun60 一型CIV ・qeト 5一\\n\\n\\n\\n"
   ]
  },
  {
   "cell_type": "markdown",
   "metadata": {},
   "source": [
    "Aufsatz\\n\\nIm mittleren Teil von Tab. 3 auf S. 58 wird für jedes Jahr des Betrachtungszeitraums der Entity Value unter Berücksichtigung der stcucrwirksamen Abschreibungen der immateriellen Vermögenswerte und auf dessen Grundlage der Goodwill abgeleitet. Letzterer wird sodann durch dessen Komponenten Wert der zukünftig zu entwickelnden Software, Wert der zukünftig abzuschließenden Wartungsverträge sowie Wert des nach IFRS 3.B37 nicht bilanzierungsfähigen Mitarbeiterstamms — erklärt.l)\\n\\nDer bei dieser Überleitung verbleibende Differenzbetrag, der gleich dem nicht durch die Werte der Vermögenswerte erklärten Betrag des Entity Value ist, stellt — wic unter Abschn. 111.2, ausgeführt — eine Bewertungsdifferenz dar. Bei Anwendung der Rcsidual-Value-Methode anstelle der IMPEEM zur Bewertung der zukünftig zu entwickelnden Software bzw. zur Bewertung der zukünftig abzuschließenden Wartungsverträge wird diese Differenz dem nach diesem Ansatz bewerteten Vermögenswert zugewiesen.24\\n\\nZur Beurteilung der Plausibilität der Bewertungscrgebnisse werden im unteren Teil von Tab. 3 auf S. 58 sowie in Tab 4 die den Vermögenswerten zugeordneten vermögenswertspezifischen Zinssätze mit den gewichteten Kapitalkosten der SW im Rahmen einer mehrperiodischen Betrachtung (WARAAnalyse) abgestimmt\" Diese Analyse legt dar, dass die vorläufig festgelegten vermögenswertspezifischen Zinssätze keiner Anpassung bedürfen.\\n\\nTab. 4: Ableitung der vermögenswertspezifischen Zinssätze"
   ]
  },
  {
   "cell_type": "markdown",
   "metadata": {},
   "source": [
    "\\n\\n\\n\\nWACC\\n\\nRisk Adj.\\n\\nWACC Adj.\\n\\nSoftware\\n\\n\\n\\n\\n\\n\\n\\nAcquired\\n\\n8,0%\\n\\n\\n\\n10,0%\\n\\nNEW\\n\\n9,2%\\n\\n\\n\\n10,0%\\n\\nService Contracts\\n\\nAcquired\\n\\n\\n\\n\\n\\n\\n\\nNEW\\n\\n9,9%\\n\\n\\n\\n\\n\\nTrademark\\n\\n\\n\\n\\n\\n9,7%\\n\\nAssembled Workforce\\n\\n\\n\\n\\n\\n9,2%\\n\\nWorking Capital\\n\\n\\n\\n-1,5%\\n\\n6,4%\\n\\nTangible Fixed Assets\\n\\n8,2%\\n\\n\\n\\n7,2%\\n\\nEntity Value\\n\\n\\n\\n\\n\\n10,2%\\n\\nDiese WARA-Betrachtung zeigt weiter, dass die Summe der Verzinsungen des in die Vermögenswerte der SW investierten Kapitals von der Verzinsung des in das Unternehmen investierten Kapitals abweicht. Der dabei auftretende Differenzbetrag ist gleich der Veränderung der bei der Erklärung dcs Entity Value durch die Vermögenswerte aufgetrete nen Bewertungsdifferenz.26 Bei Anwendung der Residual Value•Methode anstelle der MPEEM zur Bewertung der zukünftig zu entwickelnden Software bzw. der zukünftig abzuschließenden Wartungsverträge und modellendogener Bestimmung des diesem Vermögenswert zugeordneten vermögenswertspezifischen Zinssatzes wird dieser Diffèrenz-\\n\\nzur Erklärung des Goodwill ausführlich Mosert CFB 2013 S. 285 ff., 355 ff.\\n\\nSiehe hierzu bereits unter Abschn. III .Ž. 25 vgl. hierzu Moser, 2013 S. 366 ff.\\n\\nvgl. Moser, 2013 S, 291 f., 294ff„ 371\\n\\n60\\n\\nwww.der-betrieb.de\\n\\nbetrag der Verzinsung des nach diesem Ansatz bewerteten Vermögenswerts zugewiesen.\\n\\n4. Analyse und Überleitung des EBITA\\n\\nDie Abstimmung der Einkommensbeiträge der Vermögenswerte der SW mit dem Einkommen der Gesellschaft in Tab. 2 auf S. 57 zeigt, dass sich das EBITA aus den Einkommensbeiträgen der immateriellen Vermögenswerte vor Steuern sowie der Verzinsung des in die Sachanlagen und des in das Net Working Capital investierten Kapitals vor Steuern zusammensetzt. Da die Einkommensbciträgc der immateriellen Vermögenswerte neben der Verzinsung des in diese Vermögenswerte investierten Kapitals auch die Veränderung des investierten Kapitals beinhalten, ist das EBITA sowohl durch die Verzinsung des in die immateriellen und materiellen Vermögenswerte investierten Kapitals als auch durch die Veränderung des in die immateriellen Vermögenswerte investierten Kapitals bestimmt.\\n\\nIn Tab. 5 auf S. 61 wird das EBITA nach Stcucrn in die Verzinsung des in das Unternehmen investierten Kapitals übergeleitet.\\n\\n— Hierzu wird das EBITA nach Steuern zunächst um die Steuermmderung erhöht, d ie aus den Abschreibungen der immateriellen Vermögenswerte resultiert. Das so bestimmte adjustierte EBITA nach Steuern wird anschließend um die Veränderungen des in die immateri ellen Vermögenswerte investierten Kapitals bereinigt und dadurch in die Verzinsung des in alle Vermögenswerte investierten Kapitals übergeleitet; dies bestätigt ein Vergleich mit Tab. 4.\\n\\nDamit ist der unter III. 3. erläuterte Zusammenhang dargelegt. Die Verzinsung des in das Unternehmen investierten Kapitals ergibt sich in Tab. 5 auf S. 61 schließlich durch Hinzurechnung der Veränderung des bei der Erklärung des Entity Value und des Goodwill durch die Vermögenswerte des Unternehmens aufgetretenen Differenzbetrags (der oben erläuterten Bewertungsdifferenz). Diese Überleitung folgt dem unter 111.2. auß gezeigten Zusammenhang.\\n\\nTab. 5 auf S. 61 zeigt weiter, dass der Zusammenhang zwischen dem adjustierten EBITA nach Steuern und der Verzinsung des in das Unternehmen investierten Kapitals auch durch die Veränderung des in das Unternehmen investierten Kapitals abzgl. der Veränderung des in die materiellen Vermögengwerte investierten Kapitals erklärt werden kann. Dieser Zusam menhang wurde ebenso unter 111.2. abgeleitet.\\n\\nEin Vergleich der beiden Überleitungen zwischen dem adjustierten EBITA nach Steuern und der Verzinsung des in das Unternehmen investierten Kapitals bestätigt:\\n\\n— Dic Veränderung des in die immateriellen Vermögenswerte investierten Kapitals zzgl. der Veränderung der bei der Erklärung des EntityValue aufgetretenen Bewertu ngsdifferenz ist identisch mit\\n\\n— der Veränderung des in das Unternehmen investierten Kapitals abzgl. der Veränderung des in dic materiellen Vermögenswert,e investierten Kapitals. \\'1 Dieser Zusammenhang bringt zum Ausdrtfck, dass dic Veränderung des in das Untcrnchmcn investierten Kapitals sich zusammensetzt:\\n\\naus der Veränderung des in die immateriellen Vermögenswerte investierten Kapitals,\\n\\n02 \\n\\n\\twww.der-betrieb.de\\tAufsatz\\n\\nTab. 5: Überleitung des EBITA nach Steuern in die Verzinsung des in die SW investierten Kapitals\\n\\nYear\\n\\nRef. \\n\\n2017 \\n\\n2018 \\n\\n2019 \\n\\n2020 \\n\\n2021 \\n\\n2022\\n\\n2023\\n\\n2024\\n\\n2025\\n\\n2026\\n\\n2027\\n\\nTax-effecting EBITA\\n\\nTab. 1 \\n\\n6.570,7 \\n\\n6.734,9 \\n\\n6.886,5 \\n\\n7.024,2 \\n\\n7.129/6 \\n\\n7.200,8\\n\\n7212,9\\n\\n7.309,2\\n\\n7.345,8\\n\\n7.345/8\\n\\n7345,8\\n\\nTax Benefit of Amortization\\n\\nTab.3 \\n\\n1.594,4 \\n\\n1.594,4 \\n\\n1.594,4 \\n\\n1.594,4 \\n\\n968,2 \\n\\n968,2\\n\\n968,2\\n\\n968,2\\n\\n968,2\\n\\n96812\\n\\n\\n\\nTax-effecting EBITA adjusted forTax Benefit of Amortization\\n\\n\\n\\n8.165,1 \\n\\n8.329,3 \\n\\n8.480,9 \\n\\n8.618,6 \\n\\n8.097,8 \\n\\n8.169,1\\n\\n8.241,1\\n\\n8.277,4 \\n\\n8.314,0\\n\\n8.314,0\\n\\n7.345,8\\n\\nless Incremental Invested Capital in Intangible Assetsa\\'\\n\\nTab.3 \\n\\n-249,7 \\n\\n-431,8 \\n\\n-619,6 \\n\\n-814,6 \\n\\n-371,2 \\n\\n-477,3\\n\\n-596,3\\n\\n-692,0\\n\\n-798,2\\n\\n-878,9\\n\\n\\n\\nReturn on Intangible and Tangible Assets\\n\\nTab.3 \\n\\n7.915,4 \\n\\n7.897,6 \\n\\n7.861,3 \\n\\n7.804,0 \\n\\n7.726ó \\n\\n7.691,8\\n\\n7ó44,8\\n\\n7.585,4 \\n\\n7.515r8\\n\\n7.435,1\\n\\n7.345,8\\n\\nIncremental Valuation Difference\\n\\n\\n\\n\\n\\n\\n\\n\\n\\n\\n\\n\\n\\n\\n\\n\\n\\n\\n\\n\\n\\n\\n\\n\\n\\nReturn on EnitityValue incl. Amortization\\n\\nTab. 3 \\n\\n7.924,9 \\n\\n7.905,) \\n\\n7.867,4 \\n\\n7.808,1 \\n\\n7.728,5 \\n\\n7.693,3 \\n\\n7.645,9 \\n\\n7.586,2 \\n\\n7.516J2 \\n\\n7.435A\\n\\n7.345,8\\n\\nIncrernental Entity Value\\n\\nTab. 3 \\n\\n192,8 \\n\\n3/0,6 \\n\\n581,8 \\n\\n780,8 \\n\\n344,3 \\n\\n465,5 \\n\\n584,9 \\n\\n686,0 \\n\\n792,5 \\n\\n878,6\\n\\n\\n\\n[ess Incremental Workind Capital and Tangible Fixed Assets \\n\\nTab. 3\\n\\n47,3\\n\\n53,5\\n\\n31,6\\n\\n29,1\\n\\n25,1\\n\\n10,2\\n\\n10,3\\n\\n5,2\\n\\n\\n\\n\\n\\n\\n\\nTax-effecting EBITA adjusted forTax Benefit of Amortization\\n\\n\\n\\n8.165,1 \\n\\n8,32913 \\n\\n8.480,9 \\n\\n8.618,6 \\n\\n8.097,8 \\n\\n8.169,1 \\n\\n8.241,1 \\n\\n8.277,4 \\n\\n8.314,0 \\n\\n8.314,0\\n\\n7.345/\\n\\nInvested Capital Total Intangible Assets (Software, Service Contrarts, Trademark, Assembled Workforce) t less Invested Capital Total Intangible Assets t+l\\n\\nder Veränderung der bei der Erklärung des Entity Value\\n\\nmeÁsführung sowie der Beurteilung der Plausibilität von\\n\\naufgetretenen Bewertungsdifferenz sowie\\n\\nWachstumsannahmen bei Unternehmensbewertungen in\\n\\nder Veränderung des in die materiellen Vermögenswerte investierten Kapitals.\\n\\nV. Zusammenfassung\\n\\nIm vorliegenden Beitrag wurde aufgezeigt, dass sich das EBITA nach Abzug von Steuern aus der Summe der Verzinsungen des in die VermÖgenswerte des Unternehmens investicrtcn Kapitals zzgl. der Summe der Veränderungen des in die immateriellen Vermögenswerte investierten Kapitals abzgl. der durch die Abschreibungen der immateriellen Vermögenswertc bedingten Steuerminderung zusammensetzt. Damit kann das EBITA nach Steuern — bei Bereinigung der aus der Abschreibung der immateriellen Vermögenswcrte resultierenden Steuerwirkungcn — auf die Einkommensbeiträge der immateriellen Vermögenswerte zzgl. der Verzin-\\n\\nBetracht,\\n\\nsungcn des in die materiellen Vermögenswerte investierten\\n\\nWP/StB Prof. Dr. Ulrich Moser, CVA, lehrt\\n\\nKapitals zurückgeführt werden. Weiter wurde dargelegt,\\n\\nRechnungswesen und Steuern an der Fachhochschule\\n\\ndass das EBITA nach Steuern und nach Bereinigung der aus\\n\\nErfurt Den Schwerpunkt seiner Forschungstätigkeit\\n\\nder Abschreibung der immateriellen Vermögenswerte resul-\\n\\nbilden die Bewertung von immateriellen\\n\\ntiercnden Steuerwirkungen auch durch die Verzinsung des\\n\\nVermögenswerten, Unternehmenstransaktionen sowie Unternehrnensbewertung- Er ist Mitglied des\\n\\nin das Unternehmen investierten Kapitals zzgl. der Verände-\\n\\nWissenschaftlichen Beirats der Dornbach Valuation\\n\\nrung des in die immateriellen Vermögenswerte investierten\\n\\nKapitals sowie der Veränderung der bei Anwendung der\\n\\nGmbH/ Saarbrücken.\\n\\nMPEEM auftretenden Bewertungsdifferenz zusammen\\n\\nDr. Thomas Tesche, CMA ist Prokurist der\\n\\nsetzt. Die Zusammenhänge wurden formal abgeleitet und\\n\\nDornbach Valuation GmbH, Saarbrücken. Ein\\n\\nanhand eines aus der Praxis der Kaufpreisallokation stam-\\n\\nSchwerpunkt seinerTätigkeit liegt in der Bewertung von\\n\\nmenden Fallbeispiels verdeutlicht.\\n\\nDie dargelegten Erklärungen des EBITA sind insb. für die Bewertung immatcricllcr Vermögenswerte — bspw. bei Kaufpreisallokationen = von erheblicher Bedeutung. Dies ist darin begründet, dass diese Analysen Inkonsistenzen\\n\\nUnternehmen und immateriellen Vermögenswerten.\\n\\nder abgeleiteten Bewertungsergebnisse sowie Modellie-\\n\\nWP/StB Prof. Christoph Hell, CVA ist Partner\\n\\nrungsfehler aufdecken können, die bei den in der Praxis\\n\\nin der Dornbach Gruppe und Geschäftsführer\\n\\nzumeist durchgeführten Plausibilitätsbeurteilungen durch\\n\\nder Dornbach Valuation GmbH, Saarbrücken, Ein\\n\\nAbstimmung der vermögenswertspezifischen Zinssätze\\n\\nSchwerpunkt seiner Tätigkeit liegt in der Bewertung von\\n\\nmittels WARA-AnaIyse nicht zu crkennen sind.\\n\\nDie erläuterten Zusammenhänge kommen darüber hinaus u.a. als Grundlage der Analyse von Profil Split-Faktoren, der Bestimmung von Verrechnungspreisen, der Untersuchung von Steuerungsgrößen der wertorientierten Unterneh-\\n\\nUnternehmen und immateriel len Verrntgenswerten."
   ]
  },
  {
   "cell_type": "code",
   "execution_count": 11,
   "metadata": {},
   "outputs": [],
   "source": [
    "horn = docx2txt.process('Horn2017.docx')"
   ]
  },
  {
   "cell_type": "code",
   "execution_count": 12,
   "metadata": {},
   "outputs": [
    {
     "data": {
      "text/plain": [
       "'Bewertung\\twww.cf-fachportal.de\\tBewertung\\n\\n\\t\\tBewertung\\twww.cf-fachportal.de\\tBewertung\\n\\n\\t\\tBewertung\\twww.cf-fachportal.de\\tBewertung\\n\\nwww.cf-fachportal.de\\n\\n\\n\\nMagnus P. Horn, Karlsruhe Institute ofTechnology (KIT), Dr. Daniel Hoang, Head of Research Group, Institute for Finance, Banking, and Insurance Ét Karlsruhe Institute ofTechnology (KIT), Heiko Emmel, DZ BANKAS Group Treasury, Sebastian Gatzer, Karlsruhe Institute ofTechnology (KIT), Jun.-Prof. Dr. Alexander Lahmann, Chair ofM&A in Small- and Midsized Entities at Handelshochschule\\n\\nLeipzig, Michael Schmidt, Deutsche Bank AG, Head of Grcup Valuations.\\n\\nKontakt: autor@tf-fachportal.de\\n\\n\\n\\nEvaluating investments in international (and particularly in emerging) markets often leads to confusion and controversy among academics and practitioners. Various theories propose competing models, whereas practitioners build their own alternatives. Our study provides an assessment of the most widely used methods of assessing country risk and shows that practitioners should carefully choose their country risk model. Current models produce a wide range of cost of equity estimates that can considerably affect management decisions.\\n\\nl. Introductionl\\n\\nFirms Iosc billions of Euros in emerging markets. Many of these losses stem from regulatoryviolations, bribery, fraud, or damage to reputation, all ofwhich are aspectsofso-called „countryrisk\"2 This paper examines how to incorporate country risk into the cost of capital when determining the value of investments in international markets — particularly in emerging markets.\\n\\nAlthough the Capital Asset Pricing Model (the standard CAPM) has become the undisputed approach of choice in finance and management textbooks for developed markets, many executives do not believe that it adequately estimates thc cost of equity in the international context. In their seminal work, Graham and Harvey (2001)3 show that approximately one-third of firms add „some extra risk factors\" to the CAPM when estimating their cost of equity capital. The most recent KPMG cost of capital study4 supports these results, revealing that approximately 40% of the surveyed firms add a country risk premium (CRP) to the standard CAPM formula. In practice, there is a wide range of models that firms apply to calculate discount rates for their international investment portfolios.\\n\\nIn recent years, numerous methodologies that consider country risk in the calculation of the cost of equity have emerged in the\\n\\nThe contents ofthis paperarefor discussion purposes only, represent the author\\' views only,  and are not intended to represent the opinions of Deutsche Bank and DZ BANK. Although this\\n\\n\\n\\ndocument was crafted with the greatest care, the authors nonetheless accept no liability arising from errors, misinterpretations or misstatements that may be contained herein.\\n\\n A recent survey published in the Harvard Business Review revealed that 83% ofthe surveyed firms (150 companies from North America and Europe with more than USDI.O bn in revenues} nsuffered significant losses since 2010\"from their investments in emerging markets; see Hochberg, Klick, and Reilly. Harvard Business Review, What companies have learned from losing billions in emerging markets, available at: http://hbfm.linW2290, retrieved 01.09.2011, 3 Graham/Harvey,JournaI of Financial Economics 2001 p. 187.\\n\\n4\\tKPMG, Kapitalkostenstudie 2016, Wertmessung — quo vadis?, available at: http:tjhbfm. link/2291, retrieved01.09.2017.\\n\\ntion.7 Additionally, calculating the International CAPM-beta in segmented marketsg can be further complicated by the low correlation between local and international markets, which can significantly reduce the beta.9 However, even if global markets are integrated — and risk could thus be diversified globally — the average investor may be „home biased\", which can result in overexposure to familiar markets and severely limit global diversification.u\\n\\n9.98%\\n\\n\\n\\n9.55%\\n\\n\\n\\n9.26%\\n\\n\\n\\n8.73%\\n\\n\\n\\n9.10%\\n\\n\\n\\n\\n\\n\\n\\n\\n\\n\\n\\n\\n\\n\\n\\n\\n\\n\\n\\nTo u ndcrscore our argument, we compute the cost ofequity with the International CAPM for compan ies located in countries with financial management literature5. Because the application of various risk profiles-Il The results are depicted in Figure I. these methods is wide-ranging (e.g., in mergers and acquisitions, for impairment testing, or for performance measurement), theFigure 1: Cost of Equity as of June 30, 2016 (risk-free rate: 3.5%, inappropriate choice of a particular country risk model mayMRP: lead to unintended (and possibly severe) investment distortions. This paper aims to mitigate these possible distortions: we assess\\n\\nthe most widelyused methods, discuss their impact on cost of\\n\\nobjectives that are commonly important for various groups of\\n\\nSberbank\\n\\nItaú Unibanco\\n\\nGrupo\\n\\nBankof\\n\\nJ.P. Morgan\\n\\ninvestors, regulators, academics and valuation analysts: (I) the-\\n\\n\\n\\nHolding\\n\\nFinanciero\\n\\nIreland\\n\\n\\n\\nequity estimates and provide actionable recommendations for the reader, These recommendations are based on five valuation\\n\\noretical foundations, (2) the degree ofdiscretionary elements, (3)Galicia transparency, (4) data availability, and (5) ease ofuse.Russia Brazil Argentina Ireland U.S.\\n\\nWe also provide a case study that compares the cost of equity estimates of 20 well-known country risk models for referenceThe costs of equitybased on the International CAPM as ofJune companies in typical emerging markets (i.e„ thc BRIC countries30, 2016, range from 8.73% (for the Bank oflreland) to 9.98% (for — Brazil, Russia, India and China). Our analysis reveals hugeSberbank).12 The U.S. bankJ.P. Morgan, which might be considespreads between the models\\' results of up to 25+6 percentagered less affected by country risk than its peers in this example,\\n\\n\\n\\n\\n\\nmates for the reference banks from Brazil and Russia, however,\\n\\nll. Why do Many Financial Executives Adjust the Standard\\n\\n\\n\\nare relatively on par with those ofJ.P. Morgan\\'S.\\n\\nCAPM for International Cost of Equity Estimates?\\n\\n\\n\\nSome analysts may find these results counterintuitive and may\\n\\nWhen calculating the cost of cqtlit:y for foreign investments,\\n\\n\\n\\nfeel that the relatively small difference of 45-88 basis points in\\n\\nmany financial executives and investors believe that a company\\'s\\n\\n\\n\\nthe cost of equity estimate of the reference banks from Brazil\\n\\ncost ofequity as calculated by (variants of) the standard CAPM is\\n\\n\\n\\nand Russia relative toJ .P. Morgan does not compensate for the\\n\\ntoo low, particularly for countries with a high perceived country\\n\\n\\n\\ncou ntry risk to which an investor is exposed.\\n\\nrisk, To demonstrate this, take the International CAPM, a vari-\\n\\n\\n\\nIn fact, although these (perceived) shortcomings ofthe Interna-\\n\\nant of the standard CAPM, as an example. In its simplest form,\\n\\n\\n\\ntional CAPM are well known, no approach to including country\\n\\nthe International CAPM uses the CAPIM framework with global\\n\\n\\n\\nrisk in business valuations has been successfully established as\\n\\nparameters, i.e., with a global risk-free rate, a global market risk\\n\\n\\n\\nthe standard pricing model across the investor spectrum. To\\n\\npremium and a beta measured against the global market By\\n\\n\\n\\nthe best of our knowledge, no method is wide y accepted by all\\n\\napplying this model, the investor assumes that any non-diversi-\\n\\n\\n\\nmarket participants, resulting in many different approaches\\n\\nfiable risk is appropriately captured in the stock\\'s beta factor as\\n\\n\\n\\nsuggested by both academics and practitioners. We present\\n\\nmeasured against a global index (e.g., MSCIWorld).\\n\\nOne key reason that practitioners arc frequently reluctant to\\n\\n\\n\\nthese methods in the following section.\\n\\npoints per company and 15.4 percentage points on average.has an estimated cost of equity of 9.1%. The cost of equity esti-\\n\\napply the International CAPM when valuing firms from emer-Ill. Cost of Equity Models and Country Risk ging markets is that the International CAPM often results in aAcademics and practitioners frequently apply a variety of CAPM lower cost of equity estimate than that expected by the analyst.approaches that „correct\" tor country risk. Figure 2 provides an The (perceived) inappropriately low cost of equity estimates result from many investors\\' limited ability to sufficiently diversify away the idiosyncratic risk associated with investments in emerging markets. This potential imperfect diversification of\\n\\nsystematic risk may lead investors to demand higher returns\\n\\nthan those estimated by the International CAPM. The reasons for such limits to diversification include, intev, alia, market barriers and segmented markets. Market barriers, such as discriminatory taxation and/or national legal/institut.ional frameworks, can result in partial segmentation and limit global diversifica-\\n\\nßekaert/Haruey/LundbIad/5iegel/Journal cfftrporate Financž 2016 p. 1\\n\\nA discussion ofthe International CAPM and its formal definition follow in Section [11.1.\\n\\noverview of the main approaches that include country risk in thè cost OfeqtuLy estimation\\n\\nWe classify the various approaches into three main groups: conceptual models, empirical models and heuristic models. The models in the first two groups have been widely approved by academics and generally have a strong foundation in economic theory. However, these models have been perceived as either limited or unfeasible for application in a daily business setting, at least by some practitioners. Therefore, valuation analysts have also developed alternative models. These models are more or less „loosely\" based on the CAPM framework and include adjustments for specific country-related risks, for example, by including a CRP or by adjusting the exposure (beta) to systematic risk. Most ofthese models involve deviations from and adjustments to the standard CAPM.\\n\\nStandard CAPM\\n\\n+ (MRP x Betat)\\n\\nwhere E[,] represents the expectation operator, r is the return of risky asset i, r is the risk-free rate14 MRP is the market risk premium, and Beta is the beta factor of asset i measured as with rm as the return of the market portfolio. In subsequent sections, we present the most representative methods of assessing country risk for each ofthe different groups of models. We emphasize that our summary is not a detailed step-by-step guide to apply these models; our aim is instead to outline the general workings of these models. Table Al in the\\n\\nAppendix contains a comprehensive and detailed description of the remaining approaches not discussed in the main text,\\n\\nA) International CAPM\\n\\nConceptual forrnola .\\n\\nwhere rf_globalis the global risk-free rate, MRP globalis the global market risk premium, and Betai,g/nhøi is the beta factor of the company with respect to the global market.\\n\\nIn its simplest form, the International CAPM uses the standard CAPM framework with global parameters. This approach is in line with the standard CAPM theory and is theoretically sound if markets -are globally integrated. In general, this approach is easy to implement, the data availability is good, and it can be applied to companies in most countries. However, in many cases, this approach does not result in the expected increased cost of equity for emerging markets (see example in Figure l), which is counterintuitive. The key reason is the observed low correlation between local emerging and global markets that occurs when these markets are fully or partially segmented. This low correlation leads to lowbetas and lower than expected costs ofequity.15\\n\\n\\n\\nCarrieri/Chaieb/Errunzat Review of Financial Studies 2013 p, 1694.\\n\\nBy segmented markets, we mean markets that are sufficiently isolated such that investors domiciled in one market cannot access the other market, and vice versa,\\n\\nErb/Campbell/Harvey/TadasNiskarta, Country Risk in Global Financial Management, the\\t13We referto Table Al in the Appendix fora complete list ofthese 20 approaches including calcuResearch Foundation ofthe Institute of Chartered Financial Analysts, 1997, available at: http://\\tlation formulas,\\n\\nhbfm.linkf2292, retrieved 01.09.2017.\\t14\\tFor further details and a discussion on the estimation ofthe risk-free rate („Basiszin<\\'), see Kru10\\tDamodaran, Equity Risk Premiums (ERP): Determinants, Estimation and Implications— the 2013schwitz/Löffler, wpg 2008 p. 805 (806).\\n\\nEdition, 2013, available at: http://hbfm.Iink/2293, retrieved 01.09.2017. 15 The Beta for the MSCI Emerging Frontier Markets Africa ex South Africa Index (EM Index) against 11 The investor in this example is U.S.-based, and the valuation is performed in USD For illustrati- MSCI World is only 0,46, although the EM index is more volatile and considered riskier than the on, we select Russia, Brazil, Ireland, and Argentina—all countrieswith substantial country-riskMSG World. This result can be attributed primarily to the low correlation between those two marexposures. The companies are from the finance irdustry and mainly operate in their domestic kets The beta is calculated as ofJune 30, 2016, based on two years ofhi5torical weekly returns.\\n\\nmarkets. 16 There is no consistent name convention. The group of models presented herein is frequently 12 Detailed calculations for the Ilustrative example in Figure 1 are available on request. called Global CAPM, World CAPM, or Single-Factor International CAPM.\\n\\n\\n\\n\\t\\t292\\tNr. 09-10 25.09Q017\\t293\\n\\nThere are also other versions of the International CAPM. For instance, Pratt and Grabowski (2008)17 argue that given the size and the maturity of U.S. financial markets, analysts can use the U.S. risk-free rate as a proxy for the global risk-free rate, the U.S. MRP as a proxy for the global MRP, and the company beta with respect to the U.S. market as a proxy for the global beta, The result is the so-called International CAPIM (US proxy).\\n\\n\\tInternational CAPM\\t\\n\\nE[ri] \\t-k (Beta \\tX MRPq!obul) International CAPM ( US proa:y) :\\n\\nE[rJ — rf_US + (Beta,us x MRPÜ$)\\n\\nBefore continuing, we should note that there are also variants of the International CAPM that explicitly incorporate risks arising out of deviations from the purchasing power parity, which is done by adding an additional risk factor that measu- res the exchange-rate risk between local and base currency. To provide clear-cut results, we assume throughout this paper that the purchasing power parity holds in the long run for real investments, which implies that exchange risk is not priced. We refer the interested reader to Ruiz de Vargaz and Breuer (2012a; 2012b) or Sabal (2004)18 for excellent discussions on currency effects in the context of the International CAPM.\\n\\nB) Local CAPM\\n\\nThe local CAPM assumes the segmentation of capital markets and implies that only the local market is relevant for the asset\\treturn:\\n\\n\\t\\t\\t\\t\\tElril \\t\\t\\t\\t\\t\\t\\t\\n\\n17 Pratt/Grabowski, Cost ofCapital, Applications and Examples, 2008.\\n\\n18 Breuer/Ruiz de Vargas, BewP 2015 p. 2; Breuer/Ruizde Vargasr BewP 2015 p. 50; SabaIiJournaI ofApplied Corporate Finance 2004p. 155.\\n\\nwhere r is the local risk-free rate, the local market \"local risk premium, and Beta is the beta factor of the company with respect to the local market.\\n\\nAs for the international version of the CAPM, the local CAPM is theoretically sound, i.e., consistent with the CAPM theory, butonly if markets are segmented and the local market can be regarded as the relevantmarkct portfolio. In practice, estimating the local beta and market risk premium might be challenging in illiquid and inefficient markets because ofpoor data quality stemming from issues such as low liquidity and short time series. Additionally, in some cases, the emerging country\\'s government bonds (used to determine the local risk-free rate) may notbe free ofdefault risk.\\n\\nC) Mixture Model of Bekaert and Harvey\\n\\nInstead of choosing between local and global betas and local and global market risk premiums, Bekaert and Harvey19 suggest including both because both parameters may be relevant to a company\\'s rcturn, An additional factor, Lambda, models the proportional impact ofLhe global beta and the global market risk premium on the return ofthc risky asset.\\n\\n\\t\\t\\t\\t= \\t+ (1- Lambda) x \\tX\\n\\n+ Lambda x (Beta,agiebal x MRP91„bqò.\\n\\nThus, Lambda represents the level ofthe local country\\'s integration into the world market. With a Lambda of one, the Bekacrt and Harvey mixture approach assumes perfectly integrated markets; conversely, when Lambda equals zero, markets are perfectly segmented.\\n\\nD) Credit Rating Model\\n\\nCredit rating models are based on the idea that historical returns and ratings can predict future returns. Erb et al. (1996)\\n\\n\\n\\n19 Bekaert/Harvey,Journal of Finance 1995 p. 403. Described in Harvey, 12 Ways to Calculate the International Cost of Capital, 2005, available at: http://hbfmflnk/2299, retrieved 01.09.2017,\\n\\nFigure 2: Country Risk - Cost of equity estimation: Main methodologies\\n\\n\\n\\nwww.cf-fach portal.de\\n\\npresent several versions of the credit rating model.20 They fit a regression model using equity market data and survey-based \\n\\nFor example, Damodaran (2013)25 suggests multiplying the CRP\\n\\nwith the \\n\\n\\n\\ncredit ratings from countries with liquid equity markets. Using these estimates, they forecast „out-of-sample\" the expected returns for\\n\\nmarkets with ratings but without equity market.\\n\\nE) Additive CRP\\n\\nModels in this category include an additive CRP.\\n\\nConcept\\'uað formula\\n\\n(MRPu, x Betai,vs) + CRP,\\n\\n-where r is the U.S. risk-free rate, MRP is the U.Swmarket risk LUS premium, Beta, Us is the beta factor ofthe companywith respect to the U.S. market, and CRP is the country risk premium added.\\n\\nThis type ofadjustment is widely accepted among practitioners. Normally, this approach uses both the beta and the market risk premium of a mature market with good data availability, e.g. from the U.S., as a baseline and then adds a CRP to incorporate those parts of the idiosyncratic risk that investors believe to be important and not diversifiable.\\n\\nThere are different approaches to estimating the CRP21. The most widely applied methodn is to define the CRP as the country\\'s default spread?? The main intuition behind applying the default spread comes from assuming that a company\\'s country risk is driven by many of the same factors as government default risk, such as political instability. Because this risk is already priced into the government bond market, it also serves as a convenient and always up-to-date proxy for a company\\'s country risk. Aswath Damodaran regularly publishes CRPs based on country ratings, default spreads and CDS spreads\\' In addition to the different approaches to estimating the CRP, various authors have proposed adjusting the CRP in various ways that are based on company or market specific factors.\\n\\nDamodaran #1.\\n\\nvs+BetajvsxMRPvs+CRP\\n\\n\\n\\nIota/\\n\\nlocal \\n\\n,\\n\\nB\\n\\nIota/\\n\\nlocal \\n\\n,\\n\\nBDamodœran +2 :\\n\\nDarnodaran, f 3 .\\n\\nat.rs\\n\\nHorn et al. :\\n\\n\\t\\t\\t\\try_UŠ + \\tX \\t+ CRP + Ceiling Risk Premium\\n\\nSalomon — Smith — Barney :\\n\\n\\t\\t\\t+ \\tx MRP9!obJ\\n\\nGamma 1 + Gamma + Gamma g\\n\\n+ CRP x\\n\\n30\\n\\nrelative equity market volatility over the bond market volatility (o local,E / B) to reflect the additional volatility in the equity market that is not incorporated in the default spread (Damodaran #2). In contrast, Zenner and Akaydin argue that the default spread (and hence the government default risk) is the maximum countryspecific risk faced by every company operating in that country. Consequently, they recommend downward adjusting the CRP based on a particular company\\'s\\n\\nexposure to political risk, defined by three factors that surn-\\n\\nmarily represent an entity\\'s total exposure to political risk (the Salomon-Smith-Barney approach)27,\\n\\nHorn et al. present a further enhancement to the CRP concept by adding a ceiling risk premium to the CRP (Horn et al. approach), The notion ofa ceiling risk premium captures the transfer risk, which occurs when companies transfer money through several countries on the way to the parent entity. Transfer risk can be particularly relevant to corporations with complex holding structures, in which cashflows arc transferred between subsidiaries different countries. Furthermore, this approach outlines a frameworkto estimate the CRP easily and transparently.\\n\\nFinally, Damodaran (2013) suggests adjusting the CAPIVI by considering the relative volatility between the local market and a chosen mature equity market, such as the U.S. equity market (Damodaran #3 approach). This volatility ratio is multiplied by the market risk premium to add an implicit CRP to the standard CAPM.\\n\\nF) Beta-Adjustments\\n\\nModels in this category adjust the asset beta to incorporate country risk.\\n\\nConceptual formula : = (MRP x\\n\\nwhere r is the U.S. risk-free rate, MRP is the market risk premium (either U.S. or global), and Beta . is the adjusted beta factor ofthe company that seeks to incorporate countr risk in\\n\\nthe adjusted beta calculation.\\n\\nFor example, Lessard (1996)29 suggests multiplying the company beta by the local country\\'s beta, both with respect to the U.S. market (Lessard Approach). As discussed earlier, a low correlation between the local and the global stock markets may lead to\\n\\n\\textraordinary low betas. Ibbotson \\taddresses this problem\\n\\nand considers the volatility in different markets when estimating exposure tothemarketriskpremium:Befa adj / a VS(Ibbotson approach), thereby omitting the correlation between company stock and reference index. as input in the beta calculation.\\n\\nThe Downside CAPM is defined as the International CAPM with a downside beta (Estrada, 2002)31. The downside beta is calculated using semi-variance, which is a measure of the dispersion of all observations below the mean. Estrada argues that the semi-\\n\\nvariance of returns is a better measure for risk than variance\\n\\n\\n\\n25 See Damodaran, op. cit. (fn. 10).\\n\\n26Zenner/Akaydint A Practical Approach to the International Valuation and Capital Allocation Puzzle (Global Corporate Finance, SalomonSmithBarney, 2002).\\n\\n20 Erb/CarnpbellJViskanta,The Journal ofPortfcIio Management 1996 (Spring) p. 46. 27The three criteria are as follows: i) access to capital markets, ii) exposure cf investment to po21 See Damodaran, op. cit. (fn. 10). litical risk, and iiii the importance of the investment to the investor, represented by Gammav 22 García-Sánchez/Preve/Sarria-AIIende, Journal ofApplied Corporate Finance 2010 g. 100.Gammazr and Gamma3 in the formula.\\n\\n23 The default spread Is defned as the spread between two countries\\'government bonds with similar 28 Harn/Emmel/Schmidt/Gatzer, CF 2015 p. 157. denominations, yields,terms and currencies,where one ofthe bonds is defined as risk-free.Typically, a 29Lessard, Journal of Applied Corporate Finance 1996 p. 52.\\n\\nU.S. government bond is chosen risk-free benchmark, and both bondsare denominated in USD.30 Morningstar/lbbotson, International Cost ofCapital Report 2011 24 Current figures found at http;/fpages.stern,nyu.eduAdamodar/. 31 Estrada, Emerging Markets Review 2002 p. 365.\\n\\n\\n\\n\\t\\t294\\t25+09.2017\\t295\\n\\n\\n\\nfor three reasons: (1) investors dislike only downside volatility; (2) semi-variance is more useful if the underlying distribution is asymmetric; and (3) semi-variance combines the information provided by both the variance and the skewness, which makes it useful for a one-factor return model. \\n\\nA final model in this group is the CSFB Approach by Hauptman and Natella (1997)32; which is a model quoted by a few academic studies, e.g., Harvey (2001)33, but rarely used bypractitioners. This approach multiplies the local beta with the ratio ofthe coefficient \\n\\n\\n\\nof variation in the local market and the coefficient of variation of the U.S. market (ratio defined as Al c 1), which in turn is multiplied with 0.60. Harvey (2001) concludes his description of the approach by stating that „this model is a perfect example of the confusion that exists in measuring the cost of capital \"\\n\\nLessard Approach, x MRPus\\n\\nIbbotson Approach :\\n\\n\\n\\nG) Both: Additive CRP and Beta-Adjustments\\n\\nFinally, some authors have proposed further adjustments to beta in addition to adding a country risk premium. Two examples thereof are the Godfrey-Espinosa approach34 and the Goldman Sachs approach35. Models in this group are based on the following conceptual formula:\\n\\nConceptual formula ; us + (MRPus x + CRP\\n\\nwhere r is the U.S.risk-freerate,MRP is the U.S. marketrisk\\n\\n.Ï_U.s\\n\\npremium, Beta adjis the adjusted beta factor ofthe company that seeks to incorporate country risk in the adjusted beta calcula-\\n\\ntion, and CRP is the country risk premium.\\n\\nIn gcncral, these adjustments to the CAPM consider the relative equity volatility between the local and the U.S. market, or global market, The derivation of these models is relatively ad hoc, and their notation is relatively complex. For instance, the GodfreyEspinosa approach distinguishes two types ofrisks: „commercial risks\" and „sovereign risks\". „Sovereign risks\" (as measured by the country credit spread) arc captured in the additive CRP. „Commercial risks\" (from operating in the local market relative to the home market) are captured by an „adjusted beta\", which is defined as the ratio of the volatility of the local stock market relative to the volatility of the U.S. (or world) market. Because both types ofrisks are likely interdependent, the authors propose\\n\\nto reduce the adjusted beta by 40% to avoid double counting risk. This adjustment, however, is admittedly ad hoc.\\n\\n\\n\\nHauptman/Natella, The cost of equity jn Latin America: The eternal doubt, Credit Suisse First Boston, Equity Research, May 20 1997.\\n\\nSee Harvey, The International Cost of Capital and Risk Calculator (ICRC), 2001, available at: http://hbfm.link/2295, retrieved or Harvey, op,cit, (fn, 19), 34 Godfrey/Espinosa, Journal ofApplied Corporate Finance 1996 p. 80.\\n\\n35 Mariscal/Hargis,A long-term perspective on short-term risk: Long-term discount ratesforemerging markets, Goldman Sachs Investment Research, 1999.\\n\\n296\\n\\n\\n\\nThe Goldman Sachs approach refines the Godfrey-Espinosa approach and proposes an alternative beta adjustment to address the abovementioned double-counting. The authors propose to multiply the company beta (measured against the local market) with the previously introduced ratio of the volatilities and with one minus the observed correlation between the stock and bond market. This adjustment shall isolate from changes in the economy that similarly affect movements in sovereign spreads and equity market volatility. The approach\\n\\nalso allows for adding further components (O) to account for further company-specific characteristics. We refer to the original articles for further dctails to these models.\\n\\n\\n\\n\\n\\ncrs\\n\\ncrsGodfrey — Espinosa Approach us + MRPusx\\n\\nGoldman Sachs Appro h :\\n\\n+MRPusx (1-psy)x\\n\\nIn summary, this presentation ofthc various methods to incorporate country risk demonstrates that there is a broad range Of different approaches available to the analyst. We again note that the focus of our summary was on the most representative models within each model category of Figure 2 and on the general workings ofthese models. The formal definitions of the comprehensive list of country risk approaches from Figurc 2, including references to the original works, are in Table Al in the Appendix.\\n\\nIV. Cost of Equity Estimation -A Comparison of\\n\\nMethodologies\\n\\nWe estimate the cost of equity for three large companies in each of the four sample countries: Brazil, Russia, India and China (which are well known as the so-called BRIC countries). We show that the models presented previously result in a remarkably wide range of cost of equity estimates in a realworld setting. For the twelve reference companies (see Table the maximum and minimum cost of equity estimates largely depend on the approach chosen, and the differences among these estimates can be dramatic,\\n\\nTable 1: Companies included in the case study\\n\\nZI\\n\\n\\n\\nCountry\\n\\n\\n\\nIndustry (ICB)\\n\\nBrazil\\n\\nPetróleo Brasileiro\\n\\nOil & Gas\\n\\n\\n\\nVale\\n\\nBasic Materials\\n\\n\\n\\nItau Unibanco\\n\\nFinancials\\n\\nRussia\\n\\nGazprom\\n\\nOil & Gas\\n\\n\\n\\nNorilsk Nickel\\n\\nBasic Materials\\n\\n\\n\\nSberbank\\n\\nFinancials\\n\\nIndia\\n\\nReliance Industries\\n\\nOil & Gas\\n\\n\\n\\nCoal India\\n\\nBasic Materials\\n\\n\\n\\nHDFC Bank\\n\\nFinancials\\n\\nChina\\n\\nPetroChina\\n\\nOil &Gas\\n\\n\\n\\nChina Shenhua Energy\\n\\nBasic Materials\\n\\n\\n\\nIndustrial & Commercial Bank of China\\n\\nFinancials\\n\\n\\n\\n\\n\\n\\n\\nClassification fallows the FTSE Industry Classification Benchmark (ICB).\\n\\n\\n\\nWc calculate the different estimates from the perspective of an U.S. investor who has proj ected the companies\\' cashflows in USD\\n\\nThe three companies from cach countrywere selected based on three criteria:\\n\\nwww.cf-fachportal.de\\n\\nFigure 3: Range of cost of equity estimates split by companies\\n\\n\\n\\n0%\\n\\n5%\\n\\n0%\\n\\n5%\\n\\nCost of Equity\\n\\n1. country ofincorporation,\\n\\n2, among the largest 20 public companies by market capita-\\n\\nResults\\n\\nFigure 3 summarizes the results from the cost of equity (COE)\\n\\nlization listed on the main local index, and\\n\\n3. operating in either of three domestic market-focused busi-\\n\\nestimates calculated for each company as of the end ofJune 2016. We apply all models depicted in Figure 2. The average \\n\\nnesses within each country with substantial exposure to local country risk: oil and gas, basic materials, and financials.\\n\\nWe select the MSCI World Index as a proxy for the world market. The S&P 500 serves as a proxy for the U.S. market, Bovespa for the Brazilian, Micex for the Russian, S&P CNX Nifty for the Indian, and Shanghai Shenzhen CSI 300 Index for the Chinese market. All local market risk premiums are based on the Fernandez 2016 surveys, the U.S. market risk premium is 6.25% as per Damodaranåð, and the global market risk premium is approximated by the U.S. MRP. To calculate betas, we use two years of weekly returns. All stock market data are from Bloomberg. Finally, for all cost of equity calculations, the cutoff date is June 30, 2016 \\n\\nCOE calculated using the various approaches ranges from 8.6% (International CAPM) up to 16.7% (Local CAPM). The mean of all the approaches is 11.5%, the median is 10.6%, and approximately two thirds of the calculated COES are situated within the range of 8% to 14%. The full set of model parameters and case study results are in Table Al-A33Y in the appendix.\\n\\na) Initial Key Findings\\n\\n  The first obvious finding is the wide range of cost of equity estimates for each company that are calculated using the different. approaches, The average range between the maximum and minimum estimate for each company is 15,4 p ercentage points.\\n\\n As a reference, we show where estimates from three benchmark models (Local CAPM, International CAPN•\\'I, Damodaran #1) are situated. Consistent with theory, the use\\n\\n\\t\\t\\t\\n\\nINDIA\\n\\nCHINA\\n\\nBRAZIL\\n\\nRUSSIA\\n\\nINDIA\\n\\nCHINA\\n\\nBRAZIL\\n\\nRUSSIA Range of all approaches\\t International CAPM C) Damodaran #1\\tLocal CAPM\\t Mean estimate\\n\\n\\n\\nFernandez/0rtiz/Acín, Market Risk Premium Used in 71 Countries in 2016: A Survey with 6,932 of the local CAPM results in higher COE than the use of the Answers, SSRN Scholarly Paper 2016, http://papers.ssrn.com/abstract=2776636, retrieved International CAPM, on average and consistently across all\\n\\n\\t\\t\\t01.09.2017.\\twhich results from the International CAPM\\'s\\n\\ncompanies, \\n\\nDamodaran regularly publishes market risk premium estimates on his homepage: http://pages. Accessed August 2016.\\n\\nOur Eth-Harvey-Viskanta (1996) estimates are based on published numbers from year-end\\t39 Tahle A3 is online availaåle under XQI 249764 in the CORPORATE FINANCE Database {www.cf-\\n\\n\\t\\t\\t2014/ but the results nonetheless offer an indication cfthe COE estimates level.\\tfachportal.de) and under http://hbfm.link/2345,\\n\\n\\t\\t\\t25.09.2017\\t297\\n\\nFigure 4: Median-adjusted cost of equity estimates per model\\n\\n\\n\\nimplicit assumption that country risk is diversifiable in an international portfolio. The Damodaran #1 approach, a widely used method, delivers results that hover closely around the mean across models. This quasi-consensus estimates of the Darnodaran approach across all relevant models might be one reason for its wide application and popularity among practitioners. A more detailed analysis across models follows below.\\n\\n— The mean/median COE estimate for each country shows clear differences between the countries that may reflect their specific country risk. The median COE for Brazil is the highest, at 14.0%, followed by China at 11.0%, Russia at 10.1% and India at 8.9%.\\n\\nWe further investigate the results from the various models relativc to each other and calculate median-adjusted cost ofequity estimateŠ (Figure 4). The median-adjusted cost of equity is the difference between the actual estimate (from a specific model) and the median estimate across all models (for a specific firm), which accounts for firm heterogeneity and enables model comparisons across firms.o This analysis is particularly useful for assessing the dispersion of the models\\' cost of equity estimates. Each dot in the figure relates to a specific company. Thc blue crosses represent the average estimate for each model.\\n\\nb) Additional Findings\\n\\n— Some models do not deliver COE estimates that lie consistently above or below the average/median COE estimate across companies and countries (e.g., the CSFB approach and the Goldman Sachs approach); in other words, they result in large variations in cost of equity estimates in the cross-section (Figure 4), This lack of consistency is a main drawback for analysts. For instance, the CSFB approach\\n\\nleads to the highest cost ofequity for Brazilian companies and the lowest for Chinese companies. The main reason for this variation is the inclusion of the mean returns and volatility of local stock market indices, Additionally, the Goldman Sachs approach shows a large variation around the median across all firms. This approach results in the highest estimates for the Chinese companies and estimates around the mean for all other companies, primarily because of large variations in the correlation between local equity and the sovereign bond market. In contrast, the Bekaert and Harvey Mixture Model is the model that leads to the most focused estimates, all between -1.5% and +1.3%, compared to the median across all models.\\n\\n— The Local CAPM is the model with the highest cost of equity compared to the median, followed by the Erb-Harvey-Viskanta model and the Damodaran #2 approach. For the ref@\\'rence firms, these models imply relatively „defensive\" investment behavior and low asset values on average. On the other end of the scale, the most „aggressive\"models in the case study — resulting in the lowest cost of equity and thus highest asset value — are the various variants of the International CAPM. In particular, the International CAPM (Ibbotson) resultS in very low cost of equity, as this approach uses the local country beta instead of the local company beta and, here, the average local country beta is lower than the average company beta (both measured against a global index). Finally, model estimates based on the Salomon-Smith-Barney, the Damodaran or the Bekaert-and-Harvcy models do not have substantial outliers from the mean/median across all models.\\n\\n2. What are the Implications of a Changing COE? Sensitivity Analysis Using Gazprom\\n\\n\\n\\n\\n\\n40 For instance, for Rellance (India), the Local CAPM produces a cost of equity of 15.6% and the median estimate across all models is 8.9%; hence, the median-adjusted cost Of equity is 6.7%.\\n\\n\\n\\nTo understand the impact of aEJarge variance among cost of equity estimates for the individual firm, we discuss the valu-\\n\\nMedian COE\\n\\nFigure 5: Conceptual estimation of Gazprom\\'s implied COE\\n\\nImplied valuation range\\n\\n5%\\n\\nCSFB\\tErb-Harvey-\\tCost of Approach\\tViskanta\\tEquity a) As of June 30, 2016\\n\\n\\n\\nation of the Russian company Gazprom. The cost of equity estimates for Gazprom range from a minimum of 6.3% up to 16.3%.\\n\\nAll cost of equity estimates for Gazprom — and the target share price that is dependent on the cost of equity applied — are depicted in Figure 5, We are running a discounted cashflow (DCF) valuation model with consensus cashflows over the next ten years, a 2.0% perpetual growth rate, a target debt ratio of 37.0% and static cost of debt of 6.0%. Applying the min or max cost of equity would lead to completely different valuations, with the min COE cstimate of 6.3% resulting in a share value approximately six times higher than the max COE value of 16.3%. The implied cost of equity (given the share price as of June 30, 2016) is approximately 12%. This market-implied cost of equity is slightly higher than the median of all estimates, which is 10. I Yo.\\n\\nV. Conclusions: Recommendations for Practitioners Based on the analysis ofthe previous sections, we provide some general conclusions. First, current models result in a wide range of cost of equity estimates that can considerably affect management decisions. Therefore, analysts must be clear about the assumptions and drawbacks of each model when valuing investment opportunities in emerging markets, and practitioners should choose their model of country risk with caution. Practitioners may also find our analysis of variation across models useful (see Figure 3). Although the results for individual models (e.g., the low dispersion across estimates of the Bekaertand Harvey Mixture Model) may not generalize to applications beyond the BRIC countries or the three analyzed industries, analysts may use the median-adjusted cost of equity approach to assess the within-variation for each model for its corresponding application, e.g., country or industry. Our case study of 20 well-known country risk models for reference companies in the BRIC countries (Brazil, Russia, India and China) reveals huge spreads between the models\\' results of up to 25.6 percentage points for individual firms and 15.4 percentage points on average. Second, none of the presented methods has gained wide acceptance or use. In the short term, despite effbrts from both academics and practitioners, reaching con-\\n\\nsensus on how to appropriately incorporate country risk seems unlikely.\\n\\nNevertheless, we can draw lessons learned to provide concluding recommendations. These recommendations build upon five qualitative valuation objectives that are frequently important for investment analysts when choosing a valuation model: (1) theoretical foundations, (2) the degree of discretionary elements, (3) transparency, (4) data availability, and (5) ease of use (see Table 2).\\n\\nValuation objective\\n\\nTheoretical foundations\\n\\nRecommended models\\n\\nInternational CAPM\\n\\nLocal CAPM\\n\\nDownside CAPM\\n\\nErb-Harvey-Viskanta Model\\n\\nHigh number of discretionary elements\\n\\nSalomon-Smith-Barney Approach\\n\\nTransparency\\n\\n\\n\\nLocal CAPM\\n\\nInternational CAPM\\n\\nDownside CAPM\\n\\nLessard Approach\\n\\nData availability\\n\\nDamodaran Approaches\\n\\nInternational CAPM\\n\\nHorn et al. Approach\\n\\nEase of use\\n\\n\\tDamodaran\\troaches\\n\\nTable 2: Model recom mendations based on various valuation objectives\\n\\nFor analysts who regard the theoretical foundation of a method as the most important objective, for instance, because the application is in a strict regulatory framework, we recommend applying either of the CAPM versions from the group of conceptual models or the empirical modcl from Erb-Harveyu Viskanta. In other cases, analysts may want to adjust the cost of equity based on many discretionary elements, ifcompany or sector complexity requires it. In that case, we suggest applying the Salomon-Smith-Barney model. Moreover, if both data availability and ease oj\\'use are important model characteristics for the valuation analyst — which is often the case in a normal business setting with both time and resource constraints — we suggest applying, e.g., the Damodaran approaches. Finally, the Lessard approach and the Local, International and Downside CAPM models provide the analyst with transparent calculations, which are relatively easy to fòllow and verify for third parties.\\n\\nIf several models meet the analyst\\'s requirements, then the analyst can use this subset of models and average the results. Of cou rse, other typical robustness checks in investment valuat,ion, such as sensitivity analysis, peer comparison, historic transaction analysis and consensus estimate verification, are also critical in the context ofcountry risk models. Nevertheless, the valuation of investment opportunities in an international context remains challenging. Developing the standard pricing model for evaluating risk in global markets certainly remains a fruitful area for future research.\\n\\nVI. Appendix\\n\\nIn the following tables you will find the summarized models described in the article and the case study results in detail.\\n\\n\\n\\nwww.cf-fachportal.de\\n\\n\\n\\n\\t\\t298\\t25.09.2017\\t299\\n\\n\\n\\n\\n\\n\\n\\nBewertung\\n\\nBewertung\\n\\nwww.cf-fachportalde\\n\\nwww.cf-fachportalde\\n\\nBewertung\\n\\nBewertung•910t\\'0Eaunr 0 0一一、一n 、 一一一nba一0一8巴-2\\tn冖=SMOLLLISO,SôlUedLtmaqlSTe…Oa、\\n\\n冖\\n\\n冖w aIIV一n- pn一一山0\\n\\n冖\\n\\n一1\\n\\n冖\\n\\n一1\\n\\n\\n\\n6\\n\\n0\\'6\\n\\n「8\\n\\n66\\n\\n9L\\n\\nYOL\\n\\n「9L\\n\\n9\\'5\\n\\nLL\\n\\n8•EL\\n\\n0kff0L\\n\\n匚」\\n\\n%E\\'OL\\n\\nOL\\n\\n67\\n\\n一6\\n\\n7一\\n\\nOL\\n\\nL\\'9\\n\\n\\n\\n\\n\\n£6\\n\\n\\n\\n\\n\\n\\n\\n\\n\\n\\n\\nLte!PðLhl\\n\\n\\n\\n\\n\\n\\n\\n\\n\\n\\n\\n\\n\\n\\n\\n\\n\\n\\n\\n\\n\\n\\n\\n\\n\\n\\n\\n\\n\\n\\n\\n\\n\\n\\n\\n\\n\\n\\n\\n\\n\\n\\n\\n\\n\\n\\n\\n\\n\\n\\n\\n\\n\\n\\n\\n\\n\\n\\n\\n\\n\\n0kEOL\\n\\n9•6\\n\\n969\\'8\\n\\n96 6\\n\\n96r9\\n\\n968d【\\n\\n8\\n\\n0/oÜOL\\n\\n96 CL\\n\\n969 L\\n\\n96 ;\\n\\n\\n\\n969\\' \\n\\n96 ;\\n\\n\\n\\n9 一8\\n\\n%Z\\'LL\\n\\n9667L\\n\\n\\n\\n969d\\n\\n\\t%CLL \\t\\n\\n\\n\\nO/cTEL\\n\\nO/cVOL\\n\\n\\t零 ;\\t\\n\\n\\n\\n\\n\\n\\n\\nS-\\n\\n\\n\\n\\n\\n\\n\\n\\n\\n\\n\\n\\n\\n\\n\\n\\n\\n\\n\\n\\n\\n\\n\\n\\n\\n\\n\\n\\n\\n\\n\\n\\n\\n\\n\\n\\n\\n\\n\\n\\n\\n\\n\\n\\n\\n\\n\\n\\n\\n\\n\\n\\n\\n\\n\\n\\n\\n\\n\\n\\n\\n\\n\\n\\n\\n\\n\\n\\n\\n\\n\\n\\n\\n\\n\\n\\n\\n\\n\\n\\n\\n\\n\\n\\n\\n\\n\\n\\n\\n\\n\\n\\n\\n\\n\\n\\n\\n\\n\\n\\n\\n\\n\\n\\n\\n\\n\\n\\n\\n\\n\\n\\n\\n\\n\\n\\n\\nenquaqs\\n\\neU!LD\\n\\n6\\n\\n\\n\\n966」6\\n\\n969•L\\n\\n「0L\\n\\n96tZL\\n\\n「IL\\n\\nEL\\n\\n93\\n\\n\\n\\n\\n\\n0•\\n\\n969•OL\\n\\n%L\\'OL\\n\\nLL\\n\\n8\\n\\n6\\n\\nO\\'L【\\n\\n\\n\\n爫6S\\n\\n寸•\\n\\n%LZt\\n\\nEL\\n\\nVocLl\\n\\n\\n\\n%S\\'寸\\n\\n9a7\\n\\n9\\'\\n\\n\\n\\n\\n\\n\\n\\n\\n\\n\\n\\n\\n\\n\\n\\n\\n\\n\\n\\n\\n\\n\\n\\n\\n\\n\\n\\n\\n\\n\\n\\n\\n\\n\\n\\n\\n\\n\\n\\n\\n\\n\\n\\n\\n\\n\\n\\n\\n\\n\\n\\n\\n\\n\\n\\n\\n\\n\\n\\n\\n\\n\\n\\n\\n\\n\\n\\n\\n\\n\\n\\n\\n\\n\\n\\n\\n\\n\\n\\n\\n\\n\\n\\n\\n\\n\\n\\n\\n\\n\\n\\n\\n\\n\\n\\n\\n\\n\\n\\n\\n\\n\\n\\n\\n\\n\\n\\n\\n\\n\\n\\n\\n\\n\\n\\n\\n\\n艹0\\n\\n6\\n\\n\\n\\n8Z\\n\\n9\\n\\n8;\\n\\no冖\\n\\n\\n\\n93\\n\\n\\n\\n%YOL\\n\\n6\\n\\n\\n\\n8\\n\\n\\n\\n\\n\\n\\n\\n%OZL\\n\\nT6\\n\\n\\n\\n寸•CL\\n\\n%TIC\\n\\nEL\\n\\nOL\\n\\n爫 •6\\n\\n\\n\\n%CLC\\n\\n9\\n\\nu28\\n\\n•cutuO)\\n\\n•pul\\n\\nVNIH)\\n\\n\\n\\n\\n\\n\\n\\n\\n\\n\\n\\n\\n\\n\\n\\n\\n\\n\\n\\n\\n\\n\\n\\n\\n\\n\\n\\n\\n\\n\\n\\n\\n\\n\\n\\n\\n\\n\\n\\n\\n\\n\\n\\n\\n\\n\\n\\n\\n\\n\\n\\n\\n\\n\\n\\n\\n\\n\\n\\n0•LL\\n\\n9\\n\\n9\\n\\n96\\n\\n%Þ\\'LL\\n\\n寸·EL\\n\\n93\\n\\n冖\\n\\n67L\\n\\n\\n\\n%OZL\\n\\n%Z\\'LL\\n\\n96LZL\\n\\nff6\\n\\n%0•oL\\n\\nOf60ZL\\n\\n96 LL\\n\\n96S\\n\\n96•Cl\\n\\n9 7\\n\\n0/08£L\\n\\n%û\\'LL\\n\\n9 •\\n\\n\\n\\n\\n\\n9 ZL\\n\\nILI)\\n\\n-003d\\n\\n\\n\\n\\n\\n\\n\\n\\n\\n\\n\\n\\n\\n\\n\\n\\n\\n\\n\\n\\n\\n\\n\\n\\n\\n\\n\\n\\n\\n\\n\\n\\n\\n\\n\\n\\n\\n\\n\\n\\n\\n\\n\\n\\n\\n\\n\\n\\n\\n\\n\\n\\n\\n\\n\\ne-!PLII一\\n\\n\\n\\n\\n\\n\\n\\n96L•8\\n\\n96 OL\\n\\n\\n\\n\\n\\n6•丶\\n\\n966\\n\\n9$•6\\n\\n6寸I\\n\\n0/6S\\'Z\\n\\n…u\\n\\nYOS·6\\n\\n96 6\\n\\n9 •9\\n\\n2~\\n\\n96 6\\n\\n96 8\\n\\n0/06\\n\\n\\n\\n96 6 \\n\\n969\\'9\\n\\n%S•6\\n\\n966•\\n\\n966•寸\\n\\n0/06\\'LL\\n\\n960•EL\\n\\nue一-a8 )dOH\\n\\nVIONI\\n\\n\\n\\n\\n\\n\\n\\n\\n\\n\\n\\n\\n\\n\\n\\n\\n\\n\\n\\n\\n\\n\\n\\n\\n\\n\\n\\n\\n\\n\\n\\n\\n\\n\\n\\n\\n\\n\\n\\n\\n\\n\\n\\n\\n\\n\\n\\n\\n\\n\\n\\n\\n\\n\\n\\n\\n\\n\\n\\n\\n\\n8\\n\\n\\'卜\\n\\n96 8\\n\\n6\\n\\n969 L\\n\\n96r6\\n\\n966•LL\\n\\n68\\n\\n9•6\\n\\n0/0CVL\\n\\n\\n\\n2/14\\n\\n•6\\n\\n6•8\\n\\n9\\'9\\n\\n\\n\\n6\\n\\n96 8\\n\\n\\n\\n966·8\\n\\n96 OL\\n\\n6•9\\n\\nYOS\\'6\\n\\n9668\\n\\n96寸\\n\\n\\n\\n966\\'LL\\n\\n96S7L\\n\\n\\n\\npu一\\n\\n\\n\\n\\n\\n\\n\\n\\n\\n\\n\\n\\n\\n\\n\\n\\n\\n\\n\\n\\n\\n\\n\\n\\n\\n\\n\\n\\n\\n\\n\\n\\n\\n\\n\\n\\n\\n\\n\\n\\n\\n\\n\\n\\n\\n\\n\\n\\n\\n\\n\\n\\n\\n\\n\\n\\n\\n\\n\\n\\n\\n96\\n\\n96「\\n\\n9\\n\\n0/61\"LL\\n\\n0/0C0\\n\\nW67\\n\\n96a8\\n\\n66\\n\\n\\t9 \\' \\t\\t\\n\\n8•L\\n\\nP-/u\\n\\n8•6\\n\\n968 \\n\\n%C\\'L\\n\\ne/Ll\\n\\n•6\\n\\n8•8 \\n\\no、9\\n\\n966\\n\\nLL\\n\\n\\n\\n8♂\\n\\n8\\n\\n0•9\\n\\n966•LL\\n\\n\\n\\n\\n\\n怎8\\n\\n\\n\\n\\n\\n\\n\\n\\n\\n\\n\\n\\n\\n\\n\\n\\n\\n\\n\\n\\n\\n\\n\\n\\n\\n\\n\\n\\n\\n\\n\\n\\n\\n\\n\\n\\n\\n\\n\\n\\n\\n\\n\\n\\n\\n\\n\\n\\n\\n\\n\\n\\n\\n\\n\\n凹\\n\\n\\n\\n\\n\\n\\n\\n96 9\\n\\n966•OL\\n\\n\\n\\n%C9L\\n\\n6\\n\\n9\\n\\n%ECL\\n\\nE•0\\n\\n8\\'8\\n\\n6、8\\n\\nLL\\n\\n\\n\\nL\\'6\\n\\n「9\\n\\n8\\n\\n66L\\n\\n9$\\'丶\\n\\n•9\\n\\n%COL\\n\\n960\\n\\n\\n\\n9$\\n\\no」6\\n\\n96E9\\n\\n「9\\n\\n%LEOL\\n\\nYON\\n\\n\\n\\n\\n\\n\\n\\n\\n\\n\\n\\n\\n\\n\\n\\n\\n\\n\\n\\n\\n\\n\\n\\n\\n\\n\\n\\n\\n\\n\\n\\n\\n\\n\\n\\n\\n\\n\\n\\n\\n\\n\\n\\n\\n\\n\\n\\n\\n\\n\\n\\n\\n\\n\\n\\n\\n\\n1u2\\n\\n\\n\\n寸•OL\\n\\n8\\n\\n•9\\n\\n」9【\\n\\n66\\n\\n\\n\\n「0冖\\n\\n\\n\\nLZL\\n\\nEL\\n\\n%CYOL\\n\\nZL\\n\\n7L\\n\\n「6\\n\\n6\\n\\n6·0L\\n\\n6·OL\\n\\n96 9\\n\\no【\\n\\n8\\n\\n9\\n\\n6一OL\\n\\n96XOL\\n\\n、9\\n\\n59L\\n\\n70\\n\\naq\\n\\n5n8\\n\\n\\n\\n\\n\\n\\n\\n\\n\\n\\n\\n\\n\\n\\n\\n\\n\\n\\n\\n\\n\\n\\n\\n\\n\\n\\n\\n\\n\\n\\n\\n\\n\\n\\n\\n\\n\\n\\n\\n\\n\\n\\n\\n\\n\\n\\n\\n\\n\\n\\n\\n\\n\\n\\n\\n\\n\\n\\n\\n\\n\\n\\n\\n\\n\\n\\n\\nOL\\n\\n9L\\n\\n%E\\'9L\\n\\n9 \\'6\\n\\n\\n\\n969•\\n\\n96 OL\\n\\n丶•\\n\\n7\\n\\n0/650【\\n\\n0/6001\\n\\n9Z\\n\\n9\\n\\n6\\'0【\\n\\n96 8\\n\\n9\\n\\nOL\\n\\n\\n\\n\\n\\n0\\n\\no【\\n\\n96 9\\n\\n96 9【\\n\\n\\n\\n\\n\\n\\n\\n\\n\\n\\n\\n\\n\\n\\n\\n\\n\\n\\n\\n\\n\\n\\n\\n\\n\\n\\n\\n\\n\\n\\n\\n\\n\\n\\n\\n\\n\\n\\n\\n\\n\\n\\n\\n\\n\\n\\n\\n\\n\\n\\n\\n\\n\\n\\n\\n\\n\\n\\n\\n\\n\\n\\n\\n\\n\\n\\n\\n\\n\\n\\n\\n\\n\\n\\n\\n\\n\\n\\n\\n\\n\\n\\n\\n\\n\\n\\n\\n\\n\\n\\n\\n\\n\\n\\n\\n\\n\\n\\n\\n\\n\\n\\n\\n\\n\\n\\n\\n\\n\\n\\n\\n\\n\\n\\n\\n\\n\\n\\n\\n%SEL\\n\\n%SZL\\n\\n5\\'6\\n\\n9$•tL\\n\\n966•\\n\\n0/08\\'SL\\n\\n87【\\n\\n•CL\\n\\n9 \\'LL\\n\\n9 7\\n\\n6•9\\n\\n%ü0L\\n\\n96C•S【\\n\\n96\\n\\n9 7\\n\\n9 •9\\n\\nO/c9VL\\n\\n96S L\\n\\n6\\'83\\n\\n98-ÞL\\n\\n9 •tL\\n\\n\\n\\nS【\\n\\n「 L\\n\\n6\\'6\\n\\n\\n\\n6 \\n\\n966•8\\n\\n\\n\\n\\n\\n\\n\\n\\n\\n\\n\\n\\n\\n\\n\\n\\n\\n\\n\\n\\n\\n\\n\\n\\n\\n\\n\\n\\n\\n\\n\\n\\n\\n\\n\\n\\n\\n\\n\\n\\n\\n\\n\\n\\n\\n\\n\\n\\n\\n\\n\\n\\n\\n\\n\\nOôlooad\\n\\n1一7V88\\n\\n0- 一\\n\\n\\n\\n%üEL\\n\\n966•6\\n\\n\\n\\n969\\'\\n\\n969 【 \\n\\n67 96 9\\n\\n8L\\n\\n67Z\\n\\n6ZL\\n\\n0/68EL\\n\\n\\n\\n零0\\'9\\n\\n\\n\\n9699L\\n\\n9 【\\n\\n「L\\n\\n%S\\'SÉ\\n\\n0/6ffÞL\\n\\n968•\\n\\n9 【\\n\\n96 9\\n\\nS•寸L\\n\\n66\\n\\n96 SS\\n\\n0/09SZ\\n\\n\\n\\n28\\n\\n\\n\\n\\n\\n\\n\\n\\n\\n\\n\\n\\n\\n\\n\\n\\n\\n\\n\\n\\n\\n\\n\\n\\n\\n\\n\\n\\n\\n\\n\\n\\n\\n\\n\\n\\n\\n\\n\\n\\n\\n\\n\\n\\n\\n\\n\\n\\n\\n\\n\\n\\n\\n-!un\\n\\n0)ueq\\n\\n96 0【\\n\\n96 6\\n\\n6\\'6\\n\\n9•卜\\n\\n%üLt\\n\\nTOL\\n\\n67L\\n\\n•SL\\n\\nL\\'寸L\\n\\n61\\n\\n97\\n\\n\\n\\n07\\n\\nL\\n\\n9$•6\\n\\n\\n\\n%C£L\\n\\n9 L\\n\\n6\\'0【\\n\\n%CLt\\n\\n♂ L\\n\\n\\n\\n%O\\'LL\\n\\nEL\\n\\n%EZL\\n\\nYL\\n\\n\\n\\n969\\'6L\\n\\n\\n\\n\\n\\n\\n\\n\\n\\n\\n\\n\\n\\n\\n\\n\\n\\n\\n\\n\\n\\n\\n\\n\\n\\n\\n\\n\\n\\n\\n\\n\\n\\n\\n\\n\\n\\n\\n\\n\\n\\n\\n\\n\\n\\n\\n\\n\\n\\n\\n\\n\\n\\n\\n\\n乇eoJddvao\\n\\n\\n\\n冖ÁXOüd(n)\\n\\n(uonoqqI)Wdvyet-10!121-üêlUI\\n\\napqes)bNdV)IPUO!IPUIÐIUI\\n\\n一281\\n\\n\\tlêPOVN\\t>“PH 1-12 a\\n\\nd Pä1SêUKIleC101Ð\\n\\n冖pp.adsllnepa)冖-ON\\n\\n(KI!IIIPIOA 一一b」\\t(\\'ONu 0E20\\n\\n\\t\\t >一12P3E\\'ONu巴2POE20\\n\\n一9一巴 一•vNd\\\\i)一281PaSn()V\\n\\nI-peo.JddV I-MOH\\n\\neoxldv we 亖WS,8E0一es\\n\\nI-peoJddy\\n\\n(041ëJBd)LAJdVJpuqÁHpalsn()v\\n\\n(uoswqql)\\n\\n\\t\\t\\tㄗepue\\t一\\n\\nap!SüM0(I\\n\\nl.peoaddv\\n\\nesouIdsÄ-KëWOÐ\\n\\n1.131204ddyslpes-uetUPIOD\\n\\ndT\\n\\n\\n\\n一 LAI\\n\\nI-I!LAJ\\n\\nxeVN\\n\\n\\n\\n\\n\\n\\n\\n\\n\\n\\n\\n一\\n\\n3\\n\\n冖9一\\n\\n一巴\\n\\n(d)\\n\\n一26一\\n\\n冖q6一\\n\\n(36)\\n\\n6冖…\\n\\n;…\\n\\n(tL)\\n\\n冖一\\n\\n守冖一\\n\\n冖S一\\n\\n冖9冖一\\n\\n冖[L)\\n\\n(81)\\n\\n冖61)\\n\\n(00\\n\\n\\n\\n\\n\\n\\n\\n\\n\\n\\n\\n\\n\\n09\\n\\n一\\n\\n10 \\n\\n.09\\n\\n,\\n\\n2017\\n\\n09\\n\\n一\\n\\n10 \\n\\n.09\\n\\n,\\n\\n2017O\\n\\nsnatfJlO!/Li!paanS03W=3\\n\\nop u ~ H 3\\n\\n冖 O] 3辷 §O)Ⅱ\\n\\n\\n\\n\\t\\t\\t\\tSIUõPlJ4ðDIIO/SS3J6aU=g、\\t七a\\tW00丨\\n\\n\\t\\t\\t飞0/\\t冖Úsn)U\\'03èUDnLJLlD-!UtaS=\\n\\n8D9一 &\\n\\n(SLO •一2 LIAO工\\n\\n(toot)U!PÁewpue.laUUëZ\\n\\n一965Dp」 s\\n\\no 一9\\n\\n(£100uoqoqq一\\n\\n(toot)\\n\\n一LODZ) ~仝\\n\\n\\t冖966ㄈesouldsa℃\\tO)\\n\\n一666DS!6ÆHpue\\n\\n(osn\\n\\n\\t…666D\\tpueueeMsao\\n\\n(poaJdspuoqLDdIü0D丶•bra)\\n\\n\\n\\n\\n\\n\\n\\nW7DppaLlVOJ/\\'XOJd5DpaqddOIIDDPOWDGÅqpaqsqqnd\\n\\npoaadswlt)}appuoq\"10Ð=ð,8—\\n\\n\\n\\nX\\n\\n\\n\\n\\n\\n\\n\\n\\n\\n\\n\\n\\n\\n\\n\\n\\n\\n\\n\\n\\n\\n\\n\\n\\n\\n\\n\\n\\n\\n\\n\\n\\n\\nX\\n\\n\\n\\nX\\n\\n\\n\\n\\n\\nX\\n\\n\\n\\n\\n\\n\\n\\n\\n\\n\\n\\n\\n\\n\\n\\n\\n\\n\\n\\nG ,L)乂\\tx丶。 丶 +\\t+\\t(0-1PRd)lNdV)一巴\\t6冖一十\\t(ú!l!IelOAÁnunODBA!leta8)E•ON\\t冖36…\\n\\nSD\\n\\n\\t\\t\\t\\tdèID+d8D+\\t十 ,~\\t\\'JJOH 冖冖\\n\\ntpe0\\'ddvKat-ue8-1-B!l-us-UOœ101es …ZL…\\n\\n\\t\\t\\tdunx(\\tt-pewddv 1 (EL)\\n\\n\\t\\t(t 』一 ldìIJ\\'Vx\\t(oa!a-tad)\\tpalsn()Y 冖ÞL)\\n\\n\\t\\t\\t\\t\\t一 、 ~ x\\t乛+\\t(UOSIoqql)PPOIN\\t冖SL)\\n\\n\\n\\n\\t\\t\\t09dx一 Y一丶\\t+\\n\\n\\tO+冖 丶 0)H09\\'0]x\\t乛+ 、~\\n\\n\\t\\t+dè{O+ 。~ 一丶 、\\td-l)]x\\t乛\\n\\nP)VDI-U\\n\\n\" d8W tun/冖& ~ IU qO!9丨 d&jl\\'V\\n\\nunutaJd¥SJJ13WOUtlD07=121001dk_lW\\n\\n=dY)\\n\\n(\")lU-J3Jd¥SJ4KunbaPlJOM31/4J0\\n\\n\\n\\n\\n\\n\\n\\n\\n\\n\\n\\n\\n\\n\\n\\n\\n\\nLAJdnaP!S1-1MOCI 冖9冖一\\n\\n亠S) (LL)\\n\\n\\ttspeo]ddveso一=一d\\t09 冖81)\\n\\n一一eu一 一91--peœddystpesUëlUP109 冖6L)\\n\\n87Ⅱ\\n\\ntppmddv 6」 d「 (01)\\n\\naJr»aag-þ!]lD901Ð—\\n\\npuoqÁPDJ80JO{)P!ÆpaddtJ3S=\\n\\n\\tDu…~ £\\ta\\n\\nW w qo~62 0: q~一、 O*ag=\\n\\nÞWDlü\\'ST)ðWOJ»adsaa Dè8=\\n\\n€å10,\\'ÑSfi\\n\\n…~S!\\' 110… 3\\n\\n\\t\\t\\t~\\t…OA\\t冖\\tPOO/\\n\\n\\t\\t\\t\\t\\txapll!」\\t丶\\t~\\t冖“…O,、一Ⅱ\\n\\naaWDW/fatnbðSTi40ÁI!,WD!O/I\\n\\n、9£A冖\\n\\n…DD!J!lOdOuUëU-OSèhU!JOÁàIl!qUd3)SfiS=CK\\n\\n3 D冖 d Oi VⅡ\\n\\n\\n\\n\\n\\nX \\n\\nX \\n\\nX\\n\\nX \\n\\nX \\n\\nX\\n\\nX \\n\\nX\\n\\nX \\n\\nX()L 怎」2POE200ËOD)x dHJ\\'Vx\\n\\n\\t\\t(ELOt)uuepoueaD/\\'\\tx D+\\tx 十 ,丶 一 一一一艹2一0>“一一一nb3 一一2一 …TONu\\n\\n( LOC)uuepocueaD+ d 、\\t十\\t(peaJdSlInPJaa)l.\\'ON\\t冖26一 (ELCZ)uo»oqq一\\t+ clèÐ x\\tL\\'NdY)\\t2q0一9 冖一 (9661)\\'Itnaq]d\\tX\\t\\'a+(èIOD)u1x¶4D—\\tIBPOLAJ21u2 一>, ~PH,q (t) 冖 一 “一“仝/(S66L) > H\\n\\n\\t\\t冖90R一 0 占 2\\tX\\t一00凵 冖S)\\n\\n\\t\\t\\t\\t\\tW「x Y)十s\\t…一eqes一l/\"dYD一28一一\\t0\\t一\\n\\n一寸000leqes\\n\\n\\t冖ELOC)uoswqql\\t…uos40qqI)\\n\\n\\t\\t\\t\\t\\tX\\tX\\t(ÁXOJd(n)IAdY)\\t(O\\n\\n\\t\\t\\t\\n\\nðSt1 \\n\\nJO\\n\\nðSt1 \\n\\nJO\\n\\nK)ueaedsu\\n\\n丄\\n\\nK)ueaedsu\\n\\n丄\\n\\nSWðUlBla\\n\\nKJeuO!Iô.DS!O\\n\\nSWðUlBla\\n\\nKJeuO!Iô.DS!O00D9一a」£\\tX\\tX\\t\\'AdVDlet-IO!2121-lJëlUI\\n\\n\\t\\t\\t(=u]Y)\\tupeo.•ddv\\n\\n5 u a8\\n\\n\\t\\t\\t\\t\\t\\t\\t一 A… 黑go\\t、no一\\tpaseq\\t6L1!Pnpu!) q eo•ldde 一 十\\tAO\\tq\\n\\nCORPORATE FINANCE Nr. \\n\\nCORPORATE FINANCE Nr. \\n\\nCORPORATE FINANCE Nr. \\n\\n\\tCORPORATE FINANCE Nr. 09-10 25.09.2017\\tCORPORATE FINANCE \\n\\n\\tCORPORATE FINANCE Nr. 09-10 25,09.2017\\tCORPORATE FINANCE Nr.09-10 \\n\\n\\tCORPORATE FINANCE Nr. 09-10 25,09.2017\\tCORPORATE FINANCE Nr.09-10'"
      ]
     },
     "execution_count": 12,
     "metadata": {},
     "output_type": "execute_result"
    }
   ],
   "source": [
    "horn"
   ]
  },
  {
   "cell_type": "markdown",
   "metadata": {},
   "source": [
    "# Country Risk - Cost of Equity Measurement: \n",
    "## Methodologies and Implications\n",
    "\n",
    "Magnus P. Horn, Karlsruhe Institute ofTechnology (KIT), Dr. Daniel Hoang, Head of Research Group, Institute for Finance, Banking, and Insurance Ét Karlsruhe Institute ofTechnology (KIT), Heiko Emmel, DZ BANKAS Group Treasury, Sebastian Gatzer, Karlsruhe Institute of Technology (KIT), Jun.-Prof. Dr. Alexander Lahmann, Chair ofM&A in Small- and Midsized Entities at Handelshochschule\\n\\nLeipzig, Michael Schmidt, Deutsche Bank AG, Head of Group Valuations.\n",
    "Kontakt: autor@tf-fachportal.de"
   ]
  },
  {
   "cell_type": "markdown",
   "metadata": {},
   "source": [
    "Evaluating investments in international (and particularly in emerging) markets often leads to confusion and controversy among academics and practitioners. Various theories propose competing models, whereas practitioners build their own alternatives. Our study provides an assessment of the most widely used methods of assessing country risk and shows that practitioners should carefully choose their country risk model. Current models produce a wide range of cost of equity estimates that can considerably affect management decisions. "
   ]
  },
  {
   "cell_type": "markdown",
   "metadata": {},
   "source": [
    "# I. Introduction<sup>[1](#1)</sup> \n",
    "Firms lose billions of Euros in emerging markets. Many of these losses stem from regulatory violations, bribery, fraud, or damage to reputation, all of which are aspects of so-called „country risk\".<sup>[2](#2)</sup> This paper examines how to incorporate country risk into the cost of capital when determining the value of investments in international markets — particularly in emerging markets."
   ]
  },
  {
   "cell_type": "markdown",
   "metadata": {},
   "source": [
    "Although the Capital Asset Pricing Model (the <i>standard</i> CAPM) has become the undisputed approach of choice in finance and management textbooks for developed markets, many executives do not believe that it adequately estimates the cost of equity in the international context. In their seminal work, <b>Graham and Harvey (2001)</b><sup>[3](#3)</sup> show that approximately one-third of firms add „some extra risk factors\" to the CAPM when estimating their cost of equity capital. The most recent KPMG cost of capital study<sup>[4](#4)</sup> supports these results, revealing that approximately 40% of the surveyed firms add a country risk premium (CRP) to the standard CAPM formula. In practice, there is a wide range of models that firms apply to calculate discount rates for their international investment portfolios."
   ]
  },
  {
   "cell_type": "markdown",
   "metadata": {},
   "source": [
    "In recent years, numerous methodologies that consider country risk in the calculation of the cost of equity have emerged in the financial management literature<sup>[5](#5)</sup>. Because the application of  these methods is wide-ranging (e.g., in mergers and acquisitions, for impairment testing, or for performance measurement), the inappropriate choice of a particular country risk model may lead to unintended (and possibly severe) investment distortions. This paper aims to mitigate these possible distortions: we assess he most widelyused methods, discuss their impact on cost of equity estimates and provide actionable recommendations for the reader, These recommendations are based on five valuation objectives that are commonly important for various groups of investors, regulators, academics and valuation analysts: (1) theoretical foundations, (2) the degree of discretionary elements, (3) transparency, (4) data availability, and (5) ease of use."
   ]
  },
  {
   "cell_type": "markdown",
   "metadata": {},
   "source": [
    "We also provide a case study that compares the cost of equity estimates of 20 well-known country risk models for reference companies in typical emerging markets (i.e., the BRIC countries  — Brazil, Russia, India and China). Our analysis reveals huge spreads between the models' results of up to 25.6 percentage points per company and 15.4 percentage points on average."
   ]
  },
  {
   "cell_type": "markdown",
   "metadata": {},
   "source": [
    "## II. Why do Many Financial Executives Adjust the Standard CAPM for International Cost of Equity Estimates?\n",
    "\n",
    "When calculating the cost of eqity for foreign investments, many financial executives and investors believe that a company's cost of equity as calculated by (variants of) the standard CAPM is too low, particularly for countries with a high perceived country risk. To demonstrate this, take the International CAPM, a variant of the standard CAPM, as an example. In its simplest form, the International CAPM uses the CAPM framework with global parameters, i.e., with a global risk-free rate, a global market risk premium and a beta measured against the global market.<sup>[6](#6)</sup> By applying this model, the investor assumes that any non-diversifiable risk is appropriately captured in the stock's beta factor as measured against a global index (e.g., MSCI World)."
   ]
  },
  {
   "cell_type": "markdown",
   "metadata": {},
   "source": [
    "One key reason that practitioners are frequently reluctant to apply the International CAPM when valuing firms from emerging markets is that the International CAPM often results in a lower cost of equity estimate than that expected by the analyst. The (perceived) inappropriately low cost of equity estimates result from many investors\\' limited ability to sufficiently diversify away the idiosyncratic risk associated with investments in emerging markets. This potential imperfect diversification of systematic risk may lead investors to demand higher returns than those estimated by the International CAPM. The reasons for such limits to diversification include, inter alia, market barriers and segmented markets. Market barriers, such as discriminatory taxation and/or national legal/institutional frameworks, can result in partial segmentation and limit global diversification.<sup>[7](#7)</sup> Additionally, calculating the International CAPM-beta in segmented markets<sup>[8](#8)</sup> can be further complicated by the low correlation between local and international markets, which can significantly reduce the beta.<sup>[9](#9)</sup> However, even if global markets are integrated — and risk could thus be diversified globally — the average investor may be „home biased\", which can result in overexposure to familiar markets and severely limit global diversification.<sup>[10](#10)</sup>"
   ]
  },
  {
   "cell_type": "markdown",
   "metadata": {},
   "source": [
    "To underscore our argument, we compute the cost of equity with the International CAPM for companies located in countries with various risk profiles.<sup>[11](#11)</sup> The results are depicted in [Figure I](#Figure1)."
   ]
  },
  {
   "cell_type": "code",
   "execution_count": 401,
   "metadata": {},
   "outputs": [
    {
     "data": {
      "text/html": [
       "<iframe style=\"border:0;outline:none;overflow:hidden\" srcdoc=\"&lt;!DOCTYPE html&gt; &lt;html lang=&quot;en&quot;&gt; &lt;head&gt; &lt;meta charset=&quot;utf-8&quot; /&gt; &lt;link href=&quot;https://www.highcharts.com/highslide/highslide.css&quot; rel=&quot;stylesheet&quot; /&gt; &lt;script type=&quot;text/javascript&quot; src=&quot;https://ajax.googleapis.com/ajax/libs/jquery/1.9.1/jquery.min.js&quot;&gt;&lt;/script&gt; &lt;script type=&quot;text/javascript&quot; src=&quot;https://code.highcharts.com/highcharts.js&quot;&gt;&lt;/script&gt; &lt;script type=&quot;text/javascript&quot; src=&quot;https://code.highcharts.com/highcharts-more.js&quot;&gt;&lt;/script&gt; &lt;script type=&quot;text/javascript&quot; src=&quot;https://code.highcharts.com/modules/heatmap.js&quot;&gt;&lt;/script&gt; &lt;script type=&quot;text/javascript&quot; src=&quot;https://code.highcharts.com/modules/exporting.js&quot;&gt;&lt;/script&gt; &lt;/head&gt; &lt;body style=&quot;margin:0;padding:0&quot;&gt; &lt;div id=&quot;container&quot; style=&quot;width:750px;height:300px;&quot;&gt;Loading....&lt;/div&gt; &lt;script&gt; $(function(){ Highcharts.setOptions({&quot;lang&quot;: {}, &quot;global&quot;: {}}); var option = {&quot;drilldown&quot;: {}, &quot;series&quot;: {}, &quot;legend&quot;: {}, &quot;pane&quot;: {}, &quot;title&quot;: {&quot;text&quot;: &quot;Figure 1: Cost of Equity as of June 30, 2016 (risk-free rate: 3.5%, MRP: 5%)&quot;}, &quot;labels&quot;: {}, &quot;navigation&quot;: {}, &quot;chart&quot;: {&quot;renderTo&quot;: &quot;container&quot;, &quot;width&quot;: 750, &quot;height&quot;: 300}, &quot;xAxis&quot;: {&quot;categories&quot;: [&quot;Sberbank&lt;br&gt;&lt;strong&gt;Russia&lt;/strong&gt;&quot;, &quot;Ita\\u00fa &lt;a id=\\&quot;Figure1\\&quot;&lt;/a&gt; Unibanco Holding&lt;br&gt;&lt;strong&gt;Brazil&lt;/strong&gt;&quot;, &quot;Grupo Financiero Galicia&lt;br&gt;&lt;strong&gt;Argentina&lt;/strong&gt;&quot;, &quot;Bank of Ireland&lt;br&gt;&lt;strong&gt;Ireland&lt;/strong&gt;&quot;, &quot;J.P. Morgan&lt;br&gt;&lt;strong&gt;U.S.&lt;/strong&gt;&quot;], &quot;title&quot;: {&quot;text&quot;: null}}, &quot;credits&quot;: {&quot;enabled&quot;: true}, &quot;colors&quot;: {}, &quot;subtitle&quot;: {&quot;text&quot;: &quot;Source: &lt;a id=\\&quot;Figure1\\&quot; href=\\&quot;https://en.wikipedia.org/wiki/World_population\\&quot;&gt;Wikipedia.org&lt;/a&gt;&quot;}, &quot;tooltip&quot;: {&quot;valueSuffix&quot;: &quot; %&quot;}, &quot;plotOptions&quot;: {&quot;bar&quot;: {&quot;dataLabels&quot;: {&quot;enabled&quot;: false}}}, &quot;loading&quot;: {}, &quot;exporting&quot;: {}, &quot;yAxis&quot;: {&quot;labels&quot;: {&quot;overflow&quot;: &quot;justify&quot;}, &quot;max&quot;: 15, &quot;min&quot;: 0, &quot;title&quot;: {&quot;text&quot;: &quot;CoE (%)&quot;}}}; var chart = new Highcharts.Chart(option); var data = [{&quot;name&quot;: &quot;Year 2016&quot;, &quot;type&quot;: &quot;bar&quot;, &quot;data&quot;: [9.98, 9.55, 9.26, 8.73, {&quot;y&quot;: 9.1, &quot;color&quot;: &quot;#00FF00&quot;}]}, {&quot;marker&quot;: {&quot;enabled&quot;: false}, &quot;type&quot;: &quot;spline&quot;, &quot;dashStyle&quot;: &quot;shortdot&quot;, &quot;name&quot;: &quot;J.P. Morgan Benchmark&quot;, &quot;data&quot;: [9.1, 9.1, 9.1, 9.1, 9.1]}]; var dataLen = data.length; for (var ix = 0; ix &lt; dataLen; ix++) { chart.addSeries(data[ix]); } }); &lt;/script&gt; &lt;/body&gt; &lt;/html&gt;\" height=300 width=750></iframe>"
      ],
      "text/plain": [
       "<highcharts.highcharts.highcharts.Highchart at 0x1953dcf3b70>"
      ]
     },
     "execution_count": 401,
     "metadata": {},
     "output_type": "execute_result"
    }
   ],
   "source": [
    "from highcharts import Highchart\n",
    "H = Highchart(width=750, height=300)\n",
    "\n",
    "data1 = [9.98, 9.55, 9.26, 8.73, {'y': 9.1, 'color':\"#00FF00\"}]\n",
    "#data2 = [133, 156, 947, 408, 6]\n",
    "#data3 = [973, 914, 4054, 732, 34]\n",
    "#data4 = [1052, 954, 4250, 740, 38]\n",
    "\n",
    "options = {\n",
    "\t'title': {\n",
    "        'text': 'Figure 1: Cost of Equity as of June 30, 2016 (risk-free rate: 3.5%, MRP: 5%)'\n",
    "    },\n",
    "    'subtitle': {\n",
    "        'text': 'Source: <a id=\"Figure1\" href=\"https://en.wikipedia.org/wiki/World_population\">Wikipedia.org</a>'\n",
    "    },\n",
    "    'xAxis': {\n",
    "        'categories': ['Sberbank<br><strong>Russia</strong>','Itaú <a id=\"Figure1\"</a> Unibanco Holding<br><strong>Brazil</strong>','Grupo Financiero Galicia<br><strong>Argentina</strong>','Bank of Ireland<br><strong>Ireland</strong>','J.P. Morgan<br><strong>U.S.</strong>'],\n",
    "        'title': {\n",
    "            'text': None\n",
    "        }\n",
    "    },\n",
    "    'yAxis': {\n",
    "        'min': 0,\n",
    "        'max':15,\n",
    "        'title': {\n",
    "            'text': 'CoE (%)',\n",
    "            #'align': 'center'\n",
    "        },\n",
    "        'labels': {\n",
    "            'overflow': 'justify'\n",
    "        }\n",
    "    },\n",
    "    'tooltip': {\n",
    "        'valueSuffix': ' %'\n",
    "    },\n",
    "    #'legend': {\n",
    "     #   'layout': 'vertical',\n",
    "      #  'align': 'right',\n",
    "      #  'verticalAlign': 'top',\n",
    "      #  'x': -40,\n",
    "      #  'y': 5,\n",
    "      #  'floating': True,\n",
    "      #  'borderWidth': 1,\n",
    "      #  'backgroundColor': \"((Highcharts.theme && Highcharts.theme.legendBackgroundColor) || '#FFFFFF')\",\n",
    "      #  'shadow': True\n",
    "    #},\n",
    "    'credits': {\n",
    "        'enabled': True\n",
    "    },\n",
    "    'plotOptions': {\n",
    "        'bar': {\n",
    "            'dataLabels': {\n",
    "                'enabled': False\n",
    "            }\n",
    "        }\n",
    "    }\n",
    "}\n",
    "\n",
    "H.set_dict_options(options)\n",
    "\n",
    "H.add_data_set(data1, 'bar', 'Year 2016')\n",
    "#H.add_data_set(data2, 'bar', 'Year 1900')\n",
    "#H.add_data_set(data3, 'bar', 'Year 2008')\n",
    "#H.add_data_set(data4, 'bar', 'Year 2012')\n",
    "lined = [9.1,9.1,9.1,9.1,9.1]\n",
    "H.add_data_set(lined, 'spline', 'J.P. Morgan Benchmark', marker={'enabled': False}, dashStyle='shortdot')\n",
    "#tooltip={'enabled':False},\n",
    "H"
   ]
  },
  {
   "cell_type": "code",
   "execution_count": 224,
   "metadata": {},
   "outputs": [
    {
     "ename": "TypeError",
     "evalue": "unhashable type: 'list'",
     "output_type": "error",
     "traceback": [
      "\u001b[1;31m---------------------------------------------------------------------------\u001b[0m",
      "\u001b[1;31mTypeError\u001b[0m                                 Traceback (most recent call last)",
      "\u001b[1;32m<ipython-input-224-07c46c3ed60d>\u001b[0m in \u001b[0;36m<module>\u001b[1;34m()\u001b[0m\n\u001b[0;32m     10\u001b[0m       \u001b[1;34m'enabled'\u001b[0m\u001b[1;33m:\u001b[0m \u001b[1;32mFalse\u001b[0m\u001b[1;33m\u001b[0m\u001b[0m\n\u001b[0;32m     11\u001b[0m     },\n\u001b[1;32m---> 12\u001b[1;33m     \u001b[1;34m'dashStyle'\u001b[0m\u001b[1;33m:\u001b[0m \u001b[1;34m'shortdot'\u001b[0m\u001b[1;33m\u001b[0m\u001b[0m\n\u001b[0m\u001b[0;32m     13\u001b[0m   }]\n\u001b[0;32m     14\u001b[0m \u001b[1;31m#data2 = [133, 156, 947, 408, 6]\u001b[0m\u001b[1;33m\u001b[0m\u001b[1;33m\u001b[0m\u001b[0m\n",
      "\u001b[1;31mTypeError\u001b[0m: unhashable type: 'list'"
     ]
    }
   ],
   "source": [
    "from highcharts import Highchart\n",
    "H = Highchart(width=950, height=300)\n",
    "\n",
    "data1 = [{9.98, 9.55, 9.26, 8.73, 9.10}, {\n",
    "    'name': 'Sea-Level Pressure',\n",
    "    'type': 'spline',\n",
    "    'yAxis': 2,\n",
    "    data: [9.1, 9.1, 9.1, 9.1, 9.1],\n",
    "    'marker': {\n",
    "      'enabled': False\n",
    "    },\n",
    "    'dashStyle': 'shortdot'\n",
    "  }]\n",
    "#data2 = [133, 156, 947, 408, 6]\n",
    "#data3 = [973, 914, 4054, 732, 34]\n",
    "#data4 = [1052, 954, 4250, 740, 38]\n",
    "\n",
    "options = {\n",
    "\t'title': {\n",
    "        'text': 'Figure 1: Cost of Equity as of June 30, 2016 (risk-free rate: 3.5%, MRP: 5%)'\n",
    "    },\n",
    "    'subtitle': {\n",
    "        'text': 'Source: <a id=\"Figure1\" href=\"https://en.wikipedia.org/wiki/World_population\">Wikipedia.org</a>'\n",
    "    },\n",
    "    'xAxis': {\n",
    "        'categories': ['Sberbank<br><strong>Russia</strong>','Itaú <a id=\"Figure1\"</a> Unibanco Holding<br><strong>Brazil</strong>','Grupo Financiero Galicia<br><strong>Argentina</strong>','Bank of Ireland<br><strong>Ireland</strong>','J.P. Morgan<br><strong>U.S.</strong>'],\n",
    "        'title': {\n",
    "            'text': None\n",
    "        }\n",
    "    },\n",
    "    'yAxis': [{\n",
    "        'min': 0,\n",
    "        'max':15,\n",
    "        'title': {\n",
    "            'text': 'CoE (%)',\n",
    "            #'align': 'center'\n",
    "        },\n",
    "        'labels': {\n",
    "            'overflow': 'justify'\n",
    "        }\n",
    "    }, { # Tertiary yAxis\n",
    "    #gridLineWidth: 0,\n",
    "    'title': {\n",
    "      'text': 'Sea-Level Pressure',\n",
    "      'style': {\n",
    "        'color': \"Highcharts.getOptions().colors[1]\"\n",
    "      }\n",
    "    },\n",
    "    'labels': {\n",
    "      'format': '{value} mb',\n",
    "      'style': {\n",
    "        'color': \"Highcharts.getOptions().colors[1]\"\n",
    "      }\n",
    "    },\n",
    "    'opposite': True\n",
    "  }],\n",
    "    'tooltip': {\n",
    "        'valueSuffix': ' %'\n",
    "    },\n",
    "    #'legend': {\n",
    "     #   'layout': 'vertical',\n",
    "      #  'align': 'right',\n",
    "      #  'verticalAlign': 'top',\n",
    "      #  'x': -40,\n",
    "      #  'y': 5,\n",
    "      #  'floating': True,\n",
    "      #  'borderWidth': 1,\n",
    "      #  'backgroundColor': \"((Highcharts.theme && Highcharts.theme.legendBackgroundColor) || '#FFFFFF')\",\n",
    "      #  'shadow': True\n",
    "    #},\n",
    "    'credits': {\n",
    "        'enabled': True\n",
    "    },\n",
    "    'plotOptions': {\n",
    "        'bar': {\n",
    "            'dataLabels': {\n",
    "                'enabled': False\n",
    "            }\n",
    "        }\n",
    "    }\n",
    "}\n",
    "\n",
    "H.set_dict_options(options)\n",
    "\n",
    "H.add_data_set(data1, 'bar', 'Year 2016')\n",
    "#H.add_data_set(data2, 'bar', 'Year 1900')\n",
    "#H.add_data_set(data3, 'bar', 'Year 2008')\n",
    "#H.add_data_set(data4, 'bar', 'Year 2012')\n",
    "\n",
    "H"
   ]
  },
  {
   "cell_type": "markdown",
   "metadata": {},
   "source": [
    "<a id=\"Figure1\" </a>"
   ]
  },
  {
   "cell_type": "code",
   "execution_count": 191,
   "metadata": {},
   "outputs": [
    {
     "data": {
      "text/html": [
       "<iframe style=\"border:0;outline:none;overflow:hidden\" srcdoc=\"&lt;!DOCTYPE html&gt; &lt;html lang=&quot;en&quot;&gt; &lt;head&gt; &lt;meta charset=&quot;utf-8&quot; /&gt; &lt;link href=&quot;https://www.highcharts.com/highslide/highslide.css&quot; rel=&quot;stylesheet&quot; /&gt; &lt;script type=&quot;text/javascript&quot; src=&quot;https://ajax.googleapis.com/ajax/libs/jquery/1.9.1/jquery.min.js&quot;&gt;&lt;/script&gt; &lt;script type=&quot;text/javascript&quot; src=&quot;https://code.highcharts.com/highcharts.js&quot;&gt;&lt;/script&gt; &lt;script type=&quot;text/javascript&quot; src=&quot;https://code.highcharts.com/highcharts-more.js&quot;&gt;&lt;/script&gt; &lt;script type=&quot;text/javascript&quot; src=&quot;https://code.highcharts.com/modules/heatmap.js&quot;&gt;&lt;/script&gt; &lt;script type=&quot;text/javascript&quot; src=&quot;https://code.highcharts.com/modules/exporting.js&quot;&gt;&lt;/script&gt; &lt;script type=&quot;text/javascript&quot; src=&quot;http://code.highcharts.com/modules/drilldown.js&quot;&gt;&lt;/script&gt; &lt;/head&gt; &lt;body style=&quot;margin:0;padding:0&quot;&gt; &lt;div id=&quot;container&quot; style=&quot;width:850px;height:400px;&quot;&gt;Loading....&lt;/div&gt; &lt;script&gt; $(function(){ Highcharts.setOptions({&quot;lang&quot;: {}, &quot;global&quot;: {}}); var option = {&quot;drilldown&quot;: {}, &quot;series&quot;: {}, &quot;legend&quot;: {&quot;enabled&quot;: false}, &quot;pane&quot;: {}, &quot;title&quot;: {&quot;text&quot;: &quot;Browser market shares. January, 2015 to May, 2015&quot;}, &quot;labels&quot;: {}, &quot;navigation&quot;: {}, &quot;chart&quot;: {&quot;renderTo&quot;: &quot;container&quot;, &quot;type&quot;: &quot;column&quot;, &quot;width&quot;: 850, &quot;height&quot;: 400}, &quot;xAxis&quot;: {&quot;type&quot;: &quot;category&quot;}, &quot;credits&quot;: {&quot;enabled&quot;: false}, &quot;colors&quot;: {}, &quot;subtitle&quot;: {&quot;text&quot;: &quot;Click the columns to view versions. Source: &lt;a href=\\&quot;http://netmarketshare.com\\&quot;&gt;netmarketshare.com&lt;/a&gt;.&quot;}, &quot;tooltip&quot;: {&quot;pointFormat&quot;: &quot;&lt;span style=\\&quot;color:{point.color}\\&quot;&gt;{point.name}&lt;/span&gt;: &lt;b&gt;{point.y:.2f}%&lt;/b&gt; of total&lt;br/&gt;&quot;, &quot;headerFormat&quot;: &quot;&lt;span style=\\&quot;font-size:11px\\&quot;&gt;{series.name}&lt;/span&gt;&lt;br&gt;&quot;}, &quot;plotOptions&quot;: {&quot;series&quot;: {&quot;dataLabels&quot;: {&quot;format&quot;: &quot;{point.y:.1f}%&quot;, &quot;enabled&quot;: true}, &quot;borderWidth&quot;: 0}}, &quot;loading&quot;: {}, &quot;exporting&quot;: {}, &quot;yAxis&quot;: {&quot;title&quot;: {&quot;text&quot;: &quot;Total percent market share&quot;}}}; var drilldowndata = [{&quot;type&quot;: &quot;column&quot;, &quot;id&quot;: &quot;Microsoft Internet Explorer&quot;, &quot;name&quot;: &quot;Microsoft Internet Explorer&quot;, &quot;data&quot;: [[&quot;v11.0&quot;, 24.13], [&quot;v8.0&quot;, 17.2], [&quot;v9.0&quot;, 8.11], [&quot;v10.0&quot;, 5.33], [&quot;v6.0&quot;, 1.06], [&quot;v7.0&quot;, 0.5]]}, {&quot;type&quot;: &quot;column&quot;, &quot;id&quot;: &quot;Chrome&quot;, &quot;name&quot;: &quot;Chrome&quot;, &quot;data&quot;: [[&quot;v40.0&quot;, 5], [&quot;v41.0&quot;, 4.32], [&quot;v42.0&quot;, 3.68], [&quot;v39.0&quot;, 2.96], [&quot;v36.0&quot;, 2.53], [&quot;v43.0&quot;, 1.45], [&quot;v31.0&quot;, 1.24], [&quot;v35.0&quot;, 0.85], [&quot;v38.0&quot;, 0.6], [&quot;v32.0&quot;, 0.55], [&quot;v37.0&quot;, 0.38], [&quot;v33.0&quot;, 0.19], [&quot;v34.0&quot;, 0.14], [&quot;v30.0&quot;, 0.14]]}, {&quot;type&quot;: &quot;column&quot;, &quot;id&quot;: &quot;Firefox&quot;, &quot;name&quot;: &quot;Firefox&quot;, &quot;data&quot;: [[&quot;v35&quot;, 2.76], [&quot;v36&quot;, 2.32], [&quot;v37&quot;, 2.31], [&quot;v34&quot;, 1.27], [&quot;v38&quot;, 1.02], [&quot;v31&quot;, 0.33], [&quot;v33&quot;, 0.22], [&quot;v32&quot;, 0.15]]}, {&quot;type&quot;: &quot;column&quot;, &quot;id&quot;: &quot;Safari&quot;, &quot;name&quot;: &quot;Safari&quot;, &quot;data&quot;: [[&quot;v8.0&quot;, 2.56], [&quot;v7.1&quot;, 0.77], [&quot;v5.1&quot;, 0.42], [&quot;v5.0&quot;, 0.3], [&quot;v6.1&quot;, 0.29], [&quot;v7.0&quot;, 0.26], [&quot;v6.2&quot;, 0.17]]}, {&quot;type&quot;: &quot;column&quot;, &quot;id&quot;: &quot;Opera&quot;, &quot;name&quot;: &quot;Opera&quot;, &quot;data&quot;: [[&quot;v12.x&quot;, 0.34], [&quot;v28&quot;, 0.24], [&quot;v27&quot;, 0.17], [&quot;v29&quot;, 0.16]]}]; option.drilldown.series = drilldowndata; var chart = new Highcharts.Chart(option); var data = [{&quot;name&quot;: &quot;Brands&quot;, &quot;type&quot;: &quot;column&quot;, &quot;colorByPoint&quot;: true, &quot;data&quot;: [{&quot;y&quot;: 56.33, &quot;name&quot;: &quot;Microsoft Internet Explorer&quot;, &quot;drilldown&quot;: &quot;Microsoft Internet Explorer&quot;}, {&quot;y&quot;: 24.030000000000005, &quot;name&quot;: &quot;Chrome&quot;, &quot;drilldown&quot;: &quot;Chrome&quot;}, {&quot;y&quot;: 10.38, &quot;name&quot;: &quot;Firefox&quot;, &quot;drilldown&quot;: &quot;Firefox&quot;}, {&quot;y&quot;: 4.77, &quot;name&quot;: &quot;Safari&quot;, &quot;drilldown&quot;: &quot;Safari&quot;}, {&quot;y&quot;: 0.9100000000000001, &quot;name&quot;: &quot;Opera&quot;, &quot;drilldown&quot;: &quot;Opera&quot;}, {&quot;y&quot;: 0.2, &quot;name&quot;: &quot;Proprietary or Undetectable&quot;, &quot;drilldown&quot;: null}]}]; var dataLen = data.length; for (var ix = 0; ix &lt; dataLen; ix++) { chart.addSeries(data[ix]); } }); &lt;/script&gt; &lt;/body&gt; &lt;/html&gt;\" height=400 width=850></iframe>"
      ],
      "text/plain": [
       "<highcharts.highcharts.highcharts.Highchart at 0x1953db6c470>"
      ]
     },
     "execution_count": 191,
     "metadata": {},
     "output_type": "execute_result"
    }
   ],
   "source": [
    "H = Highchart(width=850, height=400)\n",
    "\n",
    "\"\"\"\n",
    "Drilldown chart can be created using add_drilldown_data_set method: \n",
    "\n",
    "add_drilldown_data_set(data, series_type, id, **kwargs):\n",
    "id is the drilldown parameter in upperlevel dataset (Ex. drilldown parameters in data)\n",
    "drilldown dataset is constructed similar to dataset for other charts\n",
    "\"\"\"\n",
    "\n",
    "data = [{\n",
    "            'name': \"Microsoft Internet Explorer\",\n",
    "            'y': 56.33,\n",
    "            'drilldown': \"Microsoft Internet Explorer\"\n",
    "        }, {\n",
    "            'name': \"Chrome\",\n",
    "            'y': 24.030000000000005,\n",
    "            'drilldown': \"Chrome\"\n",
    "        }, {\n",
    "            'name': \"Firefox\",\n",
    "            'y': 10.38,\n",
    "            'drilldown': \"Firefox\"\n",
    "        }, {\n",
    "            'name': \"Safari\",\n",
    "            'y': 4.77,\n",
    "            'drilldown': \"Safari\"\n",
    "        }, {\n",
    "            'name': \"Opera\",\n",
    "            'y': 0.9100000000000001,\n",
    "            'drilldown': \"Opera\"\n",
    "        }, {\n",
    "            'name': \"Proprietary or Undetectable\",\n",
    "            'y': 0.2,\n",
    "            'drilldown': None\n",
    "        }]\n",
    "\n",
    "data_1 = [\n",
    "    [\"v11.0\", 24.13],\n",
    "    [\"v8.0\", 17.2],\n",
    "    [\"v9.0\", 8.11],\n",
    "    [\"v10.0\", 5.33],\n",
    "    [\"v6.0\", 1.06],\n",
    "    [\"v7.0\", 0.5]\n",
    "]\n",
    "\n",
    "data_2 = [\n",
    "    [\"v40.0\", 5],\n",
    "    [\"v41.0\", 4.32],\n",
    "    [\"v42.0\", 3.68],\n",
    "    [\"v39.0\", 2.96],\n",
    "    [\"v36.0\", 2.53],\n",
    "    [\"v43.0\", 1.45],\n",
    "    [\"v31.0\", 1.24],\n",
    "    [\"v35.0\", 0.85],\n",
    "    [\"v38.0\", 0.6],\n",
    "    [\"v32.0\", 0.55],\n",
    "    [\"v37.0\", 0.38],\n",
    "    [\"v33.0\", 0.19],\n",
    "    [\"v34.0\", 0.14],\n",
    "    [\"v30.0\", 0.14]      \n",
    "]\n",
    "\n",
    "data_3 = [\n",
    "    [\"v35\", 2.76],\n",
    "    [\"v36\", 2.32],\n",
    "    [\"v37\", 2.31],\n",
    "    [\"v34\", 1.27],\n",
    "    [\"v38\", 1.02],\n",
    "    [\"v31\", 0.33],\n",
    "    [\"v33\", 0.22],\n",
    "    [\"v32\", 0.15]\n",
    "]\n",
    "\n",
    "data_4 = [\n",
    "    [\"v8.0\", 2.56],\n",
    "    [\"v7.1\", 0.77],\n",
    "    [\"v5.1\", 0.42],\n",
    "    [\"v5.0\", 0.3],\n",
    "    [\"v6.1\", 0.29],\n",
    "    [\"v7.0\", 0.26],\n",
    "    [\"v6.2\", 0.17]\n",
    "]\n",
    "\n",
    "data_5 = [\n",
    "    [\"v12.x\", 0.34],\n",
    "    [\"v28\", 0.24],\n",
    "    [\"v27\", 0.17],\n",
    "    [\"v29\", 0.16]\n",
    "]\n",
    "\n",
    "options = {\n",
    "    'chart': {\n",
    "        'type': 'column'\n",
    "    },\n",
    "    'title': {\n",
    "        'text': 'Browser market shares. January, 2015 to May, 2015'\n",
    "    },\n",
    "    'subtitle': {\n",
    "        'text': 'Click the columns to view versions. Source: <a href=\"http://netmarketshare.com\">netmarketshare.com</a>.'\n",
    "    },\n",
    "    'xAxis': {\n",
    "        'type': 'category'\n",
    "    },\n",
    "    'yAxis': {\n",
    "        'title': {\n",
    "            'text': 'Total percent market share'\n",
    "        }\n",
    "\n",
    "    },\n",
    "    'legend': {\n",
    "        'enabled': False\n",
    "    },\n",
    "    'plotOptions': {\n",
    "        'series': {\n",
    "            'borderWidth': 0,\n",
    "            'dataLabels': {\n",
    "                'enabled': True,\n",
    "                'format': '{point.y:.1f}%'\n",
    "            }\n",
    "        }\n",
    "    },\n",
    "\n",
    "    'tooltip': {\n",
    "        'headerFormat': '<span style=\"font-size:11px\">{series.name}</span><br>',\n",
    "        'pointFormat': '<span style=\"color:{point.color}\">{point.name}</span>: <b>{point.y:.2f}%</b> of total<br/>'\n",
    "    }, \n",
    "    \n",
    "}\n",
    "   \n",
    "H.set_dict_options(options)\n",
    "\n",
    "H.add_data_set(data, 'column', \"Brands\", colorByPoint= True)\n",
    "H.add_drilldown_data_set(data_1, 'column', 'Microsoft Internet Explorer', name='Microsoft Internet Explorer' )\n",
    "H.add_drilldown_data_set(data_2, 'column', 'Chrome', name='Chrome')\n",
    "H.add_drilldown_data_set(data_3, 'column', 'Firefox', name='Firefox')\n",
    "H.add_drilldown_data_set(data_4, 'column', 'Safari', name='Safari')\n",
    "H.add_drilldown_data_set(data_5, 'column', 'Opera', name='Opera')\n",
    "\n",
    "H"
   ]
  },
  {
   "cell_type": "markdown",
   "metadata": {},
   "source": [
    "The costs of equity based on the International CAPM as of June 30, 2016, range from 8.73% (for the Bank of Ireland) to 9.98% (for Sberbank).<sup>[12](#12)</sup> The U.S. bank J.P. Morgan, which might be considered less affected by country risk than its peers in this example, has an estimated cost of equity of 9.1%. The cost of equity estimates for the reference banks from Brazil and Russia, however, are relatively on par with those ofJ.P. Morgan's."
   ]
  },
  {
   "cell_type": "markdown",
   "metadata": {},
   "source": [
    "Some analysts may find these results counterintuitive and may feel that the relatively small difference of 45-88 basis points in the cost of equity estimate of the reference banks from Brazil and Russia relative to J.P. Morgan does not compensate for the country risk to which an investor is exposed."
   ]
  },
  {
   "cell_type": "markdown",
   "metadata": {},
   "source": [
    "In fact, although these (perceived) shortcomings ofthe International CAPM are well known, no approach to including country risk in business valuations has been successfully established as the standard pricing model across the investor spectrum. To the best of our knowledge, no method is wide y accepted by all market participants, resulting in many different approaches suggested by both academics and practitioners. We present these methods in the following section."
   ]
  },
  {
   "cell_type": "markdown",
   "metadata": {},
   "source": [
    "## III. Cost of Equity Models and Country Risk \n",
    "\n",
    "Academics and practitioners frequently apply a variety of CAPM approaches that „correct\" tor country risk. [Figure 2]('Figure2) provides an overview of the main approaches that include country risk in the cost of equity estimation.<sup>[13](#13)</sup>"
   ]
  },
  {
   "cell_type": "markdown",
   "metadata": {},
   "source": [
    "We classify the various approaches into three main groups: <i>conceptual models, empirical models</i> and <i>heuristic models</i>. The models in the first two groups have been widely approved by academics and generally have a strong foundation in economic theory. However, these models have been perceived as either limited or unfeasible for application in a daily business setting, at least by some practitioners. Therefore, valuation analysts have also developed alternative models. These models are more or less „loosely\" based on the CAPM framework and include adjustments for specific country-related risks, for example, by including a CRP or by adjusting the exposure (beta) to systematic risk. "
   ]
  },
  {
   "cell_type": "markdown",
   "metadata": {},
   "source": [
    "Most ofthese models involve deviations from and adjustments to the <i>standard</i> CAPM."
   ]
  },
  {
   "cell_type": "markdown",
   "metadata": {},
   "source": [
    "Standard CAPM:\n",
    "$$E[r_{i}] = r_f + \\left(MRP \\times Beta_i \\right)$$"
   ]
  },
  {
   "cell_type": "markdown",
   "metadata": {},
   "source": [
    "where $E[\\bullet]$ represents the expectation operator, $r_i$ is the return of risky asset $i$, $r$ is the risk-free rate<sup>[14](#14)</sup>, $MRP$ is the market risk premium, and $Beta_i$ is the beta factor of asset $i$ measured as $Cov(r_i,r_m)/Var(r_m)$, with $r_m$ as the return of the market portfolio. In subsequent sections, we present the <i>most representative</i> methods of assessing country risk for each of the different groups of models. We emphasize that our summary is not a detailed step-by-step guide to apply these models; our aim is instead to outline the general workings of these models. [Table Al](#Table1) in the Appendix contains a comprehensive and detailed description of the remaining approaches not discussed in the main text."
   ]
  },
  {
   "cell_type": "markdown",
   "metadata": {},
   "source": [
    "### A) International CAPM\n",
    "\n",
    "<strong>Conceptual formula:</strong>\n",
    "\n",
    "$$E[r_i] = r_{f\\_global} + \\left(MRP_{global}\\times Beta_{i,global}\\right)$$\n",
    "\n",
    "where $r_{f\\_global}$ is the global risk-free rate, $MRP_{global}$ is the global market risk premium, and $Beta_{i,global}$ is the beta factor of the company with respect to the global market.\n",
    "\n",
    "In its simplest form, the International CAPM uses the standard CAPM framework with global parameters. This approach is in line with the standard CAPM theory and is theoretically sound if markets are globally integrated. In general, this approach is easy to implement, the data availability is good, and it can be applied to companies in most countries. However, in many cases, this approach does not result in the expected increased cost of equity for emerging markets (see example in [Figure 1](#Figure1)), which is counterintuitive. The key reason is the observed low correlation between local emerging and global markets that occurs when these markets are fully or partially segmented. This low correlation leads to low betas and lower than expected costs of equity.<sup>[15](#15), [16](#16)</sup>"
   ]
  },
  {
   "cell_type": "code",
   "execution_count": 182,
   "metadata": {},
   "outputs": [
    {
     "data": {
      "text/plain": [
       "'E[r_{i}] = MRP_{global} \\\\beta_{i,global} + r_{f\\\\_global}'"
      ]
     },
     "execution_count": 182,
     "metadata": {},
     "output_type": "execute_result"
    }
   ],
   "source": [
    "latex(iCAPM)"
   ]
  },
  {
   "cell_type": "markdown",
   "metadata": {},
   "source": [
    "There are also other versions of the International CAPM. For instance, Pratt and Grabowski (2008)<sup>17</sup> argue that given the size and the maturity of U.S. financial markets, analysts can use the U.S. risk-free rate as a proxy for the global risk-free rate, the U.S. MRP as a proxy for the global MRP, and the company beta with respect to the U.S. market as a proxy for the global beta. The result is the so-called International CAPM (US proxy).\n",
    "\n",
    "<strong>International CAPM:</strong> \n",
    "\n",
    "$$E[r_i] = r_{f\\_global} + \\left(Beta_{i,global} \\times MRP_{global}\\right) $$\n",
    "\n",
    "<strong>International CAPM (US proxy):</strong>\n",
    "\n",
    "$$E[r_i] = r_{f\\_US} + \\left(Beta_{i,US} \\times MRP_{US}\\right)$$\n",
    "\n",
    "Before continuing, we should note that there are also variants of the International CAPM that explicitly incorporate risks arising out of deviations from the purchasing power parity, which is done by adding an additional risk factor that measures the exchange-rate risk between local and base currency. To provide clear-cut results, we assume throughout this paper that the purchasing power parity holds in the long run for real investments, which implies that exchange risk is not priced. We refer the interested reader to Ruiz de Vargaz and Breuer (2012a; 2012b) or Sabal (2004)<sup>[18](#18)</sup> for excellent discussions on currency effects in the context of the International CAPM.\n",
    "\n",
    "### B) Local CAPM\n",
    "\n",
    "The local CAPM assumes the segmentation of capital markets and implies that only the local market is relevant for the asset return:\n",
    "\n",
    "$$E[r_i] = r_{f_local} + \\left(MRP_{local} \\times Beta_{i,local}\\right),$$\n",
    "\n",
    "\n",
    "where $r_{f\\_local}$ is the local risk-free rate, $MRP_{local}$ is the local market risk premium, and $Beta_{i,local}$ is the beta factor of the company with respect to the local market.\n",
    "\n",
    "As for the international version of the CAPM, the local CAPM is theoretically sound, i.e., consistent with the CAPM theory, but only if markets are segmented and the local market can be regarded as the relevant market portfolio. In practice, estimating the local beta and market risk premium might be challenging in illiquid and inefficient markets because of poor data quality stemming from issues such as low liquidity and short time series. Additionally, in some cases, the emerging country's government bonds (used to determine the local risk-free rate) may not be free of default risk.\n",
    "\n",
    "### C) Mixture Model of Bekaert and Harvey\n",
    "\n",
    "Instead of choosing between local and global betas and local and global market risk premiums, Bekaert and Harvey<sup>[19](#19)</sup> suggest including both because both parameters may be relevant to a company's return. An additional factor, Lambda, models the proportional impact of the global beta and the global market risk premium on the return of the risky asset.\n",
    "\n",
    "$$ E[r_i] = r_{f\\_US} + \\left(1 - Lambda\\right) \\times \\left(Beta_{i,local} \\times MRP_{local}\\right) + Lambda \\times \\left(Beta_{i,global} \\times MRP_{global}\\right).$$\n",
    "\n",
    "Thus, Lambda represents the level ofthe local country's integration into the world market. With a Lambda of one, the Bekaert and Harvey mixture approach assumes perfectly integrated markets; conversely, when Lambda equals zero, markets are perfectly segmented.\n",
    "\n",
    "### D) Credit Rating Model\n",
    "\n",
    "Credit rating models are based on the idea that historical returns and ratings can predict future returns. Erb et al. (1996) present several versions of the credit rating model.<sup>[20](#20)</sup> They fit a regression model using equity market data and survey-based credit ratings from countries with liquid equity markets. Using these estimates, they forecast „out-of-sample\" the expected returns for markets with ratings but without equity market."
   ]
  },
  {
   "cell_type": "markdown",
   "metadata": {},
   "source": [
    "Figure 2: Country Risk - Cost of equity estimation: Main methodologies"
   ]
  },
  {
   "cell_type": "markdown",
   "metadata": {},
   "source": [
    "### E) Additive CRP\n",
    "Models in this category include an additive CRP.\n",
    "\n",
    "<strong>Concept formula:</strong>\n",
    "\n",
    "$$E[r_i] = r_{f\\_US} + \\left(MRP_{US} \\times Beta_{i,US}\\right) + CRP,$$\n",
    "\n",
    "where $r_{f\\_US}$ is the U.S. risk-free rate, $MRP$ is the U.S. market risk premium, $Beta_{i,US}$ is the beta factor of the company with respect to the U.S. market, and $CRP$ is the country risk premium added. This type of adjustment is widely accepted among practitioners. Normally, this approach uses both the beta and the market risk premium of a mature market with good data availability, e.g. from the U.S., as a baseline and then adds a CRP to incorporate those parts of the idiosyncratic risk that investors believe to be important and not diversifiable."
   ]
  },
  {
   "cell_type": "markdown",
   "metadata": {},
   "source": [
    "There are different approaches to estimating the CRP.<sup>[21](#21)</sup> The most widely applied method<sup>[22](#22)</sup> is to define the CRP as the country's default spread.<sup>[23](#23)</sup> The main intuition behind applying the default spread comes from assuming that a company's country risk is driven by many of the same factors as government default risk, such as political instability. Because this risk is already priced into the government bond market, it also serves as a convenient and always up-to-date proxy for a company's country risk. Aswath Damodaran regularly publishes CRPs based on country ratings, default spreads and CDS spreads.<sup>[24](#24)</sup> \n",
    "\n",
    "In addition to the different approaches to estimating the CRP, various authors have proposed adjusting the CRP in various ways that are based on company or market specific factors.\n",
    "\n",
    "<strong>Damodaran #1:</strong>\n",
    "\n",
    "$$E[r_i] = r_{f\\_US} + Beta_{i,US} \\times MRP_{US} +CRP$$ \n",
    "\n",
    "<strong>Damodaran #2:</strong>\n",
    "\n",
    "$$E[r_i] = r_{f\\_US} + Beta_{i,US} \\times MRP_{US} +CRP\\times \\frac{\\sigma_{local,E}}{\\sigma_{local,B}}$$ \n",
    "\n",
    "<strong>Damodaran #3:</strong>\n",
    "\n",
    "$$E[r_i] = r_{f\\_US} + Beta_{i,US} \\times MRP_{US} \\times \\frac{\\sigma_{local}}{\\sigma_{US}}$$\n",
    "\n",
    "<strong>Horn et al.:</strong>\n",
    "\n",
    "$$E[r_i] = r_{f\\_US} + Beta_{i,US} \\times MRP_{US} + CRP + Ceiling\\;Risk\\;Premium$$\n",
    "\n",
    "<strong>Salomon — Smith — Barney:</strong>\n",
    "\n",
    "$$E[r_i] = r_{f\\_US} + \\left(Beta_{i\\,global} \\times  MRP_{global}\\right) +CRP \\times \\frac{Gamma_1 + Gamma_2 + Gamma_3}{30}$$\n",
    "\n",
    "For example, <strong>Damodaran (2013)</strong><sup>[25](#25)</sup> suggests multiplying the CRP with the with the relative equity market volatility over the bond market volatility $(\\sigma_{local,E}/\\sigma_{local,B})$ to reflect the additional volatility in the equity market that is not incorporated in the default spread (Damodaran #2). In contrast, <strong>Zenner and Akaydin (2002)</strong><sup>[26](#26)</sup> argue that the default spread (and hence the government default risk) is the maximum country-specific risk faced by every company operating in that country. Consequently, they recommend downward adjusting the CRP based on a particular company's exposure to political risk, defined by three factors that summarily represent an entity's total exposure to political risk (the <i>Salomon-Smith-Barney approach</i>).<sup>[27](#27)</sup>\n",
    "\n",
    "<strong>Horn et al. (2015)</strong><sup>[28](#28)</sup> present a further enhancement to the CRP concept by adding a ceiling risk premium to the CRP (Horn et al. approach). The notion of a ceiling risk premium captures the transfer risk, which occurs when companies transfer money through several countries on the way to the parent entity. Transfer risk can be particularly relevant to corporations with complex holding structures, in which cashflows are transferred between subsidiaries in different countries. Furthermore, this approach outlines a framework to estimate the CRP easily and transparently.\n",
    "\n",
    "Finally, <strong>Damodaran (2013)</strong> suggests adjusting the CAPM by considering the relative volatility between the local market and a chosen mature equity market, such as the U.S. equity market (Damodaran #3 approach). This volatility ratio is multiplied by the market risk premium to add an implicit CRP to the <i>standard</i> CAPM."
   ]
  },
  {
   "cell_type": "markdown",
   "metadata": {},
   "source": [
    "### F) Beta-Adjustments\n",
    "\n",
    "Models in this category adjust the asset beta to incorporate country risk.\n",
    "\n",
    "Conceptual formula:\n",
    "$$E[r_i]=r_{f\\_US} + \\left( MRP \\times Beta_{adj}\\right),$$ \n",
    "\n",
    "where $r$ is the U.S. risk-free rate, $MRP$ is the market risk premium (either U.S. or global), and $Beta_{adj}$ is the adjusted beta factor ofthe company that seeks to incorporate countr risk in the adjusted beta calculation.\n",
    "\n",
    "For example, Lessard (1996)<sup>[29](#29)</sup> suggests multiplying the company beta by the local country's beta, both with respect to the U.S. market (Lessard Approach). As discussed earlier, a low correlation between the local and the global stock markets may lead to extraordinary low betas. Ibbotson(2013)<sup>[30](#30)</sup> addresses this problem and considers the volatility in different markets when estimating exposure to the market risk premium: $Beta_{adj} = \\sigma_{local}/\\sigma_{US}$ (Ibbotson approach), thereby omitting the correlation between company stock and reference index as input in the beta calculation.\n",
    "\n",
    "The <i>Downside CAPM</i> is defined as the International CAPM with a downside beta (Estrada, 2002)<sup>[31](#31)</sup>. The downside beta is calculated using semi-variance, which is a measure of the dispersion of all observations below the mean. Estrada argues that the semi-variance of returns is a better measure for risk than variance for three reasons: (1) investors dislike only downside volatility; (2) semi-variance is more useful if the underlying distribution is asymmetric; and (3) semi-variance combines the information provided by both the variance and the skewness, which makes it useful for a one-factor return model."
   ]
  },
  {
   "cell_type": "markdown",
   "metadata": {},
   "source": [
    "A final model in this group is the CSFB Approach by Hauptman and Natella (1997)<sup>[32](#32)</sup>, which is a model quoted by a few academic studies, e.g., Harvey (2001)<sup>[33](#33)</sup>, but rarely used bypractitioners. This approach multiplies the local beta with the ratio ofthe coefficient \\n\\n\\n\\nof variation in the local market and the coefficient of variation of the U.S. market (ratio defined as $A_{loca1}$), which in turn is multiplied with 0.60. Harvey (2001) concludes his description of the approach by stating that „this model is a perfect example of the confusion that exists in measuring the cost of capital\".\n",
    "\n",
    "<strong>Lessard Approach:</strong>\n",
    "\n",
    "$$E[r_i] = r_f + \\left(Beta_{i,US} \\times + Beta_{local,US} \\right)\\times MRP_{US}$$\n",
    "\n",
    "<strong>Ibbotson Approach:</strong>\n",
    "\n",
    "$$E[r_i] = r_{f\\_US} + MRP_{us} \\times + \\frac{\\sigma_{local}}{\\sigma_{US}}$$\n",
    "\n",
    "<strong>Downside CAPM:</strong>\n",
    "\n",
    "$$E[r_i] = r_{f\\_US} + MRP_{global} \\times Downside\\;Beta_{i,global}$$\n",
    "\n",
    "<strong>CSFB Approach:</strong>\n",
    "$$E[r_i] = r_{f\\_B} + Beta_{i,local} \\times  MRP_{US} \\times A_{local} \\times 0.60 $$\n",
    "\n",
    "\n",
    "### G) Both: Additive CRP and Beta-Adjustments\n",
    "\n",
    "Finally, some authors have proposed further adjustments to beta in addition to adding a country risk premium. Two examples thereof are the Godfrey-Espinosa approach<sup>[34](#34)</sup> and the Goldman Sachs approach<sup>[35](#35)</sup>. Models in this group are based on the following conceptual formula:\n",
    "\n",
    "<strong>Conceptual formula:</strong>\n",
    "\n",
    "$$E[r_i] = r_{f\\_US} + \\left(MRP_{US} \\times Beta_{adj}\\right) + CRP$$\n",
    "\n",
    "where $r$ is the U.S.risk-freerate, $MRP$ is the U.S. market risk premium, $Beta_{adj}$ is the adjusted beta factor of the company that seeks to incorporate country risk in the adjusted beta calculation, and $CRP$ is the country risk premium.\n",
    "\n",
    "In general, these adjustments to the CAPM consider the relative equity volatility between the local and the U.S. market, or global market, The derivation of these models is relatively ad hoc, and their notation is relatively complex. For instance, the Godfrey-Espinosa approach distinguishes two types of risks: „commercial risks\" and „sovereign risks\". „Sovereign risks\" (as measured by the country credit spread) are captured in the additive CRP. „Commercial risks\" (from operating in the local market relative to the home market) are captured by an „adjusted beta\", which is defined as the ratio of the volatility of the local stock market relative to the volatility of the U.S. (or world) market. Because both types of risks are likely interdependent, the authors propose to reduce the adjusted beta by 40% to avoid double counting risk. This adjustment, however, is admittedly ad hoc."
   ]
  },
  {
   "cell_type": "markdown",
   "metadata": {},
   "source": [
    "The Goldman Sachs approach refines the Godfrey-Espinosa approach and proposes an alternative beta adjustment to address the abovementioned double-counting. The authors propose to multiply the company beta (measured against the local market) with the previously introduced ratio of the volatilities and with one minus the observed correlation between the stock and bond market. This adjustment shall isolate from changes in the economy that similarly affect movements in sovereign spreads and equity market volatility. The approach also allows for adding further components ($\\varphi$) to account for further company-specific characteristics. We refer to the original articles for further details to these models.\n",
    "\n",
    "<strong>Godfrey — Espinosa Approach:</strong>\n",
    "\n",
    "$$E[r_i]=r_{f\\_us} + MRP_{us} \\times \\left(0.60 \\times \\frac{\\sigma_{local}}{\\sigma_{US}} \\right) + CRP$$\n",
    "\n",
    "<strong>Goldman Sachs Approach:</strong>\n",
    "\n",
    "$$E[r_i]=r_{f\\_us} + MRP_{us} \\times \\left((1-\\rho_{SB}) \\times \\frac{\\sigma_{local}}{\\sigma_{US}} \\right) \\times Beta_{i,local}+ \\varphi + CRP$$\n",
    "\n",
    "In summary, this presentation ofthc various methods to incorporate country risk demonstrates that there is a broad range of different approaches available to the analyst. We again note that the focus of our summary was on the most representative models within each model category of [Figure 2](#Figure2) and on the general workings of these models. The formal definitions of the comprehensive list of country risk approaches from [Figure 2](#Figure2), including references to the original works, are in Table A1 in the Appendix.\n",
    "\n",
    "## IV. Cost of Equity Estimation - A Comparison of Methodologies\n",
    "\n",
    "We estimate the cost of equity for three large companies in each of the four sample countries: Brazil, Russia, India and China (which are well known as the so-called BRIC countries). We show that the models presented previously result in a remarkably wide range of cost of equity estimates in a realworld setting. For the twelve reference companies (see Table the maximum and minimum cost of equity estimates largely depend on the approach chosen, and the differences among these estimates can be dramatic."
   ]
  },
  {
   "cell_type": "code",
   "execution_count": 13,
   "metadata": {},
   "outputs": [
    {
     "data": {
      "application/vnd.jupyter.widget-view+json": {
       "model_id": "cd5fc8d10a884f99bfe81ba04a7ecd76",
       "version_major": 2,
       "version_minor": 0
      },
      "text/html": [
       "<p>Failed to display Jupyter Widget of type <code>QgridWidget</code>.</p>\n",
       "<p>\n",
       "  If you're reading this message in the Jupyter Notebook or JupyterLab Notebook, it may mean\n",
       "  that the widgets JavaScript is still loading. If this message persists, it\n",
       "  likely means that the widgets JavaScript library is either not installed or\n",
       "  not enabled. See the <a href=\"https://ipywidgets.readthedocs.io/en/stable/user_install.html\">Jupyter\n",
       "  Widgets Documentation</a> for setup instructions.\n",
       "</p>\n",
       "<p>\n",
       "  If you're reading this message in another frontend (for example, a static\n",
       "  rendering on GitHub or <a href=\"https://nbviewer.jupyter.org/\">NBViewer</a>),\n",
       "  it may mean that your frontend doesn't currently support widgets.\n",
       "</p>\n"
      ],
      "text/plain": [
       "QgridWidget(grid_options={'editable': True, 'highlightSelectedCell': False, 'syncColumnCellResize': True, 'maxVisibleRows': 15, 'fullWidthRows': True, 'rowHeight': 28, 'highlightSelectedRow': True, 'sortable': True, 'defaultColumnWidth': 150, 'autoEdit': False, 'minVisibleRows': 8, 'forceFitColumns': True, 'explicitInitialization': True, 'filterable': True, 'enableTextSelectionOnCells': True, 'enableColumnReorder': False}, precision=5, show_toolbar=True)"
      ]
     },
     "metadata": {},
     "output_type": "display_data"
    }
   ],
   "source": [
    "import qgrid\n",
    "import pandas as pd\n",
    "import numpy as np\n",
    "Companies = pd.read_csv('Schmies_Horn_Companies.csv', index_col=0,usecols=['Country','Company','Industry (ICB)'])#pd.DataFrame(columns=['Country','Company','Industry (ICB)'],data=[['Brazil','Petróleo Brasileiro','Oil & Gas']])\n",
    "Companies\n",
    "qgrid_widget = qgrid.show_grid(Companies, show_toolbar=True)\n",
    "qgrid_widget\n",
    "\n",
    "#Table 1: Companies included in the case study"
   ]
  },
  {
   "cell_type": "code",
   "execution_count": 22,
   "metadata": {},
   "outputs": [],
   "source": [
    "pivvi = pd.pivot_table(Companies,index=[\"Country\",\"Industry (ICB)\"],values=[\"Company\"],aggfunc=lambda x: ' '.join(x))"
   ]
  },
  {
   "cell_type": "code",
   "execution_count": 24,
   "metadata": {},
   "outputs": [
    {
     "data": {
      "text/html": [
       "<style  type=\"text/css\" >\n",
       "    #T_75f8c830_6298_11e8_b4cd_00231814a6fb tr:hover {\n",
       "          background-color: #ffff99;\n",
       "    }    #T_75f8c830_6298_11e8_b4cd_00231814a6fb th {\n",
       "          font-size: 150%;\n",
       "          text-align: center;\n",
       "    }    #T_75f8c830_6298_11e8_b4cd_00231814a6fb caption {\n",
       "          caption-side: bottom;\n",
       "    }</style>  \n",
       "<table id=\"T_75f8c830_6298_11e8_b4cd_00231814a6fb\" ><caption><a id='Table2'></a>Pivot-Table</caption> \n",
       "<thead>    <tr> \n",
       "        <th class=\"blank\" ></th> \n",
       "        <th class=\"blank level0\" ></th> \n",
       "        <th class=\"col_heading level0 col0\" >Company</th> \n",
       "    </tr>    <tr> \n",
       "        <th class=\"index_name level0\" >Country</th> \n",
       "        <th class=\"index_name level1\" >Industry (ICB)</th> \n",
       "        <th class=\"blank\" ></th> \n",
       "    </tr></thead> \n",
       "<tbody>    <tr> \n",
       "        <th id=\"T_75f8c830_6298_11e8_b4cd_00231814a6fblevel0_row0\" class=\"row_heading level0 row0\" rowspan=3>Brazil</th> \n",
       "        <th id=\"T_75f8c830_6298_11e8_b4cd_00231814a6fblevel1_row0\" class=\"row_heading level1 row0\" >Basic Materials</th> \n",
       "        <td id=\"T_75f8c830_6298_11e8_b4cd_00231814a6fbrow0_col0\" class=\"data row0 col0\" >Vale</td> \n",
       "    </tr>    <tr> \n",
       "        <th id=\"T_75f8c830_6298_11e8_b4cd_00231814a6fblevel1_row1\" class=\"row_heading level1 row1\" >Financials</th> \n",
       "        <td id=\"T_75f8c830_6298_11e8_b4cd_00231814a6fbrow1_col0\" class=\"data row1 col0\" >Itau Unibanco</td> \n",
       "    </tr>    <tr> \n",
       "        <th id=\"T_75f8c830_6298_11e8_b4cd_00231814a6fblevel1_row2\" class=\"row_heading level1 row2\" >Oil & Gas</th> \n",
       "        <td id=\"T_75f8c830_6298_11e8_b4cd_00231814a6fbrow2_col0\" class=\"data row2 col0\" >Petróleo Brasileiro</td> \n",
       "    </tr>    <tr> \n",
       "        <th id=\"T_75f8c830_6298_11e8_b4cd_00231814a6fblevel0_row3\" class=\"row_heading level0 row3\" rowspan=3>China</th> \n",
       "        <th id=\"T_75f8c830_6298_11e8_b4cd_00231814a6fblevel1_row3\" class=\"row_heading level1 row3\" >Basic Materials</th> \n",
       "        <td id=\"T_75f8c830_6298_11e8_b4cd_00231814a6fbrow3_col0\" class=\"data row3 col0\" >China Shenhua Energy</td> \n",
       "    </tr>    <tr> \n",
       "        <th id=\"T_75f8c830_6298_11e8_b4cd_00231814a6fblevel1_row4\" class=\"row_heading level1 row4\" >Financials</th> \n",
       "        <td id=\"T_75f8c830_6298_11e8_b4cd_00231814a6fbrow4_col0\" class=\"data row4 col0\" >Industrial & Commercial Bank of China</td> \n",
       "    </tr>    <tr> \n",
       "        <th id=\"T_75f8c830_6298_11e8_b4cd_00231814a6fblevel1_row5\" class=\"row_heading level1 row5\" >Oil & Gas</th> \n",
       "        <td id=\"T_75f8c830_6298_11e8_b4cd_00231814a6fbrow5_col0\" class=\"data row5 col0\" >Petro China</td> \n",
       "    </tr>    <tr> \n",
       "        <th id=\"T_75f8c830_6298_11e8_b4cd_00231814a6fblevel0_row6\" class=\"row_heading level0 row6\" rowspan=3>India</th> \n",
       "        <th id=\"T_75f8c830_6298_11e8_b4cd_00231814a6fblevel1_row6\" class=\"row_heading level1 row6\" >Basic Materials</th> \n",
       "        <td id=\"T_75f8c830_6298_11e8_b4cd_00231814a6fbrow6_col0\" class=\"data row6 col0\" >Coal India</td> \n",
       "    </tr>    <tr> \n",
       "        <th id=\"T_75f8c830_6298_11e8_b4cd_00231814a6fblevel1_row7\" class=\"row_heading level1 row7\" >Financials</th> \n",
       "        <td id=\"T_75f8c830_6298_11e8_b4cd_00231814a6fbrow7_col0\" class=\"data row7 col0\" >HDFC Bank</td> \n",
       "    </tr>    <tr> \n",
       "        <th id=\"T_75f8c830_6298_11e8_b4cd_00231814a6fblevel1_row8\" class=\"row_heading level1 row8\" >Oil & Gas</th> \n",
       "        <td id=\"T_75f8c830_6298_11e8_b4cd_00231814a6fbrow8_col0\" class=\"data row8 col0\" >Reliance Industries</td> \n",
       "    </tr>    <tr> \n",
       "        <th id=\"T_75f8c830_6298_11e8_b4cd_00231814a6fblevel0_row9\" class=\"row_heading level0 row9\" rowspan=3>Russia</th> \n",
       "        <th id=\"T_75f8c830_6298_11e8_b4cd_00231814a6fblevel1_row9\" class=\"row_heading level1 row9\" >Basic Materials</th> \n",
       "        <td id=\"T_75f8c830_6298_11e8_b4cd_00231814a6fbrow9_col0\" class=\"data row9 col0\" >Norilsk Nickel</td> \n",
       "    </tr>    <tr> \n",
       "        <th id=\"T_75f8c830_6298_11e8_b4cd_00231814a6fblevel1_row10\" class=\"row_heading level1 row10\" >Financials</th> \n",
       "        <td id=\"T_75f8c830_6298_11e8_b4cd_00231814a6fbrow10_col0\" class=\"data row10 col0\" >Sberbank</td> \n",
       "    </tr>    <tr> \n",
       "        <th id=\"T_75f8c830_6298_11e8_b4cd_00231814a6fblevel1_row11\" class=\"row_heading level1 row11\" >Oil & Gas</th> \n",
       "        <td id=\"T_75f8c830_6298_11e8_b4cd_00231814a6fbrow11_col0\" class=\"data row11 col0\" >Gazprom</td> \n",
       "    </tr></tbody> \n",
       "</table> "
      ],
      "text/plain": [
       "<pandas.io.formats.style.Styler at 0x1ee2bd356a0>"
      ]
     },
     "execution_count": 24,
     "metadata": {},
     "output_type": "execute_result"
    }
   ],
   "source": [
    "def hover(hover_color=\"#ffff99\"):\n",
    "    return dict(selector=\"tr:hover\",\n",
    "                props=[(\"background-color\", \"%s\" % hover_color)])\n",
    "\n",
    "styles = [\n",
    "    hover(),\n",
    "    dict(selector=\"th\", props=[(\"font-size\", \"150%\"),\n",
    "                               (\"text-align\", \"center\")]),\n",
    "    dict(selector=\"caption\", props=[(\"caption-side\", \"bottom\")])\n",
    "]\n",
    "html = (pivvi.style.set_table_styles(styles)\n",
    "          .set_caption(\"<a id='Table2'></a>Pivot-Table\"))\n",
    "html"
   ]
  },
  {
   "cell_type": "code",
   "execution_count": 15,
   "metadata": {},
   "outputs": [
    {
     "data": {
      "text/plain": [
       "Country                \n",
       "Brazil   Company                             Petróleo Brasileiro\n",
       "         Industry (ICB)                                Oil & Gas\n",
       "         Company                                            Vale\n",
       "         Industry (ICB)                          Basic Materials\n",
       "         Company                                   Itau Unibanco\n",
       "         Industry (ICB)                               Financials\n",
       "Russia   Company                                         Gazprom\n",
       "         Industry (ICB)                                Oil & Gas\n",
       "         Company                                  Norilsk Nickel\n",
       "         Industry (ICB)                          Basic Materials\n",
       "         Company                                        Sberbank\n",
       "         Industry (ICB)                               Financials\n",
       "India    Company                             Reliance Industries\n",
       "         Industry (ICB)                                Oil & Gas\n",
       "         Company                                      Coal India\n",
       "         Industry (ICB)                          Basic Materials\n",
       "         Company                                       HDFC Bank\n",
       "         Industry (ICB)                               Financials\n",
       "China    Company                                     Petro China\n",
       "         Industry (ICB)                                Oil & Gas\n",
       "         Company                            China Shenhua Energy\n",
       "         Industry (ICB)                          Basic Materials\n",
       "         Company           Industrial & Commercial Bank of China\n",
       "         Industry (ICB)                               Financials\n",
       "dtype: object"
      ]
     },
     "execution_count": 15,
     "metadata": {},
     "output_type": "execute_result"
    }
   ],
   "source": [
    "Companies.stack()"
   ]
  },
  {
   "cell_type": "code",
   "execution_count": 394,
   "metadata": {},
   "outputs": [
    {
     "data": {
      "application/vnd.jupyter.widget-view+json": {
       "model_id": "e1f991d4db614e76b138775faa71e459",
       "version_major": 2,
       "version_minor": 0
      },
      "text/html": [
       "<p>Failed to display Jupyter Widget of type <code>QgridWidget</code>.</p>\n",
       "<p>\n",
       "  If you're reading this message in the Jupyter Notebook or JupyterLab Notebook, it may mean\n",
       "  that the widgets JavaScript is still loading. If this message persists, it\n",
       "  likely means that the widgets JavaScript library is either not installed or\n",
       "  not enabled. See the <a href=\"https://ipywidgets.readthedocs.io/en/stable/user_install.html\">Jupyter\n",
       "  Widgets Documentation</a> for setup instructions.\n",
       "</p>\n",
       "<p>\n",
       "  If you're reading this message in another frontend (for example, a static\n",
       "  rendering on GitHub or <a href=\"https://nbviewer.jupyter.org/\">NBViewer</a>),\n",
       "  it may mean that your frontend doesn't currently support widgets.\n",
       "</p>\n"
      ],
      "text/plain": [
       "QgridWidget(grid_options={'forceFitColumns': True, 'fullWidthRows': True, 'rowHeight': 28, 'highlightSelectedCell': False, 'enableTextSelectionOnCells': True, 'highlightSelectedRow': True, 'explicitInitialization': True, 'sortable': True, 'maxVisibleRows': 15, 'autoEdit': False, 'minVisibleRows': 8, 'enableColumnReorder': False, 'editable': True, 'syncColumnCellResize': True, 'defaultColumnWidth': 150, 'filterable': True}, precision=5)"
      ]
     },
     "metadata": {},
     "output_type": "display_data"
    }
   ],
   "source": [
    "Companies = qgrid_widget.get_changed_df()\n",
    "Companies"
   ]
  },
  {
   "cell_type": "code",
   "execution_count": 395,
   "metadata": {},
   "outputs": [
    {
     "data": {
      "text/html": [
       "<div>\n",
       "<style scoped>\n",
       "    .dataframe tbody tr th:only-of-type {\n",
       "        vertical-align: middle;\n",
       "    }\n",
       "\n",
       "    .dataframe tbody tr th {\n",
       "        vertical-align: top;\n",
       "    }\n",
       "\n",
       "    .dataframe thead th {\n",
       "        text-align: right;\n",
       "    }\n",
       "</style>\n",
       "<table border=\"1\" class=\"dataframe\">\n",
       "  <thead>\n",
       "    <tr style=\"text-align: right;\">\n",
       "      <th></th>\n",
       "      <th>Country</th>\n",
       "      <th>Company</th>\n",
       "      <th>Industry (ICB)</th>\n",
       "    </tr>\n",
       "  </thead>\n",
       "  <tbody>\n",
       "    <tr>\n",
       "      <th>0</th>\n",
       "      <td>Brazil</td>\n",
       "      <td>Petróleo Brasileiro</td>\n",
       "      <td>Oil &amp; Gas</td>\n",
       "    </tr>\n",
       "    <tr>\n",
       "      <th>1</th>\n",
       "      <td>Brazil</td>\n",
       "      <td>Vale</td>\n",
       "      <td>Basic Materials</td>\n",
       "    </tr>\n",
       "    <tr>\n",
       "      <th>2</th>\n",
       "      <td>Brazil</td>\n",
       "      <td>Itau Unibanco</td>\n",
       "      <td>Financials</td>\n",
       "    </tr>\n",
       "    <tr>\n",
       "      <th>3</th>\n",
       "      <td>Russia</td>\n",
       "      <td>Gazprom</td>\n",
       "      <td>Oil &amp; Gas</td>\n",
       "    </tr>\n",
       "    <tr>\n",
       "      <th>4</th>\n",
       "      <td>Russia</td>\n",
       "      <td>Norilsk Nickel</td>\n",
       "      <td>Basic Materials</td>\n",
       "    </tr>\n",
       "    <tr>\n",
       "      <th>5</th>\n",
       "      <td>Russia</td>\n",
       "      <td>Sberbank</td>\n",
       "      <td>Financials</td>\n",
       "    </tr>\n",
       "    <tr>\n",
       "      <th>6</th>\n",
       "      <td>India</td>\n",
       "      <td>Reliance Industries</td>\n",
       "      <td>Oil &amp; Gas</td>\n",
       "    </tr>\n",
       "    <tr>\n",
       "      <th>7</th>\n",
       "      <td>India</td>\n",
       "      <td>Coal India</td>\n",
       "      <td>Basic Materials</td>\n",
       "    </tr>\n",
       "    <tr>\n",
       "      <th>8</th>\n",
       "      <td>India</td>\n",
       "      <td>HDFC Bank</td>\n",
       "      <td>Financials</td>\n",
       "    </tr>\n",
       "    <tr>\n",
       "      <th>9</th>\n",
       "      <td>China</td>\n",
       "      <td>Petro China</td>\n",
       "      <td>Oil &amp; Gas</td>\n",
       "    </tr>\n",
       "    <tr>\n",
       "      <th>10</th>\n",
       "      <td>China</td>\n",
       "      <td>China Shenhua Energy</td>\n",
       "      <td>Basic Materials</td>\n",
       "    </tr>\n",
       "    <tr>\n",
       "      <th>11</th>\n",
       "      <td>China</td>\n",
       "      <td>Industrial &amp; Commercial Bank of China</td>\n",
       "      <td>Financials</td>\n",
       "    </tr>\n",
       "  </tbody>\n",
       "</table>\n",
       "</div>"
      ],
      "text/plain": [
       "   Country                                Company   Industry (ICB)\n",
       "0   Brazil                    Petróleo Brasileiro        Oil & Gas\n",
       "1   Brazil                                   Vale  Basic Materials\n",
       "2   Brazil                          Itau Unibanco       Financials\n",
       "3   Russia                                Gazprom        Oil & Gas\n",
       "4   Russia                         Norilsk Nickel  Basic Materials\n",
       "5   Russia                               Sberbank       Financials\n",
       "6    India                    Reliance Industries        Oil & Gas\n",
       "7    India                             Coal India  Basic Materials\n",
       "8    India                              HDFC Bank       Financials\n",
       "9    China                            Petro China        Oil & Gas\n",
       "10   China                   China Shenhua Energy  Basic Materials\n",
       "11   China  Industrial & Commercial Bank of China       Financials"
      ]
     },
     "execution_count": 395,
     "metadata": {},
     "output_type": "execute_result"
    }
   ],
   "source": [
    "qgrid.disable()\n",
    "Companies"
   ]
  },
  {
   "cell_type": "code",
   "execution_count": 27,
   "metadata": {},
   "outputs": [
    {
     "data": {
      "application/vnd.jupyter.widget-view+json": {
       "model_id": "7caf16e213924ef69dc965b7810f041f",
       "version_major": 2,
       "version_minor": 0
      },
      "text/html": [
       "<p>Failed to display Jupyter Widget of type <code>QgridWidget</code>.</p>\n",
       "<p>\n",
       "  If you're reading this message in the Jupyter Notebook or JupyterLab Notebook, it may mean\n",
       "  that the widgets JavaScript is still loading. If this message persists, it\n",
       "  likely means that the widgets JavaScript library is either not installed or\n",
       "  not enabled. See the <a href=\"https://ipywidgets.readthedocs.io/en/stable/user_install.html\">Jupyter\n",
       "  Widgets Documentation</a> for setup instructions.\n",
       "</p>\n",
       "<p>\n",
       "  If you're reading this message in another frontend (for example, a static\n",
       "  rendering on GitHub or <a href=\"https://nbviewer.jupyter.org/\">NBViewer</a>),\n",
       "  it may mean that your frontend doesn't currently support widgets.\n",
       "</p>\n"
      ],
      "text/plain": [
       "QgridWidget(grid_options={'editable': True, 'highlightSelectedCell': False, 'syncColumnCellResize': True, 'maxVisibleRows': 15, 'fullWidthRows': True, 'rowHeight': 28, 'highlightSelectedRow': True, 'sortable': True, 'defaultColumnWidth': 150, 'autoEdit': False, 'minVisibleRows': 8, 'forceFitColumns': True, 'explicitInitialization': True, 'filterable': True, 'enableTextSelectionOnCells': True, 'enableColumnReorder': False}, precision=5, show_toolbar=True)"
      ]
     },
     "metadata": {},
     "output_type": "display_data"
    }
   ],
   "source": [
    "#Set table up\n",
    "Recom = pd.DataFrame(columns=['Valuation objective','Recommended models'],data=[['Theoretical foundations','International CAPM']])\n",
    "qgrid_widget2 = qgrid.show_grid(Recom, show_toolbar=True)\n",
    "qgrid_widget2\n",
    "#The add restant data manually"
   ]
  },
  {
   "cell_type": "code",
   "execution_count": 62,
   "metadata": {},
   "outputs": [
    {
     "data": {
      "text/html": [
       "<style  type=\"text/css\" >\n",
       "    #T_4649441e_62b8_11e8_944a_00231814a6fb tr:hover {\n",
       "          background-color: #ffff99;\n",
       "    }    #T_4649441e_62b8_11e8_944a_00231814a6fb th {\n",
       "          font-size: 150%;\n",
       "          text-align: center;\n",
       "    }    #T_4649441e_62b8_11e8_944a_00231814a6fb caption {\n",
       "          caption-side: bottom;\n",
       "    }</style>  \n",
       "<table id=\"T_4649441e_62b8_11e8_944a_00231814a6fb\" ><caption><a id='Table2'></a>Table 2: Model recommendations based on various valuation objectives</caption> \n",
       "<thead>    <tr> \n",
       "        <th class=\"blank level0\" ></th> \n",
       "        <th class=\"col_heading level0 col0\" >Recommended models</th> \n",
       "    </tr>    <tr> \n",
       "        <th class=\"index_name level0\" >Valuation objective</th> \n",
       "        <th class=\"blank\" ></th> \n",
       "    </tr></thead> \n",
       "<tbody>    <tr> \n",
       "        <th id=\"T_4649441e_62b8_11e8_944a_00231814a6fblevel0_row0\" class=\"row_heading level0 row0\" >Data availability</th> \n",
       "        <td id=\"T_4649441e_62b8_11e8_944a_00231814a6fbrow0_col0\" class=\"data row0 col0\" >Damodaran Approaches<br>International CAPM<br>Horn et al. Approach</td> \n",
       "    </tr>    <tr> \n",
       "        <th id=\"T_4649441e_62b8_11e8_944a_00231814a6fblevel0_row1\" class=\"row_heading level0 row1\" >Ease of use</th> \n",
       "        <td id=\"T_4649441e_62b8_11e8_944a_00231814a6fbrow1_col0\" class=\"data row1 col0\" >Damodaran Approaches</td> \n",
       "    </tr>    <tr> \n",
       "        <th id=\"T_4649441e_62b8_11e8_944a_00231814a6fblevel0_row2\" class=\"row_heading level0 row2\" >High number of discretionary elements</th> \n",
       "        <td id=\"T_4649441e_62b8_11e8_944a_00231814a6fbrow2_col0\" class=\"data row2 col0\" >Salomon-Smith-Barney Approach</td> \n",
       "    </tr>    <tr> \n",
       "        <th id=\"T_4649441e_62b8_11e8_944a_00231814a6fblevel0_row3\" class=\"row_heading level0 row3\" >Theoretical foundations</th> \n",
       "        <td id=\"T_4649441e_62b8_11e8_944a_00231814a6fbrow3_col0\" class=\"data row3 col0\" >International CAPM<br>Local CAPM<br>Downside CAPM<br>Erb-Harvey-Viskanta Model</td> \n",
       "    </tr>    <tr> \n",
       "        <th id=\"T_4649441e_62b8_11e8_944a_00231814a6fblevel0_row4\" class=\"row_heading level0 row4\" >Transparency</th> \n",
       "        <td id=\"T_4649441e_62b8_11e8_944a_00231814a6fbrow4_col0\" class=\"data row4 col0\" >Local CAPM<br>International CAPM<br>Downside CAPM<br>Lessard Approach</td> \n",
       "    </tr></tbody> \n",
       "</table> "
      ],
      "text/plain": [
       "<pandas.io.formats.style.Styler at 0x1ee3622ab00>"
      ]
     },
     "execution_count": 62,
     "metadata": {},
     "output_type": "execute_result"
    }
   ],
   "source": [
    "#Recommandations = qgrid_widget2.get_changed_df()\n",
    "#Recommandations.to_csv('Schmies_Horn_Recommendations.csv')\n",
    "#import\n",
    "Recommendations = pd.read_csv('Schmies_Horn_Recommendations.csv', usecols=(1,2),index_col=0) # index_col=False, usecols=[1,2])#['Valuation objective', 'Recommended models']) #, index_col=0)\n",
    "#Lulu #.reindex(fdrop)\n",
    "Recommendations = pd.pivot_table(Recommendations,index=[\"Valuation objective\"],values=[\"Recommended models\"],aggfunc=lambda x: '<br>'.join(x))\n",
    "html2 = (Recommendations.style.set_table_styles(styles)\n",
    "          .set_caption(\"<a id='Table2'></a>Table 2: Model recommendations based on various valuation objectives\"))\n",
    "html2\n",
    "#Recommandations"
   ]
  },
  {
   "cell_type": "code",
   "execution_count": 400,
   "metadata": {},
   "outputs": [],
   "source": [
    "hh = Companies.groupby('Country')\n",
    "hh\n",
    "Companies.to_csv('Schmies_Horn_Companies.csv')"
   ]
  },
  {
   "cell_type": "code",
   "execution_count": 59,
   "metadata": {},
   "outputs": [
    {
     "data": {
      "text/html": [
       "<div>\n",
       "<style scoped>\n",
       "    .dataframe tbody tr th:only-of-type {\n",
       "        vertical-align: middle;\n",
       "    }\n",
       "\n",
       "    .dataframe tbody tr th {\n",
       "        vertical-align: top;\n",
       "    }\n",
       "\n",
       "    .dataframe thead th {\n",
       "        text-align: right;\n",
       "    }\n",
       "</style>\n",
       "<table border=\"1\" class=\"dataframe\">\n",
       "  <thead>\n",
       "    <tr style=\"text-align: right;\">\n",
       "      <th></th>\n",
       "      <th>Recommended models</th>\n",
       "    </tr>\n",
       "    <tr>\n",
       "      <th>Valuation objective</th>\n",
       "      <th></th>\n",
       "    </tr>\n",
       "  </thead>\n",
       "  <tbody>\n",
       "    <tr>\n",
       "      <th>Theoretical foundations</th>\n",
       "      <td>International CAPM</td>\n",
       "    </tr>\n",
       "    <tr>\n",
       "      <th>Theoretical foundations</th>\n",
       "      <td>Local CAPM</td>\n",
       "    </tr>\n",
       "    <tr>\n",
       "      <th>Theoretical foundations</th>\n",
       "      <td>Downside CAPM</td>\n",
       "    </tr>\n",
       "    <tr>\n",
       "      <th>Theoretical foundations</th>\n",
       "      <td>Erb-Harvey-Viskanta Model</td>\n",
       "    </tr>\n",
       "    <tr>\n",
       "      <th>High number of discretionary elements</th>\n",
       "      <td>Salomon-Smith-Barney Approach</td>\n",
       "    </tr>\n",
       "    <tr>\n",
       "      <th>Transparency</th>\n",
       "      <td>Local CAPM</td>\n",
       "    </tr>\n",
       "    <tr>\n",
       "      <th>Transparency</th>\n",
       "      <td>International CAPM</td>\n",
       "    </tr>\n",
       "    <tr>\n",
       "      <th>Transparency</th>\n",
       "      <td>Downside CAPM</td>\n",
       "    </tr>\n",
       "    <tr>\n",
       "      <th>Transparency</th>\n",
       "      <td>Lessard Approach</td>\n",
       "    </tr>\n",
       "    <tr>\n",
       "      <th>Data availability</th>\n",
       "      <td>Damodaran Approaches</td>\n",
       "    </tr>\n",
       "    <tr>\n",
       "      <th>Data availability</th>\n",
       "      <td>International CAPM</td>\n",
       "    </tr>\n",
       "    <tr>\n",
       "      <th>Data availability</th>\n",
       "      <td>Horn et al. Approach</td>\n",
       "    </tr>\n",
       "    <tr>\n",
       "      <th>Ease of use</th>\n",
       "      <td>Damodaran Approaches</td>\n",
       "    </tr>\n",
       "  </tbody>\n",
       "</table>\n",
       "</div>"
      ],
      "text/plain": [
       "                                                  Recommended models\n",
       "Valuation objective                                                 \n",
       "Theoretical foundations                           International CAPM\n",
       "Theoretical foundations                                   Local CAPM\n",
       "Theoretical foundations                                Downside CAPM\n",
       "Theoretical foundations                    Erb-Harvey-Viskanta Model\n",
       "High number of discretionary elements  Salomon-Smith-Barney Approach\n",
       "Transparency                                              Local CAPM\n",
       "Transparency                                      International CAPM\n",
       "Transparency                                           Downside CAPM\n",
       "Transparency                                        Lessard Approach\n",
       "Data availability                               Damodaran Approaches\n",
       "Data availability                                 International CAPM\n",
       "Data availability                               Horn et al. Approach\n",
       "Ease of use                                     Damodaran Approaches"
      ]
     },
     "execution_count": 59,
     "metadata": {},
     "output_type": "execute_result"
    }
   ],
   "source": [
    "pini = pd.read_csv('Schmies_Horn_Recommendations.csv', usecols=(1,2),index_col=0)\n",
    "pini"
   ]
  },
  {
   "cell_type": "markdown",
   "metadata": {},
   "source": [
    "Classification fallows the FTSE Industry Classification Benchmark (ICB).\n",
    "\n",
    "We calculate the different estimates from the perspective of an U.S. investor who has projected the companies' cashflows in USD. The three companies from each country were selected based on three criteria:"
   ]
  },
  {
   "cell_type": "code",
   "execution_count": 383,
   "metadata": {
    "hide_input": true
   },
   "outputs": [
    {
     "data": {
      "text/html": [
       "<iframe style=\"border:0;outline:none;overflow:hidden\" srcdoc=\"&lt;!DOCTYPE html&gt; &lt;html lang=&quot;en&quot;&gt; &lt;head&gt; &lt;meta charset=&quot;utf-8&quot; /&gt; &lt;link href=&quot;https://www.highcharts.com/highslide/highslide.css&quot; rel=&quot;stylesheet&quot; /&gt; &lt;script type=&quot;text/javascript&quot; src=&quot;https://ajax.googleapis.com/ajax/libs/jquery/1.9.1/jquery.min.js&quot;&gt;&lt;/script&gt; &lt;script type=&quot;text/javascript&quot; src=&quot;https://code.highcharts.com/highcharts.js&quot;&gt;&lt;/script&gt; &lt;script type=&quot;text/javascript&quot; src=&quot;https://code.highcharts.com/highcharts-more.js&quot;&gt;&lt;/script&gt; &lt;script type=&quot;text/javascript&quot; src=&quot;https://code.highcharts.com/modules/heatmap.js&quot;&gt;&lt;/script&gt; &lt;script type=&quot;text/javascript&quot; src=&quot;https://code.highcharts.com/modules/exporting.js&quot;&gt;&lt;/script&gt; &lt;/head&gt; &lt;body style=&quot;margin:0;padding:0&quot;&gt; &lt;div id=&quot;container&quot; style=&quot;width:800px;height:500px;&quot;&gt;Loading....&lt;/div&gt; &lt;script&gt; $(function(){ Highcharts.SVGRenderer.prototype.symbols.cross = function (x, y, w, h) { return [&#x27;M&#x27;, x, y, &#x27;L&#x27;, x + w, y + h, &#x27;M&#x27;, x + w, y, &#x27;L&#x27;, x, y + h, &#x27;z&#x27;]; }; if (Highcharts.VMLRenderer) { Highcharts.VMLRenderer.prototype.symbols.cross = Highcharts.SVGRenderer.prototype.symbols.cross; } (function (H) { H.wrap(H.Legend.prototype, &#x27;colorizeItem&#x27;, function (proceed, item, visible) { \titem.legendColor = item.options.legendColor; proceed.apply(this, Array.prototype.slice.call(arguments, 1)); }); }(Highcharts)); Highcharts.setOptions({&quot;lang&quot;: {}, &quot;global&quot;: {}}); var option = {&quot;drilldown&quot;: {}, &quot;series&quot;: {}, &quot;legend&quot;: {&quot;align&quot;: &quot;middle&quot;, &quot;y&quot;: 50, &quot;enabled&quot;: true, &quot;verticalAlign&quot;: &quot;top&quot;, &quot;borderWidth&quot;: 1, &quot;borderRadius&quot;: 5, &quot;x&quot;: 600, &quot;backgroundColor&quot;: &quot;#cacaca&quot;, &quot;layout&quot;: &quot;vertical&quot;}, &quot;pane&quot;: {}, &quot;title&quot;: {&quot;text&quot;: &quot;Range of cost of equity estimates split by companies&quot;}, &quot;labels&quot;: {}, &quot;navigation&quot;: {}, &quot;chart&quot;: {&quot;renderTo&quot;: &quot;container&quot;, &quot;width&quot;: 800, &quot;height&quot;: 500, &quot;inverted&quot;: true}, &quot;xAxis&quot;: {&quot;categories&quot;: [&quot;Gazprom&quot;, &quot;Norilsk Nickel&quot;, &quot;Coal India&quot;, &quot;Reliance Industries&quot;, &quot;Sberbank&quot;, &quot;HDFC Bank&quot;, &quot;Ind &amp; Comm. Bank of China&quot;, &quot;China Shenhua Energy&quot;, &quot;PetroChina&quot;, &quot;Itau Unibanco&quot;, &quot;Vale&quot;, &quot;Petr\\u00f3leo Brasileiro&quot;]}, &quot;credits&quot;: {&quot;enabled&quot;: false}, &quot;colors&quot;: {}, &quot;subtitle&quot;: {}, &quot;tooltip&quot;: {&quot;valueSuffix&quot;: &quot;%&quot;}, &quot;plotOptions&quot;: {&quot;columnrange&quot;: {&quot;dataLabels&quot;: {&quot;enabled&quot;: true, &quot;format&quot;: &quot;{y}%&quot;}}}, &quot;loading&quot;: {}, &quot;exporting&quot;: {}, &quot;yAxis&quot;: {&quot;max&quot;: 40, &quot;min&quot;: 0, &quot;title&quot;: {&quot;text&quot;: &quot;Cost of Equity ( % )&quot;}}}; var chart = new Highcharts.Chart(option); var data = [{&quot;color&quot;: &quot;#00006F&quot;, &quot;type&quot;: &quot;columnrange&quot;, &quot;name&quot;: &quot;Range of all approaches&quot;, &quot;data&quot;: [[6.3, 16.3], [6.3, 16.3], [4.9, 17.9], [5.4, 17.9], [6.4, 16.9], [6.0, 17.9], [4.4, 21.2], [4.5, 22.1], [4.5, 22.2], [7.6, 27.2], [9.9, 28.9], [9.9, 35.5]]}, {&quot;marker&quot;: {&quot;symbol&quot;: &quot;diamond&quot;, &quot;lineColor&quot;: &quot;#aaccee&quot;, &quot;enabled&quot;: true, &quot;radius&quot;: 5, &quot;lineWidth&quot;: 2, &quot;fillColor&quot;: &quot;#aaccee&quot;}, &quot;lineWidth&quot;: 0, &quot;type&quot;: &quot;spline&quot;, &quot;name&quot;: &quot;International CAPM&quot;, &quot;data&quot;: [8.8, 7.9, 8.3, 8.1, 10.9, 8.8, 9.4, 10.6, 11.7, 10.3, 13.9, 14.5]}, {&quot;marker&quot;: {&quot;symbol&quot;: &quot;diamond&quot;, &quot;enabled&quot;: true, &quot;radius&quot;: 7, &quot;fillColor&quot;: &quot;#AA88FF&quot;}, &quot;lineWidth&quot;: 0, &quot;type&quot;: &quot;spline&quot;, &quot;name&quot;: &quot;Local CAPM&quot;, &quot;data&quot;: [16.2, 16.2, 14.4, 15.6, 16.9, 17.1, 11.8, 12.2, 12.3, 21.2, 21.9, 24.6]}, {&quot;marker&quot;: {&quot;symbol&quot;: &quot;circle&quot;, &quot;lineColor&quot;: &quot;#FFFFFF&quot;, &quot;enabled&quot;: true, &quot;radius&quot;: 5, &quot;lineWidth&quot;: 2, &quot;fillColor&quot;: &quot;#FFFFFF&quot;}, &quot;lineWidth&quot;: 0, &quot;type&quot;: &quot;spline&quot;, &quot;name&quot;: &quot;Damodaran #1&quot;, &quot;data&quot;: [11.6, 10.3, 9.6, 9.5, 13.5, 9.9, 9.7, 11.1, 12.2, 14.7, 17.7, 18.4]}, {&quot;marker&quot;: {&quot;symbol&quot;: &quot;cross&quot;, &quot;lineWidth&quot;: 2}, &quot;lineWidth&quot;: 0, &quot;type&quot;: &quot;spline&quot;, &quot;name&quot;: &quot;Mean estimate&quot;, &quot;data&quot;: [10.1, 9.0, 8.9, 8.9, 10.8, 8.9, 9.7, 11.0, 11.8, 12.3, 14.3, {&quot;y&quot;: 14.5, &quot;color&quot;: &quot;#00FF00&quot;}]}]; var dataLen = data.length; for (var ix = 0; ix &lt; dataLen; ix++) { chart.addSeries(data[ix]); } }); &lt;/script&gt; &lt;/body&gt; &lt;/html&gt;\" height=500 width=800></iframe>"
      ],
      "text/plain": [
       "<highcharts.highcharts.highcharts.Highchart at 0x1953de2e6d8>"
      ]
     },
     "execution_count": 383,
     "metadata": {},
     "output_type": "execute_result"
    }
   ],
   "source": [
    "from highcharts import Highchart\n",
    "H = Highchart(width=800, height=500)\n",
    "H.add_JSscript('''Highcharts.SVGRenderer.prototype.symbols.cross = function (x, y, w, h) {\n",
    "    return ['M', x, y, 'L', x + w, y + h, 'M', x + w, y, 'L', x, y + h, 'z'];\n",
    "};\n",
    "if (Highcharts.VMLRenderer) {\n",
    "    Highcharts.VMLRenderer.prototype.symbols.cross = Highcharts.SVGRenderer.prototype.symbols.cross;\n",
    "}''', 'head')\n",
    "H.add_JSscript('''(function (H) {\n",
    "        H.wrap(H.Legend.prototype, 'colorizeItem', function (proceed, item, visible) {\n",
    "        \titem.legendColor = item.options.legendColor;\n",
    "            proceed.apply(this, Array.prototype.slice.call(arguments, 1));\n",
    "        });\n",
    "    }(Highcharts));''','head')\n",
    "H.set_options('chart', {'inverted': True})\n",
    "\n",
    "options = {\n",
    "    'title': {\n",
    "        'text': 'Range of cost of equity estimates split by companies'\n",
    "    },\n",
    "\n",
    "    #'subtitle': {\n",
    "     #   'text': 'Observed in Vik i Sogn, Norway, 2017'\n",
    "    #},\n",
    "\n",
    "    'xAxis': {\n",
    "        'categories': ['Gazprom', 'Norilsk Nickel', 'Coal India', 'Reliance Industries', 'Sberbank', 'HDFC Bank',\n",
    "            'Ind & Comm. Bank of China', 'China Shenhua Energy', 'PetroChina', 'Itau Unibanco', 'Vale', 'Petróleo Brasileiro']\n",
    "    },\n",
    "\n",
    "    'yAxis': {\n",
    "        'title': {\n",
    "            'text': 'Cost of Equity ( % )'\n",
    "        },\n",
    "        'min': 0,\n",
    "        'max': 40,\n",
    "    },\n",
    "\n",
    "    'tooltip': {\n",
    "        'valueSuffix': '%'\n",
    "    },\n",
    "\n",
    "    'plotOptions': {\n",
    "        'columnrange': {\n",
    "            'dataLabels': {\n",
    "                'enabled': True,\n",
    "                'format': '{y}%'\n",
    "            }\n",
    "        }\n",
    "    },\n",
    "\n",
    "    'legend': {\n",
    "        'align':'middle',\n",
    "        'verticalAlign':'top',\n",
    "        'x':600,\n",
    "        'y':50,\n",
    "        'enabled': True,\n",
    "        'backgroundColor':\"#cacaca\",#'#FCFFC5'\n",
    "        'borderRadius':5,\n",
    "        'borderWidth': 1,\n",
    "        'layout':'vertical'\n",
    "    },\n",
    "\n",
    "}\n",
    "\n",
    "H.set_dict_options(options)\n",
    "data2 = [[6.3, 16.3],\n",
    "            [6.3, 16.3],\n",
    "            [4.9, 17.9],\n",
    "            [5.4, 17.9],\n",
    "            [6.4, 16.9],\n",
    "            [6.0, 17.9],\n",
    "            [4.4, 21.2],\n",
    "            [4.5, 22.1],\n",
    "            [4.5, 22.2],\n",
    "            [7.6, 27.2],\n",
    "            [9.9, 28.9],\n",
    "            [9.9, 35.5]]\n",
    "data3 = [10.1,9.0,8.9,8.9,10.8,8.9,9.7,11.0,11.8,12.3,14.3,{'y': 14.5, 'color':\"#00FF00\"}]\n",
    "lCAPM = [16.2,16.2,14.4,15.6,16.9,17.1,11.8,12.2,12.3,21.2,21.9,24.6]\n",
    "Damo1 = [11.6,10.3,9.6,9.5,13.5,9.9,9.7,11.1,12.2,14.7,17.7,18.4]\n",
    "intCAPM = [8.8,7.9,8.3,8.1,10.9,8.8,9.4,10.6,11.7,10.3,13.9,14.5]\n",
    "H.add_data_set(data2, 'columnrange', 'Range of all approaches', color=\"#00006F\") #\"#FF006F\"\n",
    "H.add_data_set(intCAPM, 'spline' , 'International CAPM', lineWidth=0, radius=6, marker={'symbol':'diamond', 'fillColor':'#aaccee', 'lineColor':'#aaccee', 'enabled':True, 'radius': 5, 'lineWidth': 2})\n",
    "H.add_data_set(lCAPM, 'spline' , 'Local CAPM', lineWidth=0, radius=6, marker={'symbol':'diamond', 'fillColor':'#AA88FF', 'enabled':True, 'radius': 7,})\n",
    "H.add_data_set(Damo1, 'spline' , 'Damodaran #1', lineWidth=0, radius=6, marker={'symbol':'circle', 'fillColor':'#FFFFFF' ,'lineColor':'#FFFFFF', 'enabled':True, 'radius': 5, 'lineWidth': 2})\n",
    "H.add_data_set(data3, 'spline' , 'Mean estimate', lineWidth=0, radius=6, legendColor=\"#00FF00\", marker={'symbol':'cross', 'lineWidth': 2}) #'fillColor':'#00FFBB','lineColor':\"#000000\" ,\n",
    "H\n",
    "#'lineColor':'null', 'enabled':True, 'radius': 5,\n",
    "#\"#00FFBB\""
   ]
  },
  {
   "cell_type": "markdown",
   "metadata": {},
   "source": [
    "1. country of incorporation,\n",
    "2. among the largest 20 public companies by market capitalization listed on the main local index, and\n",
    "3. operating in either of three domestic market-focused businesses within each country with substantial exposure to local country risk: oil and gas, basic materials, and financials.\n",
    "\n",
    "We select the <i>MSCI World Index</i> as a proxy for the world market. The S&P 500 serves as a proxy for the U.S. market, Bovespa for the Brazilian, <i>Micex</i> for the Russian, <i>S&P CNX Nifty</i> for the Indian, and Shanghai Shenzhen CSI 300 Index for the Chinese market. All local market risk premiums are based on the Fernandez 2016 surveys<sup>[36](#36)</sup>, the U.S. market risk premium is 6.25% as per Damodaran<sup>[37](#37)</sup>, and the global market risk premium is approximated by the U.S. MRP. To calculate betas, we use two years of weekly returns. All stock market data are from Bloomberg. Finally, for all cost of equity calculations, the cutoff date is June 30, 2016.<sup>[38](#38)</sup> \n",
    "\n",
    "\n",
    "\n",
    "### 1. Results\n",
    "\n",
    "Figure 3 summarizes the results from the cost of equity (COE) estimates calculated for each company as of the end ofJune 2016. We apply all models depicted in Figure 2. The average COE calculated using the various approaches ranges from 8.6% (International CAPM) up to 16.7% (Local CAPM). The mean of all the approaches is 11.5%, the median is 10.6%, and approximately two thirds of the calculated COES are situated within the range of 8% to 14%. The full set of model parameters and case study results are in Table A1-A3<sup>[39](#39)</sup> in the appendix."
   ]
  },
  {
   "cell_type": "markdown",
   "metadata": {},
   "source": [
    "#### a) Initial Key Findings\n",
    "\n",
    "- The first obvious finding is the wide range of cost of equity estimates for each company that are calculated using the different. approaches. The average range between the maximum and minimum estimate for each company is 15,4 p ercentage points.\n",
    "- As a reference, we show where estimates from three benchmark models (Local CAPM, International CAPM, Damodaran #1) are situated. Consistent with theory, the use of the local CAPM results in higher COE than the use of the International CAPM, on average and consistently across all companies,which results from the International CAPM's implicit assumption that country risk is diversifiable in an international portfolio. The Damodaran #1 approach, a widely used method, delivers results that hover closely around the mean across models. This quasi-consensus estimates of the Damodaran approach across all relevant models might be one reason for its wide application and popularity among practitioners. A more detailed analysis across models follows below.\n",
    "- The mean/median CoE estimate for each country shows clear differences between the countries that may reflect their specific country risk. The median CoE for Brazil is the highest, at 14.0%, followed by China at 11.0%, Russia at 10.1% and India at 8.9%."
   ]
  },
  {
   "cell_type": "markdown",
   "metadata": {},
   "source": [
    "#Insert Figure 4: Median-adjusted cost of equity estimates per model"
   ]
  },
  {
   "cell_type": "markdown",
   "metadata": {},
   "source": [
    "We further investigate the results from the various models relative to each other and calculate <i>median-adjusted</i> cost of equity estimates (Figure 4). The median-adjusted cost of equity is the difference between the actual estimate (from a specific model) and the median estimate across all models (for a specific firm), which accounts for firm heterogeneity and enables model comparisons across firms.<sup>[48](#48)</sup> This analysis is particularly useful for assessing the dispersion of the models' cost of equity estimates. Each dot in the figure relates to a specific company. The blue crosses represent the average estimate for each model."
   ]
  },
  {
   "cell_type": "markdown",
   "metadata": {},
   "source": [
    "#### b) Additional Findings\n",
    "- Some models do not deliver CoE estimates that lie consistently above or below the average/median CoE estimate across companies and countries (e.g., the CSFB approach and the Goldman Sachs approach); in other words, they result in large variations in cost of equity estimates in the cross-section (Figure 4). This lack of consistency is a main drawback for analysts. For instance, the CSFB approach leads to the highest cost of equity for Brazilian companies and the lowest for Chinese companies. The main reason for this variation is the inclusion of the mean returns and volatility of local stock market indices. Additionally, the Goldman Sachs approach shows a large variation around the median across all firms. This approach results in the highest estimates for the Chinese companies and estimates around the mean for all other companies, primarily because of large variations in the correlation between local equity and the sovereign bond market. In contrast, the Bekaert and Harvey Mixture Model is the model that leads to the most focused estimates, all between -1.5% and +1.3%, compared to the median across all models.\n",
    "- The Local CAPM is the model with the highest cost of equity compared to the median, followed by the Erb-Harvey-Viskanta model and the Damodaran #2 approach. For the reference firms, these models imply relatively „defensive\" investment behavior and low asset values on average. On the other end of the scale, the most „aggressive\" models in the case study — resulting in the lowest cost of equity and thus highest asset value — are the various variants of the International CAPM. In particular, the International CAPM (Ibbotson) resultS in very low cost of equity, as this approach uses the local country beta instead of the local company beta and, here, the average local country beta is lower than the average company beta (both measured against a global index). Finally, model estimates based on the Salomon-Smith-Barney, the Damodaran or the Bekaert-and-Harvey models do not have substantial outliers from the mean/median across all models."
   ]
  },
  {
   "cell_type": "markdown",
   "metadata": {},
   "source": [
    "### 2. What are the Implications of a Changing COE? Sensitivity Analysis Using Gazprom\n",
    "\n",
    "To understand the impact of a large variance among cost of equity estimates for the individual firm, we discuss the valuation of the Russian company Gazprom. The cost of equity estimates for Gazprom range from a minimum of 6.3% up to 16.3%."
   ]
  },
  {
   "cell_type": "markdown",
   "metadata": {},
   "source": [
    "#Insert: Figure 5: Conceptual estimation of Gazprom's implied CoE\n",
    "\n",
    "Implied valuation range 5%\n",
    "\n",
    "CSFB\n",
    "Erb-Harvey\n",
    "Cost of Approach\n",
    "Viskanta\n",
    "Equity \n",
    "a) As of June 30, 2016"
   ]
  },
  {
   "cell_type": "markdown",
   "metadata": {},
   "source": [
    "All cost of equity estimates for Gazprom — and the target share price that is dependent on the cost of equity applied — are depicted in Figure 5, We are running a discounted cashflow (DCF) valuation model with consensus cashflows<sup>[41](#41)</sup> over the next ten years, a 2.0% perpetual growth rate, a target debt ratio of 37.0% and static cost of debt of 6.0%. Applying the min or max cost of equity would lead to completely different valuations, with the min CoE estimate of 6.3% resulting in a share value approximately six times higher than the max CoE value of 16.3%. The implied cost of equity (given the share price as of June 30, 2016) is approximately 12%. This market-implied cost of equity is slightly higher than the median of all estimates, which is 10.1%."
   ]
  },
  {
   "cell_type": "markdown",
   "metadata": {},
   "source": [
    "## V. Conclusions: Recommendations for Practitioners\n",
    "\n",
    "Based on the analysis of the previous sections, we provide some general conclusions. First, current models result in a wide range of cost of equity estimates that can considerably affect management decisions. Therefore, analysts must be clear about the assumptions and drawbacks of each model when valuing investment opportunities in emerging markets, and practitioners should choose their model of country risk with caution. Practitioners may also find our analysis of variation across models useful (see [Figure 3](#Figure3)). Although the results for individual models (e.g., the low dispersion across estimates of the Bekaert and Harvey Mixture Model) may not generalize to applications beyond the BRIC countries or the three analyzed industries, analysts may use the median-adjusted cost of equity approach to assess the within-variation for each model for its corresponding application, e.g., country or industry. Our case study of 20 well-known country risk models for reference companies in the BRIC countries (Brazil, Russia, India and China) reveals huge spreads between the models' results of up to 25.6 percentage points for individual firms and 15.4 percentage points on average. Second, none of the presented methods has gained wide acceptance or use. In the short term, despite efforts from both academics and practitioners, reaching consensus on how to appropriately incorporate country risk seems unlikely.\n",
    "\n",
    "Nevertheless, we can draw lessons learned to provide concluding recommendations. These recommendations build upon five qualitative valuation objectives that are frequently important for investment analysts when choosing a valuation model:\n",
    "\\begin{enumerate}[inline]\n",
    "\\item theoretical foundations,\n",
    "\\item the degree of discretionary elements, \n",
    "\\item transparency,\n",
    "\\item data availability, and \n",
    "\\item ease of use \\end{enumerate}(see [Table 2](#Table2)).\n"
   ]
  },
  {
   "cell_type": "markdown",
   "metadata": {},
   "source": [
    "<a id=\"Table2\"></a> Table 2: Model recommendations based on various valuation objectives"
   ]
  },
  {
   "cell_type": "markdown",
   "metadata": {},
   "source": [
    "Valuation objective\\n\\nTheoretical foundations\\n\\nRecommended models\\n\\nInternational CAPM\\n\\nLocal CAPM\\n\\nDownside CAPM\\n\\nErb-Harvey-Viskanta Model\\n\\nHigh number of discretionary elements\\n\\nSalomon-Smith-Barney Approach\\n\\nTransparency\\n\\n\\n\\nLocal CAPM\\n\\nInternational CAPM\\n\\nDownside CAPM\\n\\nLessard Approach\\n\\nData availability\\n\\nDamodaran Approaches\\n\\nInternational CAPM\\n\\nHorn et al. Approach\\n\\nEase of use\\n\\n\\tDamodaran\\troaches\\n\\n\\n\\n"
   ]
  },
  {
   "cell_type": "markdown",
   "metadata": {},
   "source": [
    "For analysts who regard the <i>theoretical foundation</i> of a method as the most important objective, for instance, because the application is in a strict regulatory framework, we recommend applying either of the CAPM versions from the group of conceptual models or the empirical model from Erb-Harveyu Viskanta. In other cases, analysts may want to adjust the cost of equity based on many discretionary elements, ifcompany or sector complexity requires it. In that case, we suggest applying the Salomon-Smith-Barney model. Moreover, if both <i>data availability</i> and <i>ease of use</i> are important model characteristics for the valuation analyst — which is often the case in a normal business setting with both time and resource constraints — we suggest applying, e.g., the Damodaran approaches. Finally, the Lessard approach and the Local, International and Downside CAPM models provide the analyst with transparent calculations, which are relatively easy to follow and verify for third parties.\n",
    "\n",
    "If several models meet the analyst's requirements, then the analyst can use this subset of models and average the results. Of course, other typical robustness checks in investment valuation, such as sensitivity analysis, peer comparison, historic transaction analysis and consensus estimate verification, are also critical in the context of country risk models. Nevertheless, the valuation of investment opportunities in an international context remains challenging. Developing the standard pricing model for evaluating risk in global markets certainly remains a fruitful area for future research."
   ]
  },
  {
   "cell_type": "markdown",
   "metadata": {},
   "source": [
    "## VI. Appendix\n",
    "In the following tables you will find the summarized models described in the article and the case study results in detail."
   ]
  },
  {
   "cell_type": "code",
   "execution_count": 16,
   "metadata": {},
   "outputs": [],
   "source": [
    "from sympy import *\n",
    "init_printing()"
   ]
  },
  {
   "cell_type": "code",
   "execution_count": 154,
   "metadata": {},
   "outputs": [],
   "source": [
    "e_ri, r_local, r_us, r_global, beta_global, mrp_global = symbols('E[r_{i}] r_{f\\_local} r_{f\\_US} r_{f\\_global} \\\\beta_{i\\,global} MRP_global')\n",
    "beta_localglobal,mrp_us, beta_usglobal  = symbols('beta_localMarket\\,global MRP_US beta_US\\,global')\n",
    "beta_us, beta_p, beta_local = symbols('beta_i\\,US beta_p beta_i\\,local')\n",
    "lambdah, mrp_local = symbols('lambda MRP_local')"
   ]
  },
  {
   "cell_type": "code",
   "execution_count": 148,
   "metadata": {},
   "outputs": [
    {
     "data": {
      "image/png": "[encoded data removed]",
      "text/latex": [
       "$$\\beta_{US,global}$$"
      ],
      "text/plain": [
       "β_US,global"
      ]
     },
     "execution_count": 148,
     "metadata": {},
     "output_type": "execute_result"
    }
   ],
   "source": [
    "beta_usglobal"
   ]
  },
  {
   "cell_type": "code",
   "execution_count": 152,
   "metadata": {},
   "outputs": [
    {
     "data": {
      "image/png": "[encoded data removed]",
      "text/latex": [
       "$$\\lambda$$"
      ],
      "text/plain": [
       "λ"
      ]
     },
     "execution_count": 152,
     "metadata": {},
     "output_type": "execute_result"
    }
   ],
   "source": [
    "lambdah"
   ]
  },
  {
   "cell_type": "code",
   "execution_count": 157,
   "metadata": {},
   "outputs": [
    {
     "data": {
      "image/png": "[encoded data removed]",
      "text/latex": [
       "$$\\left ( \\beta_{\\mathcal{i,lo}}, \\quad MRP_{\\mathcal{lo}}, \\quad \\beta_{\\mathcal{i,lo}}, \\quad \\beta_{localMarket,global}\\right )$$"
      ],
      "text/plain": [
       "(β_i,local, MRP_local, β_i,local, β_localMarket,global)"
      ]
     },
     "execution_count": 157,
     "metadata": {},
     "output_type": "execute_result"
    }
   ],
   "source": [
    "beta_local, mrp_local, beta_local, beta_localglobal"
   ]
  },
  {
   "cell_type": "code",
   "execution_count": 158,
   "metadata": {},
   "outputs": [],
   "source": [
    "iCAPM = Eq(e_ri, r_global + (beta_global*mrp_global))\n",
    "iCAPMproxy = Eq(e_ri, r_us + (beta_us*mrp_us))\n",
    "iCAPM_Ibbotson = Eq(e_ri, r_us + beta_localglobal *(mrp_us/beta_usglobal))\n",
    "modiCAPM = Eq(e_ri, r_us+(beta_p*mrp_us))\n",
    "locCAPM = Eq(e_ri, r_local + (beta_local*mrp_local))\n",
    "BHMM = Eq(e_ri, r_us+(S(1)-lambdah)*(beta_local*mrp_local)+lambdah*(beta_global*mrp_global))"
   ]
  },
  {
   "cell_type": "markdown",
   "metadata": {},
   "source": [
    "Show models:"
   ]
  },
  {
   "cell_type": "code",
   "execution_count": 172,
   "metadata": {},
   "outputs": [
    {
     "data": {
      "image/png": "[encoded data removed]",
      "text/latex": [
       "$$\\left [ E[r_{i}] = MRP_{global} \\beta_{i,global} + r_{f\\_global}, \\quad E[r_{i}] = MRP_{US} \\beta_{i,US} + r_{f\\_US}, \\quad E[r_{i}] = \\frac{MRP_{US} \\beta_{localMarket,global}}{\\beta_{US,global}} + r_{f\\_US}, \\quad E[r_{i}] = MRP_{US} \\beta_{p} + r_{f\\_US}, \\quad E[r_{i}] = MRP_{\\mathcal{lo}} \\beta_{\\mathcal{i,lo}} + r_{f\\_local}, \\quad E[r_{i}] = MRP_{global} \\beta_{i,global} \\lambda + MRP_{\\mathcal{lo}} \\beta_{\\mathcal{i,lo}} \\left(- \\lambda + 1\\right) + r_{f\\_US}\\right ]$$"
      ],
      "text/plain": [
       "⎡                                                                             \n",
       "⎢E[r_{i}] = MRP_global⋅\\beta_{i,global} + r_{f\\_global}, E[r_{i}] = MRP_US⋅β_i\n",
       "⎣                                                                             \n",
       "\n",
       "                            MRP_US⋅β_localMarket,global                       \n",
       ",US + r_{f\\_US}, E[r_{i}] = ─────────────────────────── + r_{f\\_US}, E[r_{i}] \n",
       "                                    β_US,global                               \n",
       "\n",
       "                                                                              \n",
       "= MRP_US⋅βₚ + r_{f\\_US}, E[r_{i}] = MRP_local⋅β_i,local + r_{f\\_local}, E[r_{i\n",
       "                                                                              \n",
       "\n",
       "                                                                             ⎤\n",
       "}] = MRP_global⋅\\beta_{i,global}⋅λ + MRP_local⋅β_i,local⋅(-λ + 1) + r_{f\\_US}⎥\n",
       "                                                                             ⎦"
      ]
     },
     "execution_count": 172,
     "metadata": {},
     "output_type": "execute_result"
    }
   ],
   "source": [
    "models"
   ]
  },
  {
   "cell_type": "code",
   "execution_count": 124,
   "metadata": {},
   "outputs": [
    {
     "data": {
      "image/png": "[encoded data removed]",
      "text/latex": [
       "$$E[r_{i}] = MRP_{global} \\beta_{i,global} + r_{f\\_global}$$"
      ],
      "text/plain": [
       "E[r_{i}] = MRP_global⋅\\beta_{i,global} + r_{f\\_global}"
      ]
     },
     "execution_count": 124,
     "metadata": {},
     "output_type": "execute_result"
    }
   ],
   "source": [
    "iCAPM"
   ]
  },
  {
   "cell_type": "code",
   "execution_count": 125,
   "metadata": {},
   "outputs": [
    {
     "data": {
      "image/png": "[encoded data removed]",
      "text/latex": [
       "$$E[r_{i}] = MRP_{US} \\beta_{i,US} + r_{f\\_US}$$"
      ],
      "text/plain": [
       "E[r_{i}] = MRP_US⋅β_i,US + r_{f\\_US}"
      ]
     },
     "execution_count": 125,
     "metadata": {},
     "output_type": "execute_result"
    }
   ],
   "source": [
    "iCAPMproxy"
   ]
  },
  {
   "cell_type": "code",
   "execution_count": 85,
   "metadata": {},
   "outputs": [
    {
     "data": {
      "image/png": "[encoded data removed]",
      "text/latex": [
       "$$E[r_{i}] = \\frac{MRP_{US} \\beta_{localMarket,global}}{\\beta_{US,global}} + r_{f\\_US}$$"
      ],
      "text/plain": [
       "           MRP_US⋅β_localMarket,global            \n",
       "E[r_{i}] = ─────────────────────────── + r_{f\\_US}\n",
       "                   β_US,global                    "
      ]
     },
     "execution_count": 85,
     "metadata": {},
     "output_type": "execute_result"
    }
   ],
   "source": [
    "iCAPM_Ibbotson"
   ]
  },
  {
   "cell_type": "code",
   "execution_count": 130,
   "metadata": {},
   "outputs": [
    {
     "data": {
      "image/png": "[encoded data removed]",
      "text/latex": [
       "$$E[r_{i}] = MRP_{US} \\beta_{p} + r_{f\\_US}$$"
      ],
      "text/plain": [
       "E[r_{i}] = MRP_US⋅βₚ + r_{f\\_US}"
      ]
     },
     "execution_count": 130,
     "metadata": {},
     "output_type": "execute_result"
    }
   ],
   "source": [
    "modiCAPM"
   ]
  },
  {
   "cell_type": "code",
   "execution_count": 160,
   "metadata": {},
   "outputs": [
    {
     "data": {
      "image/png": "[encoded data removed]",
      "text/latex": [
       "$$E[r_{i}] = MRP_{\\mathcal{lo}} \\beta_{\\mathcal{i,lo}} + r_{f\\_local}$$"
      ],
      "text/plain": [
       "E[r_{i}] = MRP_local⋅β_i,local + r_{f\\_local}"
      ]
     },
     "execution_count": 160,
     "metadata": {},
     "output_type": "execute_result"
    }
   ],
   "source": [
    "locCAPM"
   ]
  },
  {
   "cell_type": "code",
   "execution_count": 159,
   "metadata": {},
   "outputs": [
    {
     "data": {
      "image/png": "[encoded data removed]",
      "text/latex": [
       "$$E[r_{i}] = MRP_{global} \\beta_{i,global} \\lambda + MRP_{\\mathcal{lo}} \\beta_{\\mathcal{i,lo}} \\left(- \\lambda + 1\\right) + r_{f\\_US}$$"
      ],
      "text/plain": [
       "E[r_{i}] = MRP_global⋅\\beta_{i,global}⋅λ + MRP_local⋅β_i,local⋅(-λ + 1) + r_{f\n",
       "\\_US}"
      ]
     },
     "execution_count": 159,
     "metadata": {},
     "output_type": "execute_result"
    }
   ],
   "source": [
    "BHMM"
   ]
  },
  {
   "cell_type": "code",
   "execution_count": 90,
   "metadata": {},
   "outputs": [
    {
     "data": {
      "image/png": "[encoded data removed]",
      "text/latex": [
       "$$\\frac{\\partial}{\\partial r_{f\\_US}} E[r_{i}] = \\frac{MRP_{US} \\beta_{localMarket,global}}{\\beta_{US,global}} + r_{f\\_US}$$"
      ],
      "text/plain": [
       "    ∂     ⎛           MRP_US⋅β_localMarket,global            ⎞\n",
       "──────────⎜E[r_{i}] = ─────────────────────────── + r_{f\\_US}⎟\n",
       "∂r_{f\\_US}⎝                   β_US,global                    ⎠"
      ]
     },
     "execution_count": 90,
     "metadata": {},
     "output_type": "execute_result"
    }
   ],
   "source": [
    "iCAPM_Ibbotson.diff(r_us)"
   ]
  },
  {
   "cell_type": "code",
   "execution_count": 93,
   "metadata": {},
   "outputs": [
    {
     "data": {
      "image/png": "[encoded data removed]",
      "text/latex": [
       "$$\\frac{\\partial}{\\partial r_{f\\_US}}\\left(\\frac{MRP_{US} \\beta_{localMarket,global}}{\\beta_{US,global}} + r_{f\\_US}\\right)$$"
      ],
      "text/plain": [
       "    ∂     ⎛MRP_US⋅β_localMarket,global            ⎞\n",
       "──────────⎜─────────────────────────── + r_{f\\_US}⎟\n",
       "∂r_{f\\_US}⎝        β_US,global                    ⎠"
      ]
     },
     "execution_count": 93,
     "metadata": {},
     "output_type": "execute_result"
    }
   ],
   "source": [
    "Derivative(iCAPM_Ibbotson.rhs, r_us).simplify()"
   ]
  },
  {
   "cell_type": "markdown",
   "metadata": {},
   "source": [
    "Define a string of models"
   ]
  },
  {
   "cell_type": "code",
   "execution_count": 161,
   "metadata": {},
   "outputs": [],
   "source": [
    "model_names=['International CAPM','International CAPM (US proxy)','International CAPM (Ibbotson)','Modified International CAPM (Sabal)','Local CAPM','Bekaert and Harvey Mixture Model']\n",
    "models = [iCAPM, iCAPMproxy, iCAPM_Ibbotson, modiCAPM, locCAPM, BHMM]"
   ]
  },
  {
   "cell_type": "code",
   "execution_count": 75,
   "metadata": {},
   "outputs": [
    {
     "data": {
      "image/png": "[encoded data removed]",
      "text/latex": [
       "$$- \\frac{r_{f\\_global}}{MRP_{global}} + \\frac{0.15}{MRP_{global}}$$"
      ],
      "text/plain": [
       "  r_{f\\_global}      0.15   \n",
       "- ───────────── + ──────────\n",
       "    MRP_global    MRP_global"
      ]
     },
     "execution_count": 75,
     "metadata": {},
     "output_type": "execute_result"
    }
   ],
   "source": [
    "solve(iCAPM, beta_global)[0].subs(e_ri,0.15).expand(mrp_global)"
   ]
  },
  {
   "cell_type": "code",
   "execution_count": 69,
   "metadata": {},
   "outputs": [
    {
     "data": {
      "image/png": "[encoded data removed]",
      "text/latex": [
       "$$MRP_{global} \\beta_{i,global} + r_{f\\_global}$$"
      ],
      "text/plain": [
       "MRP_global⋅\\beta_{i,global} + r_{f\\_global}"
      ]
     },
     "execution_count": 69,
     "metadata": {},
     "output_type": "execute_result"
    }
   ],
   "source": [
    "iCAPM.rhs"
   ]
  },
  {
   "cell_type": "code",
   "execution_count": 68,
   "metadata": {},
   "outputs": [
    {
     "data": {
      "image/png": "[encoded data removed]",
      "text/latex": [
       "$$E[r_{i}] = 0.17$$"
      ],
      "text/plain": [
       "E[r_{i}] = 0.17"
      ]
     },
     "execution_count": 68,
     "metadata": {},
     "output_type": "execute_result"
    }
   ],
   "source": [
    "iCAPM.subs(beta_global, 1.2).subs(r_global,0.05).subs(mrp_global,0.1).subs(r_us,0.11)"
   ]
  },
  {
   "cell_type": "code",
   "execution_count": 78,
   "metadata": {},
   "outputs": [
    {
     "data": {
      "image/png": "[encoded data removed]",
      "text/latex": [
       "$$E[r_{i}] = 0.17$$"
      ],
      "text/plain": [
       "E[r_{i}] = 0.17"
      ]
     },
     "execution_count": 78,
     "metadata": {},
     "output_type": "execute_result"
    }
   ],
   "source": [
    "iCAPM.subs({beta_global:1.2,r_global:0.05,mrp_global:0.1,r_us:0.11})"
   ]
  },
  {
   "cell_type": "markdown",
   "metadata": {},
   "source": [
    "$r_{f\\_global} + (\\beta_{i,global}\\times MRP_{global})$"
   ]
  },
  {
   "cell_type": "code",
   "execution_count": 168,
   "metadata": {},
   "outputs": [
    {
     "data": {
      "application/vnd.jupyter.widget-view+json": {
       "model_id": "2d8889f5dd0d4dfa9145d7d27ed6fc84",
       "version_major": 2,
       "version_minor": 0
      },
      "text/html": [
       "<p>Failed to display Jupyter Widget of type <code>QgridWidget</code>.</p>\n",
       "<p>\n",
       "  If you're reading this message in the Jupyter Notebook or JupyterLab Notebook, it may mean\n",
       "  that the widgets JavaScript is still loading. If this message persists, it\n",
       "  likely means that the widgets JavaScript library is either not installed or\n",
       "  not enabled. See the <a href=\"https://ipywidgets.readthedocs.io/en/stable/user_install.html\">Jupyter\n",
       "  Widgets Documentation</a> for setup instructions.\n",
       "</p>\n",
       "<p>\n",
       "  If you're reading this message in another frontend (for example, a static\n",
       "  rendering on GitHub or <a href=\"https://nbviewer.jupyter.org/\">NBViewer</a>),\n",
       "  it may mean that your frontend doesn't currently support widgets.\n",
       "</p>\n"
      ],
      "text/plain": [
       "QgridWidget(grid_options={'forceFitColumns': True, 'fullWidthRows': True, 'rowHeight': 28, 'highlightSelectedCell': False, 'enableTextSelectionOnCells': True, 'highlightSelectedRow': True, 'explicitInitialization': True, 'sortable': True, 'maxVisibleRows': 15, 'autoEdit': False, 'minVisibleRows': 8, 'enableColumnReorder': False, 'editable': True, 'syncColumnCellResize': True, 'defaultColumnWidth': 150, 'filterable': True}, precision=5)"
      ]
     },
     "metadata": {},
     "output_type": "display_data"
    }
   ],
   "source": [
    "import pandas as pd\n",
    "# try to put equalities in table and apply/map subs\n",
    "myDF = pd.DataFrame(columns=['Approach','Formula','Expected return'])\n",
    "myDF['Approach']=model_names\n",
    "myDF['Formula']=models\n",
    "myDF['Expected return']=0.00\n",
    "myDF"
   ]
  },
  {
   "cell_type": "code",
   "execution_count": 163,
   "metadata": {},
   "outputs": [
    {
     "data": {
      "application/vnd.jupyter.widget-view+json": {
       "model_id": "5748c43781634ba2a0a9ad9c1fe11a82",
       "version_major": 2,
       "version_minor": 0
      },
      "text/html": [
       "<p>Failed to display Jupyter Widget of type <code>QgridWidget</code>.</p>\n",
       "<p>\n",
       "  If you're reading this message in the Jupyter Notebook or JupyterLab Notebook, it may mean\n",
       "  that the widgets JavaScript is still loading. If this message persists, it\n",
       "  likely means that the widgets JavaScript library is either not installed or\n",
       "  not enabled. See the <a href=\"https://ipywidgets.readthedocs.io/en/stable/user_install.html\">Jupyter\n",
       "  Widgets Documentation</a> for setup instructions.\n",
       "</p>\n",
       "<p>\n",
       "  If you're reading this message in another frontend (for example, a static\n",
       "  rendering on GitHub or <a href=\"https://nbviewer.jupyter.org/\">NBViewer</a>),\n",
       "  it may mean that your frontend doesn't currently support widgets.\n",
       "</p>\n"
      ],
      "text/plain": [
       "QgridWidget(grid_options={'forceFitColumns': True, 'fullWidthRows': True, 'rowHeight': 28, 'highlightSelectedCell': False, 'enableTextSelectionOnCells': True, 'highlightSelectedRow': True, 'explicitInitialization': True, 'sortable': True, 'maxVisibleRows': 15, 'autoEdit': False, 'minVisibleRows': 8, 'enableColumnReorder': False, 'editable': True, 'syncColumnCellResize': True, 'defaultColumnWidth': 150, 'filterable': True}, precision=5)"
      ]
     },
     "metadata": {},
     "output_type": "display_data"
    }
   ],
   "source": [
    "myDF['Expected return']= 0.00\n",
    "myDF"
   ]
  },
  {
   "cell_type": "code",
   "execution_count": 178,
   "metadata": {},
   "outputs": [
    {
     "data": {
      "application/vnd.jupyter.widget-view+json": {
       "model_id": "0738db5992cb41fcbaea46050be778e5",
       "version_major": 2,
       "version_minor": 0
      },
      "text/html": [
       "<p>Failed to display Jupyter Widget of type <code>QgridWidget</code>.</p>\n",
       "<p>\n",
       "  If you're reading this message in the Jupyter Notebook or JupyterLab Notebook, it may mean\n",
       "  that the widgets JavaScript is still loading. If this message persists, it\n",
       "  likely means that the widgets JavaScript library is either not installed or\n",
       "  not enabled. See the <a href=\"https://ipywidgets.readthedocs.io/en/stable/user_install.html\">Jupyter\n",
       "  Widgets Documentation</a> for setup instructions.\n",
       "</p>\n",
       "<p>\n",
       "  If you're reading this message in another frontend (for example, a static\n",
       "  rendering on GitHub or <a href=\"https://nbviewer.jupyter.org/\">NBViewer</a>),\n",
       "  it may mean that your frontend doesn't currently support widgets.\n",
       "</p>\n"
      ],
      "text/plain": [
       "QgridWidget(grid_options={'forceFitColumns': True, 'fullWidthRows': True, 'rowHeight': 28, 'highlightSelectedCell': False, 'enableTextSelectionOnCells': True, 'highlightSelectedRow': True, 'explicitInitialization': True, 'sortable': True, 'maxVisibleRows': 15, 'autoEdit': False, 'minVisibleRows': 8, 'enableColumnReorder': False, 'editable': True, 'syncColumnCellResize': True, 'defaultColumnWidth': 150, 'filterable': True}, precision=5)"
      ]
     },
     "metadata": {},
     "output_type": "display_data"
    }
   ],
   "source": [
    "myDF['Expected return']=myDF['Formula'].apply(lambda x:x.rhs.subs({beta_global:1.2,r_global:0.05,mrp_global:0.1,r_us:0.11,lambdah:0.55,mrp_local:0.12,mrp_us:0.115,beta_us:1.1,beta_local:0.86,beta_localglobal:0.77,beta_usglobal:1.07,r_local:0.045,beta_p:1.344}))    # .df['a'] = df['a'].apply(lambda x: x + 1)\n",
    "myDF"
   ]
  },
  {
   "cell_type": "code",
   "execution_count": 171,
   "metadata": {},
   "outputs": [
    {
     "data": {
      "application/vnd.jupyter.widget-view+json": {
       "model_id": "08452c6261044591883414c378b6d1f9",
       "version_major": 2,
       "version_minor": 0
      },
      "text/html": [
       "<p>Failed to display Jupyter Widget of type <code>QgridWidget</code>.</p>\n",
       "<p>\n",
       "  If you're reading this message in the Jupyter Notebook or JupyterLab Notebook, it may mean\n",
       "  that the widgets JavaScript is still loading. If this message persists, it\n",
       "  likely means that the widgets JavaScript library is either not installed or\n",
       "  not enabled. See the <a href=\"https://ipywidgets.readthedocs.io/en/stable/user_install.html\">Jupyter\n",
       "  Widgets Documentation</a> for setup instructions.\n",
       "</p>\n",
       "<p>\n",
       "  If you're reading this message in another frontend (for example, a static\n",
       "  rendering on GitHub or <a href=\"https://nbviewer.jupyter.org/\">NBViewer</a>),\n",
       "  it may mean that your frontend doesn't currently support widgets.\n",
       "</p>\n"
      ],
      "text/plain": [
       "QgridWidget(grid_options={'forceFitColumns': True, 'fullWidthRows': True, 'rowHeight': 28, 'highlightSelectedCell': False, 'enableTextSelectionOnCells': True, 'highlightSelectedRow': True, 'explicitInitialization': True, 'sortable': True, 'maxVisibleRows': 15, 'autoEdit': False, 'minVisibleRows': 8, 'enableColumnReorder': False, 'editable': True, 'syncColumnCellResize': True, 'defaultColumnWidth': 150, 'filterable': True}, precision=5)"
      ]
     },
     "metadata": {},
     "output_type": "display_data"
    }
   ],
   "source": [
    "import qgrid\n",
    "qgrid.enable()\n",
    "myDF"
   ]
  },
  {
   "cell_type": "code",
   "execution_count": 114,
   "metadata": {},
   "outputs": [
    {
     "data": {
      "application/vnd.jupyter.widget-view+json": {
       "model_id": "be600b2684644d74b1e90fa8d36f2184",
       "version_major": 2,
       "version_minor": 0
      },
      "text/html": [
       "<p>Failed to display Jupyter Widget of type <code>QgridWidget</code>.</p>\n",
       "<p>\n",
       "  If you're reading this message in the Jupyter Notebook or JupyterLab Notebook, it may mean\n",
       "  that the widgets JavaScript is still loading. If this message persists, it\n",
       "  likely means that the widgets JavaScript library is either not installed or\n",
       "  not enabled. See the <a href=\"https://ipywidgets.readthedocs.io/en/stable/user_install.html\">Jupyter\n",
       "  Widgets Documentation</a> for setup instructions.\n",
       "</p>\n",
       "<p>\n",
       "  If you're reading this message in another frontend (for example, a static\n",
       "  rendering on GitHub or <a href=\"https://nbviewer.jupyter.org/\">NBViewer</a>),\n",
       "  it may mean that your frontend doesn't currently support widgets.\n",
       "</p>\n"
      ],
      "text/plain": [
       "QgridWidget(grid_options={'forceFitColumns': True, 'fullWidthRows': True, 'rowHeight': 28, 'highlightSelectedCell': False, 'enableTextSelectionOnCells': True, 'highlightSelectedRow': True, 'explicitInitialization': True, 'sortable': True, 'maxVisibleRows': 15, 'autoEdit': False, 'minVisibleRows': 8, 'enableColumnReorder': False, 'editable': True, 'syncColumnCellResize': True, 'defaultColumnWidth': 150, 'filterable': True}, precision=5)"
      ]
     },
     "metadata": {},
     "output_type": "display_data"
    }
   ],
   "source": [
    "myDF[0] = myDF[0].rename('Sympy')\n",
    "myDF"
   ]
  },
  {
   "cell_type": "code",
   "execution_count": 110,
   "metadata": {},
   "outputs": [
    {
     "name": "stdout",
     "output_type": "stream",
     "text": [
      "\\begin{tabular}{lll}\n",
      "\\toprule\n",
      "{} &                                                  0 &                                    Expected return \\\\\n",
      "\\midrule\n",
      "0 &  Eq(E[r\\_\\{i\\}], MRP\\_global*\\textbackslash beta\\_\\{i,global\\} + r\\_\\{... &                                  0.170000000000000 \\\\\n",
      "1 &  Eq(E[r\\_\\{i\\}], MRP\\_US*beta\\_localMarket,global/be... &  MRP\\_US*beta\\_localMarket,global/beta\\_US,global ... \\\\\n",
      "\\bottomrule\n",
      "\\end{tabular}\n",
      "\n"
     ]
    }
   ],
   "source": [
    "from IPython.display import display, Latex\n",
    "lstring = myDF.to_latex()\n",
    "print(lstring)\n",
    "\n",
    "with open('sympytable.tex','w') as outfile:\n",
    "    outfile.write(lstring)"
   ]
  },
  {
   "cell_type": "code",
   "execution_count": 81,
   "metadata": {},
   "outputs": [
    {
     "ename": "NameError",
     "evalue": "name 'myDF' is not defined",
     "output_type": "error",
     "traceback": [
      "\u001b[1;31m---------------------------------------------------------------------------\u001b[0m",
      "\u001b[1;31mNameError\u001b[0m                                 Traceback (most recent call last)",
      "\u001b[1;32m<ipython-input-81-82b131c4c5fe>\u001b[0m in \u001b[0;36m<module>\u001b[1;34m()\u001b[0m\n\u001b[0;32m      9\u001b[0m     \u001b[0mdict\u001b[0m\u001b[1;33m(\u001b[0m\u001b[0mselector\u001b[0m\u001b[1;33m=\u001b[0m\u001b[1;34m\"caption\"\u001b[0m\u001b[1;33m,\u001b[0m \u001b[0mprops\u001b[0m\u001b[1;33m=\u001b[0m\u001b[1;33m[\u001b[0m\u001b[1;33m(\u001b[0m\u001b[1;34m\"caption-side\"\u001b[0m\u001b[1;33m,\u001b[0m \u001b[1;34m\"bottom\"\u001b[0m\u001b[1;33m)\u001b[0m\u001b[1;33m]\u001b[0m\u001b[1;33m)\u001b[0m\u001b[1;33m\u001b[0m\u001b[0m\n\u001b[0;32m     10\u001b[0m ]\n\u001b[1;32m---> 11\u001b[1;33m html = (myDF.style.set_table_styles(styles)\n\u001b[0m\u001b[0;32m     12\u001b[0m           .set_caption(\"<a id='Table2'></a>Table 2. Overview of CoE Approaches.\"))\n\u001b[0;32m     13\u001b[0m \u001b[0mhtml\u001b[0m\u001b[1;33m\u001b[0m\u001b[0m\n",
      "\u001b[1;31mNameError\u001b[0m: name 'myDF' is not defined"
     ]
    }
   ],
   "source": [
    "def hover(hover_color=\"#ffff99\"):\n",
    "    return dict(selector=\"tr:hover\",\n",
    "                props=[(\"background-color\", \"%s\" % hover_color)])\n",
    "\n",
    "styles = [\n",
    "    hover(),\n",
    "    dict(selector=\"th\", props=[(\"font-size\", \"150%\"),\n",
    "                               (\"text-align\", \"center\")]),\n",
    "    dict(selector=\"caption\", props=[(\"caption-side\", \"bottom\")])\n",
    "]\n",
    "html = (myDF.style.set_table_styles(styles)\n",
    "          .set_caption(\"<a id='Table2'></a>Table 2. Overview of CoE Approaches.\"))\n",
    "html"
   ]
  },
  {
   "cell_type": "code",
   "execution_count": 98,
   "metadata": {},
   "outputs": [
    {
     "data": {
      "text/plain": [
       "'E[r_{i}] = \\\\frac{MRP_{US} \\\\beta_{localMarket,global}}{\\\\beta_{US,global}} + r_{f\\\\_US}'"
      ]
     },
     "execution_count": 98,
     "metadata": {},
     "output_type": "execute_result"
    }
   ],
   "source": [
    "latex(iCAPM_Ibbotson)"
   ]
  },
  {
   "cell_type": "code",
   "execution_count": 225,
   "metadata": {},
   "outputs": [
    {
     "ename": "ImportError",
     "evalue": "No module named 'highmap_helper'",
     "output_type": "error",
     "traceback": [
      "\u001b[1;31m---------------------------------------------------------------------------\u001b[0m",
      "\u001b[1;31mImportError\u001b[0m                               Traceback (most recent call last)",
      "\u001b[1;32m<ipython-input-225-720ef2185ec9>\u001b[0m in \u001b[0;36m<module>\u001b[1;34m()\u001b[0m\n\u001b[0;32m      1\u001b[0m \u001b[1;32mfrom\u001b[0m \u001b[0mhighcharts\u001b[0m \u001b[1;32mimport\u001b[0m \u001b[0mHighmap\u001b[0m\u001b[1;33m\u001b[0m\u001b[0m\n\u001b[1;32m----> 2\u001b[1;33m \u001b[1;32mfrom\u001b[0m \u001b[0mhighmap_helper\u001b[0m \u001b[1;32mimport\u001b[0m \u001b[0mjsonp_loader\u001b[0m\u001b[1;33m,\u001b[0m \u001b[0mjs_map_loader\u001b[0m\u001b[1;33m,\u001b[0m \u001b[0mgeojson_handler\u001b[0m\u001b[1;33m\u001b[0m\u001b[0m\n\u001b[0m\u001b[0;32m      3\u001b[0m \u001b[1;33m\u001b[0m\u001b[0m\n\u001b[0;32m      4\u001b[0m \u001b[0mchart\u001b[0m \u001b[1;33m=\u001b[0m \u001b[0mHighmap\u001b[0m\u001b[1;33m(\u001b[0m\u001b[1;33m)\u001b[0m\u001b[1;33m\u001b[0m\u001b[0m\n\u001b[0;32m      5\u001b[0m options = {\n",
      "\u001b[1;31mImportError\u001b[0m: No module named 'highmap_helper'"
     ]
    }
   ],
   "source": [
    "from highcharts import Highmap\n",
    "from highmap_helper import jsonp_loader, js_map_loader, geojson_handler\n",
    "\n",
    "chart = Highmap()\n",
    "options = {\n",
    "    'chart': {\n",
    "        'borderWidth': 1,\n",
    "        'marginRight': 50 \n",
    "    },\n",
    "    'title': {\n",
    "        'text': 'US Counties unemployment rates, April 2015'\n",
    "    },\n",
    "    'legend': {\n",
    "        'title': {\n",
    "            'text': 'Unemployment<br>rate',\n",
    "            'style': {\n",
    "                'color': \"(Highcharts.theme && Highcharts.theme.textColor) || 'black'\"\n",
    "            }\n",
    "        },\n",
    "        'layout': 'vertical',\n",
    "        'align': 'right',\n",
    "        'floating': True,\n",
    "        'valueDecimals': 0,\n",
    "        'valueSuffix': '%',\n",
    "        'backgroundColor': \"(Highcharts.theme && Highcharts.theme.legendBackgroundColor) || 'rgba(255, 255, 255, 0.85)'\",\n",
    "        'symbolRadius': 0,\n",
    "        'symbolHeight': 14\n",
    "    },\n",
    "    'mapNavigation': {\n",
    "        'enabled': True\n",
    "    },\n",
    "    'colorAxis': {\n",
    "        'dataClasses': [{\n",
    "            'from': 0,\n",
    "            'to': 2,\n",
    "            'color': \"#F1EEF6\"\n",
    "        }, {\n",
    "            'from': 2,\n",
    "            'to': 4,\n",
    "            'color': \"#D4B9DA\"\n",
    "        }, {\n",
    "            'from': 4,\n",
    "            'to': 6,\n",
    "            'color': \"#C994C7\"\n",
    "        }, {\n",
    "            'from': 6,\n",
    "            'to': 8,\n",
    "            'color': \"#DF65B0\"\n",
    "        }, {\n",
    "            'from': 8,\n",
    "            'to': 10,\n",
    "            'color': \"#DD1C77\"\n",
    "        }, {\n",
    "            'from': 10,\n",
    "            'color': \"#980043\"\n",
    "        }]\n",
    "    },\n",
    "    'plotOptions': {\n",
    "        'map':{\n",
    "            'mapData': 'geojson'\n",
    "        },\n",
    "        'mapline': {\n",
    "            'showInLegend': False,\n",
    "            'enableMouseTracking': False\n",
    "        }\n",
    "    }\n",
    "} \n",
    "\n",
    "chart.set_dict_options(options)\n",
    "\n",
    "# read data and map directly from url\n",
    "data_url = 'http://www.highcharts.com/samples/data/jsonp.php?filename=us-counties-unemployment.json&callback=?'\n",
    "map_url = 'http://code.highcharts.com/mapdata/countries/us/us-all-all.js'\n",
    "\n",
    "data = jsonp_loader(data_url)\n",
    "geojson = js_map_loader(map_url)\n",
    "mapdata = geojson_handler(geojson)\n",
    "lines = geojson_handler(geojson, 'mapline')\n",
    "for x in mapdata:\n",
    "    x.update({'name':x['name']+', '+x['properties']['hc-key'].split('-')[1].upper()})\n",
    "\n",
    "#map(lambda x: x['properties'].update({'name':x['properties']['name']+', '+x['properties']['hc-key'].split('-')[1]}), geojson['features'])\n",
    "\n",
    "chart.add_data_set(data, 'map', 'Unemployment rate', joinBy = ['hc-key', 'code'], \n",
    "    tooltip={'valueSuffix': '%'},\n",
    "    borderWidth=0.5,\n",
    "    states={\n",
    "        'hover': {\n",
    "            'color': '#bada55'\n",
    "        }\n",
    "    }\n",
    ")\n",
    "chart.add_data_set([lines[0]], 'mapline', 'State borders', color = 'white')\n",
    "chart.add_data_set([lines[3]], 'mapline', 'Separator', color = 'gray')\n",
    "chart.add_map_data(mapdata)"
   ]
  },
  {
   "cell_type": "code",
   "execution_count": 228,
   "metadata": {},
   "outputs": [
    {
     "data": {
      "text/html": [
       "<iframe style=\"border:0;outline:none;overflow:hidden\" srcdoc=\"&lt;!DOCTYPE html&gt; &lt;html lang=&quot;en&quot;&gt; &lt;head&gt; &lt;meta charset=&quot;utf-8&quot; /&gt; &lt;link href=&quot;https://www.highcharts.com/highslide/highslide.css&quot; rel=&quot;stylesheet&quot; /&gt; &lt;script type=&quot;text/javascript&quot; src=&quot;https://ajax.googleapis.com/ajax/libs/jquery/1.9.1/jquery.min.js&quot;&gt;&lt;/script&gt; &lt;script type=&quot;text/javascript&quot; src=&quot;https://code.highcharts.com/highcharts.js&quot;&gt;&lt;/script&gt; &lt;script type=&quot;text/javascript&quot; src=&quot;https://code.highcharts.com/highcharts-more.js&quot;&gt;&lt;/script&gt; &lt;script type=&quot;text/javascript&quot; src=&quot;https://code.highcharts.com/modules/heatmap.js&quot;&gt;&lt;/script&gt; &lt;script type=&quot;text/javascript&quot; src=&quot;https://code.highcharts.com/modules/exporting.js&quot;&gt;&lt;/script&gt; &lt;/head&gt; &lt;body style=&quot;margin:0;padding:0&quot;&gt; &lt;div id=&quot;container&quot; style=&quot;&quot;&gt;Loading....&lt;/div&gt; &lt;script&gt; $(function(){ Highcharts.setOptions({&quot;lang&quot;: {}, &quot;global&quot;: {}}); var option = {&quot;drilldown&quot;: {}, &quot;series&quot;: {}, &quot;legend&quot;: {&quot;enabled&quot;: false}, &quot;pane&quot;: {}, &quot;title&quot;: {&quot;text&quot;: &quot;Atmosphere Temperature by Altitude&quot;}, &quot;labels&quot;: {}, &quot;navigation&quot;: {}, &quot;chart&quot;: {&quot;renderTo&quot;: &quot;container&quot;, &quot;inverted&quot;: true}, &quot;xAxis&quot;: {&quot;labels&quot;: {&quot;formatter&quot;: function () { return this.value + &quot;km&quot;; }}, &quot;maxPadding&quot;: 0.05, &quot;showLastLabel&quot;: true, &quot;reversed&quot;: false, &quot;title&quot;: {&quot;enabled&quot;: true, &quot;text&quot;: &quot;Altitude&quot;}}, &quot;credits&quot;: {&quot;enabled&quot;: false}, &quot;colors&quot;: {}, &quot;subtitle&quot;: {&quot;text&quot;: &quot;According to the Standard Atmosphere Model&quot;}, &quot;tooltip&quot;: {&quot;pointFormat&quot;: &quot;{point.x} km: {point.y}\\u00b0C&quot;, &quot;headerFormat&quot;: &quot;&lt;b&gt;{series.name}&lt;/b&gt;&lt;br/&gt;&quot;}, &quot;plotOptions&quot;: {}, &quot;loading&quot;: {}, &quot;exporting&quot;: {}, &quot;yAxis&quot;: {&quot;labels&quot;: {&quot;formatter&quot;: function () { return this.value + &#x27;°&#x27;; }}, &quot;lineWidth&quot;: 2, &quot;title&quot;: {&quot;text&quot;: &quot;Temperature&quot;}}}; var chart = new Highcharts.Chart(option); var data = [{&quot;marker&quot;: {&quot;enabled&quot;: false}, &quot;type&quot;: &quot;spline&quot;, &quot;name&quot;: &quot;Temperature&quot;, &quot;data&quot;: [[0, 15], [10, -50], [20, -56.5], [30, -46.5], [40, -22.1], [50, -2.5], [60, -27.7], [70, -55.7], [80, -76.5]]}]; var dataLen = data.length; for (var ix = 0; ix &lt; dataLen; ix++) { chart.addSeries(data[ix]); } }); &lt;/script&gt; &lt;/body&gt; &lt;/html&gt;\" height=520 width=820></iframe>"
      ],
      "text/plain": [
       "<highcharts.highcharts.highcharts.Highchart at 0x1953dbbce80>"
      ]
     },
     "execution_count": 228,
     "metadata": {},
     "output_type": "execute_result"
    }
   ],
   "source": [
    "from highcharts import Highchart\n",
    "chart = Highchart()\n",
    "\n",
    "chart.set_options('chart', {'inverted': True})\n",
    "\n",
    "options = {\n",
    "    'title': {\n",
    "        'text': 'Atmosphere Temperature by Altitude'\n",
    "    },\n",
    "    'subtitle': {\n",
    "        'text': 'According to the Standard Atmosphere Model'\n",
    "    },\n",
    "    'xAxis': {\n",
    "        'reversed': False,\n",
    "        'title': {\n",
    "            'enabled': True,\n",
    "            'text': 'Altitude'\n",
    "        },\n",
    "        'labels': {\n",
    "            'formatter': 'function () {\\\n",
    "                return this.value + \"km\";\\\n",
    "            }'\n",
    "        },\n",
    "        'maxPadding': 0.05,\n",
    "        'showLastLabel': True\n",
    "    },\n",
    "    'yAxis': {\n",
    "        'title': {\n",
    "            'text': 'Temperature'\n",
    "        },\n",
    "        'labels': {\n",
    "            'formatter': \"function () {\\\n",
    "                return this.value + '°';\\\n",
    "            }\"\n",
    "        },\n",
    "        'lineWidth': 2\n",
    "    },\n",
    "    'legend': {\n",
    "        'enabled': False\n",
    "    },\n",
    "    'tooltip': {\n",
    "        'headerFormat': '<b>{series.name}</b><br/>',\n",
    "        'pointFormat': '{point.x} km: {point.y}°C'\n",
    "    }\n",
    "}\n",
    "\n",
    "chart.set_dict_options(options)\n",
    "data =  [[0, 15], [10, -50], [20, -56.5], [30, -46.5], [40, -22.1], \n",
    "[50, -2.5], [60, -27.7], [70, -55.7], [80, -76.5]]\n",
    "chart.add_data_set(data, 'spline', 'Temperature', marker={'enabled': False}) \n",
    "\n",
    "chart"
   ]
  },
  {
   "cell_type": "code",
   "execution_count": 260,
   "metadata": {},
   "outputs": [
    {
     "data": {
      "text/html": [
       "<link href='http://fonts.googleapis.com/css?family=Fenix' rel='stylesheet' type='text/css'>\n",
       "<link href='http://fonts.googleapis.com/css?family=Alegreya+Sans:100,300,400,500,700,800,900,100italic,300italic,400italic,500italic,700italic,800italic,900italic' rel='stylesheet' type='text/css'>\n",
       "<link href='http://fonts.googleapis.com/css?family=Source+Code+Pro:300,400' rel='stylesheet' type='text/css'>\n",
       "<style>\n",
       "    @font-face {\n",
       "        font-family: \"Computer Modern\";\n",
       "        src: url('https://fivethirtyeight.com/wp-content/themes/espn-fivethirtyeight/assets/fonts/ArnhemPro-Normal.woff2');\n",
       "    }\n",
       "    div.cell{\n",
       "        width:950px;\n",
       "        margin-left:10% !important;\n",
       "        margin-right:auto;\n",
       "    }\n",
       "    h1 {\n",
       "        font-family: 'Alegreya Sans', sans-serif;\n",
       "    }\n",
       "    h2 {\n",
       "        font-family: 'Fenix', serif;\n",
       "    }\n",
       "    h3{\n",
       "\t\tfont-family: 'Fenix', serif;\n",
       "        margin-top:12px;\n",
       "        margin-bottom: 3px;\n",
       "       }\n",
       "\th4{\n",
       "\t\tfont-family: 'Fenix', serif;\n",
       "       }\n",
       "    h5 {\n",
       "        font-family: 'Alegreya Sans', sans-serif;\n",
       "    }\t   \n",
       "    div.text_cell_render{\n",
       "        font-family: Computer Modern, \"Helvetica Neue\", Arial, Helvetica, Geneva, sans-serif;\n",
       "        line-height: 135%;\n",
       "        font-size: 120%;\n",
       "        width:750px;\n",
       "        margin-left:auto;\n",
       "        margin-right:auto;\n",
       "    }\n",
       "    .CodeMirror{\n",
       "            font-family: \"Source Code Pro\";\n",
       "\t\t\tfont-size: 90%;\n",
       "    }\n",
       "/*    .prompt{\n",
       "        display: None;\n",
       "    }*/\n",
       "    .text_cell_render h1 {\n",
       "        font-weight: 200;\n",
       "        font-size: 50pt;\n",
       "\t\tline-height: 100%;\n",
       "        color:#CD2305;\n",
       "        margin-bottom: 0.5em;\n",
       "        margin-top: 0.5em;\n",
       "        display: block;\n",
       "    }\t\n",
       "    .text_cell_render h5 {\n",
       "        font-weight: 300;\n",
       "        font-size: 16pt;\n",
       "        color: #CD2305;\n",
       "        font-style: italic;\n",
       "        margin-bottom: .5em;\n",
       "        margin-top: 0.5em;\n",
       "        display: block;\n",
       "    }\n",
       "    \n",
       "    .warning{\n",
       "        color: rgb( 240, 20, 20 )\n",
       "        }  \n",
       "</style>\n",
       "<script>\n",
       "    MathJax.Hub.Config({\n",
       "                        TeX: {\n",
       "                           extensions: [\"AMSmath.js\"]\n",
       "                           },\n",
       "                tex2jax: {\n",
       "                    inlineMath: [ ['$','$'], [\"\\\\(\",\"\\\\)\"] ],\n",
       "                    displayMath: [ ['$$','$$'], [\"\\\\[\",\"\\\\]\"] ]\n",
       "                },\n",
       "                displayAlign: 'center', // Change this to 'center' to center equations.\n",
       "                \"HTML-CSS\": {\n",
       "                    styles: {'.MathJax_Display': {\"margin\": 4}}\n",
       "                }\n",
       "        });\n",
       "</script>"
      ],
      "text/plain": [
       "<IPython.core.display.HTML object>"
      ]
     },
     "execution_count": 260,
     "metadata": {},
     "output_type": "execute_result"
    }
   ],
   "source": [
    "from IPython.core.display import HTML\n",
    "def css_styling():\n",
    "    styles = open(\"../styles/custom2.css\", \"r\").read()\n",
    "    return HTML(styles)\n",
    "css_styling()"
   ]
  },
  {
   "cell_type": "code",
   "execution_count": 248,
   "metadata": {},
   "outputs": [
    {
     "data": {
      "text/html": [
       "<table>\n",
       "<tbody>\n",
       "<tr><td>Sun  </td><td style=\"text-align: right;\">696000</td><td style=\"text-align: right;\">   1.9891e+09</td></tr>\n",
       "<tr><td>Earth</td><td style=\"text-align: right;\">  6371</td><td style=\"text-align: right;\">5973.6       </td></tr>\n",
       "<tr><td>Moon </td><td style=\"text-align: right;\">  1737</td><td style=\"text-align: right;\">  73.5       </td></tr>\n",
       "<tr><td>Mars </td><td style=\"text-align: right;\">  3390</td><td style=\"text-align: right;\"> 641.85      </td></tr>\n",
       "</tbody>\n",
       "</table>"
      ],
      "text/plain": [
       "<IPython.core.display.HTML object>"
      ]
     },
     "metadata": {},
     "output_type": "display_data"
    }
   ],
   "source": [
    "from IPython.display import HTML, display\n",
    "import tabulate\n",
    "table = [[\"Sun\",696000,1989100000],\n",
    "         [\"Earth\",6371,5973.6],\n",
    "         [\"Moon\",1737,73.5],\n",
    "         [\"Mars\",3390,641.85]]\n",
    "display(HTML(tabulate.tabulate(table, tablefmt='html')))"
   ]
  },
  {
   "cell_type": "code",
   "execution_count": 399,
   "metadata": {},
   "outputs": [
    {
     "data": {
      "text/html": [
       "<table>\n",
       "<tbody>\n",
       "<tr><td style=\"text-align: right;\">27</td><td>The three criteria are as follows: i) access to capital markets, ii) exposure cf investment to po21 See Damodaran, op. cit. (fn. 10). litical risk, and iiii the importance of the investment to the investor, represented by Gammav 22 García-Sánchez/Preve/Sarria-AIIende, Journal ofApplied Corporate Finance 2010 g. 100.Gammazr and Gamma3 in the formula.\n",
       "\n",
       "23 The default spread Is defned as the spread between two countries'government bonds with similar                                                                                                                                                 </td></tr>\n",
       "<tr><td style=\"text-align: right;\">28</td><td>Harn/Emmel/Schmidt/Gatzer, CF 2015 p. 157. denominations, yields,terms and currencies,where one ofthe bonds is defined as risk-free.Typically, a</td></tr>\n",
       "<tr><td style=\"text-align: right;\">29</td><td>Lessard, Journal of Applied Corporate Finance 1996 p. 52.\n",
       "\n",
       "U.S. government bond is chosen risk-free benchmark, and both bondsare denominated in USD.                                                                                                                                                 </td></tr>\n",
       "<tr><td style=\"text-align: right;\">30</td><td>Morningstar/lbbotson, International Cost ofCapital Report 2011 24                                                                               </td></tr>\n",
       "</tbody>\n",
       "</table>"
      ],
      "text/plain": [
       "<IPython.core.display.HTML object>"
      ]
     },
     "metadata": {},
     "output_type": "display_data"
    }
   ],
   "source": [
    "table2=[[  27,'The three criteria are as follows: i) access to capital markets, ii) exposure cf investment to po21 See Damodaran, op. cit. (fn. 10). litical risk, and iiii the importance of the investment to the investor, represented by Gammav 22 García-Sánchez/Preve/Sarria-AIIende, Journal ofApplied Corporate Finance 2010 g. 100.Gammazr and Gamma3 in the formula.\\n\\n23 The default spread Is defned as the spread between two countries\\'government bonds with similar'],\n",
    "[28,'Harn/Emmel/Schmidt/Gatzer, CF 2015 p. 157. denominations, yields,terms and currencies,where one ofthe bonds is defined as risk-free.Typically, a '],\n",
    "[29,'Lessard, Journal of Applied Corporate Finance 1996 p. 52.\\n\\nU.S. government bond is chosen risk-free benchmark, and both bondsare denominated in USD.'],\n",
    "[30,'Morningstar/lbbotson, International Cost ofCapital Report 2011 24']]\n",
    "display(HTML(tabulate.tabulate(table2, tablefmt='html')))"
   ]
  },
  {
   "cell_type": "markdown",
   "metadata": {},
   "source": [
    "## Footnotes Alt. 1\n",
    "\n",
    "1. <a id='1'></a> The contents of this paper are for discussion purposes only, represent the authors' views only,  and are not intended to represent the opinions of Deutsche Bank and DZ BANK. Although this document was crafted with the greatest care, the authors nonetheless accept no liability arising from errors, misinterpretations or misstatements that may be contained herein.\n",
    "\n",
    "2. <a id='2'></a>A recent survey published in the Harvard Business Review revealed that 83% ofthe surveyed firms (150 companies from North America and Europe with more than USD 1.0 bn in revenues) \"suffered significant losses since 2010\" from their investments in emerging markets; see Hochberg, Klick, and Reilly. Harvard Business Review, What companies have learned from losing billions in emerging markets, available at: http://hbfm.link/2290, retrieved 01.09.2017.\n",
    "\n",
    "3. <a id='3'></a>Graham/Harvey, JournaI of Financial Economics 2001 p. 187.\n",
    "\n",
    "4. <a id='4'></a>KPMG, Kapitalkostenstudie 2016, Wertmessung — quo vadis?, available at: [http://hbfm.link/2291], retrieved 01.09.2017.\n",
    "\n",
    "5. <a id='5'></a>Bekaert/Harvey/Lundblad/Siegel, Journal of Corporate Finance, 2016 p. 1\n",
    "\n",
    "6. <a id='6'></a> A discussion of the International CAPM and its formal definition follow in Section [III.1](#sec.3.1)\n",
    "\n",
    "7. <a id='7'></a> Carrieri/Chaieb/Errunza, Review of Financial Studies 2013 p. 1694.\n",
    "\n",
    "8. <a id='8'></a> By segmented markets, we mean markets that are sufficiently isolated such that investors domiciled in one market cannot access the other market, and vice versa.\n",
    "\n",
    "9. <a id='9'></a> Erb/Campbell/Harvey/Tadas/Viskanta, Country Risk in Global Financial Management, the Research Foundation ofthe Institute of Chartered Financial Analysts, 1997, available at: http://hbfm.linkf2292, retrieved 01.09.2017.\n",
    "\n",
    "10. <a id=\"10\"></a> Damodaran, Equity Risk Premiums (ERP): Determinants, Estimation and Implications — the 2013 Edition, 2013, available at: http://hbfm.link/2293, retrieved 01.09.2017.\n",
    "\n",
    "11. <a id='11'></a> The investor in this example is U.S.-based, and the valuation is performed in USD. For illustration, we select Russia, Brazil, Ireland, and Argentina — all countries with substantial country-risk exposures. The companies are from the finance irdustry and mainly operate in their domestic markets.\n",
    "\n",
    "12. <a id='12'></a>Detailed calculations for the Ilustrative example in Figure 1 are available on request.\n",
    "\n",
    "13. <a id='13'></a>We referto [Table A1](#TableA1) in the Appendix for a complete list of these 20 approaches, including calculation formulas.\n",
    "\n",
    "14. <a id='14'></a> For further details and a discussion on the estimation of the risk-free rate („Basiszinz\"), see Kruschwitz/Löffler, WPg 2008 p.805 (806).\n",
    "\n",
    "15. <a id='15'></a> The Beta for the MSCI Emerging Frontier Markets Africa ex South Africa Index (EM Index) against MSCI World is only 0.46, although the EM index is more volatile and considered riskier than the MSCI World. This result can be attributed primarily to the low correlation between those two markets. The beta is calculated as of June 30, 2016, based on two years of historical weekly returns.\n",
    "\n",
    "16. <a id='16'></a>There is no consistent name convention. The group of models presented herein is frequently called Global CAPM, World CAPM, or Single-Factor International CAPM.\n",
    "\n",
    "17. <a id='17'></a>Pratt/Grabowski, Cost of Capital, Applications and Examples, 2008.\n",
    "\n",
    "18. <a id='18'></a>Breuer/Ruiz de Vargas, BewP 2015 p. 2; Breuer/Ruiz de Vargas, BewP 2015 p. 50; Sabal, Journal of Applied Corporate Finance 2004 p. 155.\n",
    "\n",
    "19. <a id='19'></a>Bekaert/Harvey, Journal of Finance 1995 p. 403. Described in Harvey, 12 Ways to Calculate the International Cost of Capital, 2005, available at: http://hbfm.link/2299, retrieved 01.09.2017.\n",
    "\n",
    "20. <a id='20'></a>Erb/Campbell/Viskanta, The Journal of Portfolio Management 1996 (Spring) p. 46. \n",
    "\n",
    "21. <a id='21'></a>See Damodaran, op. cit. (fn. 10). \n",
    "\n",
    "22. <a id='22'></a>García-Sánchez/Preve/Sarria-Allende, Journal of Applied Corporate Finance 2010 p. 100.\n",
    "\n",
    "23. <a id='23'></a>The default spread Is defned as the spread between two countries' government bonds with similar denominations, yields,terms and currencies,where one ofthe bonds is defined as risk-free.Typically, a U.S. government bond is chosen as the risk-free benchmark, and both bonds are denominated in USD.\n",
    "\n",
    "24. <a id='24'></a>Current figures found at http://pages.stern.nyu.edu/~adamodar/. \n",
    "\n",
    "25. <a id='25'></a>See Damodaran, op. cit. (fn. 10).\n",
    "\n",
    "26. <a id='26'></a>Zenner/Akaydin, A Practical Approach to the International Valuation and Capital Allocation Puzzle (Global Corporate Finance, Salomon/Smith/Barney, 2002).\n",
    "\n",
    "27. <a id='27'></a>The three criteria are as follows: i) access to capital markets, ii) exposure of investment to political risk, and iii) the importance of the investment to the investor, represented by $Gamma_1$, $Gammaz_2$ and $Gamma_3$ in the formula.\n",
    "\n",
    "28. <a id='28'></a>Harn/Emmel/Schmidt/Gatzer, CF 2015 p. 157. \n",
    "\n",
    "29. <a id='29'></a>Lessard, Journal of Applied Corporate Finance 1996 p. 52.\\n\\n\n",
    "\n",
    "30. <a id='30'></a>Morningstar/lbbotson, International Cost ofCapital Report 2011 \n",
    "\n",
    "31. <a id='30'></a>Estrada, Emerging Markets Review 2002 p. 365.\n",
    "\n",
    "32. <a id=\"32\"></a>Hauptman/Natella, The cost of equity in Latin America: The eternal doubt, Credit Suisse First Boston, Equity Research, May 20 1997.\n",
    "\n",
    "33. <a id=\"33\"></a>See Harvey, The International Cost of Capital and Risk Calculator (ICRC), 2001, available at: http://hbfm.link/2295, retrieved 08.08.2017 or Harvey, op.cit. (fn. 19).\n",
    "\n",
    "34. <a id=\"34\"></a>Godfrey/Espinosa, Journal of Applied Corporate Finance 1996 p. 80.\n",
    "\n",
    "35. <a id=\"35\"></a>Mariscal/Hargis, A long-term perspective on short-term risk: Long-term discount rates for emerging markets, Goldman Sachs Investment Research, 1999.\n",
    "\n",
    "36. <a id='36'></a>Fernandez/0rtiz/Acín, Market Risk Premium Used in 71 Countries in 2016: A Survey with 6,932  Answers, SSRN Scholarly Paper 2016, http://papers.ssrn.com/abstract=2776636, retrieved 01.09.2017.\n",
    "\n",
    "37. <a id='37'></a>Damodaran regularly publishes market risk premium estimates on his homepage: http://pages.stern.nyu.edu/~adamodar/. Accessed August 2016.\n",
    "\n",
    "38. <a id='38'></a>Our Erb-Harvey-Viskanta (1996) estimates are based on published numbers from year-end 2014, but the results nonetheless offer an indication of the CoE estimates level.\n",
    "\n",
    "39. <a id='39'></a>Tahle A3 is online available under XQI1249764 in the CORPORATE FINANCE Database {www.cf-fachportal.de) and under http://hbfm.link/2345.\n",
    "\n",
    "40. <a id='40'></a>For instance, for Reliance (India), the Local CAPM produces a cost of equity of 15.6% and the median estimate across all models is 8.9%; hence, the median-adjusted cost Of equity is 6.7%.\n",
    "\n",
    "41. <a id='41'></a>Based on anonymous equity research analyst estimates from global investment banks."
   ]
  },
  {
   "cell_type": "markdown",
   "metadata": {},
   "source": [
    "## Footnotes\n",
    "\n",
    "<font face=\"Alegreya Sans\"><a id=\"27\"></a>\n",
    "<table style=\"width:150%;font-size:102%;\">\n",
    "<tr><td>1</td><td style=\"text-align:left;\">'The three criteria are as follows: i) access to capital markets, ii) exposure cf investment to po21 See Damodaran, op. cit. (fn. 10). litical risk, and iiii the importance of the investment to the investor, represented by Gammav 22 García-Sánchez/Preve/Sarria-AIIende, Journal ofApplied Corporate Finance 2010 g. 100.Gammazr and Gamma3 in the formula.\\n\\n23 The default spread Is defned as the spread between two countries\\'government bonds with similar'\n",
    "</td></tr>\n",
    "    <tr><td>10</td><td>Damodaran, Equity Risk Premiums (ERP):Determinants, Estimation and Implications - the </td></tr>\n",
    "</table></font>"
   ]
  },
  {
   "cell_type": "code",
   "execution_count": 79,
   "metadata": {},
   "outputs": [
    {
     "data": {
      "text/html": [
       "<style  type=\"text/css\" >\n",
       "    #T_573e7df0_62bc_11e8_a364_00231814a6fb tr:hover {\n",
       "          background-color: #ffff99;\n",
       "    }    #T_573e7df0_62bc_11e8_a364_00231814a6fb th {\n",
       "          font-size: 150%;\n",
       "          text-align: center;\n",
       "    }    #T_573e7df0_62bc_11e8_a364_00231814a6fb caption {\n",
       "          caption-side: bottom;\n",
       "    }</style>  \n",
       "<table id=\"T_573e7df0_62bc_11e8_a364_00231814a6fb\" ><caption><a id='Table2'></a>Table 2. Overview of CoE Approaches.</caption> \n",
       "<thead>    <tr> \n",
       "        <th class=\"blank level0\" ></th> \n",
       "        <th class=\"col_heading level0 col0\" >Footnote</th> \n",
       "    </tr>    <tr> \n",
       "        <th class=\"index_name level0\" >Nr.</th> \n",
       "        <th class=\"blank\" ></th> \n",
       "    </tr></thead> \n",
       "<tbody>    <tr> \n",
       "        <th id=\"T_573e7df0_62bc_11e8_a364_00231814a6fblevel0_row0\" class=\"row_heading level0 row0\" >1</th> \n",
       "        <td id=\"T_573e7df0_62bc_11e8_a364_00231814a6fbrow0_col0\" class=\"data row0 col0\" > <a id='1'></a> The contents of this paper are for discussion purposes only, represent the authors' views only,  and are not intended to represent the opinions of Deutsche Bank and DZ BANK. Although this document was crafted with the greatest care, the authors nonetheless accept no liability arising from errors, misinterpretations or misstatements that may be contained herein.</td> \n",
       "    </tr>    <tr> \n",
       "        <th id=\"T_573e7df0_62bc_11e8_a364_00231814a6fblevel0_row1\" class=\"row_heading level0 row1\" >2</th> \n",
       "        <td id=\"T_573e7df0_62bc_11e8_a364_00231814a6fbrow1_col0\" class=\"data row1 col0\" > <a id='2'></a>A recent survey published in the Harvard Business Review revealed that 83% ofthe surveyed firms (150 companies from North America and Europe with more than USD 1.0 bn in revenues) \"suffered significant losses since 2010\" from their investments in emerging markets</td> \n",
       "    </tr>    <tr> \n",
       "        <th id=\"T_573e7df0_62bc_11e8_a364_00231814a6fblevel0_row2\" class=\"row_heading level0 row2\" >3</th> \n",
       "        <td id=\"T_573e7df0_62bc_11e8_a364_00231814a6fbrow2_col0\" class=\"data row2 col0\" > <a id='3'></a>Graham/Harvey, JournaI of Financial Economics 2001 p. 187.</td> \n",
       "    </tr>    <tr> \n",
       "        <th id=\"T_573e7df0_62bc_11e8_a364_00231814a6fblevel0_row3\" class=\"row_heading level0 row3\" >4</th> \n",
       "        <td id=\"T_573e7df0_62bc_11e8_a364_00231814a6fbrow3_col0\" class=\"data row3 col0\" > <a id='4'></a>KPMG, Kapitalkostenstudie 2016, Wertmessung — quo vadis?, available at: [http://hbfm.link/2291], retrieved 01.09.2017.</td> \n",
       "    </tr>    <tr> \n",
       "        <th id=\"T_573e7df0_62bc_11e8_a364_00231814a6fblevel0_row4\" class=\"row_heading level0 row4\" >5</th> \n",
       "        <td id=\"T_573e7df0_62bc_11e8_a364_00231814a6fbrow4_col0\" class=\"data row4 col0\" > <a id='5'></a>Bekaert/Harvey/Lundblad/Siegel, Journal of Corporate Finance, 2016 p. 1</td> \n",
       "    </tr>    <tr> \n",
       "        <th id=\"T_573e7df0_62bc_11e8_a364_00231814a6fblevel0_row5\" class=\"row_heading level0 row5\" >6</th> \n",
       "        <td id=\"T_573e7df0_62bc_11e8_a364_00231814a6fbrow5_col0\" class=\"data row5 col0\" > <a id='6'></a> A discussion of the International CAPM and its formal definition follow in Section [III.1](#sec.3.1)</td> \n",
       "    </tr>    <tr> \n",
       "        <th id=\"T_573e7df0_62bc_11e8_a364_00231814a6fblevel0_row6\" class=\"row_heading level0 row6\" >7</th> \n",
       "        <td id=\"T_573e7df0_62bc_11e8_a364_00231814a6fbrow6_col0\" class=\"data row6 col0\" > <a id='7'></a> Carrieri/Chaieb/Errunza, Review of Financial Studies 2013 p. 1694.</td> \n",
       "    </tr>    <tr> \n",
       "        <th id=\"T_573e7df0_62bc_11e8_a364_00231814a6fblevel0_row7\" class=\"row_heading level0 row7\" >8</th> \n",
       "        <td id=\"T_573e7df0_62bc_11e8_a364_00231814a6fbrow7_col0\" class=\"data row7 col0\" > <a id='8'></a> By segmented markets, we mean markets that are sufficiently isolated such that investors domiciled in one market cannot access the other market, and vice versa.</td> \n",
       "    </tr>    <tr> \n",
       "        <th id=\"T_573e7df0_62bc_11e8_a364_00231814a6fblevel0_row8\" class=\"row_heading level0 row8\" >9</th> \n",
       "        <td id=\"T_573e7df0_62bc_11e8_a364_00231814a6fbrow8_col0\" class=\"data row8 col0\" > <a id='9'></a> Erb/Campbell/Harvey/Tadas/Viskanta, Country Risk in Global Financial Management, the Research Foundation ofthe Institute of Chartered Financial Analysts, 1997, available at: http://hbfm.linkf2292, retrieved 01.09.2017.</td> \n",
       "    </tr>    <tr> \n",
       "        <th id=\"T_573e7df0_62bc_11e8_a364_00231814a6fblevel0_row9\" class=\"row_heading level0 row9\" >10</th> \n",
       "        <td id=\"T_573e7df0_62bc_11e8_a364_00231814a6fbrow9_col0\" class=\"data row9 col0\" > <a id=\"10\"></a> Damodaran, Equity Risk Premiums (ERP): Determinants, Estimation and Implications — the 2013 Edition, 2013, available at: http://hbfm.link/2293, retrieved 01.09.2017.</td> \n",
       "    </tr>    <tr> \n",
       "        <th id=\"T_573e7df0_62bc_11e8_a364_00231814a6fblevel0_row10\" class=\"row_heading level0 row10\" >11</th> \n",
       "        <td id=\"T_573e7df0_62bc_11e8_a364_00231814a6fbrow10_col0\" class=\"data row10 col0\" > <a id='11'></a> The investor in this example is U.S.-based, and the valuation is performed in USD. For illustration, we select Russia, Brazil, Ireland, and Argentina — all countries with substantial country-risk exposures. The companies are from the finance irdustry and mainly operate in their domestic markets.</td> \n",
       "    </tr>    <tr> \n",
       "        <th id=\"T_573e7df0_62bc_11e8_a364_00231814a6fblevel0_row11\" class=\"row_heading level0 row11\" >12</th> \n",
       "        <td id=\"T_573e7df0_62bc_11e8_a364_00231814a6fbrow11_col0\" class=\"data row11 col0\" > <a id='12'></a>Detailed calculations for the Ilustrative example in Figure 1 are available on request.</td> \n",
       "    </tr>    <tr> \n",
       "        <th id=\"T_573e7df0_62bc_11e8_a364_00231814a6fblevel0_row12\" class=\"row_heading level0 row12\" >13</th> \n",
       "        <td id=\"T_573e7df0_62bc_11e8_a364_00231814a6fbrow12_col0\" class=\"data row12 col0\" > <a id='13'></a>We referto [Table A1](#TableA1) in the Appendix for a complete list of these 20 approaches, including calculation formulas.</td> \n",
       "    </tr>    <tr> \n",
       "        <th id=\"T_573e7df0_62bc_11e8_a364_00231814a6fblevel0_row13\" class=\"row_heading level0 row13\" >14</th> \n",
       "        <td id=\"T_573e7df0_62bc_11e8_a364_00231814a6fbrow13_col0\" class=\"data row13 col0\" > <a id='14'></a> For further details and a discussion on the estimation of the risk-free rate („Basiszinz\"), see Kruschwitz/Löffler, WPg 2008 p.805 (806).</td> \n",
       "    </tr>    <tr> \n",
       "        <th id=\"T_573e7df0_62bc_11e8_a364_00231814a6fblevel0_row14\" class=\"row_heading level0 row14\" >15</th> \n",
       "        <td id=\"T_573e7df0_62bc_11e8_a364_00231814a6fbrow14_col0\" class=\"data row14 col0\" > <a id='15'></a> The Beta for the MSCI Emerging Frontier Markets Africa ex South Africa Index (EM Index) against MSCI World is only 0.46, although the EM index is more volatile and considered riskier than the MSCI World. This result can be attributed primarily to the low correlation between those two markets. The beta is calculated as of June 30, 2016, based on two years of historical weekly returns.</td> \n",
       "    </tr>    <tr> \n",
       "        <th id=\"T_573e7df0_62bc_11e8_a364_00231814a6fblevel0_row15\" class=\"row_heading level0 row15\" >16</th> \n",
       "        <td id=\"T_573e7df0_62bc_11e8_a364_00231814a6fbrow15_col0\" class=\"data row15 col0\" > <a id='16'></a>There is no consistent name convention. The group of models presented herein is frequently called Global CAPM, World CAPM, or Single-Factor International CAPM.</td> \n",
       "    </tr>    <tr> \n",
       "        <th id=\"T_573e7df0_62bc_11e8_a364_00231814a6fblevel0_row16\" class=\"row_heading level0 row16\" >17</th> \n",
       "        <td id=\"T_573e7df0_62bc_11e8_a364_00231814a6fbrow16_col0\" class=\"data row16 col0\" > <a id='17'></a>Pratt/Grabowski, Cost of Capital, Applications and Examples, 2008.</td> \n",
       "    </tr>    <tr> \n",
       "        <th id=\"T_573e7df0_62bc_11e8_a364_00231814a6fblevel0_row17\" class=\"row_heading level0 row17\" >18</th> \n",
       "        <td id=\"T_573e7df0_62bc_11e8_a364_00231814a6fbrow17_col0\" class=\"data row17 col0\" > <a id='18'></a>Breuer/Ruiz de Vargas, BewP 2015 p. 2, Breuer/Ruiz de Vargas, BewP 2015 p. 50</td> \n",
       "    </tr>    <tr> \n",
       "        <th id=\"T_573e7df0_62bc_11e8_a364_00231814a6fblevel0_row18\" class=\"row_heading level0 row18\" >19</th> \n",
       "        <td id=\"T_573e7df0_62bc_11e8_a364_00231814a6fbrow18_col0\" class=\"data row18 col0\" > <a id='19'></a>Bekaert/Harvey, Journal of Finance 1995 p. 403. Described in Harvey, 12 Ways to Calculate the International Cost of Capital, 2005, available at: http://hbfm.link/2299, retrieved 01.09.2017.</td> \n",
       "    </tr>    <tr> \n",
       "        <th id=\"T_573e7df0_62bc_11e8_a364_00231814a6fblevel0_row19\" class=\"row_heading level0 row19\" >20</th> \n",
       "        <td id=\"T_573e7df0_62bc_11e8_a364_00231814a6fbrow19_col0\" class=\"data row19 col0\" > <a id='20'></a>Erb/Campbell/Viskanta, The Journal of Portfolio Management 1996 (Spring) p. 46. </td> \n",
       "    </tr>    <tr> \n",
       "        <th id=\"T_573e7df0_62bc_11e8_a364_00231814a6fblevel0_row20\" class=\"row_heading level0 row20\" >21</th> \n",
       "        <td id=\"T_573e7df0_62bc_11e8_a364_00231814a6fbrow20_col0\" class=\"data row20 col0\" > <a id='21'></a>See Damodaran, op. cit. (fn. 10). </td> \n",
       "    </tr>    <tr> \n",
       "        <th id=\"T_573e7df0_62bc_11e8_a364_00231814a6fblevel0_row21\" class=\"row_heading level0 row21\" >22</th> \n",
       "        <td id=\"T_573e7df0_62bc_11e8_a364_00231814a6fbrow21_col0\" class=\"data row21 col0\" > <a id='22'></a>García-Sánchez/Preve/Sarria-Allende, Journal of Applied Corporate Finance 2010 p. 100.</td> \n",
       "    </tr>    <tr> \n",
       "        <th id=\"T_573e7df0_62bc_11e8_a364_00231814a6fblevel0_row22\" class=\"row_heading level0 row22\" >23</th> \n",
       "        <td id=\"T_573e7df0_62bc_11e8_a364_00231814a6fbrow22_col0\" class=\"data row22 col0\" > <a id='23'></a>The default spread Is defned as the spread between two countries' government bonds with similar denominations, yields,terms and currencies,where one ofthe bonds is defined as risk-free.Typically, a U.S. government bond is chosen as the risk-free benchmark, and both bonds are denominated in USD.</td> \n",
       "    </tr>    <tr> \n",
       "        <th id=\"T_573e7df0_62bc_11e8_a364_00231814a6fblevel0_row23\" class=\"row_heading level0 row23\" >24</th> \n",
       "        <td id=\"T_573e7df0_62bc_11e8_a364_00231814a6fbrow23_col0\" class=\"data row23 col0\" > <a id='24'></a>Current figures found at http://pages.stern.nyu.edu/~adamodar/. </td> \n",
       "    </tr>    <tr> \n",
       "        <th id=\"T_573e7df0_62bc_11e8_a364_00231814a6fblevel0_row24\" class=\"row_heading level0 row24\" >25</th> \n",
       "        <td id=\"T_573e7df0_62bc_11e8_a364_00231814a6fbrow24_col0\" class=\"data row24 col0\" > <a id='25'></a>See Damodaran, op. cit. (fn. 10).</td> \n",
       "    </tr>    <tr> \n",
       "        <th id=\"T_573e7df0_62bc_11e8_a364_00231814a6fblevel0_row25\" class=\"row_heading level0 row25\" >26</th> \n",
       "        <td id=\"T_573e7df0_62bc_11e8_a364_00231814a6fbrow25_col0\" class=\"data row25 col0\" > <a id='26'></a>Zenner/Akaydin, A Practical Approach to the International Valuation and Capital Allocation Puzzle (Global Corporate Finance, Salomon/Smith/Barney, 2002).</td> \n",
       "    </tr>    <tr> \n",
       "        <th id=\"T_573e7df0_62bc_11e8_a364_00231814a6fblevel0_row26\" class=\"row_heading level0 row26\" >27</th> \n",
       "        <td id=\"T_573e7df0_62bc_11e8_a364_00231814a6fbrow26_col0\" class=\"data row26 col0\" > <a id='27'></a>The three criteria are as follows: i) access to capital markets, ii) exposure of investment to political risk, and iii) the importance of the investment to the investor, represented by $Gamma_1$, $Gammaz_2$ and $Gamma_3$ in the formula.</td> \n",
       "    </tr>    <tr> \n",
       "        <th id=\"T_573e7df0_62bc_11e8_a364_00231814a6fblevel0_row27\" class=\"row_heading level0 row27\" >28</th> \n",
       "        <td id=\"T_573e7df0_62bc_11e8_a364_00231814a6fbrow27_col0\" class=\"data row27 col0\" > <a id='28'></a>Harn/Emmel/Schmidt/Gatzer, CF 2015 p. 157. </td> \n",
       "    </tr>    <tr> \n",
       "        <th id=\"T_573e7df0_62bc_11e8_a364_00231814a6fblevel0_row28\" class=\"row_heading level0 row28\" >29</th> \n",
       "        <td id=\"T_573e7df0_62bc_11e8_a364_00231814a6fbrow28_col0\" class=\"data row28 col0\" > <a id='29'></a>Lessard, Journal of Applied Corporate Finance 1996 p. 52.</td> \n",
       "    </tr>    <tr> \n",
       "        <th id=\"T_573e7df0_62bc_11e8_a364_00231814a6fblevel0_row29\" class=\"row_heading level0 row29\" >30</th> \n",
       "        <td id=\"T_573e7df0_62bc_11e8_a364_00231814a6fbrow29_col0\" class=\"data row29 col0\" > <a id='30'></a>Morningstar/lbbotson, International Cost ofCapital Report 2011 </td> \n",
       "    </tr>    <tr> \n",
       "        <th id=\"T_573e7df0_62bc_11e8_a364_00231814a6fblevel0_row30\" class=\"row_heading level0 row30\" >31</th> \n",
       "        <td id=\"T_573e7df0_62bc_11e8_a364_00231814a6fbrow30_col0\" class=\"data row30 col0\" > <a id='30'></a>Estrada, Emerging Markets Review 2002 p. 365.</td> \n",
       "    </tr>    <tr> \n",
       "        <th id=\"T_573e7df0_62bc_11e8_a364_00231814a6fblevel0_row31\" class=\"row_heading level0 row31\" >32</th> \n",
       "        <td id=\"T_573e7df0_62bc_11e8_a364_00231814a6fbrow31_col0\" class=\"data row31 col0\" > <a id=\"32\"></a>Hauptman/Natella, The cost of equity in Latin America: The eternal doubt, Credit Suisse First Boston, Equity Research, May 20 1997.</td> \n",
       "    </tr>    <tr> \n",
       "        <th id=\"T_573e7df0_62bc_11e8_a364_00231814a6fblevel0_row32\" class=\"row_heading level0 row32\" >33</th> \n",
       "        <td id=\"T_573e7df0_62bc_11e8_a364_00231814a6fbrow32_col0\" class=\"data row32 col0\" > <a id=\"33\"></a>See Harvey, The International Cost of Capital and Risk Calculator (ICRC), 2001, available at: http://hbfm.link/2295, retrieved 08.08.2017 or Harvey, op.cit. (fn. 19).</td> \n",
       "    </tr>    <tr> \n",
       "        <th id=\"T_573e7df0_62bc_11e8_a364_00231814a6fblevel0_row33\" class=\"row_heading level0 row33\" >34</th> \n",
       "        <td id=\"T_573e7df0_62bc_11e8_a364_00231814a6fbrow33_col0\" class=\"data row33 col0\" > <a id=\"34\"></a>Godfrey/Espinosa, Journal of Applied Corporate Finance 1996 p. 80.</td> \n",
       "    </tr>    <tr> \n",
       "        <th id=\"T_573e7df0_62bc_11e8_a364_00231814a6fblevel0_row34\" class=\"row_heading level0 row34\" >35</th> \n",
       "        <td id=\"T_573e7df0_62bc_11e8_a364_00231814a6fbrow34_col0\" class=\"data row34 col0\" > <a id=\"35\"></a>Mariscal/Hargis, A long-term perspective on short-term risk: Long-term discount rates for emerging markets, Goldman Sachs Investment Research, 1999.</td> \n",
       "    </tr>    <tr> \n",
       "        <th id=\"T_573e7df0_62bc_11e8_a364_00231814a6fblevel0_row35\" class=\"row_heading level0 row35\" >36</th> \n",
       "        <td id=\"T_573e7df0_62bc_11e8_a364_00231814a6fbrow35_col0\" class=\"data row35 col0\" > <a id='36'></a>Fernandez/0rtiz/Acín, Market Risk Premium Used in 71 Countries in 2016: A Survey with 6,932  Answers, SSRN Scholarly Paper 2016, http://papers.ssrn.com/abstract=2776636, retrieved 01.09.2017.</td> \n",
       "    </tr>    <tr> \n",
       "        <th id=\"T_573e7df0_62bc_11e8_a364_00231814a6fblevel0_row36\" class=\"row_heading level0 row36\" >37</th> \n",
       "        <td id=\"T_573e7df0_62bc_11e8_a364_00231814a6fbrow36_col0\" class=\"data row36 col0\" > <a id='37'></a>Damodaran regularly publishes market risk premium estimates on his homepage: http://pages.stern.nyu.edu/~adamodar/. Accessed August 2016.</td> \n",
       "    </tr>    <tr> \n",
       "        <th id=\"T_573e7df0_62bc_11e8_a364_00231814a6fblevel0_row37\" class=\"row_heading level0 row37\" >38</th> \n",
       "        <td id=\"T_573e7df0_62bc_11e8_a364_00231814a6fbrow37_col0\" class=\"data row37 col0\" > <a id='38'></a>Our Erb-Harvey-Viskanta (1996) estimates are based on published numbers from year-end 2014, but the results nonetheless offer an indication of the CoE estimates level.</td> \n",
       "    </tr>    <tr> \n",
       "        <th id=\"T_573e7df0_62bc_11e8_a364_00231814a6fblevel0_row38\" class=\"row_heading level0 row38\" >39</th> \n",
       "        <td id=\"T_573e7df0_62bc_11e8_a364_00231814a6fbrow38_col0\" class=\"data row38 col0\" > <a id='39'></a>Tahle A3 is online available under XQI1249764 in the CORPORATE FINANCE Database {www.cf-fachportal.de) and under http://hbfm.link/2345.</td> \n",
       "    </tr>    <tr> \n",
       "        <th id=\"T_573e7df0_62bc_11e8_a364_00231814a6fblevel0_row39\" class=\"row_heading level0 row39\" >40</th> \n",
       "        <td id=\"T_573e7df0_62bc_11e8_a364_00231814a6fbrow39_col0\" class=\"data row39 col0\" > <a id='40'></a>For instance, for Reliance (India), the Local CAPM produces a cost of equity of 15.6% and the median estimate across all models is 8.9%</td> \n",
       "    </tr>    <tr> \n",
       "        <th id=\"T_573e7df0_62bc_11e8_a364_00231814a6fblevel0_row40\" class=\"row_heading level0 row40\" >41</th> \n",
       "        <td id=\"T_573e7df0_62bc_11e8_a364_00231814a6fbrow40_col0\" class=\"data row40 col0\" > <a id='41'></a>Based on anonymous equity research analyst estimates from global investment banks.</td> \n",
       "    </tr></tbody> \n",
       "</table> "
      ],
      "text/plain": [
       "<pandas.io.formats.style.Styler at 0x1ee3615ae48>"
      ]
     },
     "execution_count": 79,
     "metadata": {},
     "output_type": "execute_result"
    }
   ],
   "source": [
    "FNotes = pd.read_csv('Footnotes.ssv', sep=';', skip_blank_lines=True, names=['Nr.','Footnote'], index_col=0)\n",
    "#FNotes = FNotes.reset_index(drop=True)\n",
    "\n",
    "styles2 = [\n",
    "    hover(),\n",
    "    dict(selector=\"th\", props=[(\"font-size\", \"150%\"),\n",
    "                               (\"text-align\", \"left\")]),\n",
    "    dict(selector=\"caption\", props=[(\"caption-side\", \"bottom\")])\n",
    "]\n",
    "\n",
    "\n",
    "html = (FNotes.style.set_table_styles(styles)\n",
    "          .set_caption(\"<a id='Table2'></a>Table 2. Overview of CoE Approaches.\"))\n",
    "html"
   ]
  },
  {
   "cell_type": "code",
   "execution_count": 80,
   "metadata": {},
   "outputs": [
    {
     "data": {
      "text/html": [
       "<style  type=\"text/css\" >\n",
       "    #T_615e2d48_62bc_11e8_bc51_00231814a6fb tr:hover {\n",
       "          background-color: #ffff99;\n",
       "    }    #T_615e2d48_62bc_11e8_bc51_00231814a6fb th {\n",
       "          font-size: 150%;\n",
       "          text-align: center;\n",
       "    }    #T_615e2d48_62bc_11e8_bc51_00231814a6fb caption {\n",
       "          caption-side: bottom;\n",
       "    }</style>  \n",
       "<table id=\"T_615e2d48_62bc_11e8_bc51_00231814a6fb\" ><caption><a id='Table2'></a>Table 2. Overview of CoE Approaches.</caption> \n",
       "<thead>    <tr> \n",
       "        <th class=\"blank level0\" ></th> \n",
       "        <th class=\"col_heading level0 col0\" >Footnote</th> \n",
       "    </tr>    <tr> \n",
       "        <th class=\"index_name level0\" >Nr.</th> \n",
       "        <th class=\"blank\" ></th> \n",
       "    </tr></thead> \n",
       "<tbody>    <tr> \n",
       "        <th id=\"T_615e2d48_62bc_11e8_bc51_00231814a6fblevel0_row0\" class=\"row_heading level0 row0\" >1</th> \n",
       "        <td id=\"T_615e2d48_62bc_11e8_bc51_00231814a6fbrow0_col0\" class=\"data row0 col0\" > <a id='1'></a> The contents of this paper are for discussion purposes only, represent the authors' views only,  and are not intended to represent the opinions of Deutsche Bank and DZ BANK. Although this document was crafted with the greatest care, the authors nonetheless accept no liability arising from errors, misinterpretations or misstatements that may be contained herein.</td> \n",
       "    </tr>    <tr> \n",
       "        <th id=\"T_615e2d48_62bc_11e8_bc51_00231814a6fblevel0_row1\" class=\"row_heading level0 row1\" >2</th> \n",
       "        <td id=\"T_615e2d48_62bc_11e8_bc51_00231814a6fbrow1_col0\" class=\"data row1 col0\" > <a id='2'></a>A recent survey published in the Harvard Business Review revealed that 83% ofthe surveyed firms (150 companies from North America and Europe with more than USD 1.0 bn in revenues) \"suffered significant losses since 2010\" from their investments in emerging markets</td> \n",
       "    </tr>    <tr> \n",
       "        <th id=\"T_615e2d48_62bc_11e8_bc51_00231814a6fblevel0_row2\" class=\"row_heading level0 row2\" >3</th> \n",
       "        <td id=\"T_615e2d48_62bc_11e8_bc51_00231814a6fbrow2_col0\" class=\"data row2 col0\" > <a id='3'></a>Graham/Harvey, JournaI of Financial Economics 2001 p. 187.</td> \n",
       "    </tr>    <tr> \n",
       "        <th id=\"T_615e2d48_62bc_11e8_bc51_00231814a6fblevel0_row3\" class=\"row_heading level0 row3\" >4</th> \n",
       "        <td id=\"T_615e2d48_62bc_11e8_bc51_00231814a6fbrow3_col0\" class=\"data row3 col0\" > <a id='4'></a>KPMG, Kapitalkostenstudie 2016, Wertmessung — quo vadis?, available at: [http://hbfm.link/2291], retrieved 01.09.2017.</td> \n",
       "    </tr>    <tr> \n",
       "        <th id=\"T_615e2d48_62bc_11e8_bc51_00231814a6fblevel0_row4\" class=\"row_heading level0 row4\" >5</th> \n",
       "        <td id=\"T_615e2d48_62bc_11e8_bc51_00231814a6fbrow4_col0\" class=\"data row4 col0\" > <a id='5'></a>Bekaert/Harvey/Lundblad/Siegel, Journal of Corporate Finance, 2016 p. 1</td> \n",
       "    </tr>    <tr> \n",
       "        <th id=\"T_615e2d48_62bc_11e8_bc51_00231814a6fblevel0_row5\" class=\"row_heading level0 row5\" >6</th> \n",
       "        <td id=\"T_615e2d48_62bc_11e8_bc51_00231814a6fbrow5_col0\" class=\"data row5 col0\" > <a id='6'></a> A discussion of the International CAPM and its formal definition follow in Section [III.1](#sec.3.1)</td> \n",
       "    </tr>    <tr> \n",
       "        <th id=\"T_615e2d48_62bc_11e8_bc51_00231814a6fblevel0_row6\" class=\"row_heading level0 row6\" >7</th> \n",
       "        <td id=\"T_615e2d48_62bc_11e8_bc51_00231814a6fbrow6_col0\" class=\"data row6 col0\" > <a id='7'></a> Carrieri/Chaieb/Errunza, Review of Financial Studies 2013 p. 1694.</td> \n",
       "    </tr>    <tr> \n",
       "        <th id=\"T_615e2d48_62bc_11e8_bc51_00231814a6fblevel0_row7\" class=\"row_heading level0 row7\" >8</th> \n",
       "        <td id=\"T_615e2d48_62bc_11e8_bc51_00231814a6fbrow7_col0\" class=\"data row7 col0\" > <a id='8'></a> By segmented markets, we mean markets that are sufficiently isolated such that investors domiciled in one market cannot access the other market, and vice versa.</td> \n",
       "    </tr>    <tr> \n",
       "        <th id=\"T_615e2d48_62bc_11e8_bc51_00231814a6fblevel0_row8\" class=\"row_heading level0 row8\" >9</th> \n",
       "        <td id=\"T_615e2d48_62bc_11e8_bc51_00231814a6fbrow8_col0\" class=\"data row8 col0\" > <a id='9'></a> Erb/Campbell/Harvey/Tadas/Viskanta, Country Risk in Global Financial Management, the Research Foundation ofthe Institute of Chartered Financial Analysts, 1997, available at: http://hbfm.linkf2292, retrieved 01.09.2017.</td> \n",
       "    </tr>    <tr> \n",
       "        <th id=\"T_615e2d48_62bc_11e8_bc51_00231814a6fblevel0_row9\" class=\"row_heading level0 row9\" >10</th> \n",
       "        <td id=\"T_615e2d48_62bc_11e8_bc51_00231814a6fbrow9_col0\" class=\"data row9 col0\" > <a id=\"10\"></a> Damodaran, Equity Risk Premiums (ERP): Determinants, Estimation and Implications — the 2013 Edition, 2013, available at: http://hbfm.link/2293, retrieved 01.09.2017.</td> \n",
       "    </tr>    <tr> \n",
       "        <th id=\"T_615e2d48_62bc_11e8_bc51_00231814a6fblevel0_row10\" class=\"row_heading level0 row10\" >11</th> \n",
       "        <td id=\"T_615e2d48_62bc_11e8_bc51_00231814a6fbrow10_col0\" class=\"data row10 col0\" > <a id='11'></a> The investor in this example is U.S.-based, and the valuation is performed in USD. For illustration, we select Russia, Brazil, Ireland, and Argentina — all countries with substantial country-risk exposures. The companies are from the finance irdustry and mainly operate in their domestic markets.</td> \n",
       "    </tr>    <tr> \n",
       "        <th id=\"T_615e2d48_62bc_11e8_bc51_00231814a6fblevel0_row11\" class=\"row_heading level0 row11\" >12</th> \n",
       "        <td id=\"T_615e2d48_62bc_11e8_bc51_00231814a6fbrow11_col0\" class=\"data row11 col0\" > <a id='12'></a>Detailed calculations for the Ilustrative example in Figure 1 are available on request.</td> \n",
       "    </tr>    <tr> \n",
       "        <th id=\"T_615e2d48_62bc_11e8_bc51_00231814a6fblevel0_row12\" class=\"row_heading level0 row12\" >13</th> \n",
       "        <td id=\"T_615e2d48_62bc_11e8_bc51_00231814a6fbrow12_col0\" class=\"data row12 col0\" > <a id='13'></a>We referto [Table A1](#TableA1) in the Appendix for a complete list of these 20 approaches, including calculation formulas.</td> \n",
       "    </tr>    <tr> \n",
       "        <th id=\"T_615e2d48_62bc_11e8_bc51_00231814a6fblevel0_row13\" class=\"row_heading level0 row13\" >14</th> \n",
       "        <td id=\"T_615e2d48_62bc_11e8_bc51_00231814a6fbrow13_col0\" class=\"data row13 col0\" > <a id='14'></a> For further details and a discussion on the estimation of the risk-free rate („Basiszinz\"), see Kruschwitz/Löffler, WPg 2008 p.805 (806).</td> \n",
       "    </tr>    <tr> \n",
       "        <th id=\"T_615e2d48_62bc_11e8_bc51_00231814a6fblevel0_row14\" class=\"row_heading level0 row14\" >15</th> \n",
       "        <td id=\"T_615e2d48_62bc_11e8_bc51_00231814a6fbrow14_col0\" class=\"data row14 col0\" > <a id='15'></a> The Beta for the MSCI Emerging Frontier Markets Africa ex South Africa Index (EM Index) against MSCI World is only 0.46, although the EM index is more volatile and considered riskier than the MSCI World. This result can be attributed primarily to the low correlation between those two markets. The beta is calculated as of June 30, 2016, based on two years of historical weekly returns.</td> \n",
       "    </tr>    <tr> \n",
       "        <th id=\"T_615e2d48_62bc_11e8_bc51_00231814a6fblevel0_row15\" class=\"row_heading level0 row15\" >16</th> \n",
       "        <td id=\"T_615e2d48_62bc_11e8_bc51_00231814a6fbrow15_col0\" class=\"data row15 col0\" > <a id='16'></a>There is no consistent name convention. The group of models presented herein is frequently called Global CAPM, World CAPM, or Single-Factor International CAPM.</td> \n",
       "    </tr>    <tr> \n",
       "        <th id=\"T_615e2d48_62bc_11e8_bc51_00231814a6fblevel0_row16\" class=\"row_heading level0 row16\" >17</th> \n",
       "        <td id=\"T_615e2d48_62bc_11e8_bc51_00231814a6fbrow16_col0\" class=\"data row16 col0\" > <a id='17'></a>Pratt/Grabowski, Cost of Capital, Applications and Examples, 2008.</td> \n",
       "    </tr>    <tr> \n",
       "        <th id=\"T_615e2d48_62bc_11e8_bc51_00231814a6fblevel0_row17\" class=\"row_heading level0 row17\" >18</th> \n",
       "        <td id=\"T_615e2d48_62bc_11e8_bc51_00231814a6fbrow17_col0\" class=\"data row17 col0\" > <a id='18'></a>Breuer/Ruiz de Vargas, BewP 2015 p. 2, Breuer/Ruiz de Vargas, BewP 2015 p. 50</td> \n",
       "    </tr>    <tr> \n",
       "        <th id=\"T_615e2d48_62bc_11e8_bc51_00231814a6fblevel0_row18\" class=\"row_heading level0 row18\" >19</th> \n",
       "        <td id=\"T_615e2d48_62bc_11e8_bc51_00231814a6fbrow18_col0\" class=\"data row18 col0\" > <a id='19'></a>Bekaert/Harvey, Journal of Finance 1995 p. 403. Described in Harvey, 12 Ways to Calculate the International Cost of Capital, 2005, available at: http://hbfm.link/2299, retrieved 01.09.2017.</td> \n",
       "    </tr>    <tr> \n",
       "        <th id=\"T_615e2d48_62bc_11e8_bc51_00231814a6fblevel0_row19\" class=\"row_heading level0 row19\" >20</th> \n",
       "        <td id=\"T_615e2d48_62bc_11e8_bc51_00231814a6fbrow19_col0\" class=\"data row19 col0\" > <a id='20'></a>Erb/Campbell/Viskanta, The Journal of Portfolio Management 1996 (Spring) p. 46. </td> \n",
       "    </tr>    <tr> \n",
       "        <th id=\"T_615e2d48_62bc_11e8_bc51_00231814a6fblevel0_row20\" class=\"row_heading level0 row20\" >21</th> \n",
       "        <td id=\"T_615e2d48_62bc_11e8_bc51_00231814a6fbrow20_col0\" class=\"data row20 col0\" > <a id='21'></a>See Damodaran, op. cit. (fn. 10). </td> \n",
       "    </tr>    <tr> \n",
       "        <th id=\"T_615e2d48_62bc_11e8_bc51_00231814a6fblevel0_row21\" class=\"row_heading level0 row21\" >22</th> \n",
       "        <td id=\"T_615e2d48_62bc_11e8_bc51_00231814a6fbrow21_col0\" class=\"data row21 col0\" > <a id='22'></a>García-Sánchez/Preve/Sarria-Allende, Journal of Applied Corporate Finance 2010 p. 100.</td> \n",
       "    </tr>    <tr> \n",
       "        <th id=\"T_615e2d48_62bc_11e8_bc51_00231814a6fblevel0_row22\" class=\"row_heading level0 row22\" >23</th> \n",
       "        <td id=\"T_615e2d48_62bc_11e8_bc51_00231814a6fbrow22_col0\" class=\"data row22 col0\" > <a id='23'></a>The default spread Is defned as the spread between two countries' government bonds with similar denominations, yields,terms and currencies,where one ofthe bonds is defined as risk-free.Typically, a U.S. government bond is chosen as the risk-free benchmark, and both bonds are denominated in USD.</td> \n",
       "    </tr>    <tr> \n",
       "        <th id=\"T_615e2d48_62bc_11e8_bc51_00231814a6fblevel0_row23\" class=\"row_heading level0 row23\" >24</th> \n",
       "        <td id=\"T_615e2d48_62bc_11e8_bc51_00231814a6fbrow23_col0\" class=\"data row23 col0\" > <a id='24'></a>Current figures found at http://pages.stern.nyu.edu/~adamodar/. </td> \n",
       "    </tr>    <tr> \n",
       "        <th id=\"T_615e2d48_62bc_11e8_bc51_00231814a6fblevel0_row24\" class=\"row_heading level0 row24\" >25</th> \n",
       "        <td id=\"T_615e2d48_62bc_11e8_bc51_00231814a6fbrow24_col0\" class=\"data row24 col0\" > <a id='25'></a>See Damodaran, op. cit. (fn. 10).</td> \n",
       "    </tr>    <tr> \n",
       "        <th id=\"T_615e2d48_62bc_11e8_bc51_00231814a6fblevel0_row25\" class=\"row_heading level0 row25\" >26</th> \n",
       "        <td id=\"T_615e2d48_62bc_11e8_bc51_00231814a6fbrow25_col0\" class=\"data row25 col0\" > <a id='26'></a>Zenner/Akaydin, A Practical Approach to the International Valuation and Capital Allocation Puzzle (Global Corporate Finance, Salomon/Smith/Barney, 2002).</td> \n",
       "    </tr>    <tr> \n",
       "        <th id=\"T_615e2d48_62bc_11e8_bc51_00231814a6fblevel0_row26\" class=\"row_heading level0 row26\" >27</th> \n",
       "        <td id=\"T_615e2d48_62bc_11e8_bc51_00231814a6fbrow26_col0\" class=\"data row26 col0\" > <a id='27'></a>The three criteria are as follows: i) access to capital markets, ii) exposure of investment to political risk, and iii) the importance of the investment to the investor, represented by $Gamma_1$, $Gammaz_2$ and $Gamma_3$ in the formula.</td> \n",
       "    </tr>    <tr> \n",
       "        <th id=\"T_615e2d48_62bc_11e8_bc51_00231814a6fblevel0_row27\" class=\"row_heading level0 row27\" >28</th> \n",
       "        <td id=\"T_615e2d48_62bc_11e8_bc51_00231814a6fbrow27_col0\" class=\"data row27 col0\" > <a id='28'></a>Harn/Emmel/Schmidt/Gatzer, CF 2015 p. 157. </td> \n",
       "    </tr>    <tr> \n",
       "        <th id=\"T_615e2d48_62bc_11e8_bc51_00231814a6fblevel0_row28\" class=\"row_heading level0 row28\" >29</th> \n",
       "        <td id=\"T_615e2d48_62bc_11e8_bc51_00231814a6fbrow28_col0\" class=\"data row28 col0\" > <a id='29'></a>Lessard, Journal of Applied Corporate Finance 1996 p. 52.</td> \n",
       "    </tr>    <tr> \n",
       "        <th id=\"T_615e2d48_62bc_11e8_bc51_00231814a6fblevel0_row29\" class=\"row_heading level0 row29\" >30</th> \n",
       "        <td id=\"T_615e2d48_62bc_11e8_bc51_00231814a6fbrow29_col0\" class=\"data row29 col0\" > <a id='30'></a>Morningstar/lbbotson, International Cost ofCapital Report 2011 </td> \n",
       "    </tr>    <tr> \n",
       "        <th id=\"T_615e2d48_62bc_11e8_bc51_00231814a6fblevel0_row30\" class=\"row_heading level0 row30\" >31</th> \n",
       "        <td id=\"T_615e2d48_62bc_11e8_bc51_00231814a6fbrow30_col0\" class=\"data row30 col0\" > <a id='30'></a>Estrada, Emerging Markets Review 2002 p. 365.</td> \n",
       "    </tr>    <tr> \n",
       "        <th id=\"T_615e2d48_62bc_11e8_bc51_00231814a6fblevel0_row31\" class=\"row_heading level0 row31\" >32</th> \n",
       "        <td id=\"T_615e2d48_62bc_11e8_bc51_00231814a6fbrow31_col0\" class=\"data row31 col0\" > <a id=\"32\"></a>Hauptman/Natella, The cost of equity in Latin America: The eternal doubt, Credit Suisse First Boston, Equity Research, May 20 1997.</td> \n",
       "    </tr>    <tr> \n",
       "        <th id=\"T_615e2d48_62bc_11e8_bc51_00231814a6fblevel0_row32\" class=\"row_heading level0 row32\" >33</th> \n",
       "        <td id=\"T_615e2d48_62bc_11e8_bc51_00231814a6fbrow32_col0\" class=\"data row32 col0\" > <a id=\"33\"></a>See Harvey, The International Cost of Capital and Risk Calculator (ICRC), 2001, available at: http://hbfm.link/2295, retrieved 08.08.2017 or Harvey, op.cit. (fn. 19).</td> \n",
       "    </tr>    <tr> \n",
       "        <th id=\"T_615e2d48_62bc_11e8_bc51_00231814a6fblevel0_row33\" class=\"row_heading level0 row33\" >34</th> \n",
       "        <td id=\"T_615e2d48_62bc_11e8_bc51_00231814a6fbrow33_col0\" class=\"data row33 col0\" > <a id=\"34\"></a>Godfrey/Espinosa, Journal of Applied Corporate Finance 1996 p. 80.</td> \n",
       "    </tr>    <tr> \n",
       "        <th id=\"T_615e2d48_62bc_11e8_bc51_00231814a6fblevel0_row34\" class=\"row_heading level0 row34\" >35</th> \n",
       "        <td id=\"T_615e2d48_62bc_11e8_bc51_00231814a6fbrow34_col0\" class=\"data row34 col0\" > <a id=\"35\"></a>Mariscal/Hargis, A long-term perspective on short-term risk: Long-term discount rates for emerging markets, Goldman Sachs Investment Research, 1999.</td> \n",
       "    </tr>    <tr> \n",
       "        <th id=\"T_615e2d48_62bc_11e8_bc51_00231814a6fblevel0_row35\" class=\"row_heading level0 row35\" >36</th> \n",
       "        <td id=\"T_615e2d48_62bc_11e8_bc51_00231814a6fbrow35_col0\" class=\"data row35 col0\" > <a id='36'></a>Fernandez/0rtiz/Acín, Market Risk Premium Used in 71 Countries in 2016: A Survey with 6,932  Answers, SSRN Scholarly Paper 2016, http://papers.ssrn.com/abstract=2776636, retrieved 01.09.2017.</td> \n",
       "    </tr>    <tr> \n",
       "        <th id=\"T_615e2d48_62bc_11e8_bc51_00231814a6fblevel0_row36\" class=\"row_heading level0 row36\" >37</th> \n",
       "        <td id=\"T_615e2d48_62bc_11e8_bc51_00231814a6fbrow36_col0\" class=\"data row36 col0\" > <a id='37'></a>Damodaran regularly publishes market risk premium estimates on his homepage: http://pages.stern.nyu.edu/~adamodar/. Accessed August 2016.</td> \n",
       "    </tr>    <tr> \n",
       "        <th id=\"T_615e2d48_62bc_11e8_bc51_00231814a6fblevel0_row37\" class=\"row_heading level0 row37\" >38</th> \n",
       "        <td id=\"T_615e2d48_62bc_11e8_bc51_00231814a6fbrow37_col0\" class=\"data row37 col0\" > <a id='38'></a>Our Erb-Harvey-Viskanta (1996) estimates are based on published numbers from year-end 2014, but the results nonetheless offer an indication of the CoE estimates level.</td> \n",
       "    </tr>    <tr> \n",
       "        <th id=\"T_615e2d48_62bc_11e8_bc51_00231814a6fblevel0_row38\" class=\"row_heading level0 row38\" >39</th> \n",
       "        <td id=\"T_615e2d48_62bc_11e8_bc51_00231814a6fbrow38_col0\" class=\"data row38 col0\" > <a id='39'></a>Tahle A3 is online available under XQI1249764 in the CORPORATE FINANCE Database {www.cf-fachportal.de) and under http://hbfm.link/2345.</td> \n",
       "    </tr>    <tr> \n",
       "        <th id=\"T_615e2d48_62bc_11e8_bc51_00231814a6fblevel0_row39\" class=\"row_heading level0 row39\" >40</th> \n",
       "        <td id=\"T_615e2d48_62bc_11e8_bc51_00231814a6fbrow39_col0\" class=\"data row39 col0\" > <a id='40'></a>For instance, for Reliance (India), the Local CAPM produces a cost of equity of 15.6% and the median estimate across all models is 8.9%</td> \n",
       "    </tr>    <tr> \n",
       "        <th id=\"T_615e2d48_62bc_11e8_bc51_00231814a6fblevel0_row40\" class=\"row_heading level0 row40\" >41</th> \n",
       "        <td id=\"T_615e2d48_62bc_11e8_bc51_00231814a6fbrow40_col0\" class=\"data row40 col0\" > <a id='41'></a>Based on anonymous equity research analyst estimates from global investment banks.</td> \n",
       "    </tr></tbody> \n",
       "</table> "
      ],
      "text/plain": [
       "<pandas.io.formats.style.Styler at 0x1ee3615f2b0>"
      ]
     },
     "execution_count": 80,
     "metadata": {},
     "output_type": "execute_result"
    }
   ],
   "source": [
    "html = (FNotes.style.set_table_styles(styles)\n",
    "          .set_caption(\"<a id='Table2'></a>Table 2. Overview of CoE Approaches.\"))\n",
    "html"
   ]
  },
  {
   "cell_type": "code",
   "execution_count": null,
   "metadata": {},
   "outputs": [],
   "source": [
    "<tr><td style=\"color:red\">a</td><td style=\"background-color:#f1f1c1;\">b</td></tr>\n",
    "<tr><td style=\" height: 50px;\">3</td><td style=\"vertical-align:bottom; text-align:center;\">4</td></tr>"
   ]
  }
 ],
 "metadata": {
  "kernelspec": {
   "display_name": "Python [conda root]",
   "language": "python",
   "name": "conda-root-py"
  },
  "language_info": {
   "codemirror_mode": {
    "name": "ipython",
    "version": 3
   },
   "file_extension": ".py",
   "mimetype": "text/x-python",
   "name": "python",
   "nbconvert_exporter": "python",
   "pygments_lexer": "ipython3",
   "version": "3.5.4"
  },
  "latex_envs": {
   "LaTeX_envs_menu_present": true,
   "autoclose": false,
   "autocomplete": true,
   "bibliofile": "biblio.bib",
   "cite_by": "apalike",
   "current_citInitial": 1,
   "eqLabelWithNumbers": true,
   "eqNumInitial": 1,
   "hotkeys": {
    "equation": "Ctrl-E",
    "itemize": "Ctrl-I"
   },
   "labels_anchors": false,
   "latex_user_defs": false,
   "report_style_numbering": false,
   "user_envs_cfg": false
  }
 },
 "nbformat": 4,
 "nbformat_minor": 2
}
